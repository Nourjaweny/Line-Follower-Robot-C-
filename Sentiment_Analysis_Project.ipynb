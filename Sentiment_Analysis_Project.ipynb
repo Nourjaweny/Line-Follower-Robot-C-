{
  "nbformat": 4,
  "nbformat_minor": 0,
  "metadata": {
    "colab": {
      "provenance": [],
      "authorship_tag": "ABX9TyNK/3xHHG1keOE0QCcyoNWZ",
      "include_colab_link": true
    },
    "kernelspec": {
      "name": "python3",
      "display_name": "Python 3"
    },
    "language_info": {
      "name": "python"
    }
  },
  "cells": [
    {
      "cell_type": "markdown",
      "metadata": {
        "id": "view-in-github",
        "colab_type": "text"
      },
      "source": [
        "<a href=\"https://colab.research.google.com/github/Nourjaweny/Some-machine-Learning-projects/blob/main/Sentiment_Analysis_Project.ipynb\" target=\"_parent\"><img src=\"https://colab.research.google.com/assets/colab-badge.svg\" alt=\"Open In Colab\"/></a>"
      ]
    },
    {
      "cell_type": "markdown",
      "source": [
        "Importing libraries"
      ],
      "metadata": {
        "id": "KnZxNWXdewZN"
      }
    },
    {
      "cell_type": "code",
      "source": [
        "import numpy as np\n",
        "import pandas as pd\n",
        "import matplotlib.pyplot as plt\n",
        "import seaborn as sns"
      ],
      "metadata": {
        "id": "iWRLLTUVeyK8"
      },
      "execution_count": null,
      "outputs": []
    },
    {
      "cell_type": "code",
      "source": [
        "data=pd.read_csv(\"/content/data.csv\")"
      ],
      "metadata": {
        "id": "5S8ZRVWRfGbD"
      },
      "execution_count": null,
      "outputs": []
    },
    {
      "cell_type": "markdown",
      "source": [
        "DATA PREPROCESSING"
      ],
      "metadata": {
        "id": "tyYKD0IcfV6u"
      }
    },
    {
      "cell_type": "code",
      "source": [
        "data.shape"
      ],
      "metadata": {
        "id": "fTRxByWDfW0g",
        "outputId": "b0b0c2e9-000b-481d-8a3d-0c97daccf214",
        "colab": {
          "base_uri": "https://localhost:8080/"
        }
      },
      "execution_count": null,
      "outputs": [
        {
          "output_type": "execute_result",
          "data": {
            "text/plain": [
              "(5842, 2)"
            ]
          },
          "metadata": {},
          "execution_count": 3
        }
      ]
    },
    {
      "cell_type": "code",
      "source": [
        "data.head()"
      ],
      "metadata": {
        "id": "1wqVwN-ZetrQ",
        "colab": {
          "base_uri": "https://localhost:8080/",
          "height": 206
        },
        "outputId": "9858c66e-56d3-4737-fbee-5061be6e8341"
      },
      "execution_count": null,
      "outputs": [
        {
          "output_type": "execute_result",
          "data": {
            "text/plain": [
              "                                            Sentence Sentiment\n",
              "0  The GeoSolutions technology will leverage Bene...  positive\n",
              "1  $ESI on lows, down $1.50 to $2.50 BK a real po...  negative\n",
              "2  For the last quarter of 2010 , Componenta 's n...  positive\n",
              "3  According to the Finnish-Russian Chamber of Co...   neutral\n",
              "4  The Swedish buyout firm has sold its remaining...   neutral"
            ],
            "text/html": [
              "\n",
              "  <div id=\"df-2e7be584-eb5a-4bc4-8cc0-e9b103d13ea2\" class=\"colab-df-container\">\n",
              "    <div>\n",
              "<style scoped>\n",
              "    .dataframe tbody tr th:only-of-type {\n",
              "        vertical-align: middle;\n",
              "    }\n",
              "\n",
              "    .dataframe tbody tr th {\n",
              "        vertical-align: top;\n",
              "    }\n",
              "\n",
              "    .dataframe thead th {\n",
              "        text-align: right;\n",
              "    }\n",
              "</style>\n",
              "<table border=\"1\" class=\"dataframe\">\n",
              "  <thead>\n",
              "    <tr style=\"text-align: right;\">\n",
              "      <th></th>\n",
              "      <th>Sentence</th>\n",
              "      <th>Sentiment</th>\n",
              "    </tr>\n",
              "  </thead>\n",
              "  <tbody>\n",
              "    <tr>\n",
              "      <th>0</th>\n",
              "      <td>The GeoSolutions technology will leverage Bene...</td>\n",
              "      <td>positive</td>\n",
              "    </tr>\n",
              "    <tr>\n",
              "      <th>1</th>\n",
              "      <td>$ESI on lows, down $1.50 to $2.50 BK a real po...</td>\n",
              "      <td>negative</td>\n",
              "    </tr>\n",
              "    <tr>\n",
              "      <th>2</th>\n",
              "      <td>For the last quarter of 2010 , Componenta 's n...</td>\n",
              "      <td>positive</td>\n",
              "    </tr>\n",
              "    <tr>\n",
              "      <th>3</th>\n",
              "      <td>According to the Finnish-Russian Chamber of Co...</td>\n",
              "      <td>neutral</td>\n",
              "    </tr>\n",
              "    <tr>\n",
              "      <th>4</th>\n",
              "      <td>The Swedish buyout firm has sold its remaining...</td>\n",
              "      <td>neutral</td>\n",
              "    </tr>\n",
              "  </tbody>\n",
              "</table>\n",
              "</div>\n",
              "    <div class=\"colab-df-buttons\">\n",
              "\n",
              "  <div class=\"colab-df-container\">\n",
              "    <button class=\"colab-df-convert\" onclick=\"convertToInteractive('df-2e7be584-eb5a-4bc4-8cc0-e9b103d13ea2')\"\n",
              "            title=\"Convert this dataframe to an interactive table.\"\n",
              "            style=\"display:none;\">\n",
              "\n",
              "  <svg xmlns=\"http://www.w3.org/2000/svg\" height=\"24px\" viewBox=\"0 -960 960 960\">\n",
              "    <path d=\"M120-120v-720h720v720H120Zm60-500h600v-160H180v160Zm220 220h160v-160H400v160Zm0 220h160v-160H400v160ZM180-400h160v-160H180v160Zm440 0h160v-160H620v160ZM180-180h160v-160H180v160Zm440 0h160v-160H620v160Z\"/>\n",
              "  </svg>\n",
              "    </button>\n",
              "\n",
              "  <style>\n",
              "    .colab-df-container {\n",
              "      display:flex;\n",
              "      gap: 12px;\n",
              "    }\n",
              "\n",
              "    .colab-df-convert {\n",
              "      background-color: #E8F0FE;\n",
              "      border: none;\n",
              "      border-radius: 50%;\n",
              "      cursor: pointer;\n",
              "      display: none;\n",
              "      fill: #1967D2;\n",
              "      height: 32px;\n",
              "      padding: 0 0 0 0;\n",
              "      width: 32px;\n",
              "    }\n",
              "\n",
              "    .colab-df-convert:hover {\n",
              "      background-color: #E2EBFA;\n",
              "      box-shadow: 0px 1px 2px rgba(60, 64, 67, 0.3), 0px 1px 3px 1px rgba(60, 64, 67, 0.15);\n",
              "      fill: #174EA6;\n",
              "    }\n",
              "\n",
              "    .colab-df-buttons div {\n",
              "      margin-bottom: 4px;\n",
              "    }\n",
              "\n",
              "    [theme=dark] .colab-df-convert {\n",
              "      background-color: #3B4455;\n",
              "      fill: #D2E3FC;\n",
              "    }\n",
              "\n",
              "    [theme=dark] .colab-df-convert:hover {\n",
              "      background-color: #434B5C;\n",
              "      box-shadow: 0px 1px 3px 1px rgba(0, 0, 0, 0.15);\n",
              "      filter: drop-shadow(0px 1px 2px rgba(0, 0, 0, 0.3));\n",
              "      fill: #FFFFFF;\n",
              "    }\n",
              "  </style>\n",
              "\n",
              "    <script>\n",
              "      const buttonEl =\n",
              "        document.querySelector('#df-2e7be584-eb5a-4bc4-8cc0-e9b103d13ea2 button.colab-df-convert');\n",
              "      buttonEl.style.display =\n",
              "        google.colab.kernel.accessAllowed ? 'block' : 'none';\n",
              "\n",
              "      async function convertToInteractive(key) {\n",
              "        const element = document.querySelector('#df-2e7be584-eb5a-4bc4-8cc0-e9b103d13ea2');\n",
              "        const dataTable =\n",
              "          await google.colab.kernel.invokeFunction('convertToInteractive',\n",
              "                                                    [key], {});\n",
              "        if (!dataTable) return;\n",
              "\n",
              "        const docLinkHtml = 'Like what you see? Visit the ' +\n",
              "          '<a target=\"_blank\" href=https://colab.research.google.com/notebooks/data_table.ipynb>data table notebook</a>'\n",
              "          + ' to learn more about interactive tables.';\n",
              "        element.innerHTML = '';\n",
              "        dataTable['output_type'] = 'display_data';\n",
              "        await google.colab.output.renderOutput(dataTable, element);\n",
              "        const docLink = document.createElement('div');\n",
              "        docLink.innerHTML = docLinkHtml;\n",
              "        element.appendChild(docLink);\n",
              "      }\n",
              "    </script>\n",
              "  </div>\n",
              "\n",
              "\n",
              "<div id=\"df-2c95e904-5e72-4461-b9c0-090991dac3ce\">\n",
              "  <button class=\"colab-df-quickchart\" onclick=\"quickchart('df-2c95e904-5e72-4461-b9c0-090991dac3ce')\"\n",
              "            title=\"Suggest charts\"\n",
              "            style=\"display:none;\">\n",
              "\n",
              "<svg xmlns=\"http://www.w3.org/2000/svg\" height=\"24px\"viewBox=\"0 0 24 24\"\n",
              "     width=\"24px\">\n",
              "    <g>\n",
              "        <path d=\"M19 3H5c-1.1 0-2 .9-2 2v14c0 1.1.9 2 2 2h14c1.1 0 2-.9 2-2V5c0-1.1-.9-2-2-2zM9 17H7v-7h2v7zm4 0h-2V7h2v10zm4 0h-2v-4h2v4z\"/>\n",
              "    </g>\n",
              "</svg>\n",
              "  </button>\n",
              "\n",
              "<style>\n",
              "  .colab-df-quickchart {\n",
              "      --bg-color: #E8F0FE;\n",
              "      --fill-color: #1967D2;\n",
              "      --hover-bg-color: #E2EBFA;\n",
              "      --hover-fill-color: #174EA6;\n",
              "      --disabled-fill-color: #AAA;\n",
              "      --disabled-bg-color: #DDD;\n",
              "  }\n",
              "\n",
              "  [theme=dark] .colab-df-quickchart {\n",
              "      --bg-color: #3B4455;\n",
              "      --fill-color: #D2E3FC;\n",
              "      --hover-bg-color: #434B5C;\n",
              "      --hover-fill-color: #FFFFFF;\n",
              "      --disabled-bg-color: #3B4455;\n",
              "      --disabled-fill-color: #666;\n",
              "  }\n",
              "\n",
              "  .colab-df-quickchart {\n",
              "    background-color: var(--bg-color);\n",
              "    border: none;\n",
              "    border-radius: 50%;\n",
              "    cursor: pointer;\n",
              "    display: none;\n",
              "    fill: var(--fill-color);\n",
              "    height: 32px;\n",
              "    padding: 0;\n",
              "    width: 32px;\n",
              "  }\n",
              "\n",
              "  .colab-df-quickchart:hover {\n",
              "    background-color: var(--hover-bg-color);\n",
              "    box-shadow: 0 1px 2px rgba(60, 64, 67, 0.3), 0 1px 3px 1px rgba(60, 64, 67, 0.15);\n",
              "    fill: var(--button-hover-fill-color);\n",
              "  }\n",
              "\n",
              "  .colab-df-quickchart-complete:disabled,\n",
              "  .colab-df-quickchart-complete:disabled:hover {\n",
              "    background-color: var(--disabled-bg-color);\n",
              "    fill: var(--disabled-fill-color);\n",
              "    box-shadow: none;\n",
              "  }\n",
              "\n",
              "  .colab-df-spinner {\n",
              "    border: 2px solid var(--fill-color);\n",
              "    border-color: transparent;\n",
              "    border-bottom-color: var(--fill-color);\n",
              "    animation:\n",
              "      spin 1s steps(1) infinite;\n",
              "  }\n",
              "\n",
              "  @keyframes spin {\n",
              "    0% {\n",
              "      border-color: transparent;\n",
              "      border-bottom-color: var(--fill-color);\n",
              "      border-left-color: var(--fill-color);\n",
              "    }\n",
              "    20% {\n",
              "      border-color: transparent;\n",
              "      border-left-color: var(--fill-color);\n",
              "      border-top-color: var(--fill-color);\n",
              "    }\n",
              "    30% {\n",
              "      border-color: transparent;\n",
              "      border-left-color: var(--fill-color);\n",
              "      border-top-color: var(--fill-color);\n",
              "      border-right-color: var(--fill-color);\n",
              "    }\n",
              "    40% {\n",
              "      border-color: transparent;\n",
              "      border-right-color: var(--fill-color);\n",
              "      border-top-color: var(--fill-color);\n",
              "    }\n",
              "    60% {\n",
              "      border-color: transparent;\n",
              "      border-right-color: var(--fill-color);\n",
              "    }\n",
              "    80% {\n",
              "      border-color: transparent;\n",
              "      border-right-color: var(--fill-color);\n",
              "      border-bottom-color: var(--fill-color);\n",
              "    }\n",
              "    90% {\n",
              "      border-color: transparent;\n",
              "      border-bottom-color: var(--fill-color);\n",
              "    }\n",
              "  }\n",
              "</style>\n",
              "\n",
              "  <script>\n",
              "    async function quickchart(key) {\n",
              "      const quickchartButtonEl =\n",
              "        document.querySelector('#' + key + ' button');\n",
              "      quickchartButtonEl.disabled = true;  // To prevent multiple clicks.\n",
              "      quickchartButtonEl.classList.add('colab-df-spinner');\n",
              "      try {\n",
              "        const charts = await google.colab.kernel.invokeFunction(\n",
              "            'suggestCharts', [key], {});\n",
              "      } catch (error) {\n",
              "        console.error('Error during call to suggestCharts:', error);\n",
              "      }\n",
              "      quickchartButtonEl.classList.remove('colab-df-spinner');\n",
              "      quickchartButtonEl.classList.add('colab-df-quickchart-complete');\n",
              "    }\n",
              "    (() => {\n",
              "      let quickchartButtonEl =\n",
              "        document.querySelector('#df-2c95e904-5e72-4461-b9c0-090991dac3ce button');\n",
              "      quickchartButtonEl.style.display =\n",
              "        google.colab.kernel.accessAllowed ? 'block' : 'none';\n",
              "    })();\n",
              "  </script>\n",
              "</div>\n",
              "\n",
              "    </div>\n",
              "  </div>\n"
            ],
            "application/vnd.google.colaboratory.intrinsic+json": {
              "type": "dataframe",
              "variable_name": "data",
              "summary": "{\n  \"name\": \"data\",\n  \"rows\": 5842,\n  \"fields\": [\n    {\n      \"column\": \"Sentence\",\n      \"properties\": {\n        \"dtype\": \"string\",\n        \"num_unique_values\": 5322,\n        \"samples\": [\n          \"It is now the leading private road ambulance service company in Finland .\",\n          \"Finnish silicon wafers manufacturer Okmetic Oyj said it swung to a net profit of 4.9 mln euro $ 6.3 mln in the first nine months of 2006 from a net loss of 1.8 mln euro $ 2.3 mln a year earlier .\",\n          \"$GILD  is expanding its research facilities...keeping up with the pace of innovation  https://t.co/uOE7FJ4LOP\"\n        ],\n        \"semantic_type\": \"\",\n        \"description\": \"\"\n      }\n    },\n    {\n      \"column\": \"Sentiment\",\n      \"properties\": {\n        \"dtype\": \"category\",\n        \"num_unique_values\": 3,\n        \"samples\": [\n          \"positive\",\n          \"negative\",\n          \"neutral\"\n        ],\n        \"semantic_type\": \"\",\n        \"description\": \"\"\n      }\n    }\n  ]\n}"
            }
          },
          "metadata": {},
          "execution_count": 4
        }
      ]
    },
    {
      "cell_type": "code",
      "source": [
        "data['Sentiment'].value_counts() #exploring our Data"
      ],
      "metadata": {
        "id": "EcXj43qyeu5I",
        "colab": {
          "base_uri": "https://localhost:8080/"
        },
        "outputId": "472a10dd-7fc0-43f5-a319-92a09cd5bbc2"
      },
      "execution_count": null,
      "outputs": [
        {
          "output_type": "execute_result",
          "data": {
            "text/plain": [
              "Sentiment\n",
              "neutral     3130\n",
              "positive    1852\n",
              "negative     860\n",
              "Name: count, dtype: int64"
            ]
          },
          "metadata": {},
          "execution_count": 5
        }
      ]
    },
    {
      "cell_type": "code",
      "source": [
        "ch=data['Sentence'][0]\n",
        "ch\n",
        "#trying the pre-processing on the first phrase"
      ],
      "metadata": {
        "id": "AS6M-1Coeu7Q",
        "colab": {
          "base_uri": "https://localhost:8080/",
          "height": 53
        },
        "outputId": "1ae078f7-55af-427d-8f2a-d82c84689e34"
      },
      "execution_count": null,
      "outputs": [
        {
          "output_type": "execute_result",
          "data": {
            "text/plain": [
              "\"The GeoSolutions technology will leverage Benefon 's GPS solutions by providing Location Based Search Technology , a Communities Platform , location relevant multimedia content and a new and powerful commercial model .\""
            ],
            "application/vnd.google.colaboratory.intrinsic+json": {
              "type": "string"
            }
          },
          "metadata": {},
          "execution_count": 6
        }
      ]
    },
    {
      "cell_type": "code",
      "source": [
        "!pip install nltk"
      ],
      "metadata": {
        "colab": {
          "base_uri": "https://localhost:8080/"
        },
        "id": "bcZGxJLvkW-m",
        "outputId": "d41fe113-facb-43a9-bda9-e3f9220a6154"
      },
      "execution_count": null,
      "outputs": [
        {
          "output_type": "stream",
          "name": "stdout",
          "text": [
            "Requirement already satisfied: nltk in /usr/local/lib/python3.10/dist-packages (3.8.1)\n",
            "Requirement already satisfied: click in /usr/local/lib/python3.10/dist-packages (from nltk) (8.1.7)\n",
            "Requirement already satisfied: joblib in /usr/local/lib/python3.10/dist-packages (from nltk) (1.3.2)\n",
            "Requirement already satisfied: regex>=2021.8.3 in /usr/local/lib/python3.10/dist-packages (from nltk) (2023.12.25)\n",
            "Requirement already satisfied: tqdm in /usr/local/lib/python3.10/dist-packages (from nltk) (4.66.2)\n"
          ]
        }
      ]
    },
    {
      "cell_type": "code",
      "source": [
        "import re\n",
        "import nltk\n",
        "from nltk.corpus import stopwords\n",
        "nltk.download('stopwords')\n",
        "print(stopwords.words('english'))\n",
        "#I wanted to know all the stopwords in english that can i delete from the phrase"
      ],
      "metadata": {
        "id": "BwgDG_h8eu9O",
        "colab": {
          "base_uri": "https://localhost:8080/"
        },
        "outputId": "e123e01a-1fa8-4199-a06e-d868aa20b931"
      },
      "execution_count": null,
      "outputs": [
        {
          "output_type": "stream",
          "name": "stdout",
          "text": [
            "['i', 'me', 'my', 'myself', 'we', 'our', 'ours', 'ourselves', 'you', \"you're\", \"you've\", \"you'll\", \"you'd\", 'your', 'yours', 'yourself', 'yourselves', 'he', 'him', 'his', 'himself', 'she', \"she's\", 'her', 'hers', 'herself', 'it', \"it's\", 'its', 'itself', 'they', 'them', 'their', 'theirs', 'themselves', 'what', 'which', 'who', 'whom', 'this', 'that', \"that'll\", 'these', 'those', 'am', 'is', 'are', 'was', 'were', 'be', 'been', 'being', 'have', 'has', 'had', 'having', 'do', 'does', 'did', 'doing', 'a', 'an', 'the', 'and', 'but', 'if', 'or', 'because', 'as', 'until', 'while', 'of', 'at', 'by', 'for', 'with', 'about', 'against', 'between', 'into', 'through', 'during', 'before', 'after', 'above', 'below', 'to', 'from', 'up', 'down', 'in', 'out', 'on', 'off', 'over', 'under', 'again', 'further', 'then', 'once', 'here', 'there', 'when', 'where', 'why', 'how', 'all', 'any', 'both', 'each', 'few', 'more', 'most', 'other', 'some', 'such', 'no', 'nor', 'not', 'only', 'own', 'same', 'so', 'than', 'too', 'very', 's', 't', 'can', 'will', 'just', 'don', \"don't\", 'should', \"should've\", 'now', 'd', 'll', 'm', 'o', 're', 've', 'y', 'ain', 'aren', \"aren't\", 'couldn', \"couldn't\", 'didn', \"didn't\", 'doesn', \"doesn't\", 'hadn', \"hadn't\", 'hasn', \"hasn't\", 'haven', \"haven't\", 'isn', \"isn't\", 'ma', 'mightn', \"mightn't\", 'mustn', \"mustn't\", 'needn', \"needn't\", 'shan', \"shan't\", 'shouldn', \"shouldn't\", 'wasn', \"wasn't\", 'weren', \"weren't\", 'won', \"won't\", 'wouldn', \"wouldn't\"]\n"
          ]
        },
        {
          "output_type": "stream",
          "name": "stderr",
          "text": [
            "[nltk_data] Downloading package stopwords to /root/nltk_data...\n",
            "[nltk_data]   Unzipping corpora/stopwords.zip.\n"
          ]
        }
      ]
    },
    {
      "cell_type": "code",
      "source": [
        "import re\n",
        "ch=re.sub('[^a-zA-Z]',\" \",ch) # 9otlou kol matal9a haja f ch apar les lettres de a jusqu'a z et A jusqu'a Z 3awadhha b vide: \"\"\n",
        "#en fait kifh re.sub('[a-zA-Z]',\" \",ch) t3awedhlk les a-z et A-Z b vide ama ena nheb bl 3aks cad illi differants donc tzid ^\n",
        "ch"
      ],
      "metadata": {
        "id": "LIAkLimqeu_Z",
        "colab": {
          "base_uri": "https://localhost:8080/",
          "height": 53
        },
        "outputId": "0cfbf3d8-17de-47b9-d43b-d5f141853ca2"
      },
      "execution_count": null,
      "outputs": [
        {
          "output_type": "execute_result",
          "data": {
            "text/plain": [
              "'The GeoSolutions technology will leverage Benefon  s GPS solutions by providing Location Based Search Technology   a Communities Platform   location relevant multimedia content and a new and powerful commercial model  '"
            ],
            "application/vnd.google.colaboratory.intrinsic+json": {
              "type": "string"
            }
          },
          "metadata": {},
          "execution_count": 9
        }
      ]
    },
    {
      "cell_type": "code",
      "source": [
        "ch=ch.lower() #because en majuscul ou miniscule pas de diff"
      ],
      "metadata": {
        "id": "FmnYPA5kevBM"
      },
      "execution_count": null,
      "outputs": []
    },
    {
      "cell_type": "code",
      "source": [
        "ch=ch.split(\" \")\n",
        "ch #i turn it to list to make the next step easier"
      ],
      "metadata": {
        "id": "wXuWRiZWevDl",
        "colab": {
          "base_uri": "https://localhost:8080/"
        },
        "outputId": "8edaf706-0402-41e3-fb79-34385f5dda09"
      },
      "execution_count": null,
      "outputs": [
        {
          "output_type": "execute_result",
          "data": {
            "text/plain": [
              "['the',\n",
              " 'geosolutions',\n",
              " 'technology',\n",
              " 'will',\n",
              " 'leverage',\n",
              " 'benefon',\n",
              " '',\n",
              " 's',\n",
              " 'gps',\n",
              " 'solutions',\n",
              " 'by',\n",
              " 'providing',\n",
              " 'location',\n",
              " 'based',\n",
              " 'search',\n",
              " 'technology',\n",
              " '',\n",
              " '',\n",
              " 'a',\n",
              " 'communities',\n",
              " 'platform',\n",
              " '',\n",
              " '',\n",
              " 'location',\n",
              " 'relevant',\n",
              " 'multimedia',\n",
              " 'content',\n",
              " 'and',\n",
              " 'a',\n",
              " 'new',\n",
              " 'and',\n",
              " 'powerful',\n",
              " 'commercial',\n",
              " 'model',\n",
              " '',\n",
              " '']"
            ]
          },
          "metadata": {},
          "execution_count": 11
        }
      ]
    },
    {
      "cell_type": "code",
      "source": [
        "s=stopwords.words('english')\n",
        "s #i just puted the stopwords on a lis"
      ],
      "metadata": {
        "id": "n3yM9j5AevFV",
        "colab": {
          "base_uri": "https://localhost:8080/"
        },
        "outputId": "a271364c-fc0a-4ec3-a22f-dbafeb948a86"
      },
      "execution_count": null,
      "outputs": [
        {
          "output_type": "execute_result",
          "data": {
            "text/plain": [
              "['i',\n",
              " 'me',\n",
              " 'my',\n",
              " 'myself',\n",
              " 'we',\n",
              " 'our',\n",
              " 'ours',\n",
              " 'ourselves',\n",
              " 'you',\n",
              " \"you're\",\n",
              " \"you've\",\n",
              " \"you'll\",\n",
              " \"you'd\",\n",
              " 'your',\n",
              " 'yours',\n",
              " 'yourself',\n",
              " 'yourselves',\n",
              " 'he',\n",
              " 'him',\n",
              " 'his',\n",
              " 'himself',\n",
              " 'she',\n",
              " \"she's\",\n",
              " 'her',\n",
              " 'hers',\n",
              " 'herself',\n",
              " 'it',\n",
              " \"it's\",\n",
              " 'its',\n",
              " 'itself',\n",
              " 'they',\n",
              " 'them',\n",
              " 'their',\n",
              " 'theirs',\n",
              " 'themselves',\n",
              " 'what',\n",
              " 'which',\n",
              " 'who',\n",
              " 'whom',\n",
              " 'this',\n",
              " 'that',\n",
              " \"that'll\",\n",
              " 'these',\n",
              " 'those',\n",
              " 'am',\n",
              " 'is',\n",
              " 'are',\n",
              " 'was',\n",
              " 'were',\n",
              " 'be',\n",
              " 'been',\n",
              " 'being',\n",
              " 'have',\n",
              " 'has',\n",
              " 'had',\n",
              " 'having',\n",
              " 'do',\n",
              " 'does',\n",
              " 'did',\n",
              " 'doing',\n",
              " 'a',\n",
              " 'an',\n",
              " 'the',\n",
              " 'and',\n",
              " 'but',\n",
              " 'if',\n",
              " 'or',\n",
              " 'because',\n",
              " 'as',\n",
              " 'until',\n",
              " 'while',\n",
              " 'of',\n",
              " 'at',\n",
              " 'by',\n",
              " 'for',\n",
              " 'with',\n",
              " 'about',\n",
              " 'against',\n",
              " 'between',\n",
              " 'into',\n",
              " 'through',\n",
              " 'during',\n",
              " 'before',\n",
              " 'after',\n",
              " 'above',\n",
              " 'below',\n",
              " 'to',\n",
              " 'from',\n",
              " 'up',\n",
              " 'down',\n",
              " 'in',\n",
              " 'out',\n",
              " 'on',\n",
              " 'off',\n",
              " 'over',\n",
              " 'under',\n",
              " 'again',\n",
              " 'further',\n",
              " 'then',\n",
              " 'once',\n",
              " 'here',\n",
              " 'there',\n",
              " 'when',\n",
              " 'where',\n",
              " 'why',\n",
              " 'how',\n",
              " 'all',\n",
              " 'any',\n",
              " 'both',\n",
              " 'each',\n",
              " 'few',\n",
              " 'more',\n",
              " 'most',\n",
              " 'other',\n",
              " 'some',\n",
              " 'such',\n",
              " 'no',\n",
              " 'nor',\n",
              " 'not',\n",
              " 'only',\n",
              " 'own',\n",
              " 'same',\n",
              " 'so',\n",
              " 'than',\n",
              " 'too',\n",
              " 'very',\n",
              " 's',\n",
              " 't',\n",
              " 'can',\n",
              " 'will',\n",
              " 'just',\n",
              " 'don',\n",
              " \"don't\",\n",
              " 'should',\n",
              " \"should've\",\n",
              " 'now',\n",
              " 'd',\n",
              " 'll',\n",
              " 'm',\n",
              " 'o',\n",
              " 're',\n",
              " 've',\n",
              " 'y',\n",
              " 'ain',\n",
              " 'aren',\n",
              " \"aren't\",\n",
              " 'couldn',\n",
              " \"couldn't\",\n",
              " 'didn',\n",
              " \"didn't\",\n",
              " 'doesn',\n",
              " \"doesn't\",\n",
              " 'hadn',\n",
              " \"hadn't\",\n",
              " 'hasn',\n",
              " \"hasn't\",\n",
              " 'haven',\n",
              " \"haven't\",\n",
              " 'isn',\n",
              " \"isn't\",\n",
              " 'ma',\n",
              " 'mightn',\n",
              " \"mightn't\",\n",
              " 'mustn',\n",
              " \"mustn't\",\n",
              " 'needn',\n",
              " \"needn't\",\n",
              " 'shan',\n",
              " \"shan't\",\n",
              " 'shouldn',\n",
              " \"shouldn't\",\n",
              " 'wasn',\n",
              " \"wasn't\",\n",
              " 'weren',\n",
              " \"weren't\",\n",
              " 'won',\n",
              " \"won't\",\n",
              " 'wouldn',\n",
              " \"wouldn't\"]"
            ]
          },
          "metadata": {},
          "execution_count": 12
        }
      ]
    },
    {
      "cell_type": "code",
      "source": [
        "L=[]\n",
        "for word in ch:\n",
        "    if word not in s:\n",
        "        L.append(word)\n",
        "print(L) #i deleted them"
      ],
      "metadata": {
        "id": "kC18M6UoevHN",
        "colab": {
          "base_uri": "https://localhost:8080/"
        },
        "outputId": "7e15df11-a7ec-4a58-e8df-80c05d474401"
      },
      "execution_count": null,
      "outputs": [
        {
          "output_type": "stream",
          "name": "stdout",
          "text": [
            "['geosolutions', 'technology', 'leverage', 'benefon', '', 'gps', 'solutions', 'providing', 'location', 'based', 'search', 'technology', '', '', 'communities', 'platform', '', '', 'location', 'relevant', 'multimedia', 'content', 'new', 'powerful', 'commercial', 'model', '', '']\n"
          ]
        }
      ]
    },
    {
      "cell_type": "code",
      "source": [
        "ch=' '.join(L)\n",
        "ch #return the chaine"
      ],
      "metadata": {
        "id": "VP5-AuB4evJh",
        "colab": {
          "base_uri": "https://localhost:8080/",
          "height": 53
        },
        "outputId": "3fde1ce3-81a2-42f5-c0e6-5e8065920a13"
      },
      "execution_count": null,
      "outputs": [
        {
          "output_type": "execute_result",
          "data": {
            "text/plain": [
              "'geosolutions technology leverage benefon  gps solutions providing location based search technology   communities platform   location relevant multimedia content new powerful commercial model  '"
            ],
            "application/vnd.google.colaboratory.intrinsic+json": {
              "type": "string"
            }
          },
          "metadata": {},
          "execution_count": 14
        }
      ]
    },
    {
      "cell_type": "code",
      "source": [
        "from nltk.stem import PorterStemmer\n",
        "ps = PorterStemmer()\n",
        "ch=ps.stem(ch)\n",
        "ch\n",
        "#en fait \"happy\" or \"happiest\" or \"happyer\" famch far9 fl ma3na lkolhom yatiwk \"happy\" so portterStemer do that de façon tfasakh les suffix eli hachtich bihom\n",
        "#lah9i9a mahabtch tmchili al phrase edhi ama kmlt ala amal tmchi m3a toute la data"
      ],
      "metadata": {
        "id": "XBQJcGZfevLS",
        "colab": {
          "base_uri": "https://localhost:8080/",
          "height": 53
        },
        "outputId": "3a5bb255-a924-410e-c030-74e94714348f"
      },
      "execution_count": null,
      "outputs": [
        {
          "output_type": "execute_result",
          "data": {
            "text/plain": [
              "'geosolutions technology leverage benefon  gps solutions providing location based search technology   communities platform   location relevant multimedia content new powerful commercial model  '"
            ],
            "application/vnd.google.colaboratory.intrinsic+json": {
              "type": "string"
            }
          },
          "metadata": {},
          "execution_count": 16
        }
      ]
    },
    {
      "cell_type": "code",
      "source": [
        "from sklearn.feature_extraction.text import CountVectorizer\n",
        "cv=CountVectorizer()\n",
        "cv.fit_transform(ch.split()).toarray()\n",
        "#jarebet l countvectorizer ala ch\n",
        "#count vectorizer thawelek l chaine l des 0 et 1 puisque machine tekhdem bl 0 et 1"
      ],
      "metadata": {
        "id": "14ct-hHuevOx",
        "colab": {
          "base_uri": "https://localhost:8080/"
        },
        "outputId": "783b5758-1d66-41ef-e226-d6b43edca927"
      },
      "execution_count": null,
      "outputs": [
        {
          "output_type": "execute_result",
          "data": {
            "text/plain": [
              "array([[0, 0, 0, 0, 0, 1, 0, 0, 0, 0, 0, 0, 0, 0, 0, 0, 0, 0, 0],\n",
              "       [0, 0, 0, 0, 0, 0, 0, 0, 0, 0, 0, 0, 0, 0, 0, 0, 0, 0, 1],\n",
              "       [0, 0, 0, 0, 0, 0, 0, 1, 0, 0, 0, 0, 0, 0, 0, 0, 0, 0, 0],\n",
              "       [0, 1, 0, 0, 0, 0, 0, 0, 0, 0, 0, 0, 0, 0, 0, 0, 0, 0, 0],\n",
              "       [0, 0, 0, 0, 0, 0, 1, 0, 0, 0, 0, 0, 0, 0, 0, 0, 0, 0, 0],\n",
              "       [0, 0, 0, 0, 0, 0, 0, 0, 0, 0, 0, 0, 0, 0, 0, 0, 0, 1, 0],\n",
              "       [0, 0, 0, 0, 0, 0, 0, 0, 0, 0, 0, 0, 0, 0, 1, 0, 0, 0, 0],\n",
              "       [0, 0, 0, 0, 0, 0, 0, 0, 1, 0, 0, 0, 0, 0, 0, 0, 0, 0, 0],\n",
              "       [1, 0, 0, 0, 0, 0, 0, 0, 0, 0, 0, 0, 0, 0, 0, 0, 0, 0, 0],\n",
              "       [0, 0, 0, 0, 0, 0, 0, 0, 0, 0, 0, 0, 0, 0, 0, 0, 1, 0, 0],\n",
              "       [0, 0, 0, 0, 0, 0, 0, 0, 0, 0, 0, 0, 0, 0, 0, 0, 0, 0, 1],\n",
              "       [0, 0, 0, 1, 0, 0, 0, 0, 0, 0, 0, 0, 0, 0, 0, 0, 0, 0, 0],\n",
              "       [0, 0, 0, 0, 0, 0, 0, 0, 0, 0, 0, 0, 1, 0, 0, 0, 0, 0, 0],\n",
              "       [0, 0, 0, 0, 0, 0, 0, 0, 1, 0, 0, 0, 0, 0, 0, 0, 0, 0, 0],\n",
              "       [0, 0, 0, 0, 0, 0, 0, 0, 0, 0, 0, 0, 0, 0, 0, 1, 0, 0, 0],\n",
              "       [0, 0, 0, 0, 0, 0, 0, 0, 0, 0, 1, 0, 0, 0, 0, 0, 0, 0, 0],\n",
              "       [0, 0, 0, 0, 1, 0, 0, 0, 0, 0, 0, 0, 0, 0, 0, 0, 0, 0, 0],\n",
              "       [0, 0, 0, 0, 0, 0, 0, 0, 0, 0, 0, 1, 0, 0, 0, 0, 0, 0, 0],\n",
              "       [0, 0, 0, 0, 0, 0, 0, 0, 0, 0, 0, 0, 0, 1, 0, 0, 0, 0, 0],\n",
              "       [0, 0, 1, 0, 0, 0, 0, 0, 0, 0, 0, 0, 0, 0, 0, 0, 0, 0, 0],\n",
              "       [0, 0, 0, 0, 0, 0, 0, 0, 0, 1, 0, 0, 0, 0, 0, 0, 0, 0, 0]])"
            ]
          },
          "metadata": {},
          "execution_count": 17
        }
      ]
    },
    {
      "cell_type": "code",
      "source": [
        "#pre_processing al data lkol\n",
        "L1=[]\n",
        "for i in range (len(data)):\n",
        "        ch=re.sub('[^a-zA-Z]',\"\",data['Sentence'][i])\n",
        "        ch=ch.lower()\n",
        "        ch=ch.split()\n",
        "        ch=[word for word in ch if word not in stopwords.words('english')]\n",
        "        ch=' '.join(ch)\n",
        "        ch=ps.stem(ch)\n",
        "        L1.append(ch)\n",
        "L1"
      ],
      "metadata": {
        "id": "l3ZcnmwDevQ9",
        "colab": {
          "base_uri": "https://localhost:8080/"
        },
        "outputId": "89a72ff1-f851-4686-994e-e90cd851ac41"
      },
      "execution_count": null,
      "outputs": [
        {
          "output_type": "execute_result",
          "data": {
            "text/plain": [
              "['thegeosolutionstechnologywillleveragebenefonsgpssolutionsbyprovidinglocationbasedsearchtechnologyacommunitiesplatformlocationrelevantmultimediacontentandanewandpowerfulcommercialmodel',\n",
              " 'esionlowsdowntobkarealposs',\n",
              " 'forthelastquarterofcomponentasnetsalesdoubledtoeurmfromeurmforthesameperiodayearearlierwhileitmovedtoazeropretaxprofitfromapretaxlossofeurm',\n",
              " 'accordingtothefinnishrussianchamberofcommerceallthemajorconstructioncompaniesoffinlandareoperatinginrussia',\n",
              " 'theswedishbuyoutfirmhassolditsremainingpercentstakealmosteighteenmonthsaftertakingthecompanypublicinfinland',\n",
              " 'spywouldntbesurprisedtoseeagreenclos',\n",
              " 'shellsbillionbgdealmeetsshareholderskeptic',\n",
              " 'sshcommunicationssecuritycorpstockexchangereleaseoctoberatpmthecompanyupdatesitsfullyearoutlookandestimatesitsresultstoremainatlossforthefullyear',\n",
              " 'konesnetsalesrosebysomeyearonyearinthefirstninemonthsof',\n",
              " 'thestockmanndepartmentstorewillhaveatotalfloorspaceofoversquaremetresandstockmannsinvestmentintheprojectwillhaveapricetagofabouteurmillion',\n",
              " 'circulationrevenuehasincreasedbyinfinlandandinswedenin',\n",
              " 'sapqdisappointsassoftwarelicensesdownrealproblemcloudgrowthtrailsmsftorclgoogcrmadbehttpstcojndphllzq',\n",
              " 'thesubdivisionmadesalesrevenueslastyearofeurmillioneurmillioninandoperatingprofitsofeurmillioneurmillion',\n",
              " 'vikinglinehascanceledsomeservic',\n",
              " 'ahlstromcorporationstockexchangeannouncementatatotalofnewsharesofahlstromcorporationhavebeensubscribedwithoptionrightsunderthecompanysstockoptionprogramsiandii',\n",
              " 'fbgonegreenonday',\n",
              " 'msftsqlserverrevenuegrewdoubledigitwithsqlserverpremiumrevenuegrowingoverhttpstkscoirf',\n",
              " 'accordingtolnnentehtaatsceomattikarppinenthecompanyaimstodeliverfishproductstoitscustomersadayearlierthanitcurrentlydo',\n",
              " 'thecompanysshareisquotedonnasdaqomxhelsinkirautaruukkioyjrtrk',\n",
              " 'elcoteqseislistedonthenasdaqomxhelsinkiltd',\n",
              " 'twoofthesecontractsareforturntableanodevibrocompactorsthatwillbedeliveredtogansuhualualuminumcoltdandanotherunnamedcostum',\n",
              " 'avivafriendslifetopforecastsaheadofbillionpoundmerg',\n",
              " 'insteadofbeingbasedonasoftdrinkasisusualthetehoenergydrinkismadewithfreshwat',\n",
              " 'thecompanyplanstoincreasetheunitsspecialiststafftoseveraldozendependingonthemarketsituationdur',\n",
              " 'thecompanyclosedlastyearwithaturnoverofaboutfourmillioneuro',\n",
              " 'shireceostepsupdrivetogetbaxaltaboardtalk',\n",
              " 'costcoapremierretaildividendplayhttpstcofacnhttcost',\n",
              " 'thefivestoreyecoefficientbuildingwillhaveagrossfloorareaofaboutsqmitwillalsoincludeapart',\n",
              " 'thefirstinstallmentofthecinemaseriesconcludeswithaprofileoffinnishinventorolavilindenwhosepersonalartisticjourneyandworkatfiskarshasledtodozensofdesignaward',\n",
              " 'allarewelcom',\n",
              " 'stockmannandswedishsectorcompanyablindexenteredintoanagreementonseptemberwherebystockmannorawhollyownedsubsidiaryofitwillmakeapublictenderofferforalloflindexsissuedshar',\n",
              " 'huhtamakioyjstockexchangereleaseathuhtamakiscapitalmarketsdayforinstitutionalinvestorsandanalystsisheldinespooseptemberstartingatpmfinnishtim',\n",
              " 'wearepleasedtowelcometapeksnomaintocramogroup',\n",
              " 'profitbeforetaxeswaseurmillion',\n",
              " 'royaldutchshelltobuybggroupfornearlybillion',\n",
              " 'financialwiretmisnotapressreleaseserviceandreceivesnocompensationforitsnewsopinionsordistribut',\n",
              " 'assaabloykaupthingbankgaveaneutralrecommendationandasharepricetargetofcrownseuroonswedishlockmakerassaabloyab',\n",
              " 'theitemincludedrestructuringcostsofeurmwhileayearearliertheywereeurmdilutedepsstoodateurversusalosspershareofeur',\n",
              " 'inthebankpostedanetprofitofltmn',\n",
              " 'aaplafternoonselloffasusualwillbebrutalgetreadytoloseatonofmoney',\n",
              " 'tslarecallingprettymucheverysinglemodelxcnnbrkgottoshortthatevenatworkyoujumpinmoneytrad',\n",
              " 'dolcegabbanahasaskedtheeuropeanuniontodeclaremarimekkocorporationsunikkofloralpatterntrademarkinvalidinacontinuingdisputebetweenthetwocompani',\n",
              " 'intercontinentalhotelsfirstquarterglobalroomrevenuelagsestim',\n",
              " 'accordingtofinnishpensioninsurancecompanyvarmavarmawastherecipientofovertwothirdsoftherevenueoftheearningsrelatedpensioncoverthatwasundercompetitivetenderinginfinland',\n",
              " 'aportionmillionwillberecordedaspartofitswinningsinapriorpatentdisputewithfinnishphonemakernokiaoyj',\n",
              " 'lgstillpayingpricefordividendcutduringcrisischiefsay',\n",
              " 'thevolumeofinvestmentsinthetwophasesoftheprojectisestimatedatusdmneurmn',\n",
              " 'russiaaccountedforofthelagarderemagazinedivisionsrevenueoreurmnusdmnintheusafor',\n",
              " 'thecompanyalsoestimatesthealreadycarriedoutinvestmentstoleadtoanincreaseinitsnetsalesforfromwhentheyreachedeurmillion',\n",
              " 'profitoftheaccountingperiodwaseurmn',\n",
              " 'thesixbreweriesrecordedapercentgrowthindomesticbeersaleslastyeartomillionlitersfrommillionliterssoldin',\n",
              " 'inaugustoctoberthecompanysresultbeforetaxestotalledeurmnupfromeurmninthecorrespondingperiodin',\n",
              " 'systeemitiimissalesandprojectresourceswillalsobestrengtheneddirectorpaulskogbergsaid',\n",
              " 'tescosharepricejumpsasqsalestopestim',\n",
              " 'thefineprintisher',\n",
              " 'thepriceforlogshasclearlyimprovedfromandalsothepriceofpulpwoodhasgoneup',\n",
              " 'thussysopendigiahasinaccordancewithchaptersectionofthefinnishcompaniesactobtainedtitletoallthesharesofsenterathataretoberedeem',\n",
              " 'dilutedearningspershareepsfelltoeurfromeur',\n",
              " 'atpmeasterntimeablockofcontractschangedhandsatabidpriceof',\n",
              " 'someofthemostrecenttechnologydeliveriesincluderefinerytechnologytoanrakaluminiumanironorepelletizingplanttotatasteelandironoresinteringplantstobhushansteel',\n",
              " 'vipssimilarpatternlikebeginningofmaydidusellsamenowwillgoupmuchhigherafterthisdrop',\n",
              " 'thefirmgeneratedsalesofmlneurin',\n",
              " 'storaensohasalsohadmeetingswiththelaborauthoritiesemploymentandeconomicdevelopmentcentresandrepresentativesofthegovernmentinordertofindsolut',\n",
              " 'astrazenecaprofitdownassalesofstalwartsfad',\n",
              " 'rtandrewnyquistchartologyyahoohttpstkscoitryhoocrazylookingchartbutnearingbreakoutresistancelin',\n",
              " 'mostbullishstocksontwitterduringthisdipyhoogdxgooglstzgoldewvzcelgsbuxsctymorehttpstcoiuzjelfwt',\n",
              " 'finnishgeosentricsnetsalesdecreasedtoeurinjanuarymarch',\n",
              " 'cohensteersincsharesrepresentingofthesharecapitalandvotingright',\n",
              " 'morestaffhasbeenrecruitedinjapantofurthercomplementitsnetworkofclosetoservicelocationsinmorethancountriesworldwid',\n",
              " 'papercompanieswereinnegativeterritorieswithstoraensorsheddingpcttoeurupmkymmenedownpctateurandmrealbpctlowerateur',\n",
              " 'kaukotelkoscentralizedadministrationwillbedissolvedandappropriatepartsofitwillbetransferredtooperatingactivitiesandgroupadministrationbytheendoftheyear',\n",
              " 'operatingprofitforthequarterapriljuneamountedtoeurmonsalesofeurbn',\n",
              " 'atriachosethedelighttoattractconsumersintheagegrouptoitsatriafreshrangeofmicrowaveablem',\n",
              " 'finnishitsolutionsprovideraffectooyjhelafevsaidtodayitsslippedtoanetlossofeurusdinthesecondquarteroffromaprofitofeurinthecorrespondingperiodayearearli',\n",
              " 'ussanctionsputgazpromshellallianceplansinjeopardi',\n",
              " 'profitfortheperiodwaseurmndownfromeurmnin',\n",
              " 'profitfortheperiodwaseurmnupfromeurmn',\n",
              " 'operatingprofitfelltoeurmnfromeurmninthesecondquarterof',\n",
              " 'howeversalesreturnedtogrowthinapriljuneceopekkaeloholmasaid',\n",
              " 'operatingprofittotaledeurmnorofnetsal',\n",
              " 'changesinthemarketsituationandtougherpricecompetitionhavesubstantiallyreduceddemandforbreadpackagingmanufacturedatthekauhavaplantaccordingtothecompani',\n",
              " 'inconnectionwiththedealdigiawillemploypersonsfromnokiainosloandinsiliconvalleyintheusa',\n",
              " 'thebrazilianunitoffinnishsecuritysolutionsproviderfsecuresignedupnewclientslastyearonlinenewssourceresellerwebquotedthedivisionscommercialdirectorvladimirbrandoassay',\n",
              " 'thefairvalueofthecompanysinvestmentpropertieswentdowntoeurbillionattheendoffromeurbillionayearearli',\n",
              " 'dealerssaidthesharewaslargelyhitbyinvestordisappointmentaboutarefiningmarginofjustusdperbarrelforthequarterandtheperformanceofitsshippingunitwhichsawebitdroptomlneurfrommlneurayearamidafallinvolumesandtankerr',\n",
              " 'itisatestamenttothequalityofourltesolutionandourcommitmenttothejapanesemarkethead',\n",
              " 'thecompaniesaimistofinalizethenegotiationsandsignthecontractsatthestartofoctob',\n",
              " 'metsofoundriesjyvaskylaoywilldiscontinueproductiononthislinebyseptemberthecompanysaid',\n",
              " 'atotalsixofthepolledanalystsratedmrealtwogavebuyaccumulatethreegaveholdandonlyonegavesel',\n",
              " 'inseptemberthefinnishgroupagreedtobuydanishcompanyrosepoultryasforuptoeurminacombinationofcashandstock',\n",
              " 'yangdoublebottom',\n",
              " 'tescosharepricedownasgrocerfacessfoinvestigationoutcom',\n",
              " 'aaplnewsisbecomingverybullishagainhttpstkscotmu',\n",
              " 'gsengineeringwillinstallthevalvesataliquefiednaturalgaslngplantithasbuiltforuaelngextractionandgasplantsoperatorgascoinruwaisua',\n",
              " 'thepercentagesofsharesandvotingrightshavebeencalculatedinproportiontothetotalnumberofsharesregisteredwiththetraderegisterandthetotalnumberofvotingrightsrelatedtothem',\n",
              " 'mrealsaidtherearenogroundsfortherumorswhichhavebeencirculatinginthemarketforsomemonth',\n",
              " 'lembersaidthematterwastopicalalsoinestoniawhereabillhasbeendraftedatthesocialaffairsministrythatwouldscrapoldagepensionsonfavorablecondit',\n",
              " 'moodyssaiditgavepalongtermseniorunsecuredandppshorttermdebtratingstofinnishlenderaktiabankseurbnusdbneuromediumtermnoteemtnprogramofmarch',\n",
              " 'tslarecal',\n",
              " 'theliquidityprovidingwasinterruptedonmaywhenaspocompgroupoyjssharestradedbelowcentaspocompsstockexchangereleas',\n",
              " 'hargreaveslansdownbucksweakmarketstoseeassetsriseperc',\n",
              " 'atpmtheomxhelsinkiindexwaspctlowerat',\n",
              " 'thedecisionmeanstemporarylayoffsoffixeddurationatthecompanysnastolaandjyvaskylaunitsinsouthernandcentralfinlandrespect',\n",
              " 'thevalueoftheordersisovereurmn',\n",
              " 'mslaaksowillberesponsibleforhkscanshrfunctionsandfortheirdevelopmentinallofthegroupsmarketarea',\n",
              " 'fiskarsisalsoengagedintheglobalsupplyofmarineandenergyequipmentsolutionsandservicesthroughitsassociatedcompanywartsilacorpor',\n",
              " 'aberdeenassetmanagementgainsfootholdinchina',\n",
              " 'finlandsdominatingrailcompanyvrisplanningtosettheinfectedpassengersforlongdistancetripinaseparatecarriag',\n",
              " 'innovemberthefinnishgovernmentdecreaseditsownershipinthecompanyfurthertopercentfromperc',\n",
              " 'finnishexelcompositesatechnologycompanythatdesignsmanufacturesandmarketscompositeprofilesandtubesforvariousindustrialapplicationsreportsitsnetsalesdecreasedbyinthesecondquarteroftoeurmnfromeurmninthecorrespondingperiodin',\n",
              " 'ofbavellonisandnstsjointventuresbavellonitoolscompletessemiproductsthatareproducedinitalyintohighqualitytoolsthatwillbesoldunderthediapolbrand',\n",
              " 'thetoolisapatentpendingdesignthatallowsconsumerstolayouttheirentireprojectonaremovableplateusingmultipleclearstampsofanykind',\n",
              " 'googlisashortbelowintotheupperbbandisoverbought',\n",
              " 'lightsoutbeforecurfewcurlupwiththelatestbestsellerandtreatyoureyestotheperfectreadinglightfromluceplan',\n",
              " 'upmkymmenecorptheworldslargestmakerofmagazinepaperontuesdayreportedapercentprofitdropaslowerpaperpriceshighercostsandastrongeurohurtrevenu',\n",
              " 'thetotalvalueofthecontractissomeeurmillion',\n",
              " 'theprerequisiteforinclusionintheprogramandforreceiptofanygainsisthatkeyemployeesacquireasposharestotheamountdeterminedbytheboardinadvanceinthemaximum',\n",
              " 'mrdoringhasbeenwitheatonsinceandactedasthebusinessunitmanagerforeatonspowercontrolsbusinessunitsincejanuari',\n",
              " 'thesqmsqftstoreincopenhagenspremiershoppingdistrictwasinauguratedtodayfurtherstrengtheningthecompanyspresenceinnordiccapit',\n",
              " 'inthefinancialstatementforthefirstquarteroftikkurilaisreportedunderdiscontinuedoper',\n",
              " 'theworldssecondlargeststainlesssteelmakersaidnetprofitinthethreemonthperioduntildecsurgedtoeuromillionusmillionoreurouspersharefromeuromillionoreuropersharethepreviousyear',\n",
              " 'nameofapplicantjotautomationoynameofinventormammilatuomopiirainenmikaandkellokoskimikaapplicationnokolnpadateoffilingofapplicationpublicationd',\n",
              " 'netflixgrowseffortstocreateloyalcustomersnflxhttpstcoqxbkobph',\n",
              " 'theomxnordicomxnindexcomprisingthemosttradednordicstocksonthenasdaqomxexchangecloseddownatpointsonthursday',\n",
              " 'aaplnibblingonasmalllongviabuyingoffminchart',\n",
              " 'theoperatingmarginofakeryardscruiseferriesdivisionwentdownfromtointhefirstquarterof',\n",
              " 'tycjustabouttobreakouttonewhighslotsoftechnicalslookinggreatrightnow',\n",
              " 'eerokatajavuoricurrentlygroupvicepresidenthumanresourceswilltakeayearlongsabbaticalstartingfromoctob',\n",
              " 'whatsupwithlulunumberslookedgoodnotgreatbutgoodithinkconferencecallwillinstillconfid',\n",
              " 'theadjustmentmeasureswillbecarriedoutinphasestosecurethedeliverycap',\n",
              " 'almamediacorporationpressreleasemarchtyrvaansanomatandpaikallissanomatbeingboughtbysuomenpaikallissanomattwolocalpaperstyrvaansanomatandpaikallissanomatappearinginsastamalaanditsneighbouringmunicipalitiesaretobeboughtbysuomenpaikallissanomatoy',\n",
              " 'temporarylayoffsaffectingtheentireworkforcewillalsobeimpl',\n",
              " 'ameetingforthemediaandanalystswillbeheldonthesamedayatamatstonesoftheadquartersinhelsinkiitalahdenkatuatheinterimreportwillbepresentedbystonesoftsceoilkkahiidenheimo',\n",
              " 'finnishsamporosenlewmanufacturesapproximatelysevenforestmachinesmonthlyandabouthalfofmachinesareexport',\n",
              " 'facebooknearabuypointlastweekfacesadifferenttechnicaltesttodayhttpstcocllmpinmfbaaplnflxhttpstcofpfbytypuy',\n",
              " 'februaryfinnishbroadbanddatacommunicationsystemsprovidertelesteoyjheltltvsaidwednesdayitsnetprofitrocketedtoeurminfromeurinanditlifteditsdividendpropos',\n",
              " 'freehaheeeeeerecomesthepumpsogladipickedupkendofdaygetreadyforthebullrid',\n",
              " 'finnishtechnologygroupaspocompgroupoyjomxhelsinkiacgvissueditsthirdquarterreportonthursdaynovemberpostinganoperatingprofitofeurmascomparedtoalossofeurminthethirdquarterof',\n",
              " 'thebuildingcomplexconsistsofhighqualityofficeandretailspacetotallingsquaremetresthecompanysaid',\n",
              " 'finnishinsurancecompanyfenniaandkeskogroupareendingtheirloyalcustomercooper',\n",
              " 'theunitisplannedtobeoperationalduringthesecondhalfofandinfullstreamin',\n",
              " 'itgsshareinthedealisestimatedatsomeeuro',\n",
              " 'theplantisexpectedtoentercommercialoperationbymid',\n",
              " 'aspohasalsoinvestigatedthesalesopportunitiesofkaukomarkkinatselectronicsbusi',\n",
              " 'bggroupappointsnewceoonemonthearli',\n",
              " 'theacquisitionwillhaveanimmediatepositiveimpactonaspocompsfinancialresult',\n",
              " 'finnairspassengerloadfactorwhichmeasuresthenumberofsoldseatsasashareofallavailableseatsdroppedbypercentagepointstoinseptemb',\n",
              " 'rtbmanlnglooksprimedalsoeghtpoisedtoruntoo',\n",
              " 'itisalsopctabovethemonthvolumeweightedaveragepriceofthestock',\n",
              " 'cokedividendgoogledividendforpassiveincomecoketakesitgoogkohttpstcoqbsowjxost',\n",
              " 'profitbeforetaxeswaseurmnupfromeurmnayearearli',\n",
              " 'thesubsidiaryissettingupafacilityformanufacturinghighdensityinterconnectionprintedcircuitboardsorpcbsatnokiasspecialeconomiczoneatsriperumbudurnearchennai',\n",
              " 'crmsepcallsaresinceentrybanghttpstkscodedm',\n",
              " 'injanuaryjunedilutedlosspersharestoodateurversuseurinthefirsthalfof',\n",
              " 'rapalasaiditestimatesitwillmakesavingsofmlneurayearbycentralisingitsfrenchoperationsatonesit',\n",
              " 'vmwgotanicepushtodayfollowingsmallsweepersofmaycthismorn',\n",
              " 'thattoppedconsensusforecastsforearningsofeurosashar',\n",
              " 'rdloan',\n",
              " 'infuturethecompanyintendstolookforknowhowfromoutsidethecompanyandtocooperatewithotheractorsinthesector',\n",
              " 'youneedtobereadywhenthewindowopensuprosbergsaid',\n",
              " 'morethantonnesofasphaltmixwillbeusedinthecontract',\n",
              " 'pajpmorganchaseandconysejpmandpohjoabankarejointleadmanagersontheseniorunsecuredd',\n",
              " 'ctrpbreakingouthereongoodvolandaparserbuysignalnoticedthisonboblangscommentslookingforfast',\n",
              " 'salesinfinlanddecreasedbyinjanuarywhilesalesoutsidefinlanddroppedbi',\n",
              " 'thepulpproductioninfinnishkemijrviwillalsobeliquidatedandaboutemployeesloosetheirjob',\n",
              " 'nordeawasthecheapestalsoforacoupleintheirswithdebt',\n",
              " 'jussipesonenmemberofthesampoboardsincewillrenouncehisseatinsampoboard',\n",
              " 'teslaisrecallingmodelxcarshttpstcozbkvstltsla',\n",
              " 'adjustedforchangesinthegroupstructurethedivisionsnetsalesincreasedbi',\n",
              " 'makingmattersmoredifficultthecompanysaidithasbeengrapplingwithhigheroilandgaspriceswhichhavepushedupthecostofenergyrawmaterialsandtransport',\n",
              " 'theamendingoftheproposalsimplifiestheproposedplanandincreasestheincentiveforkeyemployeestostayinthecompani',\n",
              " 'thesolutionwillnowbeexpandedtoincludeallgroundstafftask',\n",
              " 'operatinglosstotalledeurmncomparedtoaprofitofeurmninthethirdquarterof',\n",
              " 'onfeddaylookingforasharpmoveupinequitiesaaplhdlowfbseeinguvxytvixgettinghammeredeventhoughmarketisdown',\n",
              " 'netsalestotaledeurmnupfromeurmninthecorrespondingperiodin',\n",
              " 'asaconsequencetheworkscouncilhadwithdrawnitspetitiontosuspendthereorganis',\n",
              " 'ceoerkkijrvinenishappywiththecompanysperformancein',\n",
              " 'comparablenetsalesareexpectedtoincreasemorethanininlinewithgrouptarget',\n",
              " 'followingthetransactionlundbeckhasworldwiderightsfornalmefeneexcludingnorthamericamexicoturkeyandsouthkorea',\n",
              " 'thegovernmentstartedthesellofflastmonthputtinganpercentstakeinteliasoneraontheauctionbloc',\n",
              " 'thereportgoesontoprovidedetailedprofilesoftenleadingeuropeanspecialtychemicalscompaniesandbriefprofilesofothermajorplay',\n",
              " 'bothoperatingprofitandnetsalesforthethreemonthperiodincreasedrespectivelyfromeurmandeurmascomparedtothecorrespondingquarterin',\n",
              " 'thecompanyexpectsitsnetsalesforthewholetobeatpreviousyearlevel',\n",
              " 'thecompanyisheadquarteredinsievifinlandandislistedonthenordicexchangeinhelsinki',\n",
              " 'commissionincomeincreasedbytoeurmnandlendingvolumerosebi',\n",
              " 'thefinnishcompanysolditsukoperationconsistingofstaffinofficesinlondonbirminghamandmanchesteraspartofadealwithhampdeninjulyforitseuropeanwidepropertyandcasualtyarmsampoindustri',\n",
              " 'inthebuildingandhomeimprovementtradesalesdecreasedbytoeurmn',\n",
              " 'theinnovabuildingwillbelocatedclosetodowntownintheimmediatevicinityofpaviljonkiandthetravelcenterandwithinwalkingdistancefromtheheartofthecitythankstothetradefairbridg',\n",
              " 'finnishtextilesandclothinggroupmarimekkooyjpostedanetprofitofmlneuromlnforcomparedtomlneuromlnfor',\n",
              " 'themainstrengthofthecooperationprojectliesinmergingtheknowhowoftwolargecompani',\n",
              " 'shareholdershavearighttoputontheagendaoftheagmitemsthatarewithinthecompetenceofthegeneralmeet',\n",
              " 'kazgiprotsvetmetandoutotecfinlandhavesignedanagreementonstrategiccooperationinthemarketingandprovidingofmineralsprocessingandmetallurgicalplantsandrelatedservicesinkazakhstanandthesurroundingcountri',\n",
              " 'duetotherapiddecreaseinnetsalespersonnelreductionshavebeencarriedoutonawiderscalethaninitiallyexpect',\n",
              " 'thegovernmenthasinsteadproposedanexchangeofthestatesstakeinlmttoteliasonerasstakeinlattelecom',\n",
              " 'storaisduetoreleaseitsfourthquarterandfullyearearningsonfeb',\n",
              " 'fullyearoperatingresultforwasmillionneg',\n",
              " 'nqgothithardlowerthisamlookslikeithasfoundsupportahttpstkscosz',\n",
              " 'inavcsystemhaushadnetsalesofeurmillionusdm',\n",
              " 'thecompanyhasestablishedagbasestationataboutfeetatthefootofmounteverestthatwillenablemountainclimbersatthefootsummittosurftheinternetandevensendvideosoftheirexploit',\n",
              " 'weofferourcustomerssolutionsbasedonrenewablerawmateri',\n",
              " 'asurveyconductedbytaloustutkimusforsampolifeshowsthatcompaniesarebadlypreparedtolosingkeystaffmemb',\n",
              " 'anttiorkolapresidentofkemiragrowhowsindustrialsolutionsunittoldthomsonfinancialnewsthecompanyhasputoffopeningthemineaspricesofphosphatehavebeenquitedepressedforalongtim',\n",
              " 'thepretaxprofitofthegroupslifeinsurancebusinessincreasedtoeurmfromeurm',\n",
              " 'wemakeavailablethefollowingbrandnewmarketanalysescementpakistancementmalaysiacementtaiwancementphilippinestheseanalysesgiveaclearoverviewoftheactualsituationandfutureoutlookofthecementindustryinsomeasiancountri',\n",
              " 'thecompanyservesapproximatelycustomersinovercountri',\n",
              " 'rtalphatrendsvmarketsarestillactingweakhttpstkscoagnspyqqqxlfsmhiwm',\n",
              " 'operatingprofittotalledeurmndownfromeurmnayearearli',\n",
              " 'oneoftheinstalledelevatorswillbeadoubledeckelevatorwhichenablesmoreefficientuseofthebuildingscorespac',\n",
              " 'helsinkiafxoutokumpusaidithasagreedtosellthehituranickelmineinfinlandtocanadiangroupbelvedereresourcesltdformlneurworthofbelvedereshar',\n",
              " 'justwentlongilmn',\n",
              " 'socialnetworkingandlocationbasedservicetrendscompriseasignificantshareoftheinternettraffictodayandareappealingtomidus',\n",
              " 'atotaloftheordervaluewasbookedinthefourthquarterofandtheremainderwillbebookedinthesecondquarterof',\n",
              " 'johnsonmattheysharepriceslumpsascompanypostsfullyearresult',\n",
              " 'therehavenotbeenprevioussharesubscriptionswithstockopt',\n",
              " 'affectogenimapbuildshighlycustomiseditsolutionsforitscustomersinfinlandandthebalticcountri',\n",
              " 'theclosingofthetransactionisscheduledtotakeplaceonjanuari',\n",
              " 'howevertheofferingwillprobablynotbemadeatthecurrentvaluationwhichpartlyderivesfromthedealinwhichthecompanywasmergedintoastockmarketshel',\n",
              " 'operatingresultforthemonthperioddecreasedfromtheprofitofeurmwhileturnoverdecreasedfromeurmascomparedto',\n",
              " 'theadministratorshaveindicatedaneedforjobcutsattheirishinsureroverthenextmonth',\n",
              " 'netsalesinareexpectedtobeonthesamelevelasin',\n",
              " 'technicalindicatorsforthestockarebullishandspgivesnokapositivestarsoutofbuyrank',\n",
              " 'revenueforthequartertotaledbilliondownpercentfrombillioninthefourthquarterin',\n",
              " 'nvirooperatesprocessingfacilitiesindependentlyaswellasinpartnershipwithmunicip',\n",
              " 'thenumberofbodilyinjurycasesquadrupledin',\n",
              " 'accordingtoringmanfinnishpapercompanieshaveacquiredknowhowandcapacityinpaperrecyclingwhichhasturnedouttobeasuccessfulstrategi',\n",
              " 'thecompanyalsosaidthatinpolandaprofitabilityprogramhasbeenlaunchedattheobornikisteelframeandsandwichpanelpl',\n",
              " 'andusenergyexecutivessayhighsteelpricesarethreateningenergyexplor',\n",
              " 'tescosalesriseshowstentativerecoverycontinu',\n",
              " 'infinlandthelaunchoftieinsalesofgmobilephonesdidnotcauseadramaticrushinmobileretailoutletsduringthefirstfewday',\n",
              " 'nuanheldupwellafterthebiggainsmaybewerefinallyonthemoveonthisitsstillveryundervaluedandhasmajorupsid',\n",
              " 'thecompanycanbesplitintotwopartsoverthecomingmonthswithessentowningandoperatingproductionandsupplyandenexisowningandoperatingthegrid',\n",
              " 'officialsdidnotdisclosethecontractvalu',\n",
              " 'londonsleadingsharestodayjumpedalmostpointsorasthemarketopen',\n",
              " 'inthethirdquarteroffiscaleforeswungtoanetlossofeurversusanetprofitofeurforthecorrespondingperiodoffisc',\n",
              " 'thegroupsoperatinglosswaseurmndownfromaprofitofeurmnin',\n",
              " 'themovewastriggeredbyweakdemandforforestryequipmentandtheuncertainmarketsitu',\n",
              " 'thecombinedcompanyhadproformanetsalesofmlneuromlnandanoperatingprofitofmlneuromlnfor',\n",
              " 'managingdirectorkariinkinensaysthatspondasleasingoperationsdevelopedhighlyfavour',\n",
              " 'marchgoldmansachsestimatesthattherearenegativeprospectsforthenorwegianmobileoperationsofnorwaystelenorasaosltelandswedensteliasoneraabstotlsnintheshortterm',\n",
              " 'tslasteamingupagainthisstockisrelentlessatthemo',\n",
              " 'marathonestimatesthevalueofitsremainingstakeinprotalixatmillion',\n",
              " 'whitbreadsharepriceclimbsonqsalesgrowth',\n",
              " 'incapcontractmanufacturingisasubsidiaryofincapcorporationoffinland',\n",
              " 'operatingprofittotaledeurmnupslightlyfromeurmninthecorrespondingperiodin',\n",
              " 'wewenttothemarketwithyieldguidanceoftheareawhichgaveustheflexibilitytogoupordownbyth',\n",
              " 'rtstockdemonsthinkshortinghereintoclosemightbeplayspyhighbetareversinglooksworthashot',\n",
              " 'vdwcombinedwithlxedevicesenhancesproductivityenablingworkerstouseasingledevicetoperformvoicescanningandkeyboardfunct',\n",
              " 'thusthemethodwillcutworkingcostsandwillfastentheplanningandbuildingprocess',\n",
              " 'talentumsnetsalesinseptemberweresmallerthanexpect',\n",
              " 'copyrightafxnewsandafxfinancialnewslogoareregisteredtrademarksofafxnewslimit',\n",
              " 'lnkddailyphaseretestpriceexperiencingearlyrejectioncanitretesthttpstkscotxx',\n",
              " 'rbswillreportedlyappointhowarddaviesasitsnextchairman',\n",
              " 'tescoasdasalesfallasmarchofthediscounterscontinueskantar',\n",
              " 'withthisnewversionitisveryimportantforustointroduceabimprocessthatisbasedonthedetailedbuildinginformationmodel',\n",
              " 'sampoplcjarmosalonenheadofinvestorrelationsandgroupcommunicationsteldistributionnasdaqomxhelsinkitheprincipalmediafinancialsupervisoryauthoritywwwsampocomthisannouncementisdistributedbythomsonreutersonbehalfofthomsonreuterscli',\n",
              " 'barronsonlineseesappleatshareinayearfromtodayongrowingservicesbusinessaaplhttpstcobdneknl',\n",
              " 'pharmaceuticalmarketinpolandglobalresearchdataservicespublishedrecentlyamarketanalysisaboutthepharmaceuticalmarketsinpoland',\n",
              " 'altogetherfinnairhascanceledoverflightsbecauseofthestrik',\n",
              " 'theemployertogetherwithhealthpersonnelsupportsquittingandpayspartofthecostofnicotinetreat',\n",
              " 'pretaxlosstotaledeurmncomparedtoalossofeurmninthecorrespondingperiod',\n",
              " 'theorderincludesshipcranesthatwillbedeliveredforcontainerfeederstobebuiltatwenchongshipyardinchina',\n",
              " 'copperleadandnickelalsodroppedhboshbosplummetedtopenceaftersayingthisyear',\n",
              " 'googtestingthedayaftersomeconsolidationhttpstkscohcpj',\n",
              " 'hejoinstechnopolisfromkonewherehehasheldvariouspositionswithinthegroupmostrecentlyasdirectorofservicebusinessandbusinessdevelopmentforkonesmiddleeasternoper',\n",
              " 'wesucceededinincreasingourmarketshareofsoldapartmentcommentsmrkarikauniskangasheadofyitinternationalconstructionservic',\n",
              " 'profitabilityebitwascomparedtointhepreviousyearperiod',\n",
              " 'finnishgeosentricsnetsalesdecreasedtoeurinjanuarymarch',\n",
              " 'theplantisscheduledforcompletioninlatefebruarywithhandoverofsomeareasinjanuarytwoothersuppliersofnokiaaspocompgroupoyjandperloshaveannouncedtheirplanstoestablishplantswithinthenokiacomplextogethertheywillinvestrscror',\n",
              " 'upmkymmeneupgradedtoinlinefromunderperformbygoldmansach',\n",
              " 'slumpinweirleadsftsedownfromrecordhigh',\n",
              " 'janfordisstrugglinginthefaceofslowingtruckandsuvsalesandasurfeitofuptodategottahavecar',\n",
              " 'royalmailbreachedcompetitionlawoverdeliveryservicechangesofcomclaim',\n",
              " 'thecooperationwillinvolvearenapartnersbuyingashareofthenewjointventurecompanyoperatinginalmamediashomesalesvehicleandconsumeradvertisingmarketplacebusi',\n",
              " 'theeforeplantatsaarijarviincentralfinlandisoneofthelargestemployersintheregion',\n",
              " 'howevershorttermrentalsarebecomingmorepopular',\n",
              " 'emsadeputychairmanoftheboardjurilembertoldbnsonwednesdaythatthiswasthefirsttimeheheardaboutthestrikeastheswedishsidehadnotinformedtheestonianunionyet',\n",
              " 'tescoclosesinonnewchairmanwithdixonscarphonesjohnallaninthefram',\n",
              " 'thedeviceoffersmultimediaperformancealongwithahostofproductivityapplicationsincludinglivestockpric',\n",
              " 'salesclimbedpcttoblneursurpassingthemlneurconsensusfigur',\n",
              " 'fbturnsbackdowninearlytradinghttpstcoreufpzhbm',\n",
              " 'utahscapitalwantedtobethenextusheadquartersofamersportscorpaskiequipmentcompani',\n",
              " 'oldmutualfirstquartersalesupbuoyedbyemergingmarket',\n",
              " 'thedividendispayableonfebruarytoshareholdersofrecordonjanuari',\n",
              " 'salesinfinlanddecreasedbyinjanuarywhilesalesoutsidefinlanddroppedbi',\n",
              " 'furthermorebungewillalsosignalicensingagreementforthesunnuntaiandcarlshamnmejeribrand',\n",
              " 'keskocorporationstockexchangereleaseatkeskocorporationandaspoplctodaysignedanagreementbywhichaspoacquiresthesharecapitalofkaukotelkoltdasubsidiarywhollyownedbykesko',\n",
              " 'luluoutlookqlostrevenueintherangeofmilliontomillionnotgood',\n",
              " 'mobilecommunicationandwirelessbroadbandprovidernokiaincnysenoktodaysetnewfinancialtargetsandforecastsfornokiaandthemobiledeviceindustryandalsofornokiasiemensnetworksandthemobileandfixedinfrastructureandrelatedservicesmarket',\n",
              " 'poyryplcadditionalinformationbyheikkimalinenpresidentandceopoyryplctelpoyryisaglobalexpertinconsultingandengin',\n",
              " 'danishcompanyflsmidthhasacknowledgedthatithasviolatedapatentheldbyfinnishmetso',\n",
              " 'amandacapitalhasinvestmentsinprivateequityfundsandinoverunquotedcompaniesmainlyineurop',\n",
              " 'netinterestincomewaseurmnupfromeurmn',\n",
              " 'jederbetatestererhltkostenlossechsmonatelangupdatesundhatlauteigeneraussagediemglichkeitdiefinaleversionzubeeinflussen',\n",
              " 'jpmorganexpectsthatscalawilllowernobelbiocaresgrowthforecastforfromthecurrentguidanceofpctaswellastheoperatingmargintargetfromthecurrentpct',\n",
              " 'avivapromiseshigherdividendstoboostflaggingsharepric',\n",
              " 'inadditionmidsarealwaysonlineandenablefullinternetbrows',\n",
              " 'fiskarshasastrongportfolioofinternationalbrandswhichincludefiskarsiittalagerbersilvaandbust',\n",
              " 'teslamodelxrecalladdstoreliabilityissuestslahttpstcojvxqdoxnp',\n",
              " 'thenameofthebuyerwasnotdisclos',\n",
              " 'netsalesofthevegetableoilbusinessrosetoeurmnfromeurmn',\n",
              " 'undertheagreementbenefonsforthcomingrangeoftwigintegratedgpsnavigationandmobilephonedeviceswillusethejointlydevelopedwebbasedtrackingandlocationtechnologyinbothconsumerandcommercialappl',\n",
              " 'followingthisincreasehuhtamakisregisteredsharecapitaliseurmandthenumberofsharesoutstandingi',\n",
              " 'thethreeyearturnaroundprogramisexpectedtoensuresalomonsfuturecompetitivenessthecompanysaid',\n",
              " 'intheautumnitplanstoexpandservicetostpetersburgandmoscowandlaunchservicetoyekaterinburgrussiaflyingtherethreetimesaweek',\n",
              " 'thecompanysprofittotaledlsinhdownyearonyear',\n",
              " 'thefederalsecretaryfortransportandcommunicationofmexicohasawardedpoyryanditsmexicanpartnersintraaconsultingcontractinconnectionwiththebuenavistacuautitlansuburbanrailway',\n",
              " 'fdaapprovesastrazenecadrugforadvancedlungcanc',\n",
              " 'theorderisincludedinmetsosfourthquarterorderbacklog',\n",
              " 'lieksaareoyhasearlierbeenregardedunderthecontrolofsaarelainenoyandtheindividualshareholdersundertheshareholderagr',\n",
              " 'ragutiswhichiscontrolledbythefinnishbreweryreportedapercentriseinbeersalestomillionlitresandheldanpercentmarketshar',\n",
              " 'mcprollingoverforanewintradaylowbottompickerscontinuetogetdestroy',\n",
              " 'thecompanyhasanannualturnoverofeurm',\n",
              " 'ithasbranchesinfinlandwithannualrevenueinfinlandof',\n",
              " 'theportfoliocomprisesofmofleasablespacewithavacancyrateofroughlylettoaroundtenantsofwhichtwoofthelargestaretheswedishgovernmentandericsson',\n",
              " 'wppboostssalesdespitecautiouscli',\n",
              " 'themediumtermoperativetargetsofthecompanyremainunchang',\n",
              " 'adpnewsfebfinnishretailerkeskooyjhelkesbvsaidtodayitstotalsalesexcludingvalueaddedtaxvatstoodateurmillionusdminjanuarydownyearonyea',\n",
              " 'consumershaveverywellreceivedourpackedfreshmeat',\n",
              " 'thecorrectedchapterisinitsentiretybelow',\n",
              " 'themajorpartofthedeliveriesincludedifferentacandcxeamplifiersolutionsandproductsbydinhtelecomacompanyacquiredbytelestelastspr',\n",
              " 'tietoenatoritselfusesnokiasintellisyncmobilesuiteswirelessemailcalendaranddevicemanagementcapabilitiesandthecompanywillnowextendtheseservicestoitscustom',\n",
              " 'itwillprovideheatingintheformofhotwaterforthesawmillsne',\n",
              " 'howeverthenetsalesdeclinedtoeurmillionfromeurbillion',\n",
              " 'inthesecondquarterofrautesnetlossnarrowedtoeurfromeurmillioninthesameperiodof',\n",
              " 'dgitechnicalalertsgilligansislandbuysetupstochasticbuysignallizardbullishhammercandlestickwidhttpstkscocnu',\n",
              " 'therecorddatefordividenddistributionismarch',\n",
              " 'ihinamovetoenhancegrowth',\n",
              " 'theebrdisusingitsownfundstoprovideamillionaloanwhilethebportionofmillioneuroshasbeensyndicatedtotwofinnishcommercialbanksnordeabankfinlandplcmillioneurosandpohjolabankplcmillioneuro',\n",
              " 'stockholmmarchaboutcybercomthecybercomgroupisahightechconsultancythatoffersglobalsourcingforendtoendsolut',\n",
              " 'hesaidhehasbeenlosingfivefamiliesamonthtotheeconomyasmanymakealternativearrangementstosavemoney',\n",
              " 'milanafxtheitalianshippinggroupgrimaldihasincreaseditsstakeinthefinnishcompanyfinnlinestopctfromthepctheldinjuneaccordingtonewsagencyansa',\n",
              " 'commentingonthedealshanelennonsvpofmarketingproductdevelopmentatgypsiisaid',\n",
              " 'externalnetsalesfromtheprintingbusinessfellbypartlyduetotheterminationoftheprintingcontractbetweenilkkayhtymasprintinghouseiprintoyandsectorplayerhssmediaabindecemberandthefallinprintingpric',\n",
              " 'thegroupintendstorelocatewarehouseandofficespaceinloudeacandsaintmarceltomorvillarsintheeastofthecountrywhereitalreadyoperatesahookmanufacturinganddistributionunit',\n",
              " 'thefirmisheadquarteredinvantaasouthernfinlandandhasemploye',\n",
              " 'atpmtheomxhelsinkiwaspctloweratandtheomxhelsinkiwasdownpctatonvolumeofmlneur',\n",
              " 'wearehonoredtoberecognizedbygartnerasaspecialistinbusinessprocessmodelingandanalysisinthecompanyofmanyofthelargestsoftwarevendorsintheworld',\n",
              " 'westpacbankingcorpistoissueabenchmarkyearfrndealineuro',\n",
              " 'includescompanyandbrandsharedatabycategoryaswellasdistributionchanneldata',\n",
              " 'forthenewsharessubscribedwithstockoptionsallshareholderrightscommencefromthedateonwhichtheyareenteredintothetraderegist',\n",
              " 'aaplpricemomentumweakeninggoingintotheclos',\n",
              " 'throughtheacquisitionsolteqwillexpanditssolutionsofferingbymicrosoftsdynamicsbusinesssoftwareproduct',\n",
              " 'thecompanysprofittotaledl',\n",
              " 'leedisaninternationallyrecognizedgreenbuildingcertificationsystemdevelopedbytheusgreenbuildingcouncil',\n",
              " 'howeveritsmarketshareshranktopercentfrompercentayearearli',\n",
              " 'talktalkhiresbaesystemstoinvestigatecyberattack',\n",
              " 'lookslikeitsbookingaonewaytickettoitsweekmanearlosingweekhereluluhttpchartlyxbhb',\n",
              " 'ftseledlowerbymsglaxosmithklin',\n",
              " 'theexercisepriceoftheoptionwillbebasedonsafransoftwaresolutionslicenseandmaintenancesalesaswellastheresultofthecompani',\n",
              " 'fullyearoperatingresultforwasmillionneg',\n",
              " 'thecompanysaidproductionvolumessofarindicatethecircuitiscapableofthetargetedoutputrateoftonnesperdayormilliontonnesayear',\n",
              " 'junboygeniusreportdeliveredbynewstexthenokianysenoknhuh',\n",
              " 'wehavecomeoutwithadecisionwhichisbasedonourpreliminaryeconomicoperationalandenvironmentalfindingskarvinensaid',\n",
              " 'thenewmajorityownersofaspocompthailandcoltdarecertainprivatepersonsbelongingtoimmediatecircleofaspocompspresentjointventurepartnersahapathanainterholdingplc',\n",
              " 'somemlneuromlnofthebaseacquisitionpricewillbepaidincashandtherestthroughasubscriptionofferingofatotalofnewixonosshar',\n",
              " 'establishedinthesrvgroupisaprivatefinnishconstructionconcernwithoperationsinfinlandthebalticcountriesandrussia',\n",
              " 'thebusinesssectionalsoincludesahlstromssustainabilityreport',\n",
              " 'lemistecityistheenvironmentforaknowledgebasedeconomyprovidingworkforpeoplewiththetotalturnoverofitscompaniesamountingtoeekbnsaidloprnitschairmanofthesupervisoryboardoflemistecityandmainor',\n",
              " 'jacobshasbeensupportingstorengysinvestmentofdevelopingstoragesitessinceasownersengin',\n",
              " 'thecompanyhadearliersaidthatitwasconsideringdifferentstrategicoptionsforthestrugglinglowcostmobileoperatorincludingadivestmentofitshold',\n",
              " 'sainsburysasdatescoandmorrisonswillallcutpetrolpricesasoilfal',\n",
              " 'barclayssellsbenchmarkindicesunittobloomberg',\n",
              " 'operatingprofitinthefourthquarterfelltoeurmfromeurmayearearli',\n",
              " 'finnishforestrycompanyupmkymmeneandwastemanagementcompanylassilatikanojasaidonjantheywereplanningtoproduceethanolandenergyfromcommercialandindustrialwast',\n",
              " 'ismsdoesnotdiscloseitsfinancialresultsthedailysaid',\n",
              " 'thecontractcoversthemanufacturingsurfacetreatmentandinstallationofthesteelstructur',\n",
              " 'finnishmetalindustrysolutionssupplieroutotecoyjnetprofitrosetomlneuromlnforthefirstninemonthsoffrommlneuromlnforthesameperiodof',\n",
              " 'underthedealknowitwillpaysekmusdmeurmincashandstock',\n",
              " 'forthefirstninemonthsofthecompanysnetprofitrosetoeurmfromeurmforthecorrespondingperiodof',\n",
              " 'aapldmaturnedupmacdcrossoverahalfahairawayontheweeklyeodbreakoutlik',\n",
              " 'protalixhasmillionincashandnosal',\n",
              " 'thatbearishoutsidedaytuesdayissignificantdayresistancestillintactjustmyopinionsdshttpchartlybeyt',\n",
              " 'allrightsreserv',\n",
              " 'itwillbeoperatedbynokiaandsupportedbyitsnokianetactnetworkandservicemanagementsystem',\n",
              " 'mrpriitkasakbaltimetsamasinasownersaidtherakverebasedcompanywishestoincreasevalmetsmarketsharefromtoathirdinacoupleofyear',\n",
              " 'shireseesbaxaltadealclosingasexpectedafternewrul',\n",
              " 'sainsburycforogerstoreplacehomeretailceowalden',\n",
              " 'marathonnowhasapercentstakeinplxitsaidaccordingtobloomberg',\n",
              " 'simmonselecteddcucchairmanportsmouthnhgordonasimmonsceoofservicecreditunionhasbeenelectedchairmanofthedefensecreditunioncouncilfortheterm',\n",
              " 'sanomanewsadvertisingsalesdecreasedbyduringtheyear',\n",
              " 'pharmaceuticalmarketinczechrepublicglobalresearchdataservicespublishedrecentlyamarketanalysisaboutthepharmaceuticalmarketsinczechrepubl',\n",
              " 'finnishconstructioncompanyyitisreducingthenumberofstartupsofmarketfinancedresidentialunitsintoaboutfromthepreviouslyannounc',\n",
              " 'cashflowfromoperationsforthemostrecentquarteralsoreachedaeightyearlow',\n",
              " 'tietoenatorwasdownpcttoextendingrecentlowsafterlastweekssecondquarterreportdealerssaid',\n",
              " 'themaritimeadministrationsaidtheshipshadignoredwarningsabouttheicycondit',\n",
              " 'synergypharmasoarstodayonpositivephaseresultssgyphttpstkscojawg',\n",
              " 'operatingprofitrosetoeurmnfromeurmninthecorrespondingperiodin',\n",
              " 'makingmattersmoredifficultthecompanysaidithasbeengrapplingwithhigheroilandgaspriceswhichhavepushedupthecostofenergyrawmaterialsandtransport',\n",
              " 'vrtxvertexmonthlylowerhilowerlolongtermuptrendintractsofar',\n",
              " 'financialdetailswerenotdisclos',\n",
              " 'theseincludesoftwaredevelopmentforinternetandmobiletelephonecontentcommunicationsvalueaddedsoftwarefinancialservicessecurityapplicationssystemsintegrationandelectronicsebrdinform',\n",
              " 'yitlodgedcounterclaimsagainstnesteoiltotalingsomeeurmprimarilybasedonworkcarriedoutunderthecontractandadditionalcostsincurredduetoprolongationoftheproject',\n",
              " 'shouldyoufollowberkshirehathawayintoapplestock',\n",
              " 'thetotalamountofsubscriptionpriceswasrecordedinthefundforinvestednonrestrictedequ',\n",
              " 'tslathwavedownonthehourcharthammercandledevelopingclosetosmamightbeagoodspotforcal',\n",
              " 'strongestgrowthwasseeninthenewmarketsinrussiatheczechrepublicandslovakia',\n",
              " 'thetowersengineershavecreatedandegreewestwardleanfourtimestheinclinationontheleaningtowerofpisausingdiagridstructuresthatarealignedgeometricallyusingteklastructuresbimbuildinginformationmodelingsoftwar',\n",
              " 'amerwhichboughtsalomonfromadidasinoctobersaidthejobcutsareaimedatboostingcompetit',\n",
              " 'acandoabacanbssfellpercenttokronorthelowestclosesincedec',\n",
              " 'withthemeasuressuominencorporationaimstoensurethecompetitivenessoftheflexiblepackagingbusinessinthelongterm',\n",
              " 'ifhedieshediesbullhornzngashortsaregettingnerv',\n",
              " 'thefinancialstatementsreleasewillbeavailableafterpublishingonthecompanysinternetpagesatwwwcargoteccom',\n",
              " 'theworldofglassiscomingtoegyptandweinvitevisitorsfromallaroundtheworldtoattendglassworldexhibitionregisternowatwwwglassworldexcom',\n",
              " 'comparableoperatingprofittotaledeurmndownfromeurmninthecorrespondingperiodinrepresentingofnetsal',\n",
              " 'mostoftherawmaterialscomefromeuropeandtheusandarepaidineurosorusdollarswhilesalestakeplaceinrubl',\n",
              " 'adpnewsmayfinnishcutleryandhandtoolsmakerfiskarsoyjabphelfisassaidtodayitsnetprofitdeclinedtoeurmillionusdminthefirstquarteroffromeurmillioninthecorrespond',\n",
              " 'amaximumofnewsharescanfurtherbesubscribedforbyexercisingboptionsunderthestockoptionplan',\n",
              " 'itinspectsthecompanysstrategicstrengthsandweak',\n",
              " 'noplannedclosingdatewasprovid',\n",
              " 'thelemminkainengroupheadquarteredinhelsinkifinlandoperatesinallsectorsoftheconstructionindustrycivilengineeringbuildingcontractingtechnicalbuildingservicesandthebuildingmaterialsindustri',\n",
              " 'theimplementationofthedealissubjecttotheapprovalbythefinnishcompetitionauthor',\n",
              " 'microsoftalsochurnedupitscourtshipagreeingtousethenavteqmappingservicewhichisofferedbyacompanynokiaboughtforbillionafewyearsago',\n",
              " 'thegeosolutionsteamfurtherprovidesanintriguingnewtechnologycombininggpsandmobilebasedtechnologiestogetherwithinternetbasedsocialnetwork',\n",
              " 'thecexpoisasignatureshowindongguanwhichissupportedbythedongguanmunicipalgovernmenteveryyearfeaturingcomputeraccessoriessoftwarecommunicationandnetworkproduct',\n",
              " 'pharmaceuticalspolandthisbrandnewmarketanalysisgivesaclearoverviewoftheactualsituationandfutureoutlookofthepharmaceuticalmarketinpoland',\n",
              " 'tradinginthenewshareswhichhaverighttodividendsandotherdistributionsoffundswillstartontheexchangeinhelsinkitomorrow',\n",
              " 'thedualfuelenginesofthevesselcanoperateonliquefiednaturalgaslngwithlowemiss',\n",
              " 'amongotherfinnishsharestradedintheusstoraensoclosedpctlowerateurupmkymmenewasuppctateurandmetsowasdownpctateur',\n",
              " 'inadditiontothepresentationsheldbypresidentceokaitelanneandcfotuomasitkonenparticipantswillhaveanopportunitytodiscusswithothermembersofthecompanysmanag',\n",
              " 'thechangeinholdingsinaccordancewithchaptersectionofthefinnishsecuritiesmarketsactisdescribedbelow',\n",
              " 'withcapmanasapartnerwewillbeabletofurtherdevelopourbusinessandcontinuetofocusonprovidingqualityrestaurantservicesforourcustomerssayschristopherwynneceoofpapajohnsrussia',\n",
              " 'thecraneswouldbeinstalledonboardtwofreightersorderedbysingaporeanshipownermasterbulk',\n",
              " 'thebusinesstobedivestedgeneratesconsolidatednetsalesofeurmillionannuallyandcurrentlyhassomeemploye',\n",
              " 'adpnewsfebfinnishrealestateinvestorspondaoyjhelsdavsaidtodaythatitslippedtoanetlossofeurmillionusdminfromaprofitofeurmillionin',\n",
              " 'thecompanywhichhaseurbninassetscountsamongitsfivelargestshareholdersfinnishinsurersilmarinenandvarmaaswellasthefinnishstatepensionfundv',\n",
              " 'inadditionafurtheremployeescanbelaidoffuntilfurthernoticeandthewholeworkforcecanbelaidoffforshortperiodsifneed',\n",
              " 'chessnwineiwmminutechartsmallcapsthreateningdescendingtrianglebreakdownunderhttpstkscorkkm',\n",
              " 'corporateitupdatecmcommunicationsltdfinnishtechnologygrouptelestecorporationomxhelsinkitltvreportedonwednesdayfebruaryanoperatingprofitofeurmonnetsalesofeurmfortheyear',\n",
              " 'stockholmbasednordeabankstondasaidyesterdayithadhiredcaspervonkoskulltoleaditscorporatemerchantbankingandcapitalmarketsuniteffectiveseptemb',\n",
              " 'thetotalneedforstaffcutscorrespondstoaboutmanyear',\n",
              " 'finnishfibersandplasticproductsmakersuominencorporationsaiditsnetlossnarrowedtomlneuromlninthefirstninemonthsoffrommlneuromlninthesameperiodof',\n",
              " 'companiesfresnillosharesjumpassilverpricebreak',\n",
              " 'bluewinsecurityisavailableasamonthlysubscript',\n",
              " 'operatingprofitwaseurmnupfromeurmn',\n",
              " 'finnishraisiodiagnosticsislaunchingnewdnabasedquickteststoensurethesafetyoffood',\n",
              " 'thenonrecurringcostscausedtotalentumspremediabusinessareabytherestructuringwillamounttomlneuromlnandwillbeincludedinthecompanysfinancialresultsforthesecondquarterof',\n",
              " 'finnishsoftwaredeveloperbaswareoyjsaidonnovemberitsussubsidiarybaswareincwonanordertoprovidesoftwareforcontractlifecyclemanagementtoanunnamedusmedicaltechnologycompani',\n",
              " 'thechainistounitecentresbytheendof',\n",
              " 'theimportantthingnowistokeepthebanksexistingcustom',\n",
              " 'thepricesofstainlesssteelalsoroseineurop',\n",
              " 'inswedengallerixaccumulatedsekdenominatedsalesweredownandeurdenominatedsaleswereup',\n",
              " 'isrgisrgshorthttpstkscofvvuhttpstkscocqrm',\n",
              " 'darabreakingout',\n",
              " 'atotalofnewcityconshareswithanominalvalueofeurpershareweresubscribedonaprilexercisingtheabcoptionsbasedonthecompanysstockoptionplan',\n",
              " 'aaplimsurethoseshortareholdingtheirbreathhopingforamiraclelol',\n",
              " 'managementdecidedattheendoftoincreasecathodecoppercapac',\n",
              " 'imagedataproducedbythebrowseratthephoneserverisconvertedintoabitmappedimagethatissenttothehandsetfordisplay',\n",
              " 'shiresaysinternalsynergygoalsfrombaxaltadealhigh',\n",
              " 'oneofthelargestprojectsofthemagazinedivisionofsanomawsoysanomamagazinesinternationalinbecamelaunchoftherussianmagazinegloriya',\n",
              " 'finnishairlinefinnairisstartingthetemporarylayoffsofcabincrewsinfebruari',\n",
              " 'thesellerswerethefoundersofthecompani',\n",
              " 'foodserviceandconsumergoodsmarketsareservedbyapproximatelypeopleinmanufacturingunitsandseveralsalesofficesincountri',\n",
              " 'theacquisitiondoesnothavetobefromthefrozenfoodsorfishsectoraslongasithassynergieswithlnnentehtaatsotherbusi',\n",
              " 'gnrcfindingsupportatitsdaylinesofar',\n",
              " 'underthetransactionagreementmetsaliittowillpurchaseofmetsabotniassharesfromupmandfrommr',\n",
              " 'britainsftsefallsbackwithashteadcommoditiesunderpressur',\n",
              " 'salesbyseppaladiminishedbyperc',\n",
              " 'bbrybyebyesammyhellobbsoundslikewellseesomegreentomorrow',\n",
              " 'ascapacitywascutwiththepassengerloadfactorwasdownpercentagepoint',\n",
              " 'rockwellcollinsisaproviderofflightdeckcabinandinformationmanagementsolutionsforbusinessaircraftoper',\n",
              " 'thefloorareaoftheyliopistonrinneprojectwillbesqmandthebuildingsgrossareawilltotalsqmatotalofthefacilitieshavebeenlet',\n",
              " 'nflxvisionshorttermconsolidationthenmovementhigherhttpstkscojuu',\n",
              " 'theodosopoulossaidtellabscouldbeofvaluetonokiasiemensornortelgivenitsleadingsupplystatuswithverizonalongwithhighgrowthproduct',\n",
              " 'inhiscurrentpositionmantyhasworkedsinc',\n",
              " 'withthenewproductionplantthecompanywouldincreaseitscapacitytomeettheexpectedincreaseindemandandwouldimprovetheuseofrawmaterialsandthereforeincreasetheproductionprofit',\n",
              " 'analystviewsastrazenecashareshaveseenrecentvolatilitywhatwil',\n",
              " 'earningspershareepsdroppedtoeurfromeur',\n",
              " 'afterthetransactiontikkurilahasnopowdercoatingsrelatedoperationsthecompanysaid',\n",
              " 'arearmholdingsplcdominospizzagroupplcandasosplcmusthavegrowthstock',\n",
              " 'pearlplazallcthejointventureofsrvandshanghaiindustrialinvestmentholdingscoltdhasconcludedtheinvestmentdecisiononconstructionofthefirstphaseoftheshoppingcenterinsaintpetersburgrussia',\n",
              " 'themeasuresresultfromdecreaseddemandintechnicaldesignandproductinform',\n",
              " 'finnishfinancialgroupaktiareportsoperatingprofitofeurmninjanuaryseptemberupfromeurmninthecorrespondingperiodin',\n",
              " 'keypricetowatchinnflxoffthepreviousdoubletoprejecthttpstkscosiyn',\n",
              " 'finnishglasstechnologycompanyglastonoyjabpnetprofitdecreasedtomlneuromlnforthefirstninemonthsoffrommlneuromlnforthesameperiodof',\n",
              " 'cityspiritssinkafterdiageocomesupshortwithsalesslid',\n",
              " 'operatinglossincreasedtoeurmnfromalossofeurmnin',\n",
              " 'alexandriavajunemichaelgwilliamsofnewburyparkcalifhasdevelopedanetworkdevic',\n",
              " 'olvihaspostedastrongsetoffiguresforthefirstsixmonthsofthisyear',\n",
              " 'stanchartandrbsstruggleinbankofenglandstresstest',\n",
              " 'inthebeginningofthisyearwartsilahadsecuredanordertodeliverfourgasfuelledmainenginesandpropulsionmachineryforthesamevessel',\n",
              " 'injanuarynovemberthegroupssalestotalledeurmnwhichwasadropoffromthesameperiodof',\n",
              " 'glaxosmithklinetargetsgrowthacrossunitsscrapsviivipo',\n",
              " 'bhpbillitonsharepricebraziltosuesamarcoforbn',\n",
              " 'itcomescompletewithanlcdtouchscreensystemforselectionofyourchosenfunctionandpricesstartataroundthepoundsmark',\n",
              " 'revenueinthequarterfellpercenttoeurobillioncomparedtoayearearli',\n",
              " 'afterthesplitthecompanywouldhaveseriesasharesandserieskshar',\n",
              " 'alecoqspecialwasdevelopedforthebicentenaryofthecompanyandthetrademarkthebrewersaid',\n",
              " 'arcelormittalchiefexecutiveofficerlakshmimittalhasalreadycutoutputatsomefurnac',\n",
              " 'operatingprofitfelltoeurmnfromeurmnin',\n",
              " 'thebridgeispartofthehighwaydevelopmentproject',\n",
              " 'keskoagrolietuvatheagriculturalmachineryandgraintraderandanothermemberofthekeskogroupboosteditssalesbypercenttomillioneurosvatinclus',\n",
              " 'adpnewsdecfinnishcutleryandhandtoolsmakerfiskarsoyjabphelfisassaidtodaythatitwillmakeredundantatotalofofficeandmanagementstaffmembersofitssubsidiaryiittalagroupltd',\n",
              " 'metsofoundriesjyvaskylaoywilldiscontinueproductiononthislinebyseptemb',\n",
              " 'thesalepricewasnotdisclos',\n",
              " 'helsinkiafxretailandwholesalegroupkeskoreportednetsalesofmlneurforfebruaryanincreaseofpctyearonyear',\n",
              " 'infebruarynewwordingofidentitydocumentsactthatmakesmobileidastateapprovedelectronicdocumentasoffebruarystenteredintoforc',\n",
              " 'anttiorkolapresidentofkemiragrowhowsindustrialsolutionsunittoldthomsonfinancialnewsthecompanyhasputoffopeningthemineaspricesofphosphatehavebeenquitedepressedforalongtim',\n",
              " 'yourenotalon',\n",
              " 'februaryfinlandbasedsteelmakerrautaruukkioyjhelrtrksorruukkisaidtodayitslippedtoalargerthanexpectedpretaxlossofeurminthefourthquarteroffromayearearlierprofitofeurm',\n",
              " 'thesaleofsavcorfacetocencorpwillresultinaprofitorlosswhichcannotyetbedeterminedowingtofactorsincludingthevaluationoftheconsiderationsharestobereceivedandprevailingexchanger',\n",
              " 'theacquisitionoflandsbankensverigeinburdenedtheperformancewitheurmn',\n",
              " 'itisthefirstapplicationinthemarketforinvoiceandpurchaserequisitionapprovalwithamobiledevic',\n",
              " 'ahelsinkieliivtodayreportedepsofeurforanincreaseoverepsofeurin',\n",
              " 'easyjetdismisseslufthansalowcostplanincontestforgermani',\n",
              " 'ordersreceivedgrewbyyearonyeartoeurm',\n",
              " 'injanuaryaugustimportsbyseaincontainerlorryandtrailerunitsfellbyandexportsbyfromthecorrespondingperiodin',\n",
              " 'finnishbroadbanddatacommunicationsystemsprovidertelesteoyjheltltvsaidyesterdayitreturnedtoanetprofitofeurmillionusdmforthefirstninemonthsofversusanetlossofeurforthesameperiodof',\n",
              " 'adpnewsdecnorwegianfinancialservicesgroupsparebankgruppenasoslsbgrpsaiditsboardofdirectorsappointedtodayjarlehaugmanagingdirectorofitsclaimscollectionsubsidiarysparebankgruppenfinan',\n",
              " 'finnishownedcontractmanufacturerofelectronicselcoteqhungarykfthasannouncedplanstorecruitmorethannewstafferstofulfillnewordersinpcswherethecompanyhastwopl',\n",
              " 'atpmtheomxhelsinkiindexwaspctlowerat',\n",
              " 'nyrstarhasalsoagreedtosupplytotalvivaarauptotonnesofsulphuricacidperannumforuseintalvivaarasleachingprocessduringtheperiodofsupplyofthezincinconcentr',\n",
              " 'aprilfinnishconstructionandengineeringcompanyoutotecoyjhelotevsaidtodayitslippedtoanetlossofeurminthefirstquarteroffromanetprofitofeurminthecorrespondingperiodlastyear',\n",
              " 'revenuewasslightlydownatxacmillionmillioncomparedtoxacmillionayearearli',\n",
              " 'rtdasantmtanalystsinceaaplmasteredtheirsupplychainincorneringnandapplemasteredeveryonessupplychain',\n",
              " 'poyrysnetsalesinamountedtoabouteurmillionanditemploysexpert',\n",
              " 'theadjustmentsconcernstaffinboththespecialtypapersandthefibercompositesseg',\n",
              " 'accordingtothenotificationtheholdingsofameripriceincanditsgroupcompaniesarenowintotalshareswhichrepresentofteklassharesandvotingright',\n",
              " 'applebreaksmajorsupportherearesomelevelstowatchhttpstkscojrmwaaplqqq',\n",
              " 'royalmailchairmandonaldbrydonsettostepdown',\n",
              " 'italsoconfirmeditsearningsguidanceforthewholeissuedinitsreportforthewhol',\n",
              " 'theirofferingalsocoverslocalisationservicesrelatedtoproductiontransfertothefinnishcompanyscustomersthatalreadyhaveproductioninasianmarketorhavemadethedecisiontotransferproductionther',\n",
              " 'dbsjuliusbaeremergeaspotentialbiddersforbarclaysasiawealthunit',\n",
              " 'thefairvalueofinvestmentpropertieswaseurmillion',\n",
              " 'companiestravisperkinsliftsdividendearningsris',\n",
              " 'okmeticsproductsarebasedonhightechexpertisethatgeneratesaddedvalueforcustomersinnovativeproductdevelopmentandanextremelyefficientproductionprocess',\n",
              " 'comparableoperatingprofittotaledeurmndownfromeurmninthecorrespondingperiodinrepresentingofnetsal',\n",
              " 'theequipmentisdesignatedtobolloreafricalogisticsterminalsocietedexploitationduterminaldevridisetvinabidjanivorycoastandthedeliveryisscheduledtostartinmarch',\n",
              " 'telesteshybridtvsolutionincludescomponentsforthewholeprocessofdeliveringvideoservicestoconsumersfromcontentacquisitionandservicecreationtodeliverythrougharangeofaccesssolutionsincludinghfchybridfibrecoaxialxdsletthandftth',\n",
              " 'inthecompanysnetsalesamountedtoapproximatelyeurmandithassomeemploye',\n",
              " 'newnovatorproductsaresupposedtobeexport',\n",
              " 'elcoteqhasaglobalnetworkofaftermarketservicesiteswhichhavealongexperienceinservingconsumerelectronicsandsystemssolutionscustom',\n",
              " 'finnishcomponentsuppliercomponentacorporationomxhelsinkicthvreportedontuesdayjulyanoperatingprofitofeurmonnetsalesofeurmforthefinancialperiodjanuaryjun',\n",
              " 'savebreakingitsdowntrendlineonincreasingvolumeamoveabovecouldseemoreupsidehttpstkscoli',\n",
              " 'theofficialopeningoftheofficelocatedinpraguewillbecelebratedonmay',\n",
              " 'appleanotherattempttobreakoutonapplebutwithweakpvtaapltradinginvestingaaplhttpstcodnhhgvv',\n",
              " 'italsoturnedtoearningspershareepsofeurversuslosspershareofeur',\n",
              " 'completionofthetransactionissubjecttoafinalagreementandaduediligenceprocess',\n",
              " 'morrisonsfinancechieftofillgapasceoleavesearli',\n",
              " 'earningspershareepsamountedtoeurupfromthelossofeur',\n",
              " 'tiimarioperatesstoresinsixcountriesincludingitscorefinnishmarketandgeneratedaturnoverofmlneurin',\n",
              " 'changesbeingannouncedtodaywillbeeffectiveafterthecloseoftradingonfridayjun',\n",
              " 'accordingtochairmanmichaelhornborgtheorganizationshasmerelycriticisedraisiosweakperform',\n",
              " 'baesystemsssalesboostedbyeuropeantyphoonandcurr',\n",
              " 'honkarakennealsodecidedyesterdaytosellofitsbseriessharestokeystaffmembersforeurpershar',\n",
              " 'toraiseconsumerawarenessandencouragepeopletorecycletheiroldmobiledevicesnokiarunsregularrecyclingcampaignsaroundtheworld',\n",
              " 'inthebalticsthemergerofthebusinessesofthetwoisexpectedtobecompletedinearli',\n",
              " 'tietowaslookingforanenergysolutionwhichwouldbestsupporttheideaofsustainabledevelopmentandwewerehappytobeabletoprovidesuchasolutionsaysjounihaikarainenvicepresidentfortum',\n",
              " 'expenseratiowascomparedtointhecorrespondingperiodin',\n",
              " 'stockmannplccompanyannouncementfebruaryatanannualsummaryofstockmannsstockexchangeandfinancialpressreleasesinisavailableonthecompanyswebsiteattheaddresswwwstockmanncom',\n",
              " 'hopeturockyestheexpectationsofadealaresomewhatpricedinbutwecouldseeanicepopifbidscomeinhigherthanexpectedyhoo',\n",
              " 'aapldipsbeingboughtuprealquickhigherlowsfosho',\n",
              " 'operatingprofitforcontinuingoperationsfelltoeurmnfromeurmninthefirsthalfof',\n",
              " 'baswaresceoilkkasihvocommentsinconjunctionwiththeinterimreportasawholebaswaresucceededwellinthesecondquarterof',\n",
              " 'snasdaqomxgeovgypsiibusinessunitdevelopersoftheawardwinninggypsiimobilesocialnetworkingapplicationtodayannounceditsavailabilityasafreedownloadviathesamsungmobileapplicationsstor',\n",
              " 'imtryingtodealwithslaveryfromadifferentperspectivetobalancethestorysaysderamusformerlyawriteratthedetroitfreepressandthedetroitnew',\n",
              " 'comparedwiththeftseindexwhichrosepointsoronthedaythiswasarelativepricechangeof',\n",
              " 'whyalphabetincwasjustupgradedtobuyhttpstcodevnlkhqtzgoogl',\n",
              " 'allofraisiosdivisionsrecordedanoperatingprofit',\n",
              " 'theannouncementcomestwoweeksbeforeakeylicensingagreementexpiresbetweenbetweenthetwocompanieswhichareembroiledinadisagreementoverroyaltypaymentsfortexasinstrumentchipswhichusequalcommpatentedtechnolog',\n",
              " 'thesharecapitalofalmamediacorporationbusinessidiseuranditisdividedintoshar',\n",
              " 'theforecastfori',\n",
              " 'thehullofthevesselwasbuiltoneblockatatimeandruukkideliveredtheplatematerialforeachblockasconstructionprogress',\n",
              " 'operatingprofitwaseurmnincomparedtoeurmnin',\n",
              " 'thereasonforthisisstpetersburgstatusasacapitaloneoftheparticipantsinthemeetingquotedchikunovassay',\n",
              " 'uponcompletionofthesaleprohawouldgetsomeusdmforitsstakeinartemi',\n",
              " 'buffettsberkshirebuildsdeerestakedumpsexxon',\n",
              " 'lastyearsnetsalesrosetoeurmillionfromeurmillion',\n",
              " 'earningspershareforthequarterwerealsohigheryearonyearateurversusandabovemarketexpectationsofeur',\n",
              " 'finnishtalvivaaraminingcoheltlvvsaidthursdayithadpickedbofamerrilllynchandjpmorgannysejpmasjointbookrunnersofitsplannedissueofconvertiblenotesworthuptoeurmusdm',\n",
              " 'mxwlohsnapjustwentlongagainlt',\n",
              " 'operatingprofitdecreasedtoeurmnfromeurmn',\n",
              " 'panostajaheadquarteredintamperefinlandisaninvestmentcompanyfocusingonsmallandmediumsizedfinnishcompaniesoperatinginthetraditionalindustri',\n",
              " 'thecorrespondingincreaseinthesharecapitalintotaleurwasregisteredinthefinnishtraderegisteronmay',\n",
              " 'capmanplcpressreleasemarchjukkaruuskapresidentoftheomxnordicexchangesandthestockholmstockexchangewilltransfertocapmaneffectivenolaterthanseptemb',\n",
              " 'thedismissedstaffmemberswillnowtakethemattertocourtunlessitcanbesettledoutsid',\n",
              " 'accordingtofinnishpetrolstationchainstsmanagingdirectorkimwiiothecompanywasforcedtomakepurchaseswithrisingpricesinthefirsthalfofandnowconsumerpricesaregoingdownalmostdailyduetocompetit',\n",
              " 'weknowtherearesomeofourownpeopleoutther',\n",
              " 'themetalhasgainedpercentthisyearasdemandfromchinatheworldslargestuserincreas',\n",
              " 'thisisamuchbetterprocessthanusingvirginpaperasitrequireslesstransportationofwoodpulpfromplaceslikefinlandandcanada',\n",
              " 'revenuewasslightlydownatxacmillionmillioncomparedtoxacmillionayearearli',\n",
              " 'followedthelevelsisharedwithyouonnflxgoogltslacallsfornicegainsstillholdingfbcallsweekmadeinamorn',\n",
              " 'thecompanywillenhancethegprscapabilityintheexistingideatelecomserviceareasandaddmoreserviceareastoitsnetwork',\n",
              " 'withthenewarrangementcustomerresponsibilitieswillbecomemainlyregion',\n",
              " 'thesalewillresultinacapitallossofeurmforsolidiumwhichobtainedtikkurilasharesinmarch',\n",
              " 'thestudyevaluatedthesafetytolerabilityandpharmacokineticsofrepeateddosesofintravenouslyadministeredantibodyinpatientswithactiveplaquepsoriasi',\n",
              " 'followingtheregistrationthenumberofissuedandoutstandingsharesofbaswarei',\n",
              " 'inthesecondquarterofthegroupspretaxlossnarrowedtoeurfromeur',\n",
              " 'thefinlandbasedcompanysaysitwillmoveintoanexistingsquarefootfacilityinseptemb',\n",
              " 'thecompanyisnowwithdrawingthesecondparteurmnoftheinvestmentcommit',\n",
              " 'finnishprintedcircuitboardspcbsmakeraspocompgroupoyjsaidondecemberitnamedhenrygilchristseniorvicepresidentofthegroupsasianoperationsasofjanuari',\n",
              " 'herecometheshortsmarchiningmcrlovinit',\n",
              " 'grapevinecityofficialsinseptemberapprovedmillionintaxrebatesandgrantsfortheexpans',\n",
              " 'spondaplanstorenovateoldrealestateanddevelopnewproperti',\n",
              " 'frommerisatamatothefarcornersoftheworldasfalttiosakeyhtilemminkinenwasestablishedinbyagroupofmasterbuildersinhelsinkiasaspecialistbusinessandsubcontractor',\n",
              " 'austintexassepttexasdepartmentoftransportationawardscontractfortelestevideocompressionanddistributionequip',\n",
              " 'thetransactionvalueiscadmillionapproximatelyeurmillion',\n",
              " 'withtheextensionofthenewcontractforafurthereightenginestheplantwillnowproduceovermwitsaid',\n",
              " 'storaensowillreceiveapctequityinterestinthecombinedcompani',\n",
              " 'beefimportsfellslightlyfromtomnkilo',\n",
              " 'weserveabroadrangeofcustomersincludingconstructionandprocessindustriesshipyardsthepublicsectorandhousehold',\n",
              " 'kndiletsseesomehigherhighsandhigherlowsrestofthedayslowandsteadi',\n",
              " 'finnishelectronicsmanufacturingservicesemscompanyelcoteqsepostedanetlossofmlneuromlnforthefirsthalfofcomparedtoanetprofitofmlneuromlnforthesameperiodof',\n",
              " 'thenitsaidthecontractwasestimatedtocontributemorethaneurmtoitsnetsalesin',\n",
              " 'nofinancialdetailswerereport',\n",
              " 'balfourbeattyplcsettoreinstatedividendandrivalnationalgridplcandcentricaplconcemor',\n",
              " 'vikinglinescargorevenueincreasedbytoeurmnandcargovolumeincreasedbytocargounit',\n",
              " 'finnishpowercompanyfortumreportsofitselectricitywasgeneratedwithoutcarbondioxideemissionsin',\n",
              " 'cargoteccorporationpressreleaseaugustatamfinnishtimecargotecsmacgregorbusinessareaprovidingmarinecargohandlingandoffshoreloadhandlingsolutionshasreceivedsignificantoffshorecraneretrofitord',\n",
              " 'thechangewilloptimizetheoperationalefficienciesofourgrowingbusinesssaidjuliaprohaskadirectorofmarketingcommunicationsforfiskar',\n",
              " 'helsinkimayfinnishcompanylemminkainenoyjhellemssaidtodaythatitwillconstructanofficebuildingattoolonlahtiindowntownhelsinkiwithoutdisclosingfinancialdetail',\n",
              " 'theadditionalflightlinkingmumbaiwithhelsinkiwasdictatedbythestrongtrafficdemandbetweenasiaandeurop',\n",
              " 'thewhitehallstreetrealestatefundsinvestinrealestateandrealestaterelatedassetsprincipallythroughtheacquisitionofrealestatecompaniesrealpropertyandmortgageloan',\n",
              " 'helsinkithomsonfinancialmrealsaiditwillexerciseanoptiontobuyamwnaturalgaspowerplantandlandinkyroskoskifinlandforaroundmlneurfromkyrooyj',\n",
              " 'incapcontractmanufacturingservicesprivatelimitedhasinkedagreementswithsixnewcustomersinindia',\n",
              " 'glencorefightbackoverdebtfearsliftsshar',\n",
              " 'fbslightgreenmayberunnerlat',\n",
              " 'telestehassomeofficesworldwideandislistedonthenordicexchangeinhelsinki',\n",
              " 'almamediasoperatingprofitamountedtoeurmndownfromeurmnayearearli',\n",
              " 'withthisthecompanywillexitthecontractmanufacturingserviceseg',\n",
              " 'suomenpaikallissanomatoyispartofalmamediagroupanditcurrentlypublisheslocalnewspapersacrossfinland',\n",
              " 'thecompanynegotiatedanamendmenttothefinancialcovenantsofthepresentcreditagreementsinregardtothesituationonseptemb',\n",
              " 'paychexhasmorethanofficesservingapproximatelypayrollclientsnationwideasofmay',\n",
              " 'netsaleshavebeeneatenbytheweakusdollar',\n",
              " 'adpnewsdecfinnishinvestmentgroupneomarkkaoyjhelnembvsaidtodaythatitwillfurloughemployeeinitsunitrekacablesltdforlessthandaysstartinginjanuari',\n",
              " 'finnishforestmachinerymanufacturerponssehasissuedaprofitwarn',\n",
              " 'filmiteollisuusfineabwillbetransferredtotalentumoyjintheformofasubsidiari',\n",
              " 'ollipekkalainehasbeenappointedasthechairmananderkkipehulehtonenasthevicechairmanoftheboard',\n",
              " 'affectohasparticipatedintheprogramforthedevelopmentofthenorwegianpensionsystemsinc',\n",
              " 'itestimatestheoperatingprofittofurtherimprovefromthethirdquart',\n",
              " 'prohaplceuronextannouncedtodaymaythatitsfullyownedsubsidiarysafransoftwaresolutionsashasagreedtosellitsshareofsafrannorthamericallctoasnaholdingasaninvestmentgroupbasedinnorway',\n",
              " 'tescosalesrecoverasfocusreturnstocorebusi',\n",
              " 'howeverthecompanysawitsnetprofitforthethirdquarterdowntoeurmillionfromeurmillionforthecorrespondingperiodof',\n",
              " 'theproductionistobeliquidatedbeforejuneandemployeesloosetheirjob',\n",
              " 'danskebankisdenmarkslargestbankwithmillioncustom',\n",
              " 'protalixclosedatonfridayontheamericanstockexchangegivingamarketcapofmillion',\n",
              " 'netsalesdecreasedtoeurmnfromeurmninthecorrespondingperiodin',\n",
              " 'themostinterestingexportmarketswillberussiathebalticcountriesandscandinavia',\n",
              " 'theactionsareexpectedtodeliverannualcostsavingsofsomeeurm',\n",
              " 'nordeabankabpublholdsalmamediasharesrepresentingofsharecapitalandvotingright',\n",
              " 'elilillycollyhasbrokenouttoanewhighonastrazenecacollabor',\n",
              " 'thechilledmeatproductscategoryledthemeatfishandpoultrymarketinfinlandaccountingforashareof',\n",
              " 'thegroupscumulativesalesduringthereviewperiodwereeurmillioneurmillionandprofitbeforetaxeswaseurmillion',\n",
              " 'aldatatosharespaceoptimizationvisionatapollousergroupandcategorymanagementassociationconferencescompanywillunveilnewsolutionthatcombinesbusinessintelligencewithspaceplanningdataatconfer',\n",
              " 'netsalesofthelehdentekijatunitwasapproximatelyeurmillioninandithademploye',\n",
              " 'lsccaccumulationchartcontinuestomakenewhighsshowingaccumulationcontinuingtotakeplacehttpstkscoadpo',\n",
              " 'thebusinessareahasoperationsinfinlandswedendenmarkestonialatviaandlithuania',\n",
              " 'sportsequipmentsalesalsoprogressedwellowingtotheprolongedwinterseason',\n",
              " 'alsowestpacistoissueabenchmarkmonthfrndealineuro',\n",
              " 'itisthelastsmartphonerunningmaemowhichistobereplacedwithmeegoajointprojectbetweennokiaintelandtheopensourcecommun',\n",
              " 'prettysteadyaccumulationoffsupporttodaypurdyagu',\n",
              " 'servingcustomerslocallyisoneofthecornerstonesofcustomerfocusforu',\n",
              " 'wecutourfrequencytonewyorklastyearwhichexplainsthefallhesaid',\n",
              " 'hscreceivesyearmcontractatnewsaudiarabiansteelmil',\n",
              " 'operatingresultincludingnonrecurringitemsrosetoeurmnfromalossofeurmnin',\n",
              " 'bothoperatingprofitandnetsalesforthethreemonthperiodincreasedrespectivelyfromeurmandeurmascomparedtothecorrespondingperiodin',\n",
              " 'aroundofthesereductionswillbeimplementedthroughpensionarrang',\n",
              " 'sainsburyssaystooutperformrivalsintoughmarket',\n",
              " 'finnishoutokumputechnologyhasbeenawardedseveralnewgrindingtechnologycontract',\n",
              " 'starbucksdigitalstrategytodrivesignificantgrowthwithcustomerloyaltysbuxhttpstcoxklzuik',\n",
              " 'margincallofzanadvorovhasgiventhechancetomakesuchpurchaseunderthecreditofdeutschebankforusdmillion',\n",
              " 'thesoapstonedepositsinthemedvezhyegorskareaareexpectedtoincreasetulikiviscurrentreservesconsider',\n",
              " 'heanswersquestionsonhowmanyvisitorsconversationsgetshowbigtheteamisandwhattheproblemsarewhensettingupsocialmediachannel',\n",
              " 'hargreaveslansdownsharepricefallsascostsmountalthoughpens',\n",
              " 'presssercosettoappointroygardnerexcentricaaschairmanft',\n",
              " 'intercontinentalhotelsdeniesreportsofstarwoodmergertalk',\n",
              " 'commencingtheconstructionworksofpearlplazaisasignificantstepinourrussianproject',\n",
              " 'withthisacquisitionthewirelessmodemunitanditsapproximatelyemployeesweretransferredtorenesaselectronicscorpor',\n",
              " 'theannouncedinvestmentofthecarmakerhyundaiforexamplesoundsoptimisticallyforusasofcoursenewcarsmeannewtir',\n",
              " 'accordingtoacnielsensscantrackstudyfortheperiodweekoftoweekofcocacolaisthemarketleaderinsoftdrinksinfinland',\n",
              " 'ymihttpstkscoxyflongsetupclosedabovethemamacdcrossnovembercatalyst',\n",
              " 'updatebpsettlesoilspillrelatedclaimswithhalliburtontransocean',\n",
              " 'thecontractsawardedtodateinconnectionwiththesystemamounttoatotaleurmillion',\n",
              " 'becauseexpendituresmustbejustifiedtopassbudgetapprovalhurdleswebelieveourropmodelcanhelpmakeiteasierforitanditsecuritypractitionerstomakethebusinesscaseforacquiringenablingsecuritytechnologiesandrelatedcontrolact',\n",
              " 'thecocacolacompanyandcocacolafemsatoacquireadessoybasedbeveragebusinessfromunilev',\n",
              " 'wearehonoredtobeacknowledgedforourcommitmenttotheindustryespeciallyinasiapacif',\n",
              " 'anoftheinventionreleasedbythepatentofficesaidthechambersarepressur',\n",
              " 'inthebalticcountriessalesfellbi',\n",
              " 'howeversalesvolumesinthefoodindustryareexpectedtoremainatrelativelygoodlevelsinfinlandandinscandinaviaatriasaid',\n",
              " 'themillsrawmaterialneedwillincreasebymofwood',\n",
              " 'outotecheadquarteredinespoofinlandisaleadingproviderofprocesssolutionstechnologiesandservicesfortheminingandmetallurgicalindustri',\n",
              " 'theonedarkspotonthehorizonhoweverwasthecompanysperformanceinthefinnishbottledwatermarket',\n",
              " 'currentholdingsviaoptionslongaaplvgsaetshortvxx',\n",
              " 'theprocesstechnologyprojectmanagementbasicengineeringandqualityassurancewithinforestindustrywillbeconsolidatedinvantaasouthernfinland',\n",
              " 'pclnrunsintothesmaontheacquisitionnew',\n",
              " 'vaahtopulppaperoffinnishvaahtogrouphasbeenawardedanordertorenovatefinnishswedishforestindustrycompanystoraensospaperboardmachineattheingeroisboardmillinfinland',\n",
              " 'nokiawasuppcttoeurafterkickingoffthemorninginnegativeterritori',\n",
              " 'tzaisarocketship',\n",
              " 'finnishitsolutionsprovideraffectooyjsaidtodaythatithaswonaframecontractvaluedatsomeeurmtoimplementthenextphaseofitsinsuranceapplicationforsouthafricanmutualfederalinsurancecompanylimitedmf',\n",
              " 'industryinvestmentisveryinterestedinglastonssolarenergyproject',\n",
              " 'thewinnerdoesnothavetobepresenttowin',\n",
              " 'scanfilwillexecutethetemporarylayoffsbymidoctoberandthejobcutsbymarch',\n",
              " 'furthermoreourfullyelectricallydrivencranesareenvironmentallyfriendli',\n",
              " 'finnishswedishtietoenatorisexpandingitsbusinessquicklyinrussia',\n",
              " 'itisestimatedthattheconsolidatedturnoverofkaustaguderwillreachltmnusmneurmnin',\n",
              " 'addedmorebbbyjimcrameriswrongaboutthisonestillaveryprofitablemerchantwithprofitablestor',\n",
              " 'rinkuskiaisbeersalesfellbypercenttomillionlitreswhilekaunoalusbeersalesjumpedbypercenttomillionlitr',\n",
              " 'internetbusinessnewsmcommunicationsltdaspartofadrivetoprotectusersofitsinternetbankingservicebarclaysbankhasannouncedthatitistorecommendfsecureinternetsecuritytoitscustom',\n",
              " 'halonensofficeacknowledgedreceivingtheletterbutdeclinedcom',\n",
              " 'boomerangerboatsoyspecialisesinboatbuildinganddesignsmanufacturesandsellscustomisedrigidinflatableboatsribprimarilyforthebalticseamarket',\n",
              " 'thefairvalueofthecompanysinvestmentpropertiesgrewtoeurbillionattheendofmarchfromeurmillionayearago',\n",
              " 'wereachedagreementwiththeunionthatflightswillcontinueasnormalfinnairspokesmanuskomaattasaid',\n",
              " 'osurupsincebuysignalresistanceexpectpullbackndhalfofdayorbreakabovcontinuerallyforday',\n",
              " 'thecompanyhadnetsalesofeurmillioninandtodayhasapproximatelyemployeesinfinlandestoniaandpoland',\n",
              " 'thebrokerhighlightscargotecasitspreferredstockinthesectorasitisapureplayonglobalcargoandcontainerhandlinganditexpectsittoplayanactiveroleinfurtherconsolidatingtheindustri',\n",
              " 'thecombinedcapitalofthesefundsisexpectedtobeeurmnmn',\n",
              " 'thetotalheadcountreductionwillbepersonsthecompanysaid',\n",
              " 'theaimistodevelopopensourceapplicationsolut',\n",
              " 'thenetsalesofthewholefiscalyearwillbelowerthaninandoperatingprofitisestimatedtobeneg',\n",
              " 'thecontractconsistsofanewbuildingwithanareaofsqmandrenovationoftheexistingbuild',\n",
              " 'retailerskingfisherandsportsdirectriseinbritainsshareindex',\n",
              " 'persimmonsharepriceclimbsonriseinfullyearrevenu',\n",
              " 'tocheckthemoutortomakeabidtheywillbeinthedekashowroomfortitudevalley',\n",
              " 'thenewfacilitytobeknownastechnopolispulkovowillintroducetotherussianmarketanentirelynewconceptofcreatingoperatingandgrowingacommerciallyfundedscienceandtechnologyparktosupportthegrowthofknowledgeintensivecompani',\n",
              " 'tescossalespickupisntenough',\n",
              " 'tripmaintainsneutralratingatjpmorganptcutfrom',\n",
              " 'thepoorestindexfigurewasgiventofinnishpowercompanyfortum',\n",
              " 'theextractedfiltratesareveryhighinclaritywhilethedriedfiltercakesmeetrequiredtransportmoisturelimitstmlsfortheiroregrad',\n",
              " 'thisorderisincludedinwartsilasorderbookinthesecondquarterthecompanyad',\n",
              " 'thecompanyalsosaidthatthedeploymentofthedanishgnetworkcontinuesanditexpectstocoverofthedanishpopulationin',\n",
              " 'thedisposalofautotankwillalsostrengthenasposcapitalstructurecommentedgustavnybergceoofaspo',\n",
              " 'microntechnologyincnasdaqmudowntodayanddownsincebeingputontheshorthttpstcoeqqltfui',\n",
              " 'finnishlaboratoryliquidhandlinganddiagnostictestsystemsdeveloperbiohitoyjomxhelsinkibiobvissuedontuesdayjuneaprofitwarningforthefinancialyear',\n",
              " 'impleasedtoreceivethenominationcommitteesrequestandconfidencesaysjonrisfelt',\n",
              " 'aaplstockclimbsasbarronsseesupsidejimcramerstakehttpstcolkldmvkbq',\n",
              " 'thecompanyalsosaidonnovemberitsrealestatefundikysignedanagreementwithfinnishwindowmakerfenestraoytobuildawindowplantinforssasouthernfinland',\n",
              " 'inthethirdquarternetsalesincreasedbyyearonyeartoeurmillionorbyatcomparablecurrencyratesgrowth',\n",
              " 'itvtopursuetakeoverofcanadasentertainmentonebloomberg',\n",
              " 'cramoisaservicecompanyspecialisinginconstructionmachineryandequipmentrentalandrentalrelatedservicesaswellastherentalandsaleofmodularspac',\n",
              " 'dependingonthemarketsituationsuchprojectsaresoldaftertoyearsaftercomplet',\n",
              " 'astrazenecaweighingupacertabidtosecurebloodcancerdrug',\n",
              " 'hrlreadytopophttpstkscosni',\n",
              " 'newsfeedftsemoverslsesurgesasicesaysmullingofferashteadandbarclaystank',\n",
              " 'elcoteqseiseuropeslargestcontractelectronicsmakerandhassetupaunitinbangaloreinassociationwithavistaadvisoryofmumbai',\n",
              " 'salesvatinclusiveexpandedbypercenttomillioneuro',\n",
              " 'operatingprofitincreasedbytoeurmnfromeurmn',\n",
              " 'alexandriavadecunitedstatespatentnoissuedondecwasassignedtonokiacorpespoofinland',\n",
              " 'countrygermanysectorconstructionrealestatemachineryengineeringtargetcaveriongmbhbuyeryitoyjdealsizeinusdmtypecorporateacquisitionstatusagre',\n",
              " 'amrnitsaccumulatingithinkbuynoworholdyourpeacethisshouldgouptodaytomorrow',\n",
              " 'operatingprofitrosetoeurmnfromeurmninthecorrespondingperiodin',\n",
              " 'lastyearsysopendigiainvestedinibmproductknowhowinthebuildingofportalandtradingplacesystemsandsuccessfullyimplementedcustomersolutionssupportedbyit',\n",
              " 'adpnewsfebfinnishbroadbanddatacommunicationsystemsandsolutionscompanytelesteoyjheltltvsaidtodayitsnetprofitdecreasedtoeurmillionusdmforfromeurmillionfor',\n",
              " 'anearnoutpaymentofuptomlneuromlncanalsobepaiddependingonintellibisfinancialperformancein',\n",
              " 'thecurrencyeffecthadapctormlneuromlnnegativeimpactontherevenu',\n",
              " 'onlylnnentehtaatshowedalossbutithasonlyrecentlystartedstreamliningmeasur',\n",
              " 'dinnertheconferenceprogramcanalsobeviewedasaliveaudiowebcastthroughtheinternetpagesatwwwcityconcom',\n",
              " 'operatingprofitmarginincreasedfromto',\n",
              " 'operatingprofittotalledeurmndownfromeurmninthefirstquarterof',\n",
              " 'foundedinquatroconsclienteleconsistsofpublicsectorbuilderscentraltradingcompaniesandmajorconstructionfirm',\n",
              " 'russdontcatchfallingknivesbutithinkanentryiscomingsoononthi',\n",
              " 'thecompanysprofitbeforetaxesfelltoeurmninthethirdquarterofcomparedtoeurmninthecorrespondingperiodin',\n",
              " 'russianofficialsinspectedthedamageandgavethevesselpermissiontocontinuetotallinnataroundamthenorwegianregisteredmtstennordicwascarryingtonsofgasoilandwasmannedbyafilipinocrew',\n",
              " 'themaritimeadministrationsaidtheshipshadignoredwarningsabouttheicycondit',\n",
              " 'wfmboughtalittleyesterdayhopingforanearningspop',\n",
              " 'thegermancompanyhasalsosignedacodeshareagreementwithanotheroneworldmemberamericanairlinesincpartofusbasedamrcorpnyseamr',\n",
              " 'odellhasnotcontactedthestateoffinlandinthisissu',\n",
              " 'borealisinfrastructureputtingtogethernewseverntrentbid',\n",
              " 'thisorderwhendeliveredwillbringthetotaloutputofelectricityinitalygeneratedbywartsilaequipmenttomorethanmw',\n",
              " 'coopershtheukdistributorforliftequipmentmanufacturerkonecraneswonthefiveyeardealwhichinvolveslowmaintenanceandfuelsavingtechnolog',\n",
              " 'underapreliminaryestimationthetechnologyparkwillmeasureaboutsquaremet',\n",
              " 'thecompanyplanstospendtheproceedsfromtherightsofferingforstrengtheningitsbalancesheet',\n",
              " 'earningspershareepsinthefirsthalfofamountedtoeurdownfromeuryearago',\n",
              " 'rxiitangreallyistoxictheykeepbringingthesharepricedownatleasttheycouldletitclimbalittlebeforedraggingitdown',\n",
              " 'thesellingconsortiumincludesfundsmanagedbyokobanksventurecapitalunitbiofundmanagementandfinnishindustryinvestmentagovernmentownedinvestmentgroup',\n",
              " 'amersportsdivestsanindustrialsiteinrumillyfrancethisannouncementisdistributedbythomsonreutersonbehalfofthomsonreuterscli',\n",
              " 'metsabotniawillfinancethepaymentofdividendstherepaymentofcapitalandtherepurchaseofitsownshareswiththefundsderivingfromitsdivestmentoftheuruguayoperationsandsharesinpohjolanvoimaandbyutilisingitsexistingfinancingfacil',\n",
              " 'rtfitzstockiythttpstksconbfthetransportsalwaysleadthewayandtheybrokedtlinestmacdcrossbullflag',\n",
              " 'ebitexcludingnonrecurringitemstotalledeurmnupfromeurmn',\n",
              " 'thedieselmarginhasremainedhigh',\n",
              " 'operatinglosstotaledeurmncomparedtoaprofitofeurmninthecorrespondingperiodin',\n",
              " 'ftseralliesoffthreemonthlowboostedbystanchartsainsburi',\n",
              " 'thegrowthintheactivenessoftalentumscustomerswhichstartedattheendofcontinuedduringthereportingperiodthecompanyst',\n",
              " 'themaximumnumberofnewsharestobeofferedismillion',\n",
              " 'marimekkomakesallsortsofcolorfullittleimpulsebuysumbrellasbabybibschangepursesandtheyreallforsalethebettertotakeadvantageofshopperswhocantcommittofurniturebutwantapieceoftheact',\n",
              " 'finnishmanagementsoftwaresolutionsproviderixonosoyjnetprofitdecreasedtoeuroforthefirstquarteroffromeuromlnforthesameperiodof',\n",
              " 'thesalewhichwillresultinagainofsomeeurmillioninthesecondquarteroffororiolakdsupportsthefinnishcompanysstrategytofocusonpharmaceuticalwholesaleandretailoper',\n",
              " 'theguidancehasbeensetatbasispointsovermidswapsthereportsaid',\n",
              " 'finnishdrugdistributorandwholesaleroriolakdoyjsaidonoctoberitnamedannekariniemivicepresidentofitslogisticsandsourcingdepartmentasofjanuari',\n",
              " 'itsabadideatomakeminpredictionsbasedonfaithrtdandyductaaplsellsignalhitatitwillgodownforthenextmin',\n",
              " 'thecontractscompriseturnkeyordersforrorosystemsfortwororocruisevesselsunderconstructionforvikinglineandtallink',\n",
              " 'endpexitreversalxksharesnowlongnotgettingfollowthrougheithersideofpriceact',\n",
              " 'itvsharepricejumpsonreportofcomcastsnbcuniversalbiddingtotakeov',\n",
              " 'aspoplcstockexchangeannouncementmayatamanincreaseinthesharecapitalofaspoplctotalingeurwasregisteredtoday',\n",
              " 'thefouryearcontractbetweenthebankandskisportfinlandwillbringthebanksadvertisementstoskiershelmetsandcap',\n",
              " 'accordingtofinnishscanfilsfounderandchairmanoftheboardjormajtakanenthecompanyhastolookforgrowthabroad',\n",
              " 'whennewtypesofnetworkelementsareaddedtothenetworktheconversionfileisupdatedbyaddingtheinformationrequiredforconvertingthemessageformatofthenewnetworkelementtypetotheformatunderstoodbythemanagementsystem',\n",
              " 'inthevideoabovemarimekkosdesignmanagernooraniiininoskiexplainsthatthebrandsareanaturalfitforeachotherbecausetheybothhaveatimelessstyl',\n",
              " 'wehavemadelongterminvestmentsindevelopingthesystemsimplementationmodel',\n",
              " 'comptelavendorofdynamicoperationssupportsystemosssoftwarehasbeenselectedbyorascomtelecomothaspartnerforprovisioningandactivationsolutionsformobileservic',\n",
              " 'aapliambigoutfromthisseemsitsfallingtoward',\n",
              " 'thentsbsaidinvestigatorsaresettoconductsightdistancetestsonjulyusingtrainssimilartothoseinvolvedintheaccid',\n",
              " 'finnishsportsequipmentmakeramersportsoyjhelameassaidtodaythatitsnetlossnarrowedtoeurmillionusdminthesecondquarteroffromeurmillioninthecorrespondingperiodayearearli',\n",
              " 'returnoninvestmentwascomparedtoanegativein',\n",
              " 'outotecsscopeofdeliveryincludesdesignbasicengineeringandsupplyofproprietaryequipmentforasinterplantwithagrateareaofsquaremet',\n",
              " 'thecontractwilltakeeffectinforafiveortenyearperiod',\n",
              " 'simultaneouslyhisresponsibilityareaisextendedfromlegalaffairstocoveralsomergersandacquisit',\n",
              " 'peerpeugeotfellpctasitssalesroseonlypctfromthesameperiodlastyear',\n",
              " 'threestudentsfromuniversitisainsmalaysiahavewonastudytriptohelsinki',\n",
              " 'finnishpropertyinvestmentcompanycityconwillexpandandrefurbishkersbergashoppingcenterinstockholminsweden',\n",
              " 'bestanalystratedstocksinlasthrsorclaaplcbsinocpxxviewallratingsherehttpstcoiridzdgc',\n",
              " 'updatepersimmonprofitupstronglyoutlookposit',\n",
              " 'totaltwoofferswerereceivedbycontractingauthorityforparticipatinginthiscontracthoweverthecontractwasallottedtoaffectofinlandoy',\n",
              " 'whileicantunderstandwhattheyresayingitsimpressivetowatchhimhitthatballatthosespe',\n",
              " 'rptoldmutualqgrosssalesbeatforecastsuppct',\n",
              " 'thebankisalsoexaminingthebenefitsoftransferringtheswedishbusinesstooperateasabranchofficesothattheoperationswouldbegovernedbyfinlandslaw',\n",
              " 'motorolaincoftheunitedstatescamesecondwithshipmentsofmillionunitsforapercentmarketsharefollowedbysouthkoreassamsungelectronicscowithshipmentsofmillionunitsforanpercentshar',\n",
              " 'themaximumamountofthecapitalloanwillbeeurmandtheminimumsubscriptioneur',\n",
              " 'adpnewsfebfinlandbasedsteelmakerrautaruukkioyjhelrtrksorruukkisaidtodayitslippedtoalargerthanexpectedpretaxlossofeurmillionusdminthefourthquarteroffroma',\n",
              " 'sharkbiotechifanyoneissellingshortingagnbcyoubelieveendprumorstoberealisticthenilltaketheothersideofthattrad',\n",
              " 'thecompanyislistedonthenordicexchangeinhelsinki',\n",
              " 'pyplgreatvolflowtradeherelovethiscompanylongtim',\n",
              " 'vapotentialbearishsharkpatternifpointbtobetakenouthttpstkscoiggh',\n",
              " 'bothoperatingprofitandturnoverfortheninemonthperiodincreasedrespectivelyfromeurmandeurmascomparedtothecorrespondingperiodayearago',\n",
              " 'theordercomprisesfourballmillswhichwillbeorganizedintwodifferentstreamsfortreatingoreinthepilanesbergplatinummin',\n",
              " 'almamediacorporationpressreleasemarchtyrvnsanomatpurchaseconfirmedthebusinessoperationsoftyrvnsanomatoywillbetransferredtosuomenpaikallissanomatoy',\n",
              " 'productionalsituationhasnowimprov',\n",
              " 'sshcommunicationssecuritycorporationisheadquarteredinhelsinkifinland',\n",
              " 'forthefullthecompanyexpectsitsnetsalesandoperatingresulttoimprovefromthepreviousyearsayingthatapositiveoperatingresultanditsamountwilldependontheorderintakebytheendofthesumm',\n",
              " 'operatingmarginhoweverslippedtofromdraggeddownbyapoorperformanceinenterprisesolut',\n",
              " 'finnishmetalproductscompanycomponentaoyjnetprofitrosetomlneuromlnforthefirstquarteroffrommlneuromlnforthesameperiodof',\n",
              " 'soasoftodayscloseimlongtslaamtdtwtrfbaaplcelgallonalongertermtechnicalswinglongbasi',\n",
              " 'theacquiredbusinessmainassetisamobileauthenticationandsigningsolutionbrandedastectiamobileidwhichprovidesauthenticationtowebemailsslvpnmssharepointtectiasecuresolutionsandotherapplicationsandresourc',\n",
              " 'thereportexaminesthemedicalequipmentbusinessstructureandoperationshistoryandproductsandprovidesananalysisofitskeymedicalequipmentrevenuelin',\n",
              " 'adpnewsaugfinnishmediagroupilkkayhtymaoyjhelilkssaidtodayitsnetprofitfellontheyeartoeurmillionusdminthefirsthalfof',\n",
              " 'thenewtechnologyimprovestheglassqualityandconsistencywhileincreasingthroughput',\n",
              " 'londonmarketwatchnokianoksaiditswonafiveyearservicescontracttorunhutchisonessarsnetworkoperationsinninelocationsinindia',\n",
              " 'soullortheregularscrappyqswyusuallypresentssalesweakmarginsdowndebtstillwayup',\n",
              " 'operatingprofitmarginwascomparedtoayearearli',\n",
              " 'consolidatednetsalesincreasedtoreacheurmwhileoperatingprofitamountedtoeurmcomparedtoalossofeurmintheprioryearperiod',\n",
              " 'finnishforestmachinerymanufacturerponssehasissuedaprofitwarn',\n",
              " 'theenterprisevalueofthefraybentospulpmillandforestalorientaltotalsapproximatelyeurobillionupmsaid',\n",
              " 'rentalofbuildingequipmentaccountedforpercentoftheoperatingincom',\n",
              " 'themeasuresresultfromweakdemandintheshipbuildingindustri',\n",
              " 'maycompaniesandmarketscomdeliveredbynewstexthisreportprovideskeydataandinformationonthemeatfishandpoultrymarketinfinland',\n",
              " 'inadditiontothedemandinfinlandtheexportofliningstoneproductsalsoincreas',\n",
              " 'thecurrentreferencegradeinstrumentsarechallengingtooperateduetotheirhighpriceandcomplexityforroutineus',\n",
              " 'theyvealreadyallocatedmoneyfortheinventori',\n",
              " 'atotaloftalvivaaraminingcompanyplcsnewsharesweresubscribedforduringtheperiodbetweenmayandjuneunderthecompanysstockoptionrightsa',\n",
              " 'eurusdfindingsupportnearlevelerouupudnfxehttpstkscobeu',\n",
              " 'theannualvalueofthecontractsisestimatedatusdmnoverthenextthreeyear',\n",
              " 'inadditionwewilllaunchaversatileonlineservicetocompletethetraditionalprintednewspapermrvalkamasay',\n",
              " 'thecompanysaidthattheoperationswillbesoldtoanewlyestablishedcompanycpsgmbhwherethepresentmanagementoftheplasticsbusinessisacoown',\n",
              " 'finnishmetalproductscompanycomponentaoyjnetprofitwentslightlydowntomlneuromlnforthefirsthalfoffrommlneuromlnforthesameperiodof',\n",
              " 'marketsbppromotesupstreambosstodeputyceo',\n",
              " 'britainsftsebouncesbackmondiandbarrattlead',\n",
              " 'loudeyecorpupatnokiacorpdowncentsatnokiaagreedtobuythedigitalmusicdistributorformillion',\n",
              " 'ragutiscontrolledbythefinnishbreweryolviachievedapercentriseinbeersalestomillionlitersandheldapercentmarketshar',\n",
              " 'finnairsaidthatthecancellationofflightswouldcausedailylossesofxacmillionusmillion',\n",
              " 'theenergysectoraccountedforapproximatelyandthesteelindustryforaboutofthetransportationvolum',\n",
              " 'themegawattwindfarmbeingplannedinraahewouldbebuiltoffshoreinfrontofruukkisraahework',\n",
              " 'theaustraliancompanymirabelanickelhasawardedoutokumputechnologyacontractforgrindingtechnologyforitsnickelsulfideprojectinbahiastatebrazil',\n",
              " 'standardcharteredrbsescapecapitalraisinginstresstest',\n",
              " 'operatingprofitsinthehalfweremdownfrommasglisteninvestedinthebrandandthemanagementteam',\n",
              " 'theexpansionistobefinalizedintheautumnof',\n",
              " 'finnishkonecranesisagaintryingtoacquireitalianfantuzziamanufacturerofgantrycranesandreachstack',\n",
              " 'pmcentralofficeofnordeabankyaulitsayamskogopolyabuildingtelephoneextunimilkegmxviinternationalbusinesssummitfoodbusinessrussiawilltakeplac',\n",
              " 'adpnewsfebfinlandbasedsteelmakerrautaruukkioyjhelrtrksorruukkisaidtodayitslippedtoalargerthanexpectedpretaxlossofeurmillionusdminthefourthquarteroffroma',\n",
              " 'thecompanyexpectsitsnetsalesintoincreasefrom',\n",
              " 'aboutofevrazgroupsharesareownedbylanebrookwhosebeneficiariesontheonehandaremillhousetheholdingcompanyfortheassetsofbillionaireromanabramovichandhisbusinesspartnersandevrazexecutivesalexanderabramovandalexanderfrolovontheoth',\n",
              " 'themargarinebusinesshasbeenputintogoodshapeinthelasttwoyearsmakingitanaturaladditiontobungewhichislookingtoleverageitspositioninthecentralandnortherneuropeanmarketsraisioceomattirihkosaidinastat',\n",
              " 'themostloyalcustomerswerefoundinthebankoflandwithanindexof',\n",
              " 'tescobreaksitsdownwardslidebycuttingsalesdeclineinhalf',\n",
              " 'eriikkasderstrmhaspreviouslyheldseveralpositionsinfinanceandcontrolatnokianetworksincludingactingasthebusinessgroupcontrollerandhavingthecorporatecontrollerpositionatnokiasiemensnetwork',\n",
              " 'nopricingdetailsweredisclos',\n",
              " 'longaapl',\n",
              " 'salonenaddedthatdatashowsproducerspulpinventoriesinnorthamericaaredeclin',\n",
              " 'finnishitconsultancysatamainteractiveoyjpostedanetprofitofmlneuromlnforthefirstninemonthsofcomparedtoanetlossofeuroforthesameperiodof',\n",
              " 'consistingofseveninterconnectedunitsmegaimageslogisticscenterwillbemetresinlengthandmetresinheight',\n",
              " 'tescoplcsrecoverycontinueswithamcashinfus',\n",
              " 'keskohasaboutstoresengagedinchainoperationsinthenordicandbalticcountriesrussiaandbelaru',\n",
              " 'istroublebrewingatlegalgeneralgroupplcandavivaplc',\n",
              " 'helsinkibasedcomponentaboughtturkishlistedcompanydoktasinoctoberformillioneurosmakingitthelargestfinnishinvestmentinturkeytod',\n",
              " 'theecbcanmainlytargetinfl',\n",
              " 'operatingprofittotaledeurmndownfromeurmninthecorrespondingperiodin',\n",
              " 'thegroupsaiditintendstoinitiatewithinthisyeartheprocessofbuyoutofminorityshareholdersofragutiswiththeaimofbecomingthesoleownerofthecompani',\n",
              " 'initiallythecompanysaidamaximumofpeoplewouldbemaderedundantintheparentcompanyandaboutinitssubsidiari',\n",
              " 'thecontractincorporatesaconvergentchargingratingsolutionforvoiceanddatawhichincludesinternetgprssmsmmsandwap',\n",
              " 'astrazenecaslungcancerdrugtagrissogetsfdaapprov',\n",
              " 'ourcustomersincludecompaniesintheenergyandprocessindustrysectorsinparticular',\n",
              " 'europehoweverremainsanimportantandstrongmarketforu',\n",
              " 'morrisonsanddebenhamssurprisecitywithchristmasbounceback',\n",
              " 'theongoingprojectwhereteklastructuresisbeingusedisthevashiexhibitioncentrebeingdevelopedbyinsteelengineerspvtltdiivrclinfrastructuresprojectsltdcidco',\n",
              " 'talentumexpectsthatthenetsalesofitscorebusinesswillincreaseincomparedto',\n",
              " 'operatingprofitsinthehalfweremdownfrommasglisteninvestedinthebrandandthemanagementteam',\n",
              " 'itstotalannualrevenuecomesuptoaboutmlnzlotymlnmlneuro',\n",
              " 'thecorrespondingincreaseinthesharecapitaleurhasbeenenteredinthetraderegistertoday',\n",
              " 'groupebitforthefirsthalfwaseurmusmfallingshortoftheeurmitpostedforthesameperiodof',\n",
              " 'relationswiththecityhavebeenfurtherdamagedbycommentsfrommrashleycriticisingcityinvestorsandanalystsascrybabi',\n",
              " 'theenginehasanelectricaloutputofkwmakingitthelargestgaspoweredgeneratingsetintheworld',\n",
              " 'pretaxprofittotaledeurmncomparedtoeurmninthefirstquarterof',\n",
              " 'mostrecentlyhefoundedvirentenergysystemsincanpersoncatalyticbiofuelscompanywhereaspresidentandceoheledthecompanythroughmultiplefinancingsdefinedthecompanysmarketstrategyandsecuredthecompanysfirstcustom',\n",
              " 'addusservicesincludepersonalcareandassistancewithactivitiesofdailylivingskillednursingandrehabilitativetherapiesandadultdaycar',\n",
              " 'tripadvisorjumpsonmarumorshttpstcoolwcdxmbrtrip',\n",
              " 'finnishcivilaviationadministrationdecidedtotemporarilyreopenfinnishcapitalshelsinkiairportsincepmtopmmondaylocaltim',\n",
              " 'reportinginaccordancewiththemergedbusinessoperationswillstartasofjanuari',\n",
              " 'earningspershareepsforthefirstquarteramountedtoeurupfromeur',\n",
              " 'finnlinesestimatedinitsannualgeneralmeetingthatwillbefinanciallyatoughyearduetolargeinvest',\n",
              " 'meanwhileminorityshareholdersexpectingteliasoneratoretainthebidsellsharesnow',\n",
              " 'externalnetsalesfromtheprintingbusinessfellbypartlyduetotheterminationoftheprintingcontractbetweenilkkayhtymasprintinghouseiprintoyandsectorplayerhssmediaabindecemberandthefallinprintingpric',\n",
              " 'operatingprofitwaseurmncomparedtoalossofeurmninthecorrespondingperiodin',\n",
              " 'wordonthestreetisthatallergenislookingatendointernationalafterthefailedpfizermergermaycallsactiveendp',\n",
              " 'fbrcapitalreiteratedoutperformratingonbrcmwithapricetargetofonfriday',\n",
              " 'metalszincsurgespctafterglencorecutsoutputfuellingmetalsr',\n",
              " 'profitfortheperiodfelltoeurmnfromeurmninjanuaryseptemb',\n",
              " 'isitworthinvestingintescoplcandprudentialplcnow',\n",
              " 'infinlandfinnishpharmaceuticalcompanyorioncorporationomxhelsinkiornavsaidonwednesdayjanuarythatithasconcludeditspersonnelnegotiationsinfinlandandwillreducethenumberofpersonnelbi',\n",
              " 'finnishretailerstockmannhaswonapprovalfromtheboardofswedishrivallindexforapublictenderofferwiththeaimofexpandingthecompaniespresenceinrussiaandotherceecountriesstockmannsaidmonday',\n",
              " 'inareleasethecompanysaidthatvocollecttcustomersinnorthamericacannowtakeadvantageofitsvoicedirectedwarehousingsolutionandincreasewarehouseefficiencyandproductivitygainsatadiscountedpric',\n",
              " 'niklasskogsterhasbeenemployedbytheabbgroupinvariouspositionsconcerningthedevelopmentofoper',\n",
              " 'operatingprofitexcludingnonrecurringitemstotaledeurmndownfromeurmninthecorrespondingperiodin',\n",
              " 'finnishmetsopaperhasbeenawardedacontractfortherebuildofsabahforestindustriessfipulpmillinsabahmalaysia',\n",
              " 'ruukkiforecastaannualsalesgrowthandapositivepretaxresultfor',\n",
              " 'thepriceofgmosoyislowerthanthatofnongmo',\n",
              " 'finlandsnokiantyresandkazakhstansordabasycorporationsignedanagreementtobuildaplantinastanatoproducecartiresordabasychairmandinmukhametidrisovsaidatapressconfer',\n",
              " 'withsalesofbillionoverthelasttwelvemonthsendingoctoberandoverstoresinstatesdollargeneralisthenationslargestsmallboxdiscountretail',\n",
              " 'getmidnighttraderinrealtimethisreportisdelay',\n",
              " 'danishcompanyflsmidthhasacknowledgedthatithasviolatedapatentheldbyfinnishmetso',\n",
              " 'theshareissuederogatingfromthepreemptiverightoftheshareholdersandcomprisingsomesixmillionnewsharesatmarketpricewillbeofferedforsubscriptionbyshareholdersholdersofcapitalnotesandbyprofessionalcli',\n",
              " 'tielinjageneratednetsalesofmlneuromlnin',\n",
              " 'karachiseptixonosaworldleaderinthedevelopmentandintegrationofsolutionsforhandhelddevicesannouncedthatitisimplementingatouchscreenmobileuserinterfacesolutionfortheintelatomprocessorzxxbasedsmartphon',\n",
              " 'nesteoilisworkingwithoverresearchcommunitiesineuropeamericaafricaasiaandaustraliatodevelopandintroducenewrawmateri',\n",
              " 'thenewagreementwhichexpandsalongestablishedcooperationbetweenthecompaniesinvolvesthetransferofcertainengineeringanddocumentationfunctionsfromlaroxtoetteplan',\n",
              " 'itsnot',\n",
              " 'tooksomeendplongthisamusingvwapasguid',\n",
              " 'despitesalesgrowthukstescocautionsrecoverytobebumpi',\n",
              " 'infinlandmetalsectorcompanycomponentaislayingofftemporarilythestaffofitsporimillfromchristmastilljanuari',\n",
              " 'inmiddleeastnorthafricatecnotreehasgrownconsiderablyintherecentyear',\n",
              " 'bothoperatingprofitandnetsalesforthesixmonthperiodincreasedrespectivelyfromeurmandeurmascomparedtothecorrespondingperiodin',\n",
              " 'insureraxaparcsslidbytoeuraftercitigroupandingslashedtheirtargetsonthestock',\n",
              " 'theordervaluesateurmnanditconsistsofdesignservicesandhardwareandsoftwarelic',\n",
              " 'scanfilhasalsoissuedaprofitwarn',\n",
              " 'aspokesmansaidthefoodstorecentersubjecttocouncilandlocalsupportcouldcompriseasupermarketorsmallerstoreandothernicheoutletsandthiswillbefirmedupfollowingconsultationwiththecouncilandlocalcommunityregardingappropriateusesandoccupi',\n",
              " 'thebondhasavalueofeurmandamaturityofyear',\n",
              " 'millercoorsboardnamesgavinhattersleyinterimceo',\n",
              " 'airbuswillattempttoevacuateuptopeoplewithinsecond',\n",
              " 'firstquarterunderlyingoperatingprofitrosetomlneurfrommlnayearearli',\n",
              " 'epsforthequarterwaseurascomparedwitheurinthethirdquarterofrepresentingagroupnetsalesforthethirdquarterwereeurmupbyascomparedwitheurminthethirdquarterof',\n",
              " 'royaldutchshellprofitrisesdividendup',\n",
              " 'meanwhileelectrowattekonophilippinesincwasalsoawardedathreeyearoperationandmaintenanceomcontractbyfrcementcorpor',\n",
              " 'theagreementincludesapplicationmaintenanceandsupportservic',\n",
              " 'nokiaisjustinterestedinbringnokiatothemarket',\n",
              " 'affectoexpectsitsnetsalesforthewholetoincreasefromthelevelwhentheyreachedeurmillion',\n",
              " 'thereportprofilescompaniesincludingmanykeyandnicheplayersincludingmajornonwovensmanufacturerssuchasahlstromcorporationasahikaseicorporationbuckeyetechnologiesincei',\n",
              " 'thelayoffswillaffectpeopleoutofthetotalokmeticemployeesinfinland',\n",
              " 'theacquisitionofelektrospavaracompleteskonesmarketexpansionstrategyinthebalticcountri',\n",
              " 'mayfinnishelectronicsproducerelcoteqsehelelqavsaidtodaythatithassignedanextensivecooperationagreementonindustrialisationmanufacturingdistributionandaftermarketservicesformobilephoneswithjapanssharptyo',\n",
              " 'morrisonsbooksecondconsecutivequarterofsalesgrowth',\n",
              " 'marimekkohastodaynovembersignedalicenseagreementwiththeswedishchainwherebymarimekkowilllicensesomeofitspopularpatternsfromthessandstohm',\n",
              " 'thatwasquickoutfiomarkettankingscalingdownlongsnow',\n",
              " 'theannouncementpushedfreenetsharesdownoreurinfrankfurttradetoeurasinvestorsgaveuphopeunitedinternetaganddrillischwouldpursuetheirowntakeoverandbreakupoffreenet',\n",
              " 'finnishtelecomssoftwaredevelopertecnomenoyjsaidondecemberitwonamlnmlneuroordertosupplyanexpansionofthechargingandmessagingsystemsforthemobileandfixednetworksofbrasiltelecom',\n",
              " 'companiesunileversalesliftedbyicecreaminsofteconomi',\n",
              " 'epsdroppedtoeurfromeur',\n",
              " 'saltwaternurseinocantestagaininnextfewdaystimetotakesomeprofitshereorhedgewithput',\n",
              " 'nofinancialinformationwasprovid',\n",
              " 'easyjetattractsmorepassengersinjunebutstilllagsryanair',\n",
              " 'morningagendashiresdealfornp',\n",
              " 'metsowillsupplytheequipmentfortwoprocesslinesatnorthlandresourcesnewkaunisvaaraironoreprojectinswedenwhichexploitstapuliandsahavaaraironoredeposit',\n",
              " 'underthisagreementbiohitbecomesafocussupplierofpipettorsanddisposablepipettortipstovwrcustomersthroughouteurop',\n",
              " 'thecompanyspreviousestimatewasforalowerrevenuethantheyearagoeurmillion',\n",
              " 'earningspershareepsdroppedtoeurfromeur',\n",
              " 'bidsoroffersincludeatleastsharesandthevalueofthesharesmustcorrespondtoatleasteur',\n",
              " 'earningspershareepsamountedtoalossoftoeur',\n",
              " 'netappdowngradedbymacquarietounderperformpthttpstcoxcngwstqntapntapviaratingsnetwork',\n",
              " 'russiaisreadytoparticipateinanopentenderforlattelecomsprivat',\n",
              " 'technopolisandthestpetersburggovernmentsignedacooperationmemoranduminoctobertosetupatechnoparkintheneudorfproductionzoneinthevillageofstrelnyinthestpetersburgsuburb',\n",
              " 'theownerswhohaveparticipatedinthebusinessoperationsofthecompanywillcontinueinpoyrysemploymentafterthetransact',\n",
              " 'thegoalistosecurethecompanysprofitabilityandcompetit',\n",
              " 'howeverthecompanysawitsnetprofitforthethirdquarterdowntoeurmillionfromeurmillionforthecorrespondingperiodof',\n",
              " 'nesteoilsboardproposedeurdividendforthefullyearcomparedwitheurayearago',\n",
              " 'baswareeinvoicesoywillbemergedintotheparentcompanyduringthepresentfiscalperiod',\n",
              " 'fintechprovidercafncachetfinancialsolutionssurgingforwardtodaypostearningsuphttpstcobjcskijkhyfisvmomo',\n",
              " 'beforekemirasinstallationnordaluwasproducingtonsofliquidandsolidaluminumwasteperyear',\n",
              " 'heisacharteredaccountantinbritishcolumbiaandalbertaaswellasacertifiedpublicaccountantinwashingtonst',\n",
              " 'veryrecommendableisthenokianzgaccordingtotheadacjudgementinthelatestsummertyretestofthegermanautomobileassociationadac',\n",
              " 'thegroupsresultbeforetaxeswasalossofeurmillion',\n",
              " 'cashflowfromoperatingactivitiesbeforeinvestmentswaseurmillion',\n",
              " 'vikinglinehascanceledsomeservic',\n",
              " 'exelisheadquarteredinmantyharjuinfinland',\n",
              " 'storachiefexecutivejoukokarvinenhasdescribedtherussiantariffhikesasathreattothefutureoftheforestproductsindustryinfinland',\n",
              " 'afterbarclaysandbankofamericacitigrouphasblockchaininsight',\n",
              " 'googleinccompletesacquisitionoficoainchttpstksconfeiicoagoog',\n",
              " 'tslalookinggoodidlovetoseeabasingactionherelettingthersitakeabreatherhttpstkscogtc',\n",
              " 'finnishplumbingandheatingsystemssupplieruponorsnetsalesfromcontinuingoperationsdecreasedbyintoeurmnfromeurmnin',\n",
              " 'thislocationmakesthemallaconvenientplacetoshopforconsumersfromthreelargeresidentialareasnearbyjaroszowkawysockiegoandzgodi',\n",
              " 'finnishinsurancecompanyfenniaandkeskogroupareendingtheirloyalcustomercooper',\n",
              " 'thecasingcomprisesafirstsidecasingmemberprovidedwiththefirstsidevatsegmentandasecondsidecasingmemberprovidedwiththesecondsidevatsegmentatleastthefirstsidecasingmemberbeingpivotableaboutarotationaxi',\n",
              " 'finlandbasedelcoteqseaprivatelyheldproviderofelectronicsmanufacturingservicestocommunicationscompaniessaidthursdayitsignedalongtermmanufacturingsupplydealwithcommunicationsequipmentcompanyandrewcorp',\n",
              " 'inqofbankoflandsnetinterestincomeweakenedbytoeurmn',\n",
              " 'rbspaysbilliontoscrapuktreasurysdividendright',\n",
              " 'increasedtrustofourclientsinyitcanbeseenasapartmentsalesacceler',\n",
              " 'talvivaaraminingcompanyplctalvivaaraminingcompanyisaninternationallysignificantbasemetalsproducerwithitsprimaryfocusonnickelandzincusingatechnologyknownasbioheapleachingtoextractmetalsoutofor',\n",
              " 'operatingprofitforlowerthanoutlookpublishedearli',\n",
              " 'lessthantenpeoplewillfacepensionagr',\n",
              " 'thecompanysconsolidatedoperatingprofitamountedtoeurmnupfromeurmnyearonyear',\n",
              " 'astrazenecatobuyzspharmaforbillion',\n",
              " 'finnishwastemanagementandcleaninggrouplassilatikanojaoyjltnetprofitwentdowntomlneuromlnforfrommlneuromlnfor',\n",
              " 'theoperatingmarginofakeryardscruiseferriesdivisionwentdownfromtointhefirstquarterof',\n",
              " 'helsinkithomsonfinancialsharesincargotecfellsharplyinearlyafternoontradeafterthecargohandlinggrouppostedasurprisedropinapriljuneprofitswhichovershadowedthelargenumberofnewordersreceivedduringthethreemonth',\n",
              " 'theprogramstargetisstructuralcostreductionsofabouteurmnin',\n",
              " 'ourtoolsarespecificallydesignedwiththeneedsofboththebusinessusersandictexpertsinmind',\n",
              " ...]"
            ]
          },
          "metadata": {},
          "execution_count": 18
        }
      ]
    },
    {
      "cell_type": "code",
      "source": [
        "cv=CountVectorizer()"
      ],
      "metadata": {
        "id": "1k1426ZwevS_"
      },
      "execution_count": null,
      "outputs": []
    },
    {
      "cell_type": "code",
      "source": [
        "X=cv.fit_transform(L1).toarray()\n",
        "X.shape"
      ],
      "metadata": {
        "id": "XQTSFHWzevU1",
        "colab": {
          "base_uri": "https://localhost:8080/"
        },
        "outputId": "fdf5d309-1ef5-4f33-94ea-8e0ec436621f"
      },
      "execution_count": null,
      "outputs": [
        {
          "output_type": "execute_result",
          "data": {
            "text/plain": [
              "(5842, 5281)"
            ]
          },
          "metadata": {},
          "execution_count": 20
        }
      ]
    },
    {
      "cell_type": "markdown",
      "source": [
        "BUILDING the Model"
      ],
      "metadata": {
        "id": "m6z6Y2uPgtbC"
      }
    },
    {
      "cell_type": "code",
      "source": [
        "from sklearn.model_selection import train_test_split\n",
        "from sklearn.neighbors import KNeighborsClassifier\n",
        "from sklearn import metrics\n",
        "from sklearn.preprocessing import LabelEncoder\n",
        "from sklearn.metrics import accuracy_score , classification_report\n",
        "import seaborn as sns\n",
        "from sklearn import tree\n",
        "from sklearn.tree import DecisionTreeClassifier\n",
        "from sklearn.linear_model import LogisticRegression\n",
        "from sklearn.ensemble import RandomForestClassifier\n",
        "from sklearn.model_selection import cross_val_score\n",
        "from sklearn.naive_bayes import MultinomialNB"
      ],
      "metadata": {
        "id": "todZZnybHTOB"
      },
      "execution_count": null,
      "outputs": []
    },
    {
      "cell_type": "code",
      "source": [
        "Y=data['Sentiment']\n"
      ],
      "metadata": {
        "id": "UfrwjPBKgw2s"
      },
      "execution_count": null,
      "outputs": []
    },
    {
      "cell_type": "code",
      "source": [
        "x_train,x_test,y_train,y_test=train_test_split(X,Y,test_size=20)"
      ],
      "metadata": {
        "id": "pGQxFaIWevXi"
      },
      "execution_count": null,
      "outputs": []
    },
    {
      "cell_type": "code",
      "source": [
        "knn=KNeighborsClassifier(n_neighbors=5)\n",
        "knn.fit(x_train,y_train)\n",
        "y_pred=knn.predict(x_test)"
      ],
      "metadata": {
        "id": "7jijRWpjevbC"
      },
      "execution_count": null,
      "outputs": []
    },
    {
      "cell_type": "code",
      "source": [
        "n_neighbors=30\n",
        "scores=[]\n",
        "for k in range(1,30):\n",
        "    knn=KNeighborsClassifier(n_neighbors-k)\n",
        "    knn.fit(x_train,y_train)\n",
        "    y_pred=knn.predict(x_test)\n",
        "    scores.append(round(accuracy_score(y_pred,y_test),2))"
      ],
      "metadata": {
        "id": "zVitAMrcfZE1"
      },
      "execution_count": null,
      "outputs": []
    },
    {
      "cell_type": "code",
      "source": [
        "import matplotlib.pyplot as plt\n",
        "plt.plot(range(1,30),scores)\n",
        "plt.xlabel('Value K for KNN')\n",
        "plt.ylabel('Testing Accuracy')"
      ],
      "metadata": {
        "colab": {
          "base_uri": "https://localhost:8080/",
          "height": 466
        },
        "id": "CWfgdhY8fjV4",
        "outputId": "5cd6e308-a90a-49ae-f7cb-e257cc24499a"
      },
      "execution_count": null,
      "outputs": [
        {
          "output_type": "execute_result",
          "data": {
            "text/plain": [
              "Text(0, 0.5, 'Testing Accuracy')"
            ]
          },
          "metadata": {},
          "execution_count": 34
        },
        {
          "output_type": "display_data",
          "data": {
            "text/plain": [
              "<Figure size 640x480 with 1 Axes>"
            ],
            "image/png": "[encoded data removed]"
          },
          "metadata": {}
        }
      ]
    },
    {
      "cell_type": "code",
      "source": [
        "knn=KNeighborsClassifier(n_neighbors=25) #ahsen k 25 qui donne 0.8 acccuracy mais dans la prediction pas de \"negative\"\n",
        "knn.fit(x_train,y_train)\n",
        "y_pred=knn.predict(x_test)"
      ],
      "metadata": {
        "id": "Xok4PO4jfpOO"
      },
      "execution_count": null,
      "outputs": []
    },
    {
      "cell_type": "code",
      "source": [
        "confusion_matrix = pd.crosstab(y_test, y_pred, rownames=['Actual'], colnames=['Predicted'])\n",
        "sns.heatmap(confusion_matrix, annot=True)"
      ],
      "metadata": {
        "id": "ojWE2HZ8evc-",
        "colab": {
          "base_uri": "https://localhost:8080/",
          "height": 472
        },
        "outputId": "a6a1ed94-423e-4e37-d878-b8345505109d"
      },
      "execution_count": null,
      "outputs": [
        {
          "output_type": "execute_result",
          "data": {
            "text/plain": [
              "<Axes: xlabel='Predicted', ylabel='Actual'>"
            ]
          },
          "metadata": {},
          "execution_count": 36
        },
        {
          "output_type": "display_data",
          "data": {
            "text/plain": [
              "<Figure size 640x480 with 2 Axes>"
            ],
            "image/png": "[encoded data removed]"
          },
          "metadata": {}
        }
      ]
    },
    {
      "cell_type": "markdown",
      "source": [
        "TRYING ANOTHER MODEL: DecisionTree"
      ],
      "metadata": {
        "id": "p3pB5HGqhJHy"
      }
    },
    {
      "cell_type": "code",
      "source": [
        "x_train,x_test,y_train,y_test=train_test_split(X,Y,test_size=20)"
      ],
      "metadata": {
        "id": "Ikj0OQeLjxvJ"
      },
      "execution_count": null,
      "outputs": []
    },
    {
      "cell_type": "code",
      "source": [
        "treee = tree.DecisionTreeClassifier()\n",
        "treee.fit(x_train, y_train)   #fitting our model"
      ],
      "metadata": {
        "id": "xAqXhvMUeve1"
      },
      "execution_count": null,
      "outputs": []
    },
    {
      "cell_type": "code",
      "source": [
        "y_pred=treee.predict(x_test)"
      ],
      "metadata": {
        "id": "fVzlIjyvoOt2"
      },
      "execution_count": null,
      "outputs": []
    },
    {
      "cell_type": "markdown",
      "source": [
        "Testing model’s performance"
      ],
      "metadata": {
        "id": "tiLZIxzodmV_"
      }
    },
    {
      "cell_type": "code",
      "source": [
        "print(\"score:{}\".format(accuracy_score(y_test, y_pred)))"
      ],
      "metadata": {
        "colab": {
          "base_uri": "https://localhost:8080/"
        },
        "id": "NCvqea7ndYnn",
        "outputId": "da734573-995f-442b-ed98-7a0488abe5ab"
      },
      "execution_count": null,
      "outputs": [
        {
          "output_type": "stream",
          "name": "stdout",
          "text": [
            "score:0.6\n"
          ]
        }
      ]
    },
    {
      "cell_type": "code",
      "source": [
        "confusion_matrix = pd.crosstab(y_test, y_pred, rownames=['Actual'], colnames=['Predicted'])\n",
        "sns.heatmap(confusion_matrix, annot=True) #pas \"de positive\""
      ],
      "metadata": {
        "id": "fXLvKO_sevg9",
        "colab": {
          "base_uri": "https://localhost:8080/",
          "height": 472
        },
        "outputId": "8250f22b-9b25-4abd-8dc0-39d75e2f54ab"
      },
      "execution_count": null,
      "outputs": [
        {
          "output_type": "execute_result",
          "data": {
            "text/plain": [
              "<Axes: xlabel='Predicted', ylabel='Actual'>"
            ]
          },
          "metadata": {},
          "execution_count": 51
        },
        {
          "output_type": "display_data",
          "data": {
            "text/plain": [
              "<Figure size 640x480 with 2 Axes>"
            ],
            "image/png": "[encoded data removed]"
          },
          "metadata": {}
        }
      ]
    },
    {
      "cell_type": "code",
      "source": [
        "print(classification_report(y_test,y_pred))"
      ],
      "metadata": {
        "id": "Usy3Ey7Fevlc",
        "colab": {
          "base_uri": "https://localhost:8080/"
        },
        "outputId": "5be4916c-05ff-4f98-9c26-30f9bf00fb5f"
      },
      "execution_count": null,
      "outputs": [
        {
          "output_type": "stream",
          "name": "stdout",
          "text": [
            "              precision    recall  f1-score   support\n",
            "\n",
            "    negative       0.00      0.00      0.00         1\n",
            "     neutral       0.63      0.92      0.75        13\n",
            "    positive       0.00      0.00      0.00         6\n",
            "\n",
            "    accuracy                           0.60        20\n",
            "   macro avg       0.21      0.31      0.25        20\n",
            "weighted avg       0.41      0.60      0.49        20\n",
            "\n"
          ]
        },
        {
          "output_type": "stream",
          "name": "stderr",
          "text": [
            "/usr/local/lib/python3.10/dist-packages/sklearn/metrics/_classification.py:1344: UndefinedMetricWarning: Precision and F-score are ill-defined and being set to 0.0 in labels with no predicted samples. Use `zero_division` parameter to control this behavior.\n",
            "  _warn_prf(average, modifier, msg_start, len(result))\n",
            "/usr/local/lib/python3.10/dist-packages/sklearn/metrics/_classification.py:1344: UndefinedMetricWarning: Precision and F-score are ill-defined and being set to 0.0 in labels with no predicted samples. Use `zero_division` parameter to control this behavior.\n",
            "  _warn_prf(average, modifier, msg_start, len(result))\n",
            "/usr/local/lib/python3.10/dist-packages/sklearn/metrics/_classification.py:1344: UndefinedMetricWarning: Precision and F-score are ill-defined and being set to 0.0 in labels with no predicted samples. Use `zero_division` parameter to control this behavior.\n",
            "  _warn_prf(average, modifier, msg_start, len(result))\n"
          ]
        }
      ]
    },
    {
      "cell_type": "markdown",
      "source": [
        "TRYING ANOTHER MODEL: LOGISTIC REGRESSIN\n"
      ],
      "metadata": {
        "id": "_o7nOrSmk1Vj"
      }
    },
    {
      "cell_type": "code",
      "source": [
        "x_train,x_test,y_train,y_test=train_test_split(X,Y,test_size=20)"
      ],
      "metadata": {
        "id": "tQ2zplO9kVoe"
      },
      "execution_count": null,
      "outputs": []
    },
    {
      "cell_type": "code",
      "source": [
        "logreg = LogisticRegression()   #build our logistic model\n",
        "logreg.fit(x_train, y_train)  #fitting training data\n",
        "y_pred  = logreg.predict(x_test)"
      ],
      "metadata": {
        "id": "CacuLnbgevuF"
      },
      "execution_count": null,
      "outputs": []
    },
    {
      "cell_type": "markdown",
      "source": [
        "Testing model’s performance"
      ],
      "metadata": {
        "id": "E7rMZFZpdxRN"
      }
    },
    {
      "cell_type": "code",
      "source": [
        "print(\"Accuracy={:.2f}\".format(logreg.score(x_test, y_test)))"
      ],
      "metadata": {
        "colab": {
          "base_uri": "https://localhost:8080/"
        },
        "id": "hOm13Mb6dcia",
        "outputId": "b8f60a2d-3f6b-4395-c7e1-0129beed4926"
      },
      "execution_count": null,
      "outputs": [
        {
          "output_type": "stream",
          "name": "stdout",
          "text": [
            "Accuracy=0.70\n"
          ]
        }
      ]
    },
    {
      "cell_type": "code",
      "source": [
        "confusion_matrix = pd.crosstab(y_test, y_pred, rownames=['Actual'], colnames=['Predicted'])\n",
        "sns.heatmap(confusion_matrix, annot=True)"
      ],
      "metadata": {
        "id": "BZ2Hnkphetn4",
        "colab": {
          "base_uri": "https://localhost:8080/",
          "height": 472
        },
        "outputId": "4f21aa7c-b90c-4209-f425-6b9e50ff77e9"
      },
      "execution_count": null,
      "outputs": [
        {
          "output_type": "execute_result",
          "data": {
            "text/plain": [
              "<Axes: xlabel='Predicted', ylabel='Actual'>"
            ]
          },
          "metadata": {},
          "execution_count": 56
        },
        {
          "output_type": "display_data",
          "data": {
            "text/plain": [
              "<Figure size 640x480 with 2 Axes>"
            ],
            "image/png": "[encoded data removed]"
          },
          "metadata": {}
        }
      ]
    },
    {
      "cell_type": "code",
      "source": [
        "print(classification_report(y_test,y_pred))"
      ],
      "metadata": {
        "id": "ALK-KeLAecIE",
        "colab": {
          "base_uri": "https://localhost:8080/"
        },
        "outputId": "be62dbca-4c98-4b8b-ba8e-258e24419ee7"
      },
      "execution_count": null,
      "outputs": [
        {
          "output_type": "stream",
          "name": "stdout",
          "text": [
            "              precision    recall  f1-score   support\n",
            "\n",
            "    negative       0.00      0.00      0.00         1\n",
            "     neutral       0.70      1.00      0.82        14\n",
            "    positive       0.00      0.00      0.00         5\n",
            "\n",
            "    accuracy                           0.70        20\n",
            "   macro avg       0.23      0.33      0.27        20\n",
            "weighted avg       0.49      0.70      0.58        20\n",
            "\n"
          ]
        },
        {
          "output_type": "stream",
          "name": "stderr",
          "text": [
            "/usr/local/lib/python3.10/dist-packages/sklearn/metrics/_classification.py:1344: UndefinedMetricWarning: Precision and F-score are ill-defined and being set to 0.0 in labels with no predicted samples. Use `zero_division` parameter to control this behavior.\n",
            "  _warn_prf(average, modifier, msg_start, len(result))\n",
            "/usr/local/lib/python3.10/dist-packages/sklearn/metrics/_classification.py:1344: UndefinedMetricWarning: Precision and F-score are ill-defined and being set to 0.0 in labels with no predicted samples. Use `zero_division` parameter to control this behavior.\n",
            "  _warn_prf(average, modifier, msg_start, len(result))\n",
            "/usr/local/lib/python3.10/dist-packages/sklearn/metrics/_classification.py:1344: UndefinedMetricWarning: Precision and F-score are ill-defined and being set to 0.0 in labels with no predicted samples. Use `zero_division` parameter to control this behavior.\n",
            "  _warn_prf(average, modifier, msg_start, len(result))\n"
          ]
        }
      ]
    },
    {
      "cell_type": "markdown",
      "source": [
        "RANDOM_FOREST"
      ],
      "metadata": {
        "id": "Qn_CcNgwlqME"
      }
    },
    {
      "cell_type": "code",
      "source": [
        "x_train,x_test,y_train,y_test=train_test_split(X,Y,test_size=20)"
      ],
      "metadata": {
        "id": "rczezNXfkYX_"
      },
      "execution_count": null,
      "outputs": []
    },
    {
      "cell_type": "code",
      "source": [
        "clf=RandomForestClassifier()#par defauts n_estimators =10\n",
        "clf.fit(x_train, y_train)  #Training our model\n",
        "y_pred=clf.predict(x_test)"
      ],
      "metadata": {
        "id": "BdBIO9o9lixm"
      },
      "execution_count": null,
      "outputs": []
    },
    {
      "cell_type": "markdown",
      "source": [
        "testing our model"
      ],
      "metadata": {
        "id": "J25azRQzd8Ht"
      }
    },
    {
      "cell_type": "code",
      "source": [
        "print(\"Accuracy:\", metrics.accuracy_score(y_test, y_pred))"
      ],
      "metadata": {
        "colab": {
          "base_uri": "https://localhost:8080/"
        },
        "id": "c3j4rVBMd23R",
        "outputId": "79323677-3353-4a7f-e59c-6e2afce77fdc"
      },
      "execution_count": null,
      "outputs": [
        {
          "output_type": "stream",
          "name": "stdout",
          "text": [
            "Accuracy: 0.45\n"
          ]
        }
      ]
    },
    {
      "cell_type": "code",
      "source": [
        "print(classification_report(y_test,y_pred))"
      ],
      "metadata": {
        "colab": {
          "base_uri": "https://localhost:8080/"
        },
        "id": "mOQrUTFtlizR",
        "outputId": "f650f1b7-d5fe-40de-d14c-72c22ef7a06a"
      },
      "execution_count": null,
      "outputs": [
        {
          "output_type": "stream",
          "name": "stdout",
          "text": [
            "              precision    recall  f1-score   support\n",
            "\n",
            "    negative       0.00      0.00      0.00         5\n",
            "     neutral       0.45      1.00      0.62         9\n",
            "    positive       0.00      0.00      0.00         6\n",
            "\n",
            "    accuracy                           0.45        20\n",
            "   macro avg       0.15      0.33      0.21        20\n",
            "weighted avg       0.20      0.45      0.28        20\n",
            "\n"
          ]
        },
        {
          "output_type": "stream",
          "name": "stderr",
          "text": [
            "/usr/local/lib/python3.10/dist-packages/sklearn/metrics/_classification.py:1344: UndefinedMetricWarning: Precision and F-score are ill-defined and being set to 0.0 in labels with no predicted samples. Use `zero_division` parameter to control this behavior.\n",
            "  _warn_prf(average, modifier, msg_start, len(result))\n",
            "/usr/local/lib/python3.10/dist-packages/sklearn/metrics/_classification.py:1344: UndefinedMetricWarning: Precision and F-score are ill-defined and being set to 0.0 in labels with no predicted samples. Use `zero_division` parameter to control this behavior.\n",
            "  _warn_prf(average, modifier, msg_start, len(result))\n",
            "/usr/local/lib/python3.10/dist-packages/sklearn/metrics/_classification.py:1344: UndefinedMetricWarning: Precision and F-score are ill-defined and being set to 0.0 in labels with no predicted samples. Use `zero_division` parameter to control this behavior.\n",
            "  _warn_prf(average, modifier, msg_start, len(result))\n"
          ]
        }
      ]
    },
    {
      "cell_type": "code",
      "source": [
        "confusion_matrix = pd.crosstab(y_test, y_pred, rownames=['Actual'], colnames=['Predicted'])\n",
        "sns.heatmap(confusion_matrix, annot=True) #predicted just the neutral"
      ],
      "metadata": {
        "colab": {
          "base_uri": "https://localhost:8080/",
          "height": 472
        },
        "id": "IcA72a48li1P",
        "outputId": "b0f834c9-12c3-4705-a9dd-16ec2eaea641"
      },
      "execution_count": null,
      "outputs": [
        {
          "output_type": "execute_result",
          "data": {
            "text/plain": [
              "<Axes: xlabel='Predicted', ylabel='Actual'>"
            ]
          },
          "metadata": {},
          "execution_count": 64
        },
        {
          "output_type": "display_data",
          "data": {
            "text/plain": [
              "<Figure size 640x480 with 2 Axes>"
            ],
            "image/png": "[encoded data removed]"
          },
          "metadata": {}
        }
      ]
    },
    {
      "cell_type": "code",
      "source": [
        "scores=cross_val_score(clf,X,Y,cv=3,error_score='raise')"
      ],
      "metadata": {
        "id": "KT248k59li4_"
      },
      "execution_count": null,
      "outputs": []
    },
    {
      "cell_type": "code",
      "source": [
        "print(sum(scores)/5)"
      ],
      "metadata": {
        "id": "snuZlPU_li7B",
        "colab": {
          "base_uri": "https://localhost:8080/"
        },
        "outputId": "72a7b946-eade-4819-ca5e-3a02346b5fa5"
      },
      "execution_count": null,
      "outputs": [
        {
          "output_type": "stream",
          "name": "stdout",
          "text": [
            "0.2893189543434906\n"
          ]
        }
      ]
    },
    {
      "cell_type": "markdown",
      "source": [
        "Trying maltinumialNB"
      ],
      "metadata": {
        "id": "YaMd6XqAEpxz"
      }
    },
    {
      "cell_type": "code",
      "source": [
        "x_train,x_test,y_train,y_test=train_test_split(X,Y,test_size=20)"
      ],
      "metadata": {
        "id": "mW5RYwHgkbFt"
      },
      "execution_count": null,
      "outputs": []
    },
    {
      "cell_type": "code",
      "source": [
        "clf=MultinomialNB()"
      ],
      "metadata": {
        "id": "Lb2URFjrli9B"
      },
      "execution_count": null,
      "outputs": []
    },
    {
      "cell_type": "code",
      "source": [
        "clf.fit(x_train,y_train)"
      ],
      "metadata": {
        "id": "o_M-u5djli-_",
        "colab": {
          "base_uri": "https://localhost:8080/",
          "height": 74
        },
        "outputId": "3dfaacd2-1004-4779-b876-c3db547e470d"
      },
      "execution_count": null,
      "outputs": [
        {
          "output_type": "execute_result",
          "data": {
            "text/plain": [
              "MultinomialNB()"
            ],
            "text/html": [
              "<style>#sk-container-id-1 {color: black;background-color: white;}#sk-container-id-1 pre{padding: 0;}#sk-container-id-1 div.sk-toggleable {background-color: white;}#sk-container-id-1 label.sk-toggleable__label {cursor: pointer;display: block;width: 100%;margin-bottom: 0;padding: 0.3em;box-sizing: border-box;text-align: center;}#sk-container-id-1 label.sk-toggleable__label-arrow:before {content: \"▸\";float: left;margin-right: 0.25em;color: #696969;}#sk-container-id-1 label.sk-toggleable__label-arrow:hover:before {color: black;}#sk-container-id-1 div.sk-estimator:hover label.sk-toggleable__label-arrow:before {color: black;}#sk-container-id-1 div.sk-toggleable__content {max-height: 0;max-width: 0;overflow: hidden;text-align: left;background-color: #f0f8ff;}#sk-container-id-1 div.sk-toggleable__content pre {margin: 0.2em;color: black;border-radius: 0.25em;background-color: #f0f8ff;}#sk-container-id-1 input.sk-toggleable__control:checked~div.sk-toggleable__content {max-height: 200px;max-width: 100%;overflow: auto;}#sk-container-id-1 input.sk-toggleable__control:checked~label.sk-toggleable__label-arrow:before {content: \"▾\";}#sk-container-id-1 div.sk-estimator input.sk-toggleable__control:checked~label.sk-toggleable__label {background-color: #d4ebff;}#sk-container-id-1 div.sk-label input.sk-toggleable__control:checked~label.sk-toggleable__label {background-color: #d4ebff;}#sk-container-id-1 input.sk-hidden--visually {border: 0;clip: rect(1px 1px 1px 1px);clip: rect(1px, 1px, 1px, 1px);height: 1px;margin: -1px;overflow: hidden;padding: 0;position: absolute;width: 1px;}#sk-container-id-1 div.sk-estimator {font-family: monospace;background-color: #f0f8ff;border: 1px dotted black;border-radius: 0.25em;box-sizing: border-box;margin-bottom: 0.5em;}#sk-container-id-1 div.sk-estimator:hover {background-color: #d4ebff;}#sk-container-id-1 div.sk-parallel-item::after {content: \"\";width: 100%;border-bottom: 1px solid gray;flex-grow: 1;}#sk-container-id-1 div.sk-label:hover label.sk-toggleable__label {background-color: #d4ebff;}#sk-container-id-1 div.sk-serial::before {content: \"\";position: absolute;border-left: 1px solid gray;box-sizing: border-box;top: 0;bottom: 0;left: 50%;z-index: 0;}#sk-container-id-1 div.sk-serial {display: flex;flex-direction: column;align-items: center;background-color: white;padding-right: 0.2em;padding-left: 0.2em;position: relative;}#sk-container-id-1 div.sk-item {position: relative;z-index: 1;}#sk-container-id-1 div.sk-parallel {display: flex;align-items: stretch;justify-content: center;background-color: white;position: relative;}#sk-container-id-1 div.sk-item::before, #sk-container-id-1 div.sk-parallel-item::before {content: \"\";position: absolute;border-left: 1px solid gray;box-sizing: border-box;top: 0;bottom: 0;left: 50%;z-index: -1;}#sk-container-id-1 div.sk-parallel-item {display: flex;flex-direction: column;z-index: 1;position: relative;background-color: white;}#sk-container-id-1 div.sk-parallel-item:first-child::after {align-self: flex-end;width: 50%;}#sk-container-id-1 div.sk-parallel-item:last-child::after {align-self: flex-start;width: 50%;}#sk-container-id-1 div.sk-parallel-item:only-child::after {width: 0;}#sk-container-id-1 div.sk-dashed-wrapped {border: 1px dashed gray;margin: 0 0.4em 0.5em 0.4em;box-sizing: border-box;padding-bottom: 0.4em;background-color: white;}#sk-container-id-1 div.sk-label label {font-family: monospace;font-weight: bold;display: inline-block;line-height: 1.2em;}#sk-container-id-1 div.sk-label-container {text-align: center;}#sk-container-id-1 div.sk-container {/* jupyter's `normalize.less` sets `[hidden] { display: none; }` but bootstrap.min.css set `[hidden] { display: none !important; }` so we also need the `!important` here to be able to override the default hidden behavior on the sphinx rendered scikit-learn.org. See: https://github.com/scikit-learn/scikit-learn/issues/21755 */display: inline-block !important;position: relative;}#sk-container-id-1 div.sk-text-repr-fallback {display: none;}</style><div id=\"sk-container-id-1\" class=\"sk-top-container\"><div class=\"sk-text-repr-fallback\"><pre>MultinomialNB()</pre><b>In a Jupyter environment, please rerun this cell to show the HTML representation or trust the notebook. <br />On GitHub, the HTML representation is unable to render, please try loading this page with nbviewer.org.</b></div><div class=\"sk-container\" hidden><div class=\"sk-item\"><div class=\"sk-estimator sk-toggleable\"><input class=\"sk-toggleable__control sk-hidden--visually\" id=\"sk-estimator-id-1\" type=\"checkbox\" checked><label for=\"sk-estimator-id-1\" class=\"sk-toggleable__label sk-toggleable__label-arrow\">MultinomialNB</label><div class=\"sk-toggleable__content\"><pre>MultinomialNB()</pre></div></div></div></div></div>"
            ]
          },
          "metadata": {},
          "execution_count": 69
        }
      ]
    },
    {
      "cell_type": "code",
      "source": [
        "y_predicted=clf.predict(x_test)"
      ],
      "metadata": {
        "id": "7vyJK8_iljBJ"
      },
      "execution_count": null,
      "outputs": []
    },
    {
      "cell_type": "markdown",
      "source": [
        "Testing our model"
      ],
      "metadata": {
        "id": "dfYtOLFqeBIB"
      }
    },
    {
      "cell_type": "code",
      "source": [
        "print(\"Accuracy:\", metrics.accuracy_score(y_test, y_pred))"
      ],
      "metadata": {
        "id": "eMyXe0pBljCs",
        "colab": {
          "base_uri": "https://localhost:8080/"
        },
        "outputId": "6381626d-362e-423a-c6e3-29ffa08b1b05"
      },
      "execution_count": null,
      "outputs": [
        {
          "output_type": "stream",
          "name": "stdout",
          "text": [
            "Accuracy: 0.5\n"
          ]
        }
      ]
    },
    {
      "cell_type": "code",
      "source": [
        "confusion_matrix = pd.crosstab(y_test, y_pred, rownames=['Actual'], colnames=['Predicted'])\n",
        "sns.heatmap(confusion_matrix, annot=True)"
      ],
      "metadata": {
        "id": "rQBfdpTQljE2",
        "colab": {
          "base_uri": "https://localhost:8080/",
          "height": 472
        },
        "outputId": "6bf919c5-dff9-4fbd-acd1-1c7591f34650"
      },
      "execution_count": null,
      "outputs": [
        {
          "output_type": "execute_result",
          "data": {
            "text/plain": [
              "<Axes: xlabel='Predicted', ylabel='Actual'>"
            ]
          },
          "metadata": {},
          "execution_count": 72
        },
        {
          "output_type": "display_data",
          "data": {
            "text/plain": [
              "<Figure size 640x480 with 2 Axes>"
            ],
            "image/png": "[encoded data removed]"
          },
          "metadata": {}
        }
      ]
    },
    {
      "cell_type": "code",
      "source": [
        "print(classification_report(y_test,y_pred))"
      ],
      "metadata": {
        "id": "6qbZxvjIljIO",
        "colab": {
          "base_uri": "https://localhost:8080/"
        },
        "outputId": "a0e91647-096a-42d5-f8c5-34c7584101ff"
      },
      "execution_count": null,
      "outputs": [
        {
          "output_type": "stream",
          "name": "stdout",
          "text": [
            "              precision    recall  f1-score   support\n",
            "\n",
            "    negative       0.00      0.00      0.00         3\n",
            "     neutral       0.50      1.00      0.67        10\n",
            "    positive       0.00      0.00      0.00         7\n",
            "\n",
            "    accuracy                           0.50        20\n",
            "   macro avg       0.17      0.33      0.22        20\n",
            "weighted avg       0.25      0.50      0.33        20\n",
            "\n"
          ]
        },
        {
          "output_type": "stream",
          "name": "stderr",
          "text": [
            "/usr/local/lib/python3.10/dist-packages/sklearn/metrics/_classification.py:1344: UndefinedMetricWarning: Precision and F-score are ill-defined and being set to 0.0 in labels with no predicted samples. Use `zero_division` parameter to control this behavior.\n",
            "  _warn_prf(average, modifier, msg_start, len(result))\n",
            "/usr/local/lib/python3.10/dist-packages/sklearn/metrics/_classification.py:1344: UndefinedMetricWarning: Precision and F-score are ill-defined and being set to 0.0 in labels with no predicted samples. Use `zero_division` parameter to control this behavior.\n",
            "  _warn_prf(average, modifier, msg_start, len(result))\n",
            "/usr/local/lib/python3.10/dist-packages/sklearn/metrics/_classification.py:1344: UndefinedMetricWarning: Precision and F-score are ill-defined and being set to 0.0 in labels with no predicted samples. Use `zero_division` parameter to control this behavior.\n",
            "  _warn_prf(average, modifier, msg_start, len(result))\n"
          ]
        }
      ]
    },
    {
      "cell_type": "markdown",
      "source": [
        "Model Deployment"
      ],
      "metadata": {
        "id": "MqeSTJznp7vz"
      }
    },
    {
      "cell_type": "markdown",
      "source": [
        "Conclusion, aucun model donne vraiment un bon resultat , on passe alors au deep learning"
      ],
      "metadata": {
        "id": "WqWIS4f_q2oA"
      }
    }
  ]
}