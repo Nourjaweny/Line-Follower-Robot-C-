{
  "cells": [
    {
      "cell_type": "markdown",
      "metadata": {
        "id": "view-in-github",
        "colab_type": "text"
      },
      "source": [
        "<a href=\"https://colab.research.google.com/github/Nourjaweny/Some-machine-Learning-projects/blob/main/Sentiment_Analysis_Project_NLP.ipynb\" target=\"_parent\"><img src=\"https://colab.research.google.com/assets/colab-badge.svg\" alt=\"Open In Colab\"/></a>"
      ]
    },
    {
      "cell_type": "markdown",
      "metadata": {
        "id": "KnZxNWXdewZN"
      },
      "source": [
        "Importing libraries"
      ]
    },
    {
      "cell_type": "code",
      "execution_count": null,
      "metadata": {
        "id": "MVvrdx5HKI0O",
        "colab": {
          "base_uri": "https://localhost:8080/"
        },
        "outputId": "8d8af707-757c-4a4f-cd35-5f9953d2dfab"
      },
      "outputs": [
        {
          "output_type": "stream",
          "name": "stdout",
          "text": [
            "Requirement already satisfied: beautifulsoup4 in /usr/local/lib/python3.10/dist-packages (4.12.3)\n",
            "Requirement already satisfied: soupsieve>1.2 in /usr/local/lib/python3.10/dist-packages (from beautifulsoup4) (2.5)\n"
          ]
        }
      ],
      "source": [
        "!pip install beautifulsoup4"
      ]
    },
    {
      "cell_type": "code",
      "execution_count": null,
      "metadata": {
        "id": "iWRLLTUVeyK8"
      },
      "outputs": [],
      "source": [
        "import numpy as np\n",
        "import pandas as pd\n",
        "import matplotlib.pyplot as plt\n",
        "import seaborn as sns\n",
        "from bs4 import BeautifulSoup"
      ]
    },
    {
      "cell_type": "code",
      "execution_count": null,
      "metadata": {
        "id": "5S8ZRVWRfGbD"
      },
      "outputs": [],
      "source": [
        "data=pd.read_csv(\"/content/data.csv\")"
      ]
    },
    {
      "cell_type": "markdown",
      "metadata": {
        "id": "ihFqeQNoQEar"
      },
      "source": [
        "Visualization"
      ]
    },
    {
      "cell_type": "code",
      "execution_count": null,
      "metadata": {
        "id": "JkBku5ZEQIjs",
        "colab": {
          "base_uri": "https://localhost:8080/",
          "height": 542
        },
        "outputId": "0d195ac4-e545-4985-c775-b6add022cdef"
      },
      "outputs": [
        {
          "output_type": "display_data",
          "data": {
            "text/html": [
              "<html>\n",
              "<head><meta charset=\"utf-8\" /></head>\n",
              "<body>\n",
              "    <div>            <script src=\"https://cdnjs.cloudflare.com/ajax/libs/mathjax/2.7.5/MathJax.js?config=TeX-AMS-MML_SVG\"></script><script type=\"text/javascript\">if (window.MathJax && window.MathJax.Hub && window.MathJax.Hub.Config) {window.MathJax.Hub.Config({SVG: {font: \"STIX-Web\"}});}</script>                <script type=\"text/javascript\">window.PlotlyConfig = {MathJaxConfig: 'local'};</script>\n",
              "        <script charset=\"utf-8\" src=\"https://cdn.plot.ly/plotly-2.24.1.min.js\"></script>                <div id=\"58a594ab-2d0d-4fa0-8ac2-0d2bb75770ee\" class=\"plotly-graph-div\" style=\"height:525px; width:100%;\"></div>            <script type=\"text/javascript\">                                    window.PLOTLYENV=window.PLOTLYENV || {};                                    if (document.getElementById(\"58a594ab-2d0d-4fa0-8ac2-0d2bb75770ee\")) {                    Plotly.newPlot(                        \"58a594ab-2d0d-4fa0-8ac2-0d2bb75770ee\",                        [{\"alignmentgroup\":\"True\",\"bingroup\":\"x\",\"hovertemplate\":\"Sentiment=%{x}\\u003cbr\\u003ecount=%{y}\\u003cextra\\u003e\\u003c\\u002fextra\\u003e\",\"legendgroup\":\"\",\"marker\":{\"color\":\"#636efa\",\"pattern\":{\"shape\":\"\"}},\"name\":\"\",\"nbinsx\":15,\"offsetgroup\":\"\",\"orientation\":\"v\",\"showlegend\":false,\"x\":[\"positive\",\"negative\",\"positive\",\"neutral\",\"neutral\",\"positive\",\"negative\",\"negative\",\"positive\",\"neutral\",\"positive\",\"negative\",\"positive\",\"neutral\",\"neutral\",\"positive\",\"positive\",\"neutral\",\"neutral\",\"neutral\",\"neutral\",\"positive\",\"neutral\",\"neutral\",\"neutral\",\"positive\",\"positive\",\"neutral\",\"neutral\",\"neutral\",\"positive\",\"neutral\",\"positive\",\"neutral\",\"positive\",\"neutral\",\"neutral\",\"positive\",\"neutral\",\"negative\",\"negative\",\"negative\",\"negative\",\"positive\",\"positive\",\"negative\",\"neutral\",\"neutral\",\"positive\",\"neutral\",\"positive\",\"positive\",\"positive\",\"positive\",\"neutral\",\"positive\",\"neutral\",\"neutral\",\"neutral\",\"neutral\",\"positive\",\"neutral\",\"neutral\",\"negative\",\"positive\",\"positive\",\"negative\",\"neutral\",\"positive\",\"neutral\",\"neutral\",\"neutral\",\"neutral\",\"neutral\",\"negative\",\"neutral\",\"positive\",\"neutral\",\"positive\",\"neutral\",\"negative\",\"neutral\",\"positive\",\"neutral\",\"negative\",\"neutral\",\"neutral\",\"neutral\",\"neutral\",\"positive\",\"positive\",\"negative\",\"positive\",\"neutral\",\"neutral\",\"neutral\",\"neutral\",\"neutral\",\"negative\",\"neutral\",\"positive\",\"negative\",\"neutral\",\"neutral\",\"neutral\",\"neutral\",\"positive\",\"neutral\",\"neutral\",\"neutral\",\"neutral\",\"neutral\",\"negative\",\"neutral\",\"negative\",\"neutral\",\"neutral\",\"neutral\",\"positive\",\"neutral\",\"positive\",\"neutral\",\"positive\",\"negative\",\"positive\",\"negative\",\"positive\",\"neutral\",\"neutral\",\"neutral\",\"neutral\",\"negative\",\"neutral\",\"neutral\",\"positive\",\"positive\",\"positive\",\"positive\",\"neutral\",\"neutral\",\"neutral\",\"neutral\",\"neutral\",\"neutral\",\"neutral\",\"positive\",\"negative\",\"positive\",\"positive\",\"neutral\",\"positive\",\"neutral\",\"positive\",\"negative\",\"positive\",\"positive\",\"positive\",\"neutral\",\"positive\",\"neutral\",\"neutral\",\"neutral\",\"positive\",\"neutral\",\"negative\",\"neutral\",\"neutral\",\"negative\",\"positive\",\"neutral\",\"positive\",\"neutral\",\"negative\",\"positive\",\"positive\",\"neutral\",\"positive\",\"positive\",\"positive\",\"neutral\",\"neutral\",\"positive\",\"neutral\",\"neutral\",\"positive\",\"neutral\",\"negative\",\"neutral\",\"neutral\",\"positive\",\"neutral\",\"positive\",\"neutral\",\"neutral\",\"neutral\",\"neutral\",\"negative\",\"neutral\",\"positive\",\"neutral\",\"neutral\",\"neutral\",\"positive\",\"neutral\",\"neutral\",\"negative\",\"neutral\",\"positive\",\"neutral\",\"positive\",\"neutral\",\"neutral\",\"negative\",\"neutral\",\"neutral\",\"neutral\",\"neutral\",\"neutral\",\"neutral\",\"neutral\",\"positive\",\"negative\",\"neutral\",\"negative\",\"positive\",\"positive\",\"negative\",\"positive\",\"neutral\",\"positive\",\"neutral\",\"neutral\",\"positive\",\"neutral\",\"neutral\",\"negative\",\"neutral\",\"positive\",\"negative\",\"positive\",\"neutral\",\"positive\",\"neutral\",\"positive\",\"neutral\",\"negative\",\"positive\",\"positive\",\"negative\",\"neutral\",\"negative\",\"neutral\",\"negative\",\"neutral\",\"neutral\",\"positive\",\"neutral\",\"negative\",\"neutral\",\"neutral\",\"neutral\",\"neutral\",\"positive\",\"neutral\",\"positive\",\"positive\",\"neutral\",\"neutral\",\"positive\",\"negative\",\"neutral\",\"negative\",\"neutral\",\"neutral\",\"neutral\",\"neutral\",\"positive\",\"neutral\",\"positive\",\"negative\",\"neutral\",\"positive\",\"neutral\",\"negative\",\"positive\",\"positive\",\"negative\",\"neutral\",\"neutral\",\"neutral\",\"neutral\",\"positive\",\"neutral\",\"neutral\",\"positive\",\"neutral\",\"positive\",\"negative\",\"neutral\",\"positive\",\"neutral\",\"neutral\",\"positive\",\"positive\",\"negative\",\"positive\",\"positive\",\"neutral\",\"neutral\",\"positive\",\"negative\",\"neutral\",\"neutral\",\"neutral\",\"positive\",\"neutral\",\"negative\",\"positive\",\"neutral\",\"neutral\",\"positive\",\"neutral\",\"negative\",\"positive\",\"positive\",\"neutral\",\"positive\",\"neutral\",\"neutral\",\"negative\",\"neutral\",\"neutral\",\"neutral\",\"neutral\",\"neutral\",\"neutral\",\"positive\",\"neutral\",\"neutral\",\"neutral\",\"negative\",\"positive\",\"neutral\",\"neutral\",\"negative\",\"negative\",\"neutral\",\"negative\",\"neutral\",\"negative\",\"neutral\",\"neutral\",\"neutral\",\"neutral\",\"neutral\",\"neutral\",\"neutral\",\"neutral\",\"neutral\",\"neutral\",\"negative\",\"positive\",\"neutral\",\"neutral\",\"neutral\",\"neutral\",\"positive\",\"neutral\",\"positive\",\"positive\",\"neutral\",\"negative\",\"neutral\",\"neutral\",\"positive\",\"positive\",\"neutral\",\"neutral\",\"neutral\",\"negative\",\"neutral\",\"neutral\",\"neutral\",\"negative\",\"negative\",\"positive\",\"positive\",\"negative\",\"positive\",\"neutral\",\"neutral\",\"neutral\",\"neutral\",\"neutral\",\"positive\",\"positive\",\"neutral\",\"neutral\",\"negative\",\"positive\",\"positive\",\"neutral\",\"neutral\",\"negative\",\"neutral\",\"neutral\",\"neutral\",\"neutral\",\"neutral\",\"neutral\",\"neutral\",\"positive\",\"neutral\",\"neutral\",\"neutral\",\"neutral\",\"neutral\",\"neutral\",\"neutral\",\"neutral\",\"positive\",\"neutral\",\"neutral\",\"neutral\",\"neutral\",\"neutral\",\"negative\",\"neutral\",\"neutral\",\"negative\",\"positive\",\"positive\",\"neutral\",\"positive\",\"positive\",\"neutral\",\"positive\",\"neutral\",\"neutral\",\"neutral\",\"neutral\",\"negative\",\"positive\",\"neutral\",\"positive\",\"neutral\",\"neutral\",\"positive\",\"neutral\",\"neutral\",\"neutral\",\"neutral\",\"neutral\",\"positive\",\"neutral\",\"negative\",\"neutral\",\"positive\",\"negative\",\"neutral\",\"neutral\",\"positive\",\"positive\",\"neutral\",\"positive\",\"negative\",\"neutral\",\"neutral\",\"neutral\",\"positive\",\"neutral\",\"positive\",\"negative\",\"neutral\",\"negative\",\"neutral\",\"neutral\",\"positive\",\"negative\",\"positive\",\"negative\",\"positive\",\"negative\",\"neutral\",\"neutral\",\"neutral\",\"neutral\",\"neutral\",\"neutral\",\"neutral\",\"positive\",\"negative\",\"neutral\",\"neutral\",\"positive\",\"neutral\",\"negative\",\"neutral\",\"negative\",\"neutral\",\"neutral\",\"neutral\",\"positive\",\"negative\",\"positive\",\"negative\",\"positive\",\"neutral\",\"positive\",\"neutral\",\"positive\",\"negative\",\"neutral\",\"positive\",\"neutral\",\"neutral\",\"neutral\",\"negative\",\"negative\",\"neutral\",\"neutral\",\"positive\",\"neutral\",\"positive\",\"positive\",\"neutral\",\"neutral\",\"neutral\",\"neutral\",\"neutral\",\"neutral\",\"neutral\",\"positive\",\"neutral\",\"positive\",\"positive\",\"neutral\",\"negative\",\"positive\",\"neutral\",\"neutral\",\"neutral\",\"positive\",\"neutral\",\"neutral\",\"neutral\",\"positive\",\"neutral\",\"neutral\",\"positive\",\"positive\",\"neutral\",\"positive\",\"neutral\",\"neutral\",\"negative\",\"positive\",\"positive\",\"neutral\",\"neutral\",\"neutral\",\"neutral\",\"negative\",\"neutral\",\"neutral\",\"positive\",\"positive\",\"positive\",\"neutral\",\"positive\",\"negative\",\"neutral\",\"neutral\",\"neutral\",\"neutral\",\"neutral\",\"neutral\",\"positive\",\"positive\",\"negative\",\"positive\",\"positive\",\"neutral\",\"neutral\",\"neutral\",\"neutral\",\"positive\",\"neutral\",\"neutral\",\"neutral\",\"negative\",\"positive\",\"neutral\",\"neutral\",\"positive\",\"neutral\",\"positive\",\"neutral\",\"neutral\",\"neutral\",\"positive\",\"neutral\",\"positive\",\"neutral\",\"positive\",\"positive\",\"neutral\",\"positive\",\"positive\",\"neutral\",\"positive\",\"neutral\",\"positive\",\"positive\",\"positive\",\"positive\",\"neutral\",\"neutral\",\"neutral\",\"neutral\",\"neutral\",\"neutral\",\"negative\",\"neutral\",\"negative\",\"neutral\",\"neutral\",\"neutral\",\"positive\",\"neutral\",\"positive\",\"neutral\",\"neutral\",\"neutral\",\"neutral\",\"negative\",\"neutral\",\"positive\",\"neutral\",\"positive\",\"neutral\",\"neutral\",\"neutral\",\"neutral\",\"positive\",\"neutral\",\"positive\",\"neutral\",\"neutral\",\"positive\",\"neutral\",\"negative\",\"positive\",\"positive\",\"positive\",\"neutral\",\"positive\",\"positive\",\"positive\",\"neutral\",\"positive\",\"neutral\",\"negative\",\"positive\",\"neutral\",\"positive\",\"neutral\",\"positive\",\"positive\",\"positive\",\"negative\",\"neutral\",\"neutral\",\"positive\",\"positive\",\"neutral\",\"neutral\",\"positive\",\"neutral\",\"neutral\",\"neutral\",\"positive\",\"neutral\",\"positive\",\"positive\",\"positive\",\"positive\",\"positive\",\"positive\",\"neutral\",\"negative\",\"positive\",\"positive\",\"neutral\",\"positive\",\"neutral\",\"neutral\",\"neutral\",\"neutral\",\"positive\",\"positive\",\"positive\",\"neutral\",\"positive\",\"neutral\",\"negative\",\"neutral\",\"negative\",\"neutral\",\"positive\",\"positive\",\"neutral\",\"neutral\",\"negative\",\"neutral\",\"negative\",\"neutral\",\"neutral\",\"neutral\",\"positive\",\"negative\",\"neutral\",\"positive\",\"positive\",\"positive\",\"positive\",\"positive\",\"neutral\",\"neutral\",\"positive\",\"positive\",\"positive\",\"neutral\",\"positive\",\"positive\",\"neutral\",\"neutral\",\"positive\",\"positive\",\"positive\",\"neutral\",\"neutral\",\"negative\",\"neutral\",\"neutral\",\"positive\",\"negative\",\"neutral\",\"positive\",\"neutral\",\"neutral\",\"neutral\",\"positive\",\"positive\",\"neutral\",\"positive\",\"neutral\",\"positive\",\"neutral\",\"neutral\",\"neutral\",\"negative\",\"neutral\",\"neutral\",\"neutral\",\"positive\",\"positive\",\"positive\",\"negative\",\"positive\",\"positive\",\"neutral\",\"neutral\",\"neutral\",\"positive\",\"neutral\",\"neutral\",\"negative\",\"neutral\",\"positive\",\"positive\",\"positive\",\"neutral\",\"neutral\",\"neutral\",\"neutral\",\"neutral\",\"positive\",\"negative\",\"neutral\",\"positive\",\"positive\",\"neutral\",\"neutral\",\"neutral\",\"neutral\",\"neutral\",\"neutral\",\"positive\",\"positive\",\"neutral\",\"neutral\",\"positive\",\"neutral\",\"neutral\",\"neutral\",\"neutral\",\"positive\",\"neutral\",\"positive\",\"negative\",\"positive\",\"neutral\",\"neutral\",\"positive\",\"neutral\",\"positive\",\"neutral\",\"positive\",\"positive\",\"neutral\",\"neutral\",\"neutral\",\"positive\",\"positive\",\"negative\",\"negative\",\"positive\",\"neutral\",\"neutral\",\"neutral\",\"negative\",\"neutral\",\"positive\",\"negative\",\"neutral\",\"neutral\",\"positive\",\"neutral\",\"neutral\",\"neutral\",\"neutral\",\"neutral\",\"positive\",\"neutral\",\"positive\",\"negative\",\"neutral\",\"neutral\",\"positive\",\"positive\",\"negative\",\"neutral\",\"neutral\",\"neutral\",\"negative\",\"positive\",\"neutral\",\"positive\",\"positive\",\"positive\",\"neutral\",\"neutral\",\"positive\",\"neutral\",\"positive\",\"neutral\",\"positive\",\"neutral\",\"negative\",\"neutral\",\"neutral\",\"negative\",\"neutral\",\"neutral\",\"neutral\",\"positive\",\"neutral\",\"neutral\",\"positive\",\"neutral\",\"positive\",\"neutral\",\"neutral\",\"neutral\",\"neutral\",\"negative\",\"neutral\",\"negative\",\"neutral\",\"neutral\",\"positive\",\"neutral\",\"neutral\",\"positive\",\"negative\",\"neutral\",\"negative\",\"positive\",\"positive\",\"positive\",\"positive\",\"negative\",\"positive\",\"neutral\",\"positive\",\"positive\",\"neutral\",\"negative\",\"positive\",\"positive\",\"neutral\",\"positive\",\"neutral\",\"neutral\",\"negative\",\"neutral\",\"neutral\",\"neutral\",\"positive\",\"positive\",\"neutral\",\"positive\",\"neutral\",\"neutral\",\"positive\",\"positive\",\"neutral\",\"neutral\",\"negative\",\"neutral\",\"neutral\",\"neutral\",\"neutral\",\"positive\",\"positive\",\"positive\",\"positive\",\"neutral\",\"neutral\",\"positive\",\"neutral\",\"negative\",\"positive\",\"positive\",\"positive\",\"positive\",\"negative\",\"negative\",\"positive\",\"positive\",\"negative\",\"negative\",\"neutral\",\"positive\",\"positive\",\"positive\",\"positive\",\"neutral\",\"negative\",\"neutral\",\"neutral\",\"negative\",\"neutral\",\"positive\",\"neutral\",\"neutral\",\"negative\",\"positive\",\"neutral\",\"positive\",\"neutral\",\"neutral\",\"positive\",\"neutral\",\"neutral\",\"negative\",\"neutral\",\"negative\",\"positive\",\"positive\",\"positive\",\"neutral\",\"positive\",\"negative\",\"neutral\",\"positive\",\"neutral\",\"neutral\",\"positive\",\"neutral\",\"neutral\",\"neutral\",\"positive\",\"positive\",\"negative\",\"neutral\",\"negative\",\"positive\",\"neutral\",\"neutral\",\"neutral\",\"positive\",\"neutral\",\"positive\",\"positive\",\"positive\",\"neutral\",\"neutral\",\"positive\",\"neutral\",\"neutral\",\"positive\",\"positive\",\"neutral\",\"positive\",\"negative\",\"neutral\",\"positive\",\"positive\",\"neutral\",\"positive\",\"neutral\",\"negative\",\"positive\",\"neutral\",\"neutral\",\"positive\",\"neutral\",\"negative\",\"positive\",\"neutral\",\"positive\",\"neutral\",\"positive\",\"neutral\",\"neutral\",\"neutral\",\"neutral\",\"neutral\",\"neutral\",\"positive\",\"positive\",\"neutral\",\"positive\",\"positive\",\"positive\",\"neutral\",\"positive\",\"neutral\",\"neutral\",\"negative\",\"positive\",\"neutral\",\"neutral\",\"neutral\",\"neutral\",\"neutral\",\"positive\",\"positive\",\"neutral\",\"neutral\",\"negative\",\"positive\",\"neutral\",\"negative\",\"positive\",\"positive\",\"negative\",\"neutral\",\"neutral\",\"neutral\",\"neutral\",\"positive\",\"neutral\",\"neutral\",\"neutral\",\"neutral\",\"neutral\",\"neutral\",\"neutral\",\"negative\",\"positive\",\"neutral\",\"negative\",\"positive\",\"negative\",\"positive\",\"neutral\",\"neutral\",\"neutral\",\"neutral\",\"neutral\",\"neutral\",\"positive\",\"negative\",\"positive\",\"neutral\",\"negative\",\"neutral\",\"neutral\",\"neutral\",\"positive\",\"positive\",\"neutral\",\"neutral\",\"positive\",\"neutral\",\"neutral\",\"positive\",\"negative\",\"neutral\",\"neutral\",\"neutral\",\"neutral\",\"positive\",\"positive\",\"neutral\",\"positive\",\"neutral\",\"negative\",\"neutral\",\"neutral\",\"positive\",\"neutral\",\"negative\",\"neutral\",\"positive\",\"negative\",\"neutral\",\"neutral\",\"neutral\",\"neutral\",\"neutral\",\"positive\",\"neutral\",\"neutral\",\"positive\",\"neutral\",\"positive\",\"positive\",\"negative\",\"negative\",\"positive\",\"positive\",\"positive\",\"neutral\",\"positive\",\"negative\",\"negative\",\"positive\",\"neutral\",\"positive\",\"neutral\",\"neutral\",\"neutral\",\"neutral\",\"negative\",\"neutral\",\"positive\",\"neutral\",\"positive\",\"neutral\",\"positive\",\"positive\",\"negative\",\"neutral\",\"neutral\",\"neutral\",\"neutral\",\"neutral\",\"positive\",\"neutral\",\"positive\",\"positive\",\"neutral\",\"positive\",\"positive\",\"neutral\",\"neutral\",\"negative\",\"positive\",\"neutral\",\"neutral\",\"positive\",\"neutral\",\"neutral\",\"neutral\",\"neutral\",\"neutral\",\"neutral\",\"neutral\",\"positive\",\"neutral\",\"positive\",\"positive\",\"positive\",\"neutral\",\"positive\",\"positive\",\"neutral\",\"positive\",\"positive\",\"neutral\",\"neutral\",\"neutral\",\"negative\",\"neutral\",\"neutral\",\"neutral\",\"neutral\",\"neutral\",\"negative\",\"negative\",\"positive\",\"neutral\",\"neutral\",\"positive\",\"neutral\",\"negative\",\"negative\",\"neutral\",\"neutral\",\"positive\",\"neutral\",\"positive\",\"neutral\",\"neutral\",\"positive\",\"neutral\",\"negative\",\"neutral\",\"neutral\",\"neutral\",\"positive\",\"neutral\",\"positive\",\"neutral\",\"negative\",\"positive\",\"neutral\",\"positive\",\"positive\",\"negative\",\"neutral\",\"negative\",\"positive\",\"negative\",\"positive\",\"positive\",\"negative\",\"negative\",\"negative\",\"neutral\",\"neutral\",\"negative\",\"negative\",\"positive\",\"negative\",\"neutral\",\"negative\",\"neutral\",\"neutral\",\"negative\",\"positive\",\"positive\",\"positive\",\"positive\",\"neutral\",\"neutral\",\"positive\",\"neutral\",\"neutral\",\"neutral\",\"neutral\",\"positive\",\"neutral\",\"neutral\",\"negative\",\"positive\",\"neutral\",\"positive\",\"neutral\",\"positive\",\"positive\",\"neutral\",\"neutral\",\"positive\",\"neutral\",\"positive\",\"neutral\",\"negative\",\"neutral\",\"negative\",\"neutral\",\"positive\",\"negative\",\"neutral\",\"negative\",\"positive\",\"neutral\",\"positive\",\"neutral\",\"positive\",\"neutral\",\"neutral\",\"negative\",\"positive\",\"neutral\",\"negative\",\"neutral\",\"negative\",\"neutral\",\"positive\",\"positive\",\"neutral\",\"neutral\",\"positive\",\"neutral\",\"positive\",\"neutral\",\"negative\",\"neutral\",\"neutral\",\"neutral\",\"positive\",\"neutral\",\"positive\",\"neutral\",\"positive\",\"negative\",\"neutral\",\"positive\",\"positive\",\"neutral\",\"neutral\",\"neutral\",\"neutral\",\"neutral\",\"neutral\",\"neutral\",\"positive\",\"neutral\",\"neutral\",\"negative\",\"neutral\",\"positive\",\"positive\",\"positive\",\"negative\",\"positive\",\"positive\",\"positive\",\"neutral\",\"neutral\",\"positive\",\"neutral\",\"neutral\",\"positive\",\"positive\",\"neutral\",\"positive\",\"neutral\",\"neutral\",\"neutral\",\"neutral\",\"neutral\",\"neutral\",\"neutral\",\"negative\",\"neutral\",\"positive\",\"neutral\",\"negative\",\"negative\",\"positive\",\"positive\",\"positive\",\"negative\",\"positive\",\"neutral\",\"neutral\",\"negative\",\"positive\",\"positive\",\"positive\",\"neutral\",\"neutral\",\"neutral\",\"negative\",\"neutral\",\"neutral\",\"positive\",\"negative\",\"neutral\",\"neutral\",\"neutral\",\"neutral\",\"neutral\",\"neutral\",\"positive\",\"neutral\",\"neutral\",\"negative\",\"positive\",\"neutral\",\"positive\",\"neutral\",\"negative\",\"negative\",\"neutral\",\"neutral\",\"positive\",\"neutral\",\"neutral\",\"negative\",\"negative\",\"positive\",\"neutral\",\"positive\",\"neutral\",\"neutral\",\"neutral\",\"neutral\",\"neutral\",\"neutral\",\"neutral\",\"neutral\",\"negative\",\"neutral\",\"neutral\",\"neutral\",\"positive\",\"positive\",\"neutral\",\"positive\",\"positive\",\"neutral\",\"positive\",\"neutral\",\"neutral\",\"neutral\",\"negative\",\"positive\",\"neutral\",\"neutral\",\"negative\",\"neutral\",\"neutral\",\"positive\",\"neutral\",\"neutral\",\"positive\",\"neutral\",\"neutral\",\"neutral\",\"positive\",\"negative\",\"positive\",\"neutral\",\"neutral\",\"neutral\",\"positive\",\"negative\",\"negative\",\"neutral\",\"neutral\",\"neutral\",\"positive\",\"positive\",\"neutral\",\"neutral\",\"neutral\",\"neutral\",\"positive\",\"positive\",\"neutral\",\"negative\",\"positive\",\"neutral\",\"neutral\",\"positive\",\"positive\",\"negative\",\"positive\",\"neutral\",\"positive\",\"positive\",\"negative\",\"neutral\",\"positive\",\"neutral\",\"negative\",\"positive\",\"neutral\",\"neutral\",\"neutral\",\"neutral\",\"neutral\",\"positive\",\"neutral\",\"negative\",\"negative\",\"neutral\",\"neutral\",\"neutral\",\"positive\",\"neutral\",\"neutral\",\"positive\",\"neutral\",\"positive\",\"negative\",\"positive\",\"positive\",\"neutral\",\"negative\",\"neutral\",\"positive\",\"neutral\",\"negative\",\"positive\",\"neutral\",\"neutral\",\"neutral\",\"negative\",\"positive\",\"neutral\",\"positive\",\"positive\",\"positive\",\"positive\",\"positive\",\"neutral\",\"positive\",\"neutral\",\"neutral\",\"neutral\",\"neutral\",\"neutral\",\"neutral\",\"neutral\",\"neutral\",\"positive\",\"neutral\",\"negative\",\"neutral\",\"positive\",\"neutral\",\"neutral\",\"negative\",\"neutral\",\"neutral\",\"negative\",\"neutral\",\"neutral\",\"negative\",\"neutral\",\"neutral\",\"negative\",\"positive\",\"positive\",\"neutral\",\"neutral\",\"neutral\",\"neutral\",\"negative\",\"neutral\",\"positive\",\"positive\",\"positive\",\"negative\",\"negative\",\"neutral\",\"neutral\",\"neutral\",\"neutral\",\"neutral\",\"neutral\",\"positive\",\"neutral\",\"neutral\",\"neutral\",\"negative\",\"positive\",\"positive\",\"neutral\",\"neutral\",\"positive\",\"neutral\",\"positive\",\"neutral\",\"neutral\",\"negative\",\"negative\",\"positive\",\"neutral\",\"positive\",\"neutral\",\"neutral\",\"neutral\",\"neutral\",\"positive\",\"positive\",\"neutral\",\"positive\",\"neutral\",\"positive\",\"neutral\",\"positive\",\"positive\",\"neutral\",\"neutral\",\"negative\",\"neutral\",\"positive\",\"neutral\",\"neutral\",\"neutral\",\"positive\",\"neutral\",\"positive\",\"positive\",\"negative\",\"neutral\",\"negative\",\"positive\",\"neutral\",\"positive\",\"positive\",\"neutral\",\"negative\",\"neutral\",\"neutral\",\"positive\",\"positive\",\"negative\",\"neutral\",\"neutral\",\"positive\",\"neutral\",\"positive\",\"neutral\",\"negative\",\"positive\",\"neutral\",\"positive\",\"neutral\",\"neutral\",\"negative\",\"neutral\",\"neutral\",\"positive\",\"neutral\",\"positive\",\"neutral\",\"negative\",\"neutral\",\"positive\",\"neutral\",\"neutral\",\"neutral\",\"neutral\",\"positive\",\"positive\",\"negative\",\"negative\",\"negative\",\"negative\",\"neutral\",\"positive\",\"positive\",\"neutral\",\"neutral\",\"neutral\",\"neutral\",\"negative\",\"neutral\",\"negative\",\"neutral\",\"neutral\",\"positive\",\"negative\",\"neutral\",\"neutral\",\"negative\",\"neutral\",\"neutral\",\"neutral\",\"neutral\",\"positive\",\"neutral\",\"neutral\",\"negative\",\"neutral\",\"neutral\",\"negative\",\"neutral\",\"neutral\",\"neutral\",\"neutral\",\"neutral\",\"neutral\",\"positive\",\"neutral\",\"neutral\",\"positive\",\"neutral\",\"neutral\",\"positive\",\"neutral\",\"neutral\",\"neutral\",\"positive\",\"neutral\",\"negative\",\"neutral\",\"negative\",\"neutral\",\"positive\",\"positive\",\"neutral\",\"positive\",\"neutral\",\"neutral\",\"neutral\",\"neutral\",\"negative\",\"neutral\",\"neutral\",\"positive\",\"neutral\",\"positive\",\"positive\",\"positive\",\"neutral\",\"neutral\",\"neutral\",\"positive\",\"neutral\",\"neutral\",\"neutral\",\"neutral\",\"neutral\",\"positive\",\"positive\",\"neutral\",\"negative\",\"neutral\",\"positive\",\"neutral\",\"neutral\",\"neutral\",\"neutral\",\"positive\",\"neutral\",\"neutral\",\"neutral\",\"positive\",\"neutral\",\"negative\",\"neutral\",\"negative\",\"neutral\",\"neutral\",\"neutral\",\"neutral\",\"neutral\",\"positive\",\"negative\",\"neutral\",\"neutral\",\"neutral\",\"neutral\",\"positive\",\"neutral\",\"neutral\",\"neutral\",\"positive\",\"neutral\",\"neutral\",\"neutral\",\"positive\",\"positive\",\"neutral\",\"neutral\",\"neutral\",\"positive\",\"positive\",\"positive\",\"neutral\",\"neutral\",\"positive\",\"neutral\",\"negative\",\"neutral\",\"neutral\",\"neutral\",\"neutral\",\"negative\",\"neutral\",\"positive\",\"neutral\",\"neutral\",\"neutral\",\"neutral\",\"positive\",\"neutral\",\"negative\",\"positive\",\"positive\",\"negative\",\"positive\",\"neutral\",\"neutral\",\"neutral\",\"positive\",\"neutral\",\"neutral\",\"positive\",\"neutral\",\"positive\",\"negative\",\"neutral\",\"neutral\",\"neutral\",\"positive\",\"negative\",\"positive\",\"neutral\",\"positive\",\"negative\",\"neutral\",\"neutral\",\"neutral\",\"neutral\",\"neutral\",\"positive\",\"positive\",\"neutral\",\"negative\",\"neutral\",\"neutral\",\"neutral\",\"positive\",\"neutral\",\"neutral\",\"neutral\",\"neutral\",\"positive\",\"positive\",\"positive\",\"positive\",\"neutral\",\"neutral\",\"neutral\",\"neutral\",\"positive\",\"positive\",\"neutral\",\"neutral\",\"neutral\",\"neutral\",\"neutral\",\"neutral\",\"negative\",\"neutral\",\"positive\",\"positive\",\"negative\",\"positive\",\"neutral\",\"neutral\",\"neutral\",\"neutral\",\"neutral\",\"positive\",\"positive\",\"neutral\",\"positive\",\"negative\",\"positive\",\"positive\",\"positive\",\"negative\",\"neutral\",\"negative\",\"neutral\",\"neutral\",\"negative\",\"neutral\",\"positive\",\"neutral\",\"positive\",\"positive\",\"positive\",\"neutral\",\"neutral\",\"negative\",\"neutral\",\"neutral\",\"neutral\",\"neutral\",\"negative\",\"positive\",\"positive\",\"positive\",\"positive\",\"neutral\",\"negative\",\"neutral\",\"negative\",\"neutral\",\"positive\",\"negative\",\"positive\",\"neutral\",\"negative\",\"positive\",\"positive\",\"negative\",\"negative\",\"negative\",\"neutral\",\"neutral\",\"neutral\",\"neutral\",\"neutral\",\"neutral\",\"neutral\",\"neutral\",\"positive\",\"negative\",\"positive\",\"neutral\",\"positive\",\"positive\",\"neutral\",\"neutral\",\"negative\",\"positive\",\"positive\",\"neutral\",\"positive\",\"positive\",\"neutral\",\"positive\",\"neutral\",\"neutral\",\"positive\",\"negative\",\"positive\",\"positive\",\"neutral\",\"neutral\",\"neutral\",\"neutral\",\"neutral\",\"negative\",\"positive\",\"positive\",\"neutral\",\"neutral\",\"negative\",\"negative\",\"neutral\",\"positive\",\"positive\",\"positive\",\"neutral\",\"neutral\",\"neutral\",\"positive\",\"positive\",\"neutral\",\"neutral\",\"neutral\",\"neutral\",\"positive\",\"neutral\",\"neutral\",\"neutral\",\"neutral\",\"neutral\",\"positive\",\"negative\",\"positive\",\"negative\",\"neutral\",\"neutral\",\"neutral\",\"negative\",\"neutral\",\"neutral\",\"neutral\",\"neutral\",\"negative\",\"positive\",\"neutral\",\"neutral\",\"positive\",\"neutral\",\"positive\",\"neutral\",\"positive\",\"neutral\",\"neutral\",\"neutral\",\"negative\",\"positive\",\"neutral\",\"neutral\",\"positive\",\"neutral\",\"neutral\",\"positive\",\"neutral\",\"neutral\",\"neutral\",\"neutral\",\"negative\",\"neutral\",\"positive\",\"neutral\",\"positive\",\"positive\",\"positive\",\"positive\",\"positive\",\"neutral\",\"neutral\",\"positive\",\"neutral\",\"neutral\",\"neutral\",\"neutral\",\"positive\",\"negative\",\"neutral\",\"positive\",\"neutral\",\"neutral\",\"positive\",\"positive\",\"positive\",\"positive\",\"neutral\",\"negative\",\"positive\",\"positive\",\"neutral\",\"neutral\",\"neutral\",\"positive\",\"positive\",\"neutral\",\"positive\",\"neutral\",\"neutral\",\"neutral\",\"neutral\",\"positive\",\"neutral\",\"neutral\",\"positive\",\"neutral\",\"neutral\",\"neutral\",\"neutral\",\"negative\",\"neutral\",\"neutral\",\"neutral\",\"negative\",\"positive\",\"positive\",\"neutral\",\"neutral\",\"neutral\",\"neutral\",\"negative\",\"neutral\",\"positive\",\"positive\",\"neutral\",\"neutral\",\"neutral\",\"negative\",\"neutral\",\"neutral\",\"neutral\",\"negative\",\"negative\",\"neutral\",\"neutral\",\"positive\",\"neutral\",\"neutral\",\"negative\",\"negative\",\"negative\",\"neutral\",\"negative\",\"neutral\",\"positive\",\"positive\",\"neutral\",\"neutral\",\"neutral\",\"positive\",\"negative\",\"positive\",\"neutral\",\"positive\",\"negative\",\"positive\",\"neutral\",\"neutral\",\"neutral\",\"neutral\",\"negative\",\"positive\",\"neutral\",\"positive\",\"positive\",\"neutral\",\"positive\",\"neutral\",\"positive\",\"positive\",\"positive\",\"negative\",\"neutral\",\"neutral\",\"neutral\",\"neutral\",\"neutral\",\"neutral\",\"neutral\",\"positive\",\"neutral\",\"neutral\",\"positive\",\"neutral\",\"positive\",\"neutral\",\"neutral\",\"neutral\",\"neutral\",\"positive\",\"neutral\",\"negative\",\"neutral\",\"neutral\",\"positive\",\"neutral\",\"positive\",\"neutral\",\"neutral\",\"neutral\",\"neutral\",\"negative\",\"positive\",\"neutral\",\"neutral\",\"negative\",\"negative\",\"neutral\",\"positive\",\"positive\",\"neutral\",\"positive\",\"positive\",\"positive\",\"neutral\",\"negative\",\"positive\",\"positive\",\"negative\",\"neutral\",\"neutral\",\"neutral\",\"positive\",\"positive\",\"neutral\",\"negative\",\"neutral\",\"neutral\",\"positive\",\"neutral\",\"negative\",\"positive\",\"positive\",\"neutral\",\"neutral\",\"positive\",\"positive\",\"neutral\",\"neutral\",\"neutral\",\"neutral\",\"neutral\",\"positive\",\"neutral\",\"neutral\",\"positive\",\"negative\",\"neutral\",\"neutral\",\"neutral\",\"negative\",\"neutral\",\"neutral\",\"negative\",\"positive\",\"negative\",\"neutral\",\"neutral\",\"neutral\",\"neutral\",\"neutral\",\"neutral\",\"neutral\",\"neutral\",\"neutral\",\"neutral\",\"negative\",\"neutral\",\"positive\",\"neutral\",\"neutral\",\"neutral\",\"neutral\",\"negative\",\"neutral\",\"negative\",\"negative\",\"neutral\",\"neutral\",\"positive\",\"neutral\",\"neutral\",\"positive\",\"neutral\",\"negative\",\"neutral\",\"neutral\",\"negative\",\"negative\",\"neutral\",\"neutral\",\"neutral\",\"neutral\",\"neutral\",\"neutral\",\"positive\",\"positive\",\"positive\",\"neutral\",\"neutral\",\"neutral\",\"neutral\",\"neutral\",\"positive\",\"neutral\",\"neutral\",\"neutral\",\"neutral\",\"neutral\",\"neutral\",\"neutral\",\"positive\",\"negative\",\"neutral\",\"neutral\",\"neutral\",\"neutral\",\"positive\",\"neutral\",\"negative\",\"neutral\",\"neutral\",\"negative\",\"neutral\",\"neutral\",\"positive\",\"positive\",\"neutral\",\"negative\",\"neutral\",\"neutral\",\"negative\",\"neutral\",\"neutral\",\"positive\",\"neutral\",\"negative\",\"positive\",\"positive\",\"neutral\",\"neutral\",\"neutral\",\"neutral\",\"neutral\",\"neutral\",\"neutral\",\"neutral\",\"neutral\",\"neutral\",\"positive\",\"positive\",\"negative\",\"negative\",\"neutral\",\"neutral\",\"positive\",\"negative\",\"neutral\",\"neutral\",\"positive\",\"neutral\",\"neutral\",\"positive\",\"neutral\",\"positive\",\"negative\",\"neutral\",\"negative\",\"neutral\",\"neutral\",\"negative\",\"neutral\",\"positive\",\"positive\",\"neutral\",\"positive\",\"positive\",\"negative\",\"neutral\",\"neutral\",\"positive\",\"neutral\",\"neutral\",\"positive\",\"neutral\",\"neutral\",\"positive\",\"neutral\",\"positive\",\"positive\",\"neutral\",\"positive\",\"positive\",\"neutral\",\"neutral\",\"positive\",\"neutral\",\"positive\",\"neutral\",\"neutral\",\"neutral\",\"positive\",\"neutral\",\"neutral\",\"neutral\",\"neutral\",\"positive\",\"neutral\",\"negative\",\"negative\",\"positive\",\"positive\",\"positive\",\"positive\",\"negative\",\"negative\",\"neutral\",\"neutral\",\"positive\",\"neutral\",\"neutral\",\"neutral\",\"positive\",\"neutral\",\"positive\",\"neutral\",\"neutral\",\"neutral\",\"positive\",\"positive\",\"neutral\",\"neutral\",\"neutral\",\"neutral\",\"neutral\",\"neutral\",\"negative\",\"positive\",\"negative\",\"positive\",\"neutral\",\"positive\",\"neutral\",\"positive\",\"neutral\",\"positive\",\"neutral\",\"neutral\",\"negative\",\"negative\",\"neutral\",\"neutral\",\"negative\",\"negative\",\"positive\",\"neutral\",\"negative\",\"neutral\",\"neutral\",\"positive\",\"neutral\",\"neutral\",\"neutral\",\"neutral\",\"neutral\",\"negative\",\"positive\",\"positive\",\"neutral\",\"positive\",\"positive\",\"positive\",\"positive\",\"neutral\",\"neutral\",\"neutral\",\"neutral\",\"positive\",\"neutral\",\"neutral\",\"negative\",\"neutral\",\"neutral\",\"positive\",\"neutral\",\"neutral\",\"positive\",\"negative\",\"neutral\",\"positive\",\"neutral\",\"positive\",\"neutral\",\"positive\",\"neutral\",\"positive\",\"negative\",\"neutral\",\"positive\",\"neutral\",\"negative\",\"neutral\",\"neutral\",\"neutral\",\"neutral\",\"neutral\",\"positive\",\"neutral\",\"negative\",\"negative\",\"neutral\",\"neutral\",\"positive\",\"positive\",\"positive\",\"neutral\",\"positive\",\"neutral\",\"neutral\",\"neutral\",\"positive\",\"neutral\",\"neutral\",\"neutral\",\"negative\",\"neutral\",\"neutral\",\"neutral\",\"neutral\",\"positive\",\"positive\",\"neutral\",\"positive\",\"positive\",\"neutral\",\"neutral\",\"positive\",\"positive\",\"negative\",\"positive\",\"neutral\",\"neutral\",\"negative\",\"positive\",\"neutral\",\"neutral\",\"neutral\",\"positive\",\"neutral\",\"positive\",\"neutral\",\"neutral\",\"neutral\",\"neutral\",\"positive\",\"negative\",\"neutral\",\"negative\",\"neutral\",\"positive\",\"neutral\",\"neutral\",\"neutral\",\"positive\",\"neutral\",\"positive\",\"positive\",\"positive\",\"neutral\",\"neutral\",\"neutral\",\"neutral\",\"neutral\",\"negative\",\"positive\",\"neutral\",\"neutral\",\"neutral\",\"negative\",\"positive\",\"neutral\",\"negative\",\"positive\",\"positive\",\"positive\",\"neutral\",\"neutral\",\"positive\",\"neutral\",\"negative\",\"positive\",\"negative\",\"neutral\",\"neutral\",\"positive\",\"positive\",\"neutral\",\"negative\",\"positive\",\"positive\",\"negative\",\"positive\",\"positive\",\"neutral\",\"positive\",\"neutral\",\"positive\",\"neutral\",\"negative\",\"neutral\",\"positive\",\"neutral\",\"neutral\",\"neutral\",\"neutral\",\"neutral\",\"positive\",\"positive\",\"neutral\",\"neutral\",\"negative\",\"positive\",\"neutral\",\"positive\",\"neutral\",\"positive\",\"positive\",\"positive\",\"neutral\",\"neutral\",\"neutral\",\"neutral\",\"positive\",\"neutral\",\"negative\",\"neutral\",\"neutral\",\"neutral\",\"neutral\",\"neutral\",\"negative\",\"neutral\",\"positive\",\"positive\",\"negative\",\"neutral\",\"positive\",\"neutral\",\"neutral\",\"neutral\",\"neutral\",\"neutral\",\"positive\",\"positive\",\"negative\",\"neutral\",\"positive\",\"negative\",\"negative\",\"neutral\",\"neutral\",\"positive\",\"negative\",\"neutral\",\"negative\",\"neutral\",\"positive\",\"neutral\",\"neutral\",\"positive\",\"neutral\",\"neutral\",\"positive\",\"neutral\",\"neutral\",\"positive\",\"neutral\",\"neutral\",\"neutral\",\"neutral\",\"positive\",\"negative\",\"neutral\",\"neutral\",\"negative\",\"neutral\",\"neutral\",\"negative\",\"positive\",\"neutral\",\"positive\",\"neutral\",\"neutral\",\"neutral\",\"positive\",\"negative\",\"neutral\",\"neutral\",\"positive\",\"positive\",\"neutral\",\"positive\",\"positive\",\"positive\",\"neutral\",\"neutral\",\"negative\",\"neutral\",\"neutral\",\"neutral\",\"positive\",\"neutral\",\"neutral\",\"neutral\",\"negative\",\"neutral\",\"neutral\",\"neutral\",\"neutral\",\"positive\",\"positive\",\"neutral\",\"positive\",\"neutral\",\"positive\",\"neutral\",\"negative\",\"positive\",\"positive\",\"positive\",\"neutral\",\"neutral\",\"positive\",\"neutral\",\"positive\",\"neutral\",\"negative\",\"positive\",\"neutral\",\"neutral\",\"neutral\",\"negative\",\"positive\",\"neutral\",\"neutral\",\"neutral\",\"neutral\",\"negative\",\"negative\",\"neutral\",\"neutral\",\"neutral\",\"neutral\",\"positive\",\"positive\",\"neutral\",\"neutral\",\"neutral\",\"negative\",\"neutral\",\"positive\",\"neutral\",\"positive\",\"positive\",\"positive\",\"negative\",\"negative\",\"negative\",\"positive\",\"positive\",\"positive\",\"neutral\",\"positive\",\"neutral\",\"neutral\",\"neutral\",\"negative\",\"neutral\",\"neutral\",\"neutral\",\"neutral\",\"neutral\",\"positive\",\"neutral\",\"positive\",\"neutral\",\"neutral\",\"neutral\",\"neutral\",\"neutral\",\"neutral\",\"neutral\",\"neutral\",\"positive\",\"negative\",\"neutral\",\"positive\",\"neutral\",\"positive\",\"neutral\",\"neutral\",\"positive\",\"neutral\",\"neutral\",\"neutral\",\"neutral\",\"positive\",\"neutral\",\"neutral\",\"negative\",\"neutral\",\"neutral\",\"negative\",\"positive\",\"neutral\",\"neutral\",\"neutral\",\"neutral\",\"neutral\",\"neutral\",\"negative\",\"negative\",\"negative\",\"neutral\",\"neutral\",\"negative\",\"neutral\",\"negative\",\"positive\",\"neutral\",\"neutral\",\"neutral\",\"positive\",\"neutral\",\"positive\",\"neutral\",\"neutral\",\"neutral\",\"neutral\",\"positive\",\"neutral\",\"positive\",\"neutral\",\"positive\",\"positive\",\"neutral\",\"positive\",\"neutral\",\"positive\",\"positive\",\"neutral\",\"neutral\",\"neutral\",\"negative\",\"neutral\",\"negative\",\"neutral\",\"positive\",\"neutral\",\"positive\",\"neutral\",\"negative\",\"neutral\",\"positive\",\"positive\",\"positive\",\"positive\",\"positive\",\"neutral\",\"neutral\",\"neutral\",\"positive\",\"neutral\",\"neutral\",\"positive\",\"negative\",\"neutral\",\"neutral\",\"positive\",\"negative\",\"neutral\",\"negative\",\"positive\",\"positive\",\"positive\",\"neutral\",\"neutral\",\"neutral\",\"negative\",\"positive\",\"negative\",\"positive\",\"positive\",\"neutral\",\"negative\",\"negative\",\"neutral\",\"negative\",\"positive\",\"positive\",\"neutral\",\"neutral\",\"negative\",\"neutral\",\"neutral\",\"positive\",\"positive\",\"neutral\",\"neutral\",\"neutral\",\"positive\",\"negative\",\"neutral\",\"positive\",\"neutral\",\"positive\",\"neutral\",\"positive\",\"positive\",\"positive\",\"neutral\",\"positive\",\"neutral\",\"positive\",\"neutral\",\"negative\",\"positive\",\"neutral\",\"positive\",\"positive\",\"negative\",\"neutral\",\"neutral\",\"negative\",\"neutral\",\"neutral\",\"positive\",\"neutral\",\"neutral\",\"neutral\",\"negative\",\"positive\",\"neutral\",\"neutral\",\"positive\",\"positive\",\"positive\",\"neutral\",\"neutral\",\"neutral\",\"neutral\",\"positive\",\"positive\",\"negative\",\"neutral\",\"negative\",\"positive\",\"neutral\",\"neutral\",\"positive\",\"neutral\",\"positive\",\"neutral\",\"positive\",\"positive\",\"negative\",\"neutral\",\"negative\",\"negative\",\"neutral\",\"neutral\",\"neutral\",\"positive\",\"positive\",\"neutral\",\"positive\",\"neutral\",\"neutral\",\"positive\",\"neutral\",\"neutral\",\"neutral\",\"positive\",\"negative\",\"neutral\",\"neutral\",\"neutral\",\"positive\",\"neutral\",\"positive\",\"positive\",\"neutral\",\"positive\",\"negative\",\"neutral\",\"positive\",\"negative\",\"positive\",\"neutral\",\"neutral\",\"neutral\",\"positive\",\"neutral\",\"neutral\",\"neutral\",\"positive\",\"neutral\",\"neutral\",\"neutral\",\"positive\",\"neutral\",\"positive\",\"neutral\",\"positive\",\"negative\",\"neutral\",\"positive\",\"negative\",\"neutral\",\"negative\",\"neutral\",\"positive\",\"neutral\",\"neutral\",\"positive\",\"positive\",\"neutral\",\"neutral\",\"neutral\",\"neutral\",\"neutral\",\"neutral\",\"neutral\",\"neutral\",\"negative\",\"neutral\",\"neutral\",\"positive\",\"neutral\",\"neutral\",\"positive\",\"positive\",\"positive\",\"negative\",\"neutral\",\"positive\",\"neutral\",\"positive\",\"neutral\",\"negative\",\"neutral\",\"negative\",\"neutral\",\"positive\",\"positive\",\"negative\",\"positive\",\"positive\",\"neutral\",\"positive\",\"neutral\",\"positive\",\"neutral\",\"neutral\",\"positive\",\"neutral\",\"neutral\",\"neutral\",\"neutral\",\"neutral\",\"neutral\",\"neutral\",\"positive\",\"neutral\",\"positive\",\"negative\",\"positive\",\"negative\",\"positive\",\"positive\",\"negative\",\"negative\",\"neutral\",\"neutral\",\"neutral\",\"neutral\",\"positive\",\"neutral\",\"positive\",\"positive\",\"neutral\",\"neutral\",\"neutral\",\"neutral\",\"positive\",\"neutral\",\"positive\",\"neutral\",\"positive\",\"negative\",\"negative\",\"neutral\",\"negative\",\"neutral\",\"negative\",\"neutral\",\"neutral\",\"neutral\",\"negative\",\"neutral\",\"neutral\",\"positive\",\"positive\",\"neutral\",\"positive\",\"negative\",\"neutral\",\"neutral\",\"positive\",\"neutral\",\"neutral\",\"neutral\",\"neutral\",\"positive\",\"negative\",\"negative\",\"neutral\",\"negative\",\"neutral\",\"positive\",\"neutral\",\"positive\",\"positive\",\"neutral\",\"neutral\",\"neutral\",\"positive\",\"neutral\",\"neutral\",\"negative\",\"positive\",\"neutral\",\"negative\",\"neutral\",\"neutral\",\"neutral\",\"positive\",\"neutral\",\"neutral\",\"positive\",\"neutral\",\"neutral\",\"neutral\",\"neutral\",\"neutral\",\"positive\",\"neutral\",\"neutral\",\"negative\",\"neutral\",\"neutral\",\"neutral\",\"negative\",\"positive\",\"neutral\",\"positive\",\"neutral\",\"neutral\",\"negative\",\"positive\",\"neutral\",\"neutral\",\"neutral\",\"positive\",\"neutral\",\"positive\",\"positive\",\"negative\",\"negative\",\"neutral\",\"neutral\",\"negative\",\"neutral\",\"positive\",\"neutral\",\"negative\",\"positive\",\"positive\",\"neutral\",\"positive\",\"neutral\",\"neutral\",\"negative\",\"neutral\",\"neutral\",\"neutral\",\"neutral\",\"neutral\",\"positive\",\"positive\",\"neutral\",\"neutral\",\"positive\",\"negative\",\"neutral\",\"negative\",\"positive\",\"neutral\",\"neutral\",\"positive\",\"neutral\",\"negative\",\"positive\",\"neutral\",\"positive\",\"neutral\",\"positive\",\"neutral\",\"neutral\",\"positive\",\"negative\",\"neutral\",\"neutral\",\"negative\",\"positive\",\"neutral\",\"neutral\",\"neutral\",\"positive\",\"positive\",\"neutral\",\"positive\",\"positive\",\"neutral\",\"negative\",\"neutral\",\"neutral\",\"negative\",\"positive\",\"neutral\",\"negative\",\"negative\",\"neutral\",\"positive\",\"positive\",\"neutral\",\"neutral\",\"neutral\",\"positive\",\"neutral\",\"positive\",\"neutral\",\"neutral\",\"positive\",\"negative\",\"positive\",\"neutral\",\"neutral\",\"positive\",\"neutral\",\"neutral\",\"neutral\",\"negative\",\"negative\",\"neutral\",\"neutral\",\"neutral\",\"neutral\",\"positive\",\"positive\",\"neutral\",\"positive\",\"positive\",\"positive\",\"neutral\",\"neutral\",\"positive\",\"negative\",\"positive\",\"positive\",\"neutral\",\"neutral\",\"neutral\",\"positive\",\"neutral\",\"neutral\",\"neutral\",\"neutral\",\"neutral\",\"neutral\",\"neutral\",\"positive\",\"neutral\",\"positive\",\"neutral\",\"neutral\",\"negative\",\"neutral\",\"negative\",\"positive\",\"neutral\",\"neutral\",\"neutral\",\"neutral\",\"neutral\",\"positive\",\"neutral\",\"positive\",\"neutral\",\"neutral\",\"positive\",\"neutral\",\"neutral\",\"neutral\",\"neutral\",\"neutral\",\"positive\",\"neutral\",\"neutral\",\"positive\",\"neutral\",\"neutral\",\"positive\",\"neutral\",\"neutral\",\"neutral\",\"neutral\",\"positive\",\"neutral\",\"positive\",\"negative\",\"neutral\",\"negative\",\"positive\",\"neutral\",\"neutral\",\"negative\",\"positive\",\"neutral\",\"positive\",\"neutral\",\"neutral\",\"neutral\",\"negative\",\"positive\",\"neutral\",\"positive\",\"neutral\",\"neutral\",\"neutral\",\"neutral\",\"neutral\",\"negative\",\"positive\",\"neutral\",\"positive\",\"neutral\",\"positive\",\"neutral\",\"neutral\",\"positive\",\"neutral\",\"positive\",\"negative\",\"positive\",\"neutral\",\"neutral\",\"negative\",\"neutral\",\"neutral\",\"neutral\",\"positive\",\"neutral\",\"neutral\",\"neutral\",\"neutral\",\"neutral\",\"neutral\",\"positive\",\"neutral\",\"neutral\",\"positive\",\"neutral\",\"positive\",\"positive\",\"neutral\",\"neutral\",\"neutral\",\"neutral\",\"positive\",\"neutral\",\"neutral\",\"positive\",\"neutral\",\"neutral\",\"negative\",\"positive\",\"neutral\",\"positive\",\"neutral\",\"positive\",\"negative\",\"neutral\",\"neutral\",\"neutral\",\"neutral\",\"positive\",\"neutral\",\"negative\",\"neutral\",\"positive\",\"neutral\",\"neutral\",\"negative\",\"neutral\",\"negative\",\"negative\",\"positive\",\"positive\",\"negative\",\"positive\",\"neutral\",\"neutral\",\"positive\",\"positive\",\"neutral\",\"neutral\",\"neutral\",\"neutral\",\"neutral\",\"negative\",\"positive\",\"negative\",\"neutral\",\"neutral\",\"positive\",\"positive\",\"neutral\",\"positive\",\"positive\",\"positive\",\"neutral\",\"positive\",\"negative\",\"neutral\",\"positive\",\"positive\",\"neutral\",\"negative\",\"positive\",\"neutral\",\"neutral\",\"positive\",\"neutral\",\"negative\",\"positive\",\"neutral\",\"positive\",\"negative\",\"positive\",\"neutral\",\"positive\",\"positive\",\"neutral\",\"neutral\",\"neutral\",\"neutral\",\"neutral\",\"neutral\",\"neutral\",\"neutral\",\"positive\",\"neutral\",\"neutral\",\"negative\",\"neutral\",\"negative\",\"negative\",\"neutral\",\"neutral\",\"positive\",\"neutral\",\"positive\",\"positive\",\"neutral\",\"neutral\",\"neutral\",\"neutral\",\"neutral\",\"neutral\",\"neutral\",\"negative\",\"neutral\",\"neutral\",\"neutral\",\"positive\",\"negative\",\"neutral\",\"neutral\",\"positive\",\"negative\",\"neutral\",\"neutral\",\"positive\",\"positive\",\"neutral\",\"neutral\",\"neutral\",\"negative\",\"neutral\",\"neutral\",\"neutral\",\"positive\",\"negative\",\"negative\",\"neutral\",\"negative\",\"neutral\",\"neutral\",\"neutral\",\"neutral\",\"neutral\",\"positive\",\"positive\",\"neutral\",\"negative\",\"neutral\",\"neutral\",\"positive\",\"positive\",\"neutral\",\"neutral\",\"positive\",\"positive\",\"neutral\",\"negative\",\"positive\",\"positive\",\"neutral\",\"neutral\",\"neutral\",\"positive\",\"positive\",\"neutral\",\"neutral\",\"neutral\",\"positive\",\"neutral\",\"neutral\",\"negative\",\"positive\",\"positive\",\"neutral\",\"positive\",\"neutral\",\"negative\",\"positive\",\"neutral\",\"positive\",\"neutral\",\"positive\",\"neutral\",\"positive\",\"neutral\",\"neutral\",\"positive\",\"neutral\",\"negative\",\"neutral\",\"negative\",\"negative\",\"positive\",\"positive\",\"positive\",\"neutral\",\"negative\",\"negative\",\"negative\",\"negative\",\"negative\",\"neutral\",\"positive\",\"positive\",\"positive\",\"neutral\",\"positive\",\"positive\",\"positive\",\"neutral\",\"neutral\",\"neutral\",\"negative\",\"positive\",\"negative\",\"neutral\",\"neutral\",\"neutral\",\"neutral\",\"neutral\",\"positive\",\"positive\",\"neutral\",\"neutral\",\"neutral\",\"positive\",\"neutral\",\"negative\",\"neutral\",\"positive\",\"positive\",\"negative\",\"neutral\",\"neutral\",\"positive\",\"neutral\",\"neutral\",\"positive\",\"negative\",\"positive\",\"neutral\",\"positive\",\"positive\",\"negative\",\"neutral\",\"positive\",\"positive\",\"neutral\",\"positive\",\"negative\",\"positive\",\"positive\",\"negative\",\"neutral\",\"positive\",\"positive\",\"neutral\",\"neutral\",\"negative\",\"neutral\",\"neutral\",\"positive\",\"neutral\",\"neutral\",\"neutral\",\"positive\",\"positive\",\"neutral\",\"neutral\",\"neutral\",\"neutral\",\"positive\",\"neutral\",\"neutral\",\"positive\",\"positive\",\"neutral\",\"neutral\",\"positive\",\"neutral\",\"negative\",\"neutral\",\"neutral\",\"positive\",\"positive\",\"positive\",\"neutral\",\"positive\",\"neutral\",\"positive\",\"neutral\",\"neutral\",\"negative\",\"neutral\",\"negative\",\"positive\",\"neutral\",\"neutral\",\"positive\",\"neutral\",\"neutral\",\"neutral\",\"neutral\",\"neutral\",\"neutral\",\"positive\",\"positive\",\"negative\",\"neutral\",\"negative\",\"positive\",\"neutral\",\"positive\",\"neutral\",\"positive\",\"neutral\",\"neutral\",\"neutral\",\"positive\",\"positive\",\"positive\",\"neutral\",\"positive\",\"neutral\",\"neutral\",\"positive\",\"neutral\",\"positive\",\"positive\",\"positive\",\"positive\",\"neutral\",\"positive\",\"neutral\",\"negative\",\"neutral\",\"neutral\",\"neutral\",\"negative\",\"neutral\",\"positive\",\"neutral\",\"negative\",\"positive\",\"positive\",\"negative\",\"negative\",\"neutral\",\"neutral\",\"neutral\",\"neutral\",\"positive\",\"positive\",\"neutral\",\"positive\",\"negative\",\"neutral\",\"negative\",\"neutral\",\"neutral\",\"neutral\",\"neutral\",\"neutral\",\"neutral\",\"positive\",\"neutral\",\"neutral\",\"neutral\",\"neutral\",\"neutral\",\"neutral\",\"neutral\",\"positive\",\"positive\",\"neutral\",\"neutral\",\"neutral\",\"neutral\",\"negative\",\"positive\",\"neutral\",\"neutral\",\"neutral\",\"neutral\",\"positive\",\"neutral\",\"positive\",\"positive\",\"negative\",\"positive\",\"negative\",\"neutral\",\"positive\",\"positive\",\"positive\",\"positive\",\"positive\",\"neutral\",\"negative\",\"neutral\",\"positive\",\"positive\",\"neutral\",\"positive\",\"neutral\",\"neutral\",\"neutral\",\"positive\",\"negative\",\"positive\",\"positive\",\"negative\",\"negative\",\"positive\",\"negative\",\"neutral\",\"neutral\",\"positive\",\"neutral\",\"positive\",\"neutral\",\"neutral\",\"positive\",\"neutral\",\"positive\",\"positive\",\"neutral\",\"neutral\",\"neutral\",\"neutral\",\"negative\",\"positive\",\"positive\",\"positive\",\"neutral\",\"positive\",\"neutral\",\"neutral\",\"negative\",\"negative\",\"neutral\",\"negative\",\"positive\",\"negative\",\"neutral\",\"positive\",\"positive\",\"neutral\",\"negative\",\"neutral\",\"neutral\",\"neutral\",\"neutral\",\"neutral\",\"neutral\",\"neutral\",\"negative\",\"neutral\",\"neutral\",\"positive\",\"neutral\",\"neutral\",\"neutral\",\"positive\",\"neutral\",\"negative\",\"neutral\",\"neutral\",\"neutral\",\"neutral\",\"negative\",\"negative\",\"positive\",\"neutral\",\"neutral\",\"neutral\",\"neutral\",\"neutral\",\"positive\",\"neutral\",\"positive\",\"neutral\",\"positive\",\"positive\",\"negative\",\"neutral\",\"neutral\",\"positive\",\"neutral\",\"neutral\",\"neutral\",\"positive\",\"neutral\",\"positive\",\"negative\",\"neutral\",\"neutral\",\"neutral\",\"neutral\",\"positive\",\"positive\",\"positive\",\"positive\",\"neutral\",\"positive\",\"neutral\",\"negative\",\"neutral\",\"positive\",\"neutral\",\"neutral\",\"neutral\",\"positive\",\"negative\",\"neutral\",\"negative\",\"neutral\",\"positive\",\"neutral\",\"neutral\",\"positive\",\"neutral\",\"neutral\",\"negative\",\"positive\",\"neutral\",\"neutral\",\"positive\",\"positive\",\"negative\",\"neutral\",\"negative\",\"negative\",\"neutral\",\"neutral\",\"neutral\",\"positive\",\"neutral\",\"neutral\",\"positive\",\"neutral\",\"neutral\",\"positive\",\"positive\",\"positive\",\"positive\",\"positive\",\"positive\",\"neutral\",\"positive\",\"negative\",\"positive\",\"positive\",\"positive\",\"neutral\",\"neutral\",\"negative\",\"positive\",\"positive\",\"positive\",\"positive\",\"neutral\",\"neutral\",\"neutral\",\"neutral\",\"negative\",\"neutral\",\"positive\",\"neutral\",\"neutral\",\"neutral\",\"neutral\",\"neutral\",\"neutral\",\"neutral\",\"negative\",\"negative\",\"positive\",\"positive\",\"neutral\",\"positive\",\"neutral\",\"positive\",\"negative\",\"positive\",\"neutral\",\"neutral\",\"positive\",\"negative\",\"neutral\",\"neutral\",\"positive\",\"positive\",\"positive\",\"neutral\",\"neutral\",\"positive\",\"neutral\",\"neutral\",\"neutral\",\"negative\",\"neutral\",\"positive\",\"neutral\",\"neutral\",\"positive\",\"negative\",\"neutral\",\"positive\",\"neutral\",\"neutral\",\"neutral\",\"positive\",\"neutral\",\"negative\",\"neutral\",\"positive\",\"neutral\",\"positive\",\"positive\",\"neutral\",\"positive\",\"neutral\",\"positive\",\"neutral\",\"neutral\",\"neutral\",\"neutral\",\"negative\",\"positive\",\"negative\",\"neutral\",\"positive\",\"negative\",\"neutral\",\"positive\",\"neutral\",\"neutral\",\"negative\",\"negative\",\"neutral\",\"neutral\",\"neutral\",\"negative\",\"positive\",\"neutral\",\"neutral\",\"neutral\",\"neutral\",\"neutral\",\"negative\",\"positive\",\"positive\",\"neutral\",\"neutral\",\"neutral\",\"negative\",\"neutral\",\"neutral\",\"positive\",\"negative\",\"positive\",\"positive\",\"positive\",\"positive\",\"positive\",\"negative\",\"positive\",\"neutral\",\"neutral\",\"neutral\",\"positive\",\"positive\",\"negative\",\"neutral\",\"neutral\",\"neutral\",\"positive\",\"neutral\",\"neutral\",\"positive\",\"positive\",\"neutral\",\"negative\",\"neutral\",\"neutral\",\"neutral\",\"positive\",\"positive\",\"neutral\",\"positive\",\"neutral\",\"positive\",\"neutral\",\"neutral\",\"neutral\",\"positive\",\"neutral\",\"neutral\",\"neutral\",\"neutral\",\"neutral\",\"neutral\",\"negative\",\"neutral\",\"positive\",\"negative\",\"negative\",\"positive\",\"neutral\",\"negative\",\"neutral\",\"negative\",\"neutral\",\"negative\",\"negative\",\"neutral\",\"neutral\",\"negative\",\"positive\",\"positive\",\"neutral\",\"positive\",\"neutral\",\"neutral\",\"positive\",\"neutral\",\"neutral\",\"neutral\",\"positive\",\"neutral\",\"neutral\",\"neutral\",\"positive\",\"neutral\",\"negative\",\"neutral\",\"negative\",\"neutral\",\"neutral\",\"neutral\",\"neutral\",\"neutral\",\"neutral\",\"neutral\",\"positive\",\"positive\",\"positive\",\"positive\",\"positive\",\"neutral\",\"positive\",\"positive\",\"neutral\",\"neutral\",\"positive\",\"positive\",\"neutral\",\"negative\",\"positive\",\"neutral\",\"neutral\",\"positive\",\"neutral\",\"negative\",\"neutral\",\"neutral\",\"neutral\",\"negative\",\"neutral\",\"negative\",\"positive\",\"positive\",\"positive\",\"positive\",\"neutral\",\"negative\",\"neutral\",\"neutral\",\"positive\",\"neutral\",\"neutral\",\"positive\",\"positive\",\"neutral\",\"neutral\",\"neutral\",\"positive\",\"positive\",\"positive\",\"positive\",\"neutral\",\"neutral\",\"positive\",\"positive\",\"neutral\",\"neutral\",\"positive\",\"neutral\",\"positive\",\"negative\",\"neutral\",\"negative\",\"negative\",\"neutral\",\"positive\",\"neutral\",\"neutral\",\"neutral\",\"positive\",\"positive\",\"neutral\",\"positive\",\"negative\",\"positive\",\"positive\",\"neutral\",\"neutral\",\"neutral\",\"positive\",\"neutral\",\"neutral\",\"negative\",\"neutral\",\"positive\",\"positive\",\"neutral\",\"negative\",\"neutral\",\"neutral\",\"neutral\",\"neutral\",\"positive\",\"positive\",\"neutral\",\"neutral\",\"positive\",\"neutral\",\"neutral\",\"neutral\",\"positive\",\"positive\",\"positive\",\"positive\",\"negative\",\"positive\",\"positive\",\"positive\",\"positive\",\"neutral\",\"neutral\",\"neutral\",\"neutral\",\"negative\",\"positive\",\"positive\",\"positive\",\"negative\",\"neutral\",\"neutral\",\"positive\",\"neutral\",\"positive\",\"negative\",\"negative\",\"positive\",\"positive\",\"positive\",\"neutral\",\"positive\",\"neutral\",\"neutral\",\"positive\",\"neutral\",\"neutral\",\"neutral\",\"positive\",\"neutral\",\"negative\",\"positive\",\"neutral\",\"negative\",\"positive\",\"neutral\",\"neutral\",\"negative\",\"neutral\",\"neutral\",\"positive\",\"positive\",\"positive\",\"neutral\",\"neutral\",\"neutral\",\"neutral\",\"positive\",\"negative\",\"neutral\",\"positive\",\"neutral\",\"positive\",\"neutral\",\"neutral\",\"neutral\",\"positive\",\"positive\",\"negative\",\"negative\",\"positive\",\"positive\",\"neutral\",\"positive\",\"positive\",\"neutral\",\"positive\",\"negative\",\"neutral\",\"neutral\",\"neutral\",\"neutral\",\"neutral\",\"positive\",\"neutral\",\"positive\",\"positive\",\"neutral\",\"neutral\",\"negative\",\"neutral\",\"neutral\",\"neutral\",\"neutral\",\"positive\",\"neutral\",\"positive\",\"positive\",\"positive\",\"neutral\",\"positive\",\"negative\",\"neutral\",\"neutral\",\"neutral\",\"positive\",\"positive\",\"neutral\",\"neutral\",\"negative\",\"neutral\",\"neutral\",\"neutral\",\"neutral\",\"negative\",\"neutral\",\"positive\",\"positive\",\"neutral\",\"positive\",\"positive\",\"neutral\",\"neutral\",\"positive\",\"negative\",\"negative\",\"positive\",\"neutral\",\"neutral\",\"neutral\",\"negative\",\"positive\",\"negative\",\"neutral\",\"neutral\",\"positive\",\"positive\",\"neutral\",\"positive\",\"neutral\",\"neutral\",\"negative\",\"positive\",\"neutral\",\"positive\",\"neutral\",\"negative\",\"positive\",\"neutral\",\"positive\",\"neutral\",\"positive\",\"neutral\",\"negative\",\"positive\",\"neutral\",\"positive\",\"neutral\",\"neutral\",\"negative\",\"neutral\",\"positive\",\"neutral\",\"neutral\",\"positive\",\"neutral\",\"neutral\",\"positive\",\"neutral\",\"positive\",\"neutral\",\"neutral\",\"neutral\",\"neutral\",\"neutral\",\"negative\",\"positive\",\"neutral\",\"neutral\",\"negative\",\"neutral\",\"neutral\",\"neutral\",\"neutral\",\"neutral\",\"positive\",\"neutral\",\"positive\",\"neutral\",\"positive\",\"positive\",\"neutral\",\"neutral\",\"neutral\",\"positive\",\"positive\",\"positive\",\"neutral\",\"positive\",\"neutral\",\"negative\",\"positive\",\"negative\",\"neutral\",\"neutral\",\"neutral\",\"positive\",\"neutral\",\"positive\",\"neutral\",\"negative\",\"neutral\",\"neutral\",\"neutral\",\"negative\",\"neutral\",\"neutral\",\"neutral\",\"negative\",\"neutral\",\"neutral\",\"positive\",\"neutral\",\"neutral\",\"neutral\",\"neutral\",\"positive\",\"neutral\",\"neutral\",\"neutral\",\"neutral\",\"negative\",\"neutral\",\"positive\",\"positive\",\"positive\",\"neutral\",\"positive\",\"positive\",\"positive\",\"neutral\",\"positive\",\"positive\",\"neutral\",\"neutral\",\"neutral\",\"positive\",\"neutral\",\"negative\",\"neutral\",\"positive\",\"neutral\",\"neutral\",\"neutral\",\"positive\",\"neutral\",\"positive\",\"positive\",\"neutral\",\"neutral\",\"neutral\",\"neutral\",\"neutral\",\"positive\",\"neutral\",\"neutral\",\"positive\",\"positive\",\"positive\",\"neutral\",\"neutral\",\"negative\",\"neutral\",\"neutral\",\"neutral\",\"positive\",\"neutral\",\"neutral\",\"positive\",\"neutral\",\"negative\",\"neutral\",\"positive\",\"neutral\",\"negative\",\"positive\",\"neutral\",\"negative\",\"neutral\",\"neutral\",\"positive\",\"negative\",\"negative\",\"neutral\",\"neutral\",\"negative\",\"neutral\",\"neutral\",\"neutral\",\"neutral\",\"neutral\",\"negative\",\"neutral\",\"positive\",\"neutral\",\"neutral\",\"positive\",\"neutral\",\"neutral\",\"positive\",\"positive\",\"neutral\",\"neutral\",\"neutral\",\"neutral\",\"positive\",\"neutral\",\"neutral\",\"neutral\",\"positive\",\"neutral\",\"neutral\",\"neutral\",\"negative\",\"neutral\",\"negative\",\"negative\",\"positive\",\"negative\",\"neutral\",\"neutral\",\"neutral\",\"neutral\",\"neutral\",\"negative\",\"positive\",\"positive\",\"neutral\",\"positive\",\"neutral\",\"neutral\",\"positive\",\"positive\",\"neutral\",\"positive\",\"positive\",\"positive\",\"positive\",\"positive\",\"positive\",\"neutral\",\"neutral\",\"positive\",\"neutral\",\"neutral\",\"neutral\",\"neutral\",\"neutral\",\"neutral\",\"neutral\",\"positive\",\"neutral\",\"neutral\",\"positive\",\"positive\",\"neutral\",\"negative\",\"negative\",\"neutral\",\"neutral\",\"neutral\",\"negative\",\"neutral\",\"neutral\",\"negative\",\"positive\",\"positive\",\"neutral\",\"positive\",\"positive\",\"positive\",\"negative\",\"positive\",\"neutral\",\"positive\",\"negative\",\"negative\",\"negative\",\"neutral\",\"positive\",\"positive\",\"neutral\",\"neutral\",\"positive\",\"neutral\",\"positive\",\"neutral\",\"neutral\",\"positive\",\"negative\",\"neutral\",\"neutral\",\"neutral\",\"positive\",\"neutral\",\"neutral\",\"negative\",\"neutral\",\"neutral\",\"positive\",\"neutral\",\"positive\",\"neutral\",\"neutral\",\"negative\",\"neutral\",\"positive\",\"neutral\",\"neutral\",\"positive\",\"neutral\",\"negative\",\"neutral\",\"neutral\",\"neutral\",\"positive\",\"negative\",\"neutral\",\"neutral\",\"negative\",\"negative\",\"neutral\",\"positive\",\"positive\",\"positive\",\"positive\",\"neutral\",\"neutral\",\"positive\",\"negative\",\"neutral\",\"neutral\",\"positive\",\"positive\",\"negative\",\"neutral\",\"neutral\",\"neutral\",\"neutral\",\"neutral\",\"neutral\",\"neutral\",\"positive\",\"negative\",\"positive\",\"negative\",\"neutral\",\"positive\",\"positive\",\"positive\",\"positive\",\"neutral\",\"neutral\",\"neutral\",\"neutral\",\"neutral\",\"neutral\",\"neutral\",\"neutral\",\"positive\",\"neutral\",\"positive\",\"neutral\",\"neutral\",\"neutral\",\"neutral\",\"neutral\",\"positive\",\"positive\",\"negative\",\"neutral\",\"neutral\",\"neutral\",\"neutral\",\"positive\",\"neutral\",\"neutral\",\"neutral\",\"negative\",\"neutral\",\"negative\",\"neutral\",\"neutral\",\"neutral\",\"positive\",\"neutral\",\"neutral\",\"neutral\",\"neutral\",\"neutral\",\"neutral\",\"negative\",\"positive\",\"positive\",\"neutral\",\"neutral\",\"neutral\",\"neutral\",\"neutral\",\"positive\",\"positive\",\"neutral\",\"neutral\",\"negative\",\"neutral\",\"positive\",\"neutral\",\"neutral\",\"neutral\",\"neutral\",\"positive\",\"neutral\",\"positive\",\"neutral\",\"positive\",\"positive\",\"positive\",\"neutral\",\"neutral\",\"neutral\",\"positive\",\"positive\",\"neutral\",\"neutral\",\"positive\",\"positive\",\"positive\",\"neutral\",\"neutral\",\"neutral\",\"neutral\",\"neutral\",\"neutral\",\"positive\",\"positive\",\"neutral\",\"negative\",\"neutral\",\"neutral\",\"neutral\",\"positive\",\"neutral\",\"neutral\",\"negative\",\"neutral\",\"neutral\",\"neutral\",\"neutral\",\"negative\",\"negative\",\"neutral\",\"positive\",\"negative\",\"neutral\",\"negative\",\"neutral\",\"positive\",\"positive\",\"neutral\",\"negative\",\"neutral\",\"positive\",\"positive\",\"negative\",\"neutral\",\"positive\",\"negative\",\"positive\",\"positive\",\"positive\",\"neutral\",\"positive\",\"neutral\",\"neutral\",\"negative\",\"neutral\",\"negative\",\"positive\",\"neutral\",\"neutral\",\"negative\",\"positive\",\"positive\",\"neutral\",\"positive\",\"neutral\",\"neutral\",\"neutral\",\"neutral\",\"neutral\",\"neutral\",\"negative\",\"negative\",\"negative\",\"positive\",\"positive\",\"neutral\",\"neutral\",\"neutral\",\"positive\",\"neutral\",\"positive\",\"neutral\",\"positive\",\"neutral\",\"positive\",\"neutral\",\"neutral\",\"neutral\",\"positive\",\"neutral\",\"negative\",\"negative\",\"positive\",\"positive\",\"neutral\",\"neutral\",\"neutral\",\"neutral\",\"neutral\",\"neutral\",\"neutral\",\"neutral\",\"neutral\",\"negative\",\"neutral\",\"neutral\",\"positive\",\"neutral\",\"neutral\",\"positive\",\"negative\",\"neutral\",\"neutral\",\"positive\",\"neutral\",\"neutral\",\"neutral\",\"neutral\",\"neutral\",\"neutral\",\"positive\",\"neutral\",\"neutral\",\"positive\",\"neutral\",\"negative\",\"negative\",\"negative\",\"neutral\",\"neutral\",\"neutral\",\"neutral\",\"neutral\",\"positive\",\"neutral\",\"negative\",\"neutral\",\"neutral\",\"positive\",\"negative\",\"positive\",\"neutral\",\"positive\",\"neutral\",\"neutral\",\"positive\",\"positive\",\"neutral\",\"neutral\",\"neutral\",\"neutral\",\"neutral\",\"positive\",\"positive\",\"neutral\",\"positive\",\"positive\",\"negative\",\"positive\",\"positive\",\"positive\",\"neutral\",\"negative\",\"positive\",\"neutral\",\"neutral\",\"negative\",\"positive\",\"negative\",\"positive\",\"neutral\",\"neutral\",\"positive\",\"negative\",\"neutral\",\"neutral\",\"neutral\",\"positive\",\"neutral\",\"neutral\",\"positive\",\"positive\",\"positive\",\"positive\",\"positive\",\"neutral\",\"neutral\",\"negative\",\"neutral\",\"positive\",\"positive\",\"positive\",\"neutral\",\"neutral\",\"positive\",\"neutral\",\"negative\",\"neutral\",\"neutral\",\"neutral\",\"negative\",\"positive\",\"positive\",\"neutral\",\"positive\",\"neutral\",\"positive\",\"positive\",\"negative\",\"positive\",\"neutral\",\"positive\",\"neutral\",\"neutral\",\"positive\",\"neutral\",\"neutral\",\"positive\",\"neutral\",\"positive\",\"positive\",\"positive\",\"positive\",\"neutral\",\"neutral\",\"neutral\",\"neutral\",\"neutral\",\"neutral\",\"negative\",\"neutral\",\"negative\",\"positive\",\"positive\",\"positive\",\"negative\",\"positive\",\"neutral\",\"neutral\",\"positive\",\"positive\",\"positive\",\"neutral\",\"neutral\",\"negative\",\"positive\",\"positive\",\"neutral\",\"positive\",\"neutral\",\"neutral\",\"negative\",\"neutral\",\"positive\",\"neutral\",\"positive\",\"positive\",\"negative\",\"neutral\",\"neutral\",\"positive\",\"positive\",\"positive\",\"neutral\",\"neutral\",\"positive\",\"positive\",\"positive\",\"positive\",\"neutral\",\"neutral\",\"neutral\",\"neutral\",\"positive\",\"neutral\",\"neutral\",\"neutral\",\"negative\",\"neutral\",\"neutral\",\"neutral\",\"neutral\",\"neutral\",\"neutral\",\"negative\",\"neutral\",\"neutral\",\"neutral\",\"positive\",\"neutral\",\"positive\",\"neutral\",\"neutral\",\"positive\",\"neutral\",\"positive\",\"neutral\",\"positive\",\"negative\",\"neutral\",\"neutral\",\"neutral\",\"neutral\",\"positive\",\"positive\",\"neutral\",\"neutral\",\"positive\",\"neutral\",\"neutral\",\"neutral\",\"negative\",\"neutral\",\"negative\",\"neutral\",\"neutral\",\"neutral\",\"neutral\",\"neutral\",\"neutral\",\"positive\",\"neutral\",\"neutral\",\"positive\",\"negative\",\"neutral\",\"positive\",\"neutral\",\"neutral\",\"positive\",\"neutral\",\"neutral\",\"positive\",\"positive\",\"neutral\",\"neutral\",\"negative\",\"neutral\",\"neutral\",\"neutral\",\"positive\",\"positive\",\"neutral\",\"neutral\",\"neutral\",\"neutral\",\"positive\",\"neutral\",\"neutral\",\"positive\",\"negative\",\"positive\",\"neutral\",\"neutral\",\"positive\",\"neutral\",\"negative\",\"neutral\",\"neutral\",\"neutral\",\"neutral\",\"neutral\",\"neutral\",\"neutral\",\"negative\",\"neutral\",\"positive\",\"positive\",\"negative\",\"positive\",\"neutral\",\"neutral\",\"positive\",\"neutral\",\"negative\",\"neutral\",\"positive\",\"neutral\",\"neutral\",\"neutral\",\"neutral\",\"neutral\",\"neutral\",\"positive\",\"positive\",\"positive\",\"negative\",\"neutral\",\"positive\",\"neutral\",\"neutral\",\"neutral\",\"neutral\",\"positive\",\"negative\",\"neutral\",\"neutral\",\"neutral\",\"positive\",\"neutral\",\"negative\",\"neutral\",\"neutral\",\"neutral\",\"neutral\",\"negative\",\"negative\",\"neutral\",\"neutral\",\"positive\",\"neutral\",\"neutral\",\"positive\",\"positive\",\"positive\",\"positive\",\"negative\",\"neutral\",\"positive\",\"negative\",\"negative\",\"negative\",\"neutral\",\"positive\",\"neutral\",\"positive\",\"negative\",\"neutral\",\"positive\",\"neutral\",\"neutral\",\"neutral\",\"positive\",\"neutral\",\"neutral\",\"neutral\",\"negative\",\"neutral\",\"positive\",\"negative\",\"negative\",\"neutral\",\"negative\",\"neutral\",\"positive\",\"neutral\",\"neutral\",\"neutral\",\"positive\",\"neutral\",\"neutral\",\"positive\",\"negative\",\"neutral\",\"neutral\",\"positive\",\"positive\",\"neutral\",\"neutral\",\"positive\",\"positive\",\"neutral\",\"positive\",\"positive\",\"positive\",\"neutral\",\"negative\",\"positive\",\"neutral\",\"positive\",\"positive\",\"neutral\",\"neutral\",\"positive\",\"negative\",\"neutral\",\"neutral\",\"positive\",\"positive\",\"positive\",\"neutral\",\"negative\",\"positive\",\"positive\",\"neutral\",\"neutral\",\"neutral\",\"neutral\",\"positive\",\"neutral\",\"neutral\",\"negative\",\"positive\",\"positive\",\"positive\",\"neutral\",\"negative\",\"neutral\",\"positive\",\"neutral\",\"neutral\",\"neutral\",\"neutral\",\"positive\",\"neutral\",\"negative\",\"positive\",\"positive\",\"negative\",\"neutral\",\"positive\",\"neutral\",\"neutral\",\"neutral\",\"neutral\",\"positive\",\"neutral\",\"positive\",\"positive\",\"positive\",\"negative\",\"positive\",\"negative\",\"negative\",\"neutral\",\"negative\",\"neutral\",\"neutral\",\"neutral\",\"positive\",\"neutral\",\"neutral\",\"neutral\",\"neutral\",\"neutral\",\"positive\",\"neutral\",\"positive\",\"neutral\",\"neutral\",\"positive\",\"positive\",\"neutral\",\"negative\",\"neutral\",\"neutral\",\"positive\",\"negative\",\"negative\",\"neutral\",\"positive\",\"positive\",\"neutral\",\"positive\",\"neutral\",\"positive\",\"neutral\",\"positive\",\"neutral\",\"neutral\",\"neutral\",\"neutral\",\"neutral\",\"positive\",\"neutral\",\"neutral\",\"negative\",\"positive\",\"neutral\",\"neutral\",\"neutral\",\"negative\",\"neutral\",\"neutral\",\"neutral\",\"neutral\",\"neutral\",\"positive\",\"neutral\",\"neutral\",\"positive\",\"neutral\",\"neutral\",\"neutral\",\"neutral\",\"positive\",\"negative\",\"neutral\",\"neutral\",\"neutral\",\"neutral\",\"neutral\",\"positive\",\"neutral\",\"positive\",\"positive\",\"neutral\",\"negative\",\"neutral\",\"positive\",\"neutral\",\"positive\",\"negative\",\"positive\",\"positive\",\"positive\",\"negative\",\"neutral\",\"neutral\",\"neutral\",\"neutral\",\"negative\",\"neutral\",\"positive\",\"positive\",\"neutral\",\"neutral\",\"positive\",\"neutral\",\"positive\",\"neutral\",\"neutral\",\"positive\",\"neutral\",\"neutral\",\"neutral\",\"neutral\",\"neutral\",\"negative\",\"neutral\",\"neutral\",\"neutral\",\"negative\",\"neutral\",\"neutral\",\"negative\",\"neutral\",\"neutral\",\"negative\",\"negative\",\"positive\",\"neutral\",\"neutral\",\"neutral\",\"negative\",\"neutral\",\"neutral\",\"neutral\",\"negative\",\"positive\",\"neutral\",\"neutral\",\"positive\",\"positive\",\"neutral\",\"neutral\",\"neutral\",\"negative\",\"positive\",\"neutral\",\"neutral\",\"positive\",\"neutral\",\"neutral\",\"neutral\",\"neutral\",\"positive\",\"neutral\",\"neutral\",\"negative\",\"negative\",\"neutral\",\"positive\",\"neutral\",\"negative\",\"positive\",\"neutral\",\"neutral\",\"neutral\",\"neutral\",\"negative\",\"positive\",\"positive\",\"neutral\",\"neutral\",\"positive\",\"neutral\",\"neutral\",\"positive\",\"neutral\",\"positive\",\"neutral\",\"neutral\",\"neutral\",\"neutral\",\"neutral\",\"negative\",\"neutral\",\"positive\",\"neutral\",\"positive\",\"negative\",\"positive\",\"positive\",\"negative\",\"neutral\",\"neutral\",\"neutral\",\"positive\",\"neutral\",\"positive\",\"negative\",\"negative\",\"neutral\",\"neutral\",\"neutral\",\"neutral\",\"negative\",\"neutral\",\"negative\",\"neutral\",\"negative\",\"neutral\",\"neutral\",\"positive\",\"neutral\",\"neutral\",\"positive\",\"positive\",\"neutral\",\"neutral\",\"neutral\",\"neutral\",\"negative\",\"positive\",\"positive\",\"positive\",\"positive\",\"positive\",\"neutral\",\"neutral\",\"neutral\",\"positive\",\"neutral\",\"positive\",\"neutral\",\"positive\",\"neutral\",\"positive\",\"positive\",\"positive\",\"neutral\",\"neutral\",\"neutral\",\"positive\",\"positive\",\"neutral\",\"negative\",\"neutral\",\"neutral\",\"neutral\",\"neutral\",\"neutral\",\"neutral\",\"negative\",\"neutral\",\"positive\",\"positive\",\"positive\",\"positive\",\"neutral\",\"negative\",\"positive\",\"neutral\",\"neutral\",\"neutral\",\"neutral\",\"neutral\",\"neutral\",\"positive\",\"neutral\",\"positive\",\"neutral\",\"positive\",\"neutral\",\"positive\",\"neutral\",\"negative\",\"positive\",\"neutral\",\"negative\",\"neutral\",\"neutral\",\"neutral\",\"negative\",\"neutral\",\"positive\",\"neutral\",\"positive\",\"negative\",\"positive\",\"neutral\",\"negative\",\"negative\",\"negative\",\"neutral\",\"neutral\",\"neutral\",\"positive\",\"positive\",\"negative\",\"neutral\",\"negative\",\"neutral\",\"positive\",\"neutral\",\"neutral\",\"neutral\",\"neutral\",\"positive\",\"neutral\",\"positive\",\"neutral\",\"neutral\",\"negative\",\"positive\",\"positive\",\"positive\",\"neutral\",\"neutral\",\"neutral\",\"neutral\",\"neutral\",\"positive\",\"negative\",\"positive\",\"positive\",\"negative\",\"neutral\",\"neutral\",\"positive\",\"positive\",\"negative\",\"negative\",\"positive\",\"negative\",\"neutral\",\"neutral\",\"neutral\",\"positive\",\"neutral\",\"neutral\",\"positive\",\"neutral\",\"positive\",\"neutral\",\"negative\",\"neutral\",\"neutral\",\"negative\",\"positive\",\"negative\",\"neutral\",\"neutral\",\"neutral\",\"positive\",\"neutral\",\"neutral\",\"neutral\",\"positive\",\"neutral\",\"positive\",\"neutral\",\"negative\",\"positive\",\"neutral\",\"neutral\",\"positive\",\"neutral\",\"neutral\",\"neutral\",\"neutral\",\"positive\",\"positive\",\"negative\",\"neutral\",\"negative\",\"positive\",\"neutral\",\"negative\",\"neutral\",\"positive\",\"positive\",\"neutral\",\"neutral\",\"neutral\",\"positive\",\"negative\",\"positive\",\"positive\",\"positive\",\"neutral\",\"negative\",\"negative\",\"neutral\",\"neutral\",\"negative\",\"positive\",\"negative\",\"positive\",\"positive\",\"neutral\",\"neutral\",\"neutral\",\"positive\",\"negative\",\"negative\",\"neutral\",\"positive\",\"negative\",\"neutral\",\"negative\",\"neutral\",\"neutral\",\"positive\",\"neutral\",\"negative\",\"positive\",\"neutral\",\"positive\",\"positive\",\"positive\",\"positive\",\"positive\",\"positive\",\"negative\",\"positive\",\"negative\",\"negative\",\"neutral\",\"negative\",\"neutral\",\"neutral\",\"positive\",\"positive\",\"neutral\",\"positive\",\"neutral\",\"neutral\",\"positive\",\"neutral\",\"neutral\",\"neutral\",\"negative\",\"neutral\",\"neutral\",\"negative\",\"positive\",\"positive\",\"negative\",\"positive\",\"neutral\",\"positive\",\"negative\",\"neutral\",\"neutral\",\"negative\",\"positive\",\"negative\",\"neutral\",\"neutral\",\"neutral\",\"positive\",\"positive\",\"neutral\",\"negative\",\"neutral\",\"positive\",\"neutral\",\"positive\",\"neutral\",\"positive\",\"neutral\",\"negative\",\"neutral\",\"neutral\",\"positive\",\"positive\",\"positive\",\"neutral\",\"neutral\",\"neutral\",\"positive\",\"neutral\",\"neutral\",\"neutral\",\"neutral\",\"positive\",\"positive\",\"positive\",\"positive\",\"positive\",\"neutral\",\"neutral\",\"positive\",\"negative\",\"positive\",\"positive\",\"neutral\",\"negative\",\"neutral\",\"neutral\",\"neutral\",\"neutral\",\"positive\",\"neutral\",\"neutral\",\"negative\",\"negative\",\"positive\",\"positive\",\"neutral\",\"neutral\",\"neutral\",\"negative\",\"neutral\",\"neutral\",\"negative\",\"neutral\",\"neutral\",\"neutral\",\"negative\",\"neutral\",\"neutral\",\"neutral\",\"neutral\",\"positive\",\"positive\",\"positive\",\"neutral\",\"positive\",\"neutral\",\"negative\",\"negative\",\"positive\",\"positive\",\"positive\",\"neutral\",\"positive\",\"neutral\",\"positive\",\"positive\",\"neutral\",\"neutral\",\"negative\",\"positive\",\"neutral\",\"neutral\",\"negative\",\"neutral\",\"neutral\",\"neutral\",\"neutral\",\"positive\",\"positive\",\"neutral\",\"neutral\",\"neutral\",\"neutral\",\"positive\",\"negative\",\"positive\",\"negative\",\"positive\",\"neutral\",\"negative\",\"positive\",\"neutral\",\"positive\",\"neutral\",\"neutral\",\"positive\",\"positive\",\"neutral\",\"neutral\",\"positive\",\"neutral\",\"neutral\",\"neutral\",\"neutral\",\"negative\",\"neutral\",\"neutral\",\"negative\",\"negative\",\"positive\",\"negative\",\"positive\",\"positive\",\"neutral\",\"positive\",\"negative\",\"positive\",\"negative\",\"neutral\",\"neutral\",\"positive\",\"positive\",\"positive\",\"negative\",\"positive\",\"positive\",\"neutral\",\"negative\",\"neutral\",\"neutral\",\"positive\",\"positive\",\"neutral\",\"negative\",\"neutral\",\"negative\",\"neutral\",\"negative\",\"negative\",\"neutral\",\"neutral\",\"negative\",\"positive\",\"negative\",\"neutral\",\"neutral\",\"neutral\",\"positive\"],\"xaxis\":\"x\",\"yaxis\":\"y\",\"type\":\"histogram\"}],                        {\"template\":{\"data\":{\"histogram2dcontour\":[{\"type\":\"histogram2dcontour\",\"colorbar\":{\"outlinewidth\":0,\"ticks\":\"\"},\"colorscale\":[[0.0,\"#0d0887\"],[0.1111111111111111,\"#46039f\"],[0.2222222222222222,\"#7201a8\"],[0.3333333333333333,\"#9c179e\"],[0.4444444444444444,\"#bd3786\"],[0.5555555555555556,\"#d8576b\"],[0.6666666666666666,\"#ed7953\"],[0.7777777777777778,\"#fb9f3a\"],[0.8888888888888888,\"#fdca26\"],[1.0,\"#f0f921\"]]}],\"choropleth\":[{\"type\":\"choropleth\",\"colorbar\":{\"outlinewidth\":0,\"ticks\":\"\"}}],\"histogram2d\":[{\"type\":\"histogram2d\",\"colorbar\":{\"outlinewidth\":0,\"ticks\":\"\"},\"colorscale\":[[0.0,\"#0d0887\"],[0.1111111111111111,\"#46039f\"],[0.2222222222222222,\"#7201a8\"],[0.3333333333333333,\"#9c179e\"],[0.4444444444444444,\"#bd3786\"],[0.5555555555555556,\"#d8576b\"],[0.6666666666666666,\"#ed7953\"],[0.7777777777777778,\"#fb9f3a\"],[0.8888888888888888,\"#fdca26\"],[1.0,\"#f0f921\"]]}],\"heatmap\":[{\"type\":\"heatmap\",\"colorbar\":{\"outlinewidth\":0,\"ticks\":\"\"},\"colorscale\":[[0.0,\"#0d0887\"],[0.1111111111111111,\"#46039f\"],[0.2222222222222222,\"#7201a8\"],[0.3333333333333333,\"#9c179e\"],[0.4444444444444444,\"#bd3786\"],[0.5555555555555556,\"#d8576b\"],[0.6666666666666666,\"#ed7953\"],[0.7777777777777778,\"#fb9f3a\"],[0.8888888888888888,\"#fdca26\"],[1.0,\"#f0f921\"]]}],\"heatmapgl\":[{\"type\":\"heatmapgl\",\"colorbar\":{\"outlinewidth\":0,\"ticks\":\"\"},\"colorscale\":[[0.0,\"#0d0887\"],[0.1111111111111111,\"#46039f\"],[0.2222222222222222,\"#7201a8\"],[0.3333333333333333,\"#9c179e\"],[0.4444444444444444,\"#bd3786\"],[0.5555555555555556,\"#d8576b\"],[0.6666666666666666,\"#ed7953\"],[0.7777777777777778,\"#fb9f3a\"],[0.8888888888888888,\"#fdca26\"],[1.0,\"#f0f921\"]]}],\"contourcarpet\":[{\"type\":\"contourcarpet\",\"colorbar\":{\"outlinewidth\":0,\"ticks\":\"\"}}],\"contour\":[{\"type\":\"contour\",\"colorbar\":{\"outlinewidth\":0,\"ticks\":\"\"},\"colorscale\":[[0.0,\"#0d0887\"],[0.1111111111111111,\"#46039f\"],[0.2222222222222222,\"#7201a8\"],[0.3333333333333333,\"#9c179e\"],[0.4444444444444444,\"#bd3786\"],[0.5555555555555556,\"#d8576b\"],[0.6666666666666666,\"#ed7953\"],[0.7777777777777778,\"#fb9f3a\"],[0.8888888888888888,\"#fdca26\"],[1.0,\"#f0f921\"]]}],\"surface\":[{\"type\":\"surface\",\"colorbar\":{\"outlinewidth\":0,\"ticks\":\"\"},\"colorscale\":[[0.0,\"#0d0887\"],[0.1111111111111111,\"#46039f\"],[0.2222222222222222,\"#7201a8\"],[0.3333333333333333,\"#9c179e\"],[0.4444444444444444,\"#bd3786\"],[0.5555555555555556,\"#d8576b\"],[0.6666666666666666,\"#ed7953\"],[0.7777777777777778,\"#fb9f3a\"],[0.8888888888888888,\"#fdca26\"],[1.0,\"#f0f921\"]]}],\"mesh3d\":[{\"type\":\"mesh3d\",\"colorbar\":{\"outlinewidth\":0,\"ticks\":\"\"}}],\"scatter\":[{\"fillpattern\":{\"fillmode\":\"overlay\",\"size\":10,\"solidity\":0.2},\"type\":\"scatter\"}],\"parcoords\":[{\"type\":\"parcoords\",\"line\":{\"colorbar\":{\"outlinewidth\":0,\"ticks\":\"\"}}}],\"scatterpolargl\":[{\"type\":\"scatterpolargl\",\"marker\":{\"colorbar\":{\"outlinewidth\":0,\"ticks\":\"\"}}}],\"bar\":[{\"error_x\":{\"color\":\"#2a3f5f\"},\"error_y\":{\"color\":\"#2a3f5f\"},\"marker\":{\"line\":{\"color\":\"#E5ECF6\",\"width\":0.5},\"pattern\":{\"fillmode\":\"overlay\",\"size\":10,\"solidity\":0.2}},\"type\":\"bar\"}],\"scattergeo\":[{\"type\":\"scattergeo\",\"marker\":{\"colorbar\":{\"outlinewidth\":0,\"ticks\":\"\"}}}],\"scatterpolar\":[{\"type\":\"scatterpolar\",\"marker\":{\"colorbar\":{\"outlinewidth\":0,\"ticks\":\"\"}}}],\"histogram\":[{\"marker\":{\"pattern\":{\"fillmode\":\"overlay\",\"size\":10,\"solidity\":0.2}},\"type\":\"histogram\"}],\"scattergl\":[{\"type\":\"scattergl\",\"marker\":{\"colorbar\":{\"outlinewidth\":0,\"ticks\":\"\"}}}],\"scatter3d\":[{\"type\":\"scatter3d\",\"line\":{\"colorbar\":{\"outlinewidth\":0,\"ticks\":\"\"}},\"marker\":{\"colorbar\":{\"outlinewidth\":0,\"ticks\":\"\"}}}],\"scattermapbox\":[{\"type\":\"scattermapbox\",\"marker\":{\"colorbar\":{\"outlinewidth\":0,\"ticks\":\"\"}}}],\"scatterternary\":[{\"type\":\"scatterternary\",\"marker\":{\"colorbar\":{\"outlinewidth\":0,\"ticks\":\"\"}}}],\"scattercarpet\":[{\"type\":\"scattercarpet\",\"marker\":{\"colorbar\":{\"outlinewidth\":0,\"ticks\":\"\"}}}],\"carpet\":[{\"aaxis\":{\"endlinecolor\":\"#2a3f5f\",\"gridcolor\":\"white\",\"linecolor\":\"white\",\"minorgridcolor\":\"white\",\"startlinecolor\":\"#2a3f5f\"},\"baxis\":{\"endlinecolor\":\"#2a3f5f\",\"gridcolor\":\"white\",\"linecolor\":\"white\",\"minorgridcolor\":\"white\",\"startlinecolor\":\"#2a3f5f\"},\"type\":\"carpet\"}],\"table\":[{\"cells\":{\"fill\":{\"color\":\"#EBF0F8\"},\"line\":{\"color\":\"white\"}},\"header\":{\"fill\":{\"color\":\"#C8D4E3\"},\"line\":{\"color\":\"white\"}},\"type\":\"table\"}],\"barpolar\":[{\"marker\":{\"line\":{\"color\":\"#E5ECF6\",\"width\":0.5},\"pattern\":{\"fillmode\":\"overlay\",\"size\":10,\"solidity\":0.2}},\"type\":\"barpolar\"}],\"pie\":[{\"automargin\":true,\"type\":\"pie\"}]},\"layout\":{\"autotypenumbers\":\"strict\",\"colorway\":[\"#636efa\",\"#EF553B\",\"#00cc96\",\"#ab63fa\",\"#FFA15A\",\"#19d3f3\",\"#FF6692\",\"#B6E880\",\"#FF97FF\",\"#FECB52\"],\"font\":{\"color\":\"#2a3f5f\"},\"hovermode\":\"closest\",\"hoverlabel\":{\"align\":\"left\"},\"paper_bgcolor\":\"white\",\"plot_bgcolor\":\"#E5ECF6\",\"polar\":{\"bgcolor\":\"#E5ECF6\",\"angularaxis\":{\"gridcolor\":\"white\",\"linecolor\":\"white\",\"ticks\":\"\"},\"radialaxis\":{\"gridcolor\":\"white\",\"linecolor\":\"white\",\"ticks\":\"\"}},\"ternary\":{\"bgcolor\":\"#E5ECF6\",\"aaxis\":{\"gridcolor\":\"white\",\"linecolor\":\"white\",\"ticks\":\"\"},\"baxis\":{\"gridcolor\":\"white\",\"linecolor\":\"white\",\"ticks\":\"\"},\"caxis\":{\"gridcolor\":\"white\",\"linecolor\":\"white\",\"ticks\":\"\"}},\"coloraxis\":{\"colorbar\":{\"outlinewidth\":0,\"ticks\":\"\"}},\"colorscale\":{\"sequential\":[[0.0,\"#0d0887\"],[0.1111111111111111,\"#46039f\"],[0.2222222222222222,\"#7201a8\"],[0.3333333333333333,\"#9c179e\"],[0.4444444444444444,\"#bd3786\"],[0.5555555555555556,\"#d8576b\"],[0.6666666666666666,\"#ed7953\"],[0.7777777777777778,\"#fb9f3a\"],[0.8888888888888888,\"#fdca26\"],[1.0,\"#f0f921\"]],\"sequentialminus\":[[0.0,\"#0d0887\"],[0.1111111111111111,\"#46039f\"],[0.2222222222222222,\"#7201a8\"],[0.3333333333333333,\"#9c179e\"],[0.4444444444444444,\"#bd3786\"],[0.5555555555555556,\"#d8576b\"],[0.6666666666666666,\"#ed7953\"],[0.7777777777777778,\"#fb9f3a\"],[0.8888888888888888,\"#fdca26\"],[1.0,\"#f0f921\"]],\"diverging\":[[0,\"#8e0152\"],[0.1,\"#c51b7d\"],[0.2,\"#de77ae\"],[0.3,\"#f1b6da\"],[0.4,\"#fde0ef\"],[0.5,\"#f7f7f7\"],[0.6,\"#e6f5d0\"],[0.7,\"#b8e186\"],[0.8,\"#7fbc41\"],[0.9,\"#4d9221\"],[1,\"#276419\"]]},\"xaxis\":{\"gridcolor\":\"white\",\"linecolor\":\"white\",\"ticks\":\"\",\"title\":{\"standoff\":15},\"zerolinecolor\":\"white\",\"automargin\":true,\"zerolinewidth\":2},\"yaxis\":{\"gridcolor\":\"white\",\"linecolor\":\"white\",\"ticks\":\"\",\"title\":{\"standoff\":15},\"zerolinecolor\":\"white\",\"automargin\":true,\"zerolinewidth\":2},\"scene\":{\"xaxis\":{\"backgroundcolor\":\"#E5ECF6\",\"gridcolor\":\"white\",\"linecolor\":\"white\",\"showbackground\":true,\"ticks\":\"\",\"zerolinecolor\":\"white\",\"gridwidth\":2},\"yaxis\":{\"backgroundcolor\":\"#E5ECF6\",\"gridcolor\":\"white\",\"linecolor\":\"white\",\"showbackground\":true,\"ticks\":\"\",\"zerolinecolor\":\"white\",\"gridwidth\":2},\"zaxis\":{\"backgroundcolor\":\"#E5ECF6\",\"gridcolor\":\"white\",\"linecolor\":\"white\",\"showbackground\":true,\"ticks\":\"\",\"zerolinecolor\":\"white\",\"gridwidth\":2}},\"shapedefaults\":{\"line\":{\"color\":\"#2a3f5f\"}},\"annotationdefaults\":{\"arrowcolor\":\"#2a3f5f\",\"arrowhead\":0,\"arrowwidth\":1},\"geo\":{\"bgcolor\":\"white\",\"landcolor\":\"#E5ECF6\",\"subunitcolor\":\"white\",\"showland\":true,\"showlakes\":true,\"lakecolor\":\"white\"},\"title\":{\"x\":0.05},\"mapbox\":{\"style\":\"light\"}}},\"xaxis\":{\"anchor\":\"y\",\"domain\":[0.0,1.0],\"title\":{\"text\":\"Sentiment\"}},\"yaxis\":{\"anchor\":\"x\",\"domain\":[0.0,1.0],\"title\":{\"text\":\"count\"}},\"legend\":{\"tracegroupgap\":0},\"margin\":{\"t\":60},\"barmode\":\"relative\"},                        {\"responsive\": true}                    ).then(function(){\n",
              "                            \n",
              "var gd = document.getElementById('58a594ab-2d0d-4fa0-8ac2-0d2bb75770ee');\n",
              "var x = new MutationObserver(function (mutations, observer) {{\n",
              "        var display = window.getComputedStyle(gd).display;\n",
              "        if (!display || display === 'none') {{\n",
              "            console.log([gd, 'removed!']);\n",
              "            Plotly.purge(gd);\n",
              "            observer.disconnect();\n",
              "        }}\n",
              "}});\n",
              "\n",
              "// Listen for the removal of the full notebook cells\n",
              "var notebookContainer = gd.closest('#notebook-container');\n",
              "if (notebookContainer) {{\n",
              "    x.observe(notebookContainer, {childList: true});\n",
              "}}\n",
              "\n",
              "// Listen for the clearing of the current output cell\n",
              "var outputEl = gd.closest('.output');\n",
              "if (outputEl) {{\n",
              "    x.observe(outputEl, {childList: true});\n",
              "}}\n",
              "\n",
              "                        })                };                            </script>        </div>\n",
              "</body>\n",
              "</html>"
            ]
          },
          "metadata": {}
        }
      ],
      "source": [
        "import plotly.express as px\n",
        "fig = px.histogram(data, x='Sentiment', nbins=15)\n",
        "fig.show()"
      ]
    },
    {
      "cell_type": "markdown",
      "metadata": {
        "id": "tyYKD0IcfV6u"
      },
      "source": [
        "#DATA PREPROCESSING"
      ]
    },
    {
      "cell_type": "code",
      "execution_count": null,
      "metadata": {
        "id": "fTRxByWDfW0g",
        "colab": {
          "base_uri": "https://localhost:8080/"
        },
        "outputId": "9ab3c947-31e2-4278-a1f6-c53656f0b97f"
      },
      "outputs": [
        {
          "output_type": "execute_result",
          "data": {
            "text/plain": [
              "(5842, 2)"
            ]
          },
          "metadata": {},
          "execution_count": 107
        }
      ],
      "source": [
        "data.shape"
      ]
    },
    {
      "cell_type": "code",
      "execution_count": null,
      "metadata": {
        "id": "1wqVwN-ZetrQ",
        "colab": {
          "base_uri": "https://localhost:8080/",
          "height": 206
        },
        "outputId": "d2040127-7bad-4db4-c618-100ec02ebb3e"
      },
      "outputs": [
        {
          "output_type": "execute_result",
          "data": {
            "text/plain": [
              "                                            Sentence Sentiment\n",
              "0  The GeoSolutions technology will leverage Bene...  positive\n",
              "1  $ESI on lows, down $1.50 to $2.50 BK a real po...  negative\n",
              "2  For the last quarter of 2010 , Componenta 's n...  positive\n",
              "3  According to the Finnish-Russian Chamber of Co...   neutral\n",
              "4  The Swedish buyout firm has sold its remaining...   neutral"
            ],
            "text/html": [
              "\n",
              "  <div id=\"df-1866772b-7e21-4774-8e8d-10a5154f2039\" class=\"colab-df-container\">\n",
              "    <div>\n",
              "<style scoped>\n",
              "    .dataframe tbody tr th:only-of-type {\n",
              "        vertical-align: middle;\n",
              "    }\n",
              "\n",
              "    .dataframe tbody tr th {\n",
              "        vertical-align: top;\n",
              "    }\n",
              "\n",
              "    .dataframe thead th {\n",
              "        text-align: right;\n",
              "    }\n",
              "</style>\n",
              "<table border=\"1\" class=\"dataframe\">\n",
              "  <thead>\n",
              "    <tr style=\"text-align: right;\">\n",
              "      <th></th>\n",
              "      <th>Sentence</th>\n",
              "      <th>Sentiment</th>\n",
              "    </tr>\n",
              "  </thead>\n",
              "  <tbody>\n",
              "    <tr>\n",
              "      <th>0</th>\n",
              "      <td>The GeoSolutions technology will leverage Bene...</td>\n",
              "      <td>positive</td>\n",
              "    </tr>\n",
              "    <tr>\n",
              "      <th>1</th>\n",
              "      <td>$ESI on lows, down $1.50 to $2.50 BK a real po...</td>\n",
              "      <td>negative</td>\n",
              "    </tr>\n",
              "    <tr>\n",
              "      <th>2</th>\n",
              "      <td>For the last quarter of 2010 , Componenta 's n...</td>\n",
              "      <td>positive</td>\n",
              "    </tr>\n",
              "    <tr>\n",
              "      <th>3</th>\n",
              "      <td>According to the Finnish-Russian Chamber of Co...</td>\n",
              "      <td>neutral</td>\n",
              "    </tr>\n",
              "    <tr>\n",
              "      <th>4</th>\n",
              "      <td>The Swedish buyout firm has sold its remaining...</td>\n",
              "      <td>neutral</td>\n",
              "    </tr>\n",
              "  </tbody>\n",
              "</table>\n",
              "</div>\n",
              "    <div class=\"colab-df-buttons\">\n",
              "\n",
              "  <div class=\"colab-df-container\">\n",
              "    <button class=\"colab-df-convert\" onclick=\"convertToInteractive('df-1866772b-7e21-4774-8e8d-10a5154f2039')\"\n",
              "            title=\"Convert this dataframe to an interactive table.\"\n",
              "            style=\"display:none;\">\n",
              "\n",
              "  <svg xmlns=\"http://www.w3.org/2000/svg\" height=\"24px\" viewBox=\"0 -960 960 960\">\n",
              "    <path d=\"M120-120v-720h720v720H120Zm60-500h600v-160H180v160Zm220 220h160v-160H400v160Zm0 220h160v-160H400v160ZM180-400h160v-160H180v160Zm440 0h160v-160H620v160ZM180-180h160v-160H180v160Zm440 0h160v-160H620v160Z\"/>\n",
              "  </svg>\n",
              "    </button>\n",
              "\n",
              "  <style>\n",
              "    .colab-df-container {\n",
              "      display:flex;\n",
              "      gap: 12px;\n",
              "    }\n",
              "\n",
              "    .colab-df-convert {\n",
              "      background-color: #E8F0FE;\n",
              "      border: none;\n",
              "      border-radius: 50%;\n",
              "      cursor: pointer;\n",
              "      display: none;\n",
              "      fill: #1967D2;\n",
              "      height: 32px;\n",
              "      padding: 0 0 0 0;\n",
              "      width: 32px;\n",
              "    }\n",
              "\n",
              "    .colab-df-convert:hover {\n",
              "      background-color: #E2EBFA;\n",
              "      box-shadow: 0px 1px 2px rgba(60, 64, 67, 0.3), 0px 1px 3px 1px rgba(60, 64, 67, 0.15);\n",
              "      fill: #174EA6;\n",
              "    }\n",
              "\n",
              "    .colab-df-buttons div {\n",
              "      margin-bottom: 4px;\n",
              "    }\n",
              "\n",
              "    [theme=dark] .colab-df-convert {\n",
              "      background-color: #3B4455;\n",
              "      fill: #D2E3FC;\n",
              "    }\n",
              "\n",
              "    [theme=dark] .colab-df-convert:hover {\n",
              "      background-color: #434B5C;\n",
              "      box-shadow: 0px 1px 3px 1px rgba(0, 0, 0, 0.15);\n",
              "      filter: drop-shadow(0px 1px 2px rgba(0, 0, 0, 0.3));\n",
              "      fill: #FFFFFF;\n",
              "    }\n",
              "  </style>\n",
              "\n",
              "    <script>\n",
              "      const buttonEl =\n",
              "        document.querySelector('#df-1866772b-7e21-4774-8e8d-10a5154f2039 button.colab-df-convert');\n",
              "      buttonEl.style.display =\n",
              "        google.colab.kernel.accessAllowed ? 'block' : 'none';\n",
              "\n",
              "      async function convertToInteractive(key) {\n",
              "        const element = document.querySelector('#df-1866772b-7e21-4774-8e8d-10a5154f2039');\n",
              "        const dataTable =\n",
              "          await google.colab.kernel.invokeFunction('convertToInteractive',\n",
              "                                                    [key], {});\n",
              "        if (!dataTable) return;\n",
              "\n",
              "        const docLinkHtml = 'Like what you see? Visit the ' +\n",
              "          '<a target=\"_blank\" href=https://colab.research.google.com/notebooks/data_table.ipynb>data table notebook</a>'\n",
              "          + ' to learn more about interactive tables.';\n",
              "        element.innerHTML = '';\n",
              "        dataTable['output_type'] = 'display_data';\n",
              "        await google.colab.output.renderOutput(dataTable, element);\n",
              "        const docLink = document.createElement('div');\n",
              "        docLink.innerHTML = docLinkHtml;\n",
              "        element.appendChild(docLink);\n",
              "      }\n",
              "    </script>\n",
              "  </div>\n",
              "\n",
              "\n",
              "<div id=\"df-2d4c0dce-7d53-42bd-b489-54596f6e0b60\">\n",
              "  <button class=\"colab-df-quickchart\" onclick=\"quickchart('df-2d4c0dce-7d53-42bd-b489-54596f6e0b60')\"\n",
              "            title=\"Suggest charts\"\n",
              "            style=\"display:none;\">\n",
              "\n",
              "<svg xmlns=\"http://www.w3.org/2000/svg\" height=\"24px\"viewBox=\"0 0 24 24\"\n",
              "     width=\"24px\">\n",
              "    <g>\n",
              "        <path d=\"M19 3H5c-1.1 0-2 .9-2 2v14c0 1.1.9 2 2 2h14c1.1 0 2-.9 2-2V5c0-1.1-.9-2-2-2zM9 17H7v-7h2v7zm4 0h-2V7h2v10zm4 0h-2v-4h2v4z\"/>\n",
              "    </g>\n",
              "</svg>\n",
              "  </button>\n",
              "\n",
              "<style>\n",
              "  .colab-df-quickchart {\n",
              "      --bg-color: #E8F0FE;\n",
              "      --fill-color: #1967D2;\n",
              "      --hover-bg-color: #E2EBFA;\n",
              "      --hover-fill-color: #174EA6;\n",
              "      --disabled-fill-color: #AAA;\n",
              "      --disabled-bg-color: #DDD;\n",
              "  }\n",
              "\n",
              "  [theme=dark] .colab-df-quickchart {\n",
              "      --bg-color: #3B4455;\n",
              "      --fill-color: #D2E3FC;\n",
              "      --hover-bg-color: #434B5C;\n",
              "      --hover-fill-color: #FFFFFF;\n",
              "      --disabled-bg-color: #3B4455;\n",
              "      --disabled-fill-color: #666;\n",
              "  }\n",
              "\n",
              "  .colab-df-quickchart {\n",
              "    background-color: var(--bg-color);\n",
              "    border: none;\n",
              "    border-radius: 50%;\n",
              "    cursor: pointer;\n",
              "    display: none;\n",
              "    fill: var(--fill-color);\n",
              "    height: 32px;\n",
              "    padding: 0;\n",
              "    width: 32px;\n",
              "  }\n",
              "\n",
              "  .colab-df-quickchart:hover {\n",
              "    background-color: var(--hover-bg-color);\n",
              "    box-shadow: 0 1px 2px rgba(60, 64, 67, 0.3), 0 1px 3px 1px rgba(60, 64, 67, 0.15);\n",
              "    fill: var(--button-hover-fill-color);\n",
              "  }\n",
              "\n",
              "  .colab-df-quickchart-complete:disabled,\n",
              "  .colab-df-quickchart-complete:disabled:hover {\n",
              "    background-color: var(--disabled-bg-color);\n",
              "    fill: var(--disabled-fill-color);\n",
              "    box-shadow: none;\n",
              "  }\n",
              "\n",
              "  .colab-df-spinner {\n",
              "    border: 2px solid var(--fill-color);\n",
              "    border-color: transparent;\n",
              "    border-bottom-color: var(--fill-color);\n",
              "    animation:\n",
              "      spin 1s steps(1) infinite;\n",
              "  }\n",
              "\n",
              "  @keyframes spin {\n",
              "    0% {\n",
              "      border-color: transparent;\n",
              "      border-bottom-color: var(--fill-color);\n",
              "      border-left-color: var(--fill-color);\n",
              "    }\n",
              "    20% {\n",
              "      border-color: transparent;\n",
              "      border-left-color: var(--fill-color);\n",
              "      border-top-color: var(--fill-color);\n",
              "    }\n",
              "    30% {\n",
              "      border-color: transparent;\n",
              "      border-left-color: var(--fill-color);\n",
              "      border-top-color: var(--fill-color);\n",
              "      border-right-color: var(--fill-color);\n",
              "    }\n",
              "    40% {\n",
              "      border-color: transparent;\n",
              "      border-right-color: var(--fill-color);\n",
              "      border-top-color: var(--fill-color);\n",
              "    }\n",
              "    60% {\n",
              "      border-color: transparent;\n",
              "      border-right-color: var(--fill-color);\n",
              "    }\n",
              "    80% {\n",
              "      border-color: transparent;\n",
              "      border-right-color: var(--fill-color);\n",
              "      border-bottom-color: var(--fill-color);\n",
              "    }\n",
              "    90% {\n",
              "      border-color: transparent;\n",
              "      border-bottom-color: var(--fill-color);\n",
              "    }\n",
              "  }\n",
              "</style>\n",
              "\n",
              "  <script>\n",
              "    async function quickchart(key) {\n",
              "      const quickchartButtonEl =\n",
              "        document.querySelector('#' + key + ' button');\n",
              "      quickchartButtonEl.disabled = true;  // To prevent multiple clicks.\n",
              "      quickchartButtonEl.classList.add('colab-df-spinner');\n",
              "      try {\n",
              "        const charts = await google.colab.kernel.invokeFunction(\n",
              "            'suggestCharts', [key], {});\n",
              "      } catch (error) {\n",
              "        console.error('Error during call to suggestCharts:', error);\n",
              "      }\n",
              "      quickchartButtonEl.classList.remove('colab-df-spinner');\n",
              "      quickchartButtonEl.classList.add('colab-df-quickchart-complete');\n",
              "    }\n",
              "    (() => {\n",
              "      let quickchartButtonEl =\n",
              "        document.querySelector('#df-2d4c0dce-7d53-42bd-b489-54596f6e0b60 button');\n",
              "      quickchartButtonEl.style.display =\n",
              "        google.colab.kernel.accessAllowed ? 'block' : 'none';\n",
              "    })();\n",
              "  </script>\n",
              "</div>\n",
              "\n",
              "    </div>\n",
              "  </div>\n"
            ],
            "application/vnd.google.colaboratory.intrinsic+json": {
              "type": "dataframe",
              "variable_name": "data",
              "summary": "{\n  \"name\": \"data\",\n  \"rows\": 5842,\n  \"fields\": [\n    {\n      \"column\": \"Sentence\",\n      \"properties\": {\n        \"dtype\": \"string\",\n        \"num_unique_values\": 5322,\n        \"samples\": [\n          \"It is now the leading private road ambulance service company in Finland .\",\n          \"Finnish silicon wafers manufacturer Okmetic Oyj said it swung to a net profit of 4.9 mln euro $ 6.3 mln in the first nine months of 2006 from a net loss of 1.8 mln euro $ 2.3 mln a year earlier .\",\n          \"$GILD  is expanding its research facilities...keeping up with the pace of innovation  https://t.co/uOE7FJ4LOP\"\n        ],\n        \"semantic_type\": \"\",\n        \"description\": \"\"\n      }\n    },\n    {\n      \"column\": \"Sentiment\",\n      \"properties\": {\n        \"dtype\": \"category\",\n        \"num_unique_values\": 3,\n        \"samples\": [\n          \"positive\",\n          \"negative\",\n          \"neutral\"\n        ],\n        \"semantic_type\": \"\",\n        \"description\": \"\"\n      }\n    }\n  ]\n}"
            }
          },
          "metadata": {},
          "execution_count": 108
        }
      ],
      "source": [
        "data.head()"
      ]
    },
    {
      "cell_type": "code",
      "execution_count": null,
      "metadata": {
        "id": "K1bTbEIofrAp",
        "colab": {
          "base_uri": "https://localhost:8080/"
        },
        "outputId": "8bc333e8-7b44-486f-8e15-035670938ca2"
      },
      "outputs": [
        {
          "output_type": "stream",
          "name": "stdout",
          "text": [
            "<class 'pandas.core.frame.DataFrame'>\n"
          ]
        }
      ],
      "source": [
        "print(type(data))"
      ]
    },
    {
      "cell_type": "code",
      "execution_count": null,
      "metadata": {
        "id": "EcXj43qyeu5I",
        "colab": {
          "base_uri": "https://localhost:8080/"
        },
        "outputId": "ee01fc84-5e70-48f9-f654-a68211e47736"
      },
      "outputs": [
        {
          "output_type": "execute_result",
          "data": {
            "text/plain": [
              "Sentiment\n",
              "neutral     3130\n",
              "positive    1852\n",
              "negative     860\n",
              "Name: count, dtype: int64"
            ]
          },
          "metadata": {},
          "execution_count": 110
        }
      ],
      "source": [
        "data['Sentiment'].value_counts() #exploring our Data"
      ]
    },
    {
      "cell_type": "code",
      "execution_count": null,
      "metadata": {
        "id": "AS6M-1Coeu7Q",
        "colab": {
          "base_uri": "https://localhost:8080/",
          "height": 70
        },
        "outputId": "29ce7735-5861-4011-833f-c426cc21b2a8"
      },
      "outputs": [
        {
          "output_type": "execute_result",
          "data": {
            "text/plain": [
              "\"The GeoSolutions technology will leverage Benefon 's GPS solutions by providing Location Based Search Technology , a Communities Platform , location relevant multimedia content and a new and powerful commercial model .\""
            ],
            "application/vnd.google.colaboratory.intrinsic+json": {
              "type": "string"
            }
          },
          "metadata": {},
          "execution_count": 111
        }
      ],
      "source": [
        "ch=data['Sentence'][0]\n",
        "ch\n",
        "#trying the pre-processing on the first phrase"
      ]
    },
    {
      "cell_type": "code",
      "execution_count": null,
      "metadata": {
        "id": "bcZGxJLvkW-m",
        "colab": {
          "base_uri": "https://localhost:8080/"
        },
        "outputId": "48125b93-2dc8-43ae-da04-da0720626edf"
      },
      "outputs": [
        {
          "output_type": "stream",
          "name": "stdout",
          "text": [
            "Requirement already satisfied: nltk in /usr/local/lib/python3.10/dist-packages (3.8.1)\n",
            "Requirement already satisfied: click in /usr/local/lib/python3.10/dist-packages (from nltk) (8.1.7)\n",
            "Requirement already satisfied: joblib in /usr/local/lib/python3.10/dist-packages (from nltk) (1.4.0)\n",
            "Requirement already satisfied: regex>=2021.8.3 in /usr/local/lib/python3.10/dist-packages (from nltk) (2023.12.25)\n",
            "Requirement already satisfied: tqdm in /usr/local/lib/python3.10/dist-packages (from nltk) (4.66.2)\n"
          ]
        }
      ],
      "source": [
        "!pip install nltk"
      ]
    },
    {
      "cell_type": "code",
      "execution_count": null,
      "metadata": {
        "id": "BwgDG_h8eu9O",
        "colab": {
          "base_uri": "https://localhost:8080/"
        },
        "outputId": "424e01d3-b635-41cf-8dab-88cabe515ff8"
      },
      "outputs": [
        {
          "output_type": "stream",
          "name": "stdout",
          "text": [
            "['i', 'me', 'my', 'myself', 'we', 'our', 'ours', 'ourselves', 'you', \"you're\", \"you've\", \"you'll\", \"you'd\", 'your', 'yours', 'yourself', 'yourselves', 'he', 'him', 'his', 'himself', 'she', \"she's\", 'her', 'hers', 'herself', 'it', \"it's\", 'its', 'itself', 'they', 'them', 'their', 'theirs', 'themselves', 'what', 'which', 'who', 'whom', 'this', 'that', \"that'll\", 'these', 'those', 'am', 'is', 'are', 'was', 'were', 'be', 'been', 'being', 'have', 'has', 'had', 'having', 'do', 'does', 'did', 'doing', 'a', 'an', 'the', 'and', 'but', 'if', 'or', 'because', 'as', 'until', 'while', 'of', 'at', 'by', 'for', 'with', 'about', 'against', 'between', 'into', 'through', 'during', 'before', 'after', 'above', 'below', 'to', 'from', 'up', 'down', 'in', 'out', 'on', 'off', 'over', 'under', 'again', 'further', 'then', 'once', 'here', 'there', 'when', 'where', 'why', 'how', 'all', 'any', 'both', 'each', 'few', 'more', 'most', 'other', 'some', 'such', 'no', 'nor', 'not', 'only', 'own', 'same', 'so', 'than', 'too', 'very', 's', 't', 'can', 'will', 'just', 'don', \"don't\", 'should', \"should've\", 'now', 'd', 'll', 'm', 'o', 're', 've', 'y', 'ain', 'aren', \"aren't\", 'couldn', \"couldn't\", 'didn', \"didn't\", 'doesn', \"doesn't\", 'hadn', \"hadn't\", 'hasn', \"hasn't\", 'haven', \"haven't\", 'isn', \"isn't\", 'ma', 'mightn', \"mightn't\", 'mustn', \"mustn't\", 'needn', \"needn't\", 'shan', \"shan't\", 'shouldn', \"shouldn't\", 'wasn', \"wasn't\", 'weren', \"weren't\", 'won', \"won't\", 'wouldn', \"wouldn't\"]\n"
          ]
        },
        {
          "output_type": "stream",
          "name": "stderr",
          "text": [
            "[nltk_data] Downloading package stopwords to /root/nltk_data...\n",
            "[nltk_data]   Package stopwords is already up-to-date!\n"
          ]
        }
      ],
      "source": [
        "import re\n",
        "import nltk\n",
        "from nltk.corpus import stopwords\n",
        "nltk.download('stopwords')\n",
        "print(stopwords.words('english'))\n",
        "#I wanted to know all the stopwords in english that can i delete from the phrase"
      ]
    },
    {
      "cell_type": "code",
      "execution_count": null,
      "metadata": {
        "id": "LIAkLimqeu_Z",
        "colab": {
          "base_uri": "https://localhost:8080/",
          "height": 70
        },
        "outputId": "50586572-cc09-4ec0-b431-80d4f9893ca5"
      },
      "outputs": [
        {
          "output_type": "execute_result",
          "data": {
            "text/plain": [
              "'The GeoSolutions technology will leverage Benefon  s GPS solutions by providing Location Based Search Technology   a Communities Platform   location relevant multimedia content and a new and powerful commercial model  '"
            ],
            "application/vnd.google.colaboratory.intrinsic+json": {
              "type": "string"
            }
          },
          "metadata": {},
          "execution_count": 114
        }
      ],
      "source": [
        "import re\n",
        "ch=re.sub('[^a-zA-Z]',\" \",ch) # 9otlou kol matal9a haja f ch apar les lettres de a jusqu'a z et A jusqu'a Z 3awadhha b vide: \"\"\n",
        "#en fait kifh re.sub('[a-zA-Z]',\" \",ch) t3awedhlk les a-z et A-Z b vide ama ena nheb bl 3aks cad illi differants donc tzid ^\n",
        "ch"
      ]
    },
    {
      "cell_type": "code",
      "execution_count": null,
      "metadata": {
        "id": "FmnYPA5kevBM"
      },
      "outputs": [],
      "source": [
        "ch=ch.lower() #because en majuscul ou miniscule pas de diff"
      ]
    },
    {
      "cell_type": "code",
      "execution_count": null,
      "metadata": {
        "id": "wXuWRiZWevDl",
        "colab": {
          "base_uri": "https://localhost:8080/"
        },
        "outputId": "0752475e-de89-4fd0-f632-b8b4368484fb"
      },
      "outputs": [
        {
          "output_type": "execute_result",
          "data": {
            "text/plain": [
              "['the',\n",
              " 'geosolutions',\n",
              " 'technology',\n",
              " 'will',\n",
              " 'leverage',\n",
              " 'benefon',\n",
              " '',\n",
              " 's',\n",
              " 'gps',\n",
              " 'solutions',\n",
              " 'by',\n",
              " 'providing',\n",
              " 'location',\n",
              " 'based',\n",
              " 'search',\n",
              " 'technology',\n",
              " '',\n",
              " '',\n",
              " 'a',\n",
              " 'communities',\n",
              " 'platform',\n",
              " '',\n",
              " '',\n",
              " 'location',\n",
              " 'relevant',\n",
              " 'multimedia',\n",
              " 'content',\n",
              " 'and',\n",
              " 'a',\n",
              " 'new',\n",
              " 'and',\n",
              " 'powerful',\n",
              " 'commercial',\n",
              " 'model',\n",
              " '',\n",
              " '']"
            ]
          },
          "metadata": {},
          "execution_count": 116
        }
      ],
      "source": [
        "ch=ch.split(\" \")\n",
        "ch #i turn it to list to make the next step easier"
      ]
    },
    {
      "cell_type": "code",
      "execution_count": null,
      "metadata": {
        "id": "n3yM9j5AevFV",
        "colab": {
          "base_uri": "https://localhost:8080/"
        },
        "outputId": "7486ed32-e7bc-4bf4-b2d1-defa530601c3"
      },
      "outputs": [
        {
          "output_type": "execute_result",
          "data": {
            "text/plain": [
              "['i',\n",
              " 'me',\n",
              " 'my',\n",
              " 'myself',\n",
              " 'we',\n",
              " 'our',\n",
              " 'ours',\n",
              " 'ourselves',\n",
              " 'you',\n",
              " \"you're\",\n",
              " \"you've\",\n",
              " \"you'll\",\n",
              " \"you'd\",\n",
              " 'your',\n",
              " 'yours',\n",
              " 'yourself',\n",
              " 'yourselves',\n",
              " 'he',\n",
              " 'him',\n",
              " 'his',\n",
              " 'himself',\n",
              " 'she',\n",
              " \"she's\",\n",
              " 'her',\n",
              " 'hers',\n",
              " 'herself',\n",
              " 'it',\n",
              " \"it's\",\n",
              " 'its',\n",
              " 'itself',\n",
              " 'they',\n",
              " 'them',\n",
              " 'their',\n",
              " 'theirs',\n",
              " 'themselves',\n",
              " 'what',\n",
              " 'which',\n",
              " 'who',\n",
              " 'whom',\n",
              " 'this',\n",
              " 'that',\n",
              " \"that'll\",\n",
              " 'these',\n",
              " 'those',\n",
              " 'am',\n",
              " 'is',\n",
              " 'are',\n",
              " 'was',\n",
              " 'were',\n",
              " 'be',\n",
              " 'been',\n",
              " 'being',\n",
              " 'have',\n",
              " 'has',\n",
              " 'had',\n",
              " 'having',\n",
              " 'do',\n",
              " 'does',\n",
              " 'did',\n",
              " 'doing',\n",
              " 'a',\n",
              " 'an',\n",
              " 'the',\n",
              " 'and',\n",
              " 'but',\n",
              " 'if',\n",
              " 'or',\n",
              " 'because',\n",
              " 'as',\n",
              " 'until',\n",
              " 'while',\n",
              " 'of',\n",
              " 'at',\n",
              " 'by',\n",
              " 'for',\n",
              " 'with',\n",
              " 'about',\n",
              " 'against',\n",
              " 'between',\n",
              " 'into',\n",
              " 'through',\n",
              " 'during',\n",
              " 'before',\n",
              " 'after',\n",
              " 'above',\n",
              " 'below',\n",
              " 'to',\n",
              " 'from',\n",
              " 'up',\n",
              " 'down',\n",
              " 'in',\n",
              " 'out',\n",
              " 'on',\n",
              " 'off',\n",
              " 'over',\n",
              " 'under',\n",
              " 'again',\n",
              " 'further',\n",
              " 'then',\n",
              " 'once',\n",
              " 'here',\n",
              " 'there',\n",
              " 'when',\n",
              " 'where',\n",
              " 'why',\n",
              " 'how',\n",
              " 'all',\n",
              " 'any',\n",
              " 'both',\n",
              " 'each',\n",
              " 'few',\n",
              " 'more',\n",
              " 'most',\n",
              " 'other',\n",
              " 'some',\n",
              " 'such',\n",
              " 'no',\n",
              " 'nor',\n",
              " 'not',\n",
              " 'only',\n",
              " 'own',\n",
              " 'same',\n",
              " 'so',\n",
              " 'than',\n",
              " 'too',\n",
              " 'very',\n",
              " 's',\n",
              " 't',\n",
              " 'can',\n",
              " 'will',\n",
              " 'just',\n",
              " 'don',\n",
              " \"don't\",\n",
              " 'should',\n",
              " \"should've\",\n",
              " 'now',\n",
              " 'd',\n",
              " 'll',\n",
              " 'm',\n",
              " 'o',\n",
              " 're',\n",
              " 've',\n",
              " 'y',\n",
              " 'ain',\n",
              " 'aren',\n",
              " \"aren't\",\n",
              " 'couldn',\n",
              " \"couldn't\",\n",
              " 'didn',\n",
              " \"didn't\",\n",
              " 'doesn',\n",
              " \"doesn't\",\n",
              " 'hadn',\n",
              " \"hadn't\",\n",
              " 'hasn',\n",
              " \"hasn't\",\n",
              " 'haven',\n",
              " \"haven't\",\n",
              " 'isn',\n",
              " \"isn't\",\n",
              " 'ma',\n",
              " 'mightn',\n",
              " \"mightn't\",\n",
              " 'mustn',\n",
              " \"mustn't\",\n",
              " 'needn',\n",
              " \"needn't\",\n",
              " 'shan',\n",
              " \"shan't\",\n",
              " 'shouldn',\n",
              " \"shouldn't\",\n",
              " 'wasn',\n",
              " \"wasn't\",\n",
              " 'weren',\n",
              " \"weren't\",\n",
              " 'won',\n",
              " \"won't\",\n",
              " 'wouldn',\n",
              " \"wouldn't\"]"
            ]
          },
          "metadata": {},
          "execution_count": 117
        }
      ],
      "source": [
        "s=stopwords.words('english')\n",
        "s #i just puted the stopwords on a lis"
      ]
    },
    {
      "cell_type": "code",
      "execution_count": null,
      "metadata": {
        "id": "kC18M6UoevHN",
        "colab": {
          "base_uri": "https://localhost:8080/"
        },
        "outputId": "61b75c0d-b526-48ae-a7a0-e74b92ee7434"
      },
      "outputs": [
        {
          "output_type": "stream",
          "name": "stdout",
          "text": [
            "['geosolutions', 'technology', 'leverage', 'benefon', '', 'gps', 'solutions', 'providing', 'location', 'based', 'search', 'technology', '', '', 'communities', 'platform', '', '', 'location', 'relevant', 'multimedia', 'content', 'new', 'powerful', 'commercial', 'model', '', '']\n"
          ]
        }
      ],
      "source": [
        "L=[]\n",
        "for word in ch:\n",
        "    if word not in s:\n",
        "        L.append(word)\n",
        "print(L) #i deleted them"
      ]
    },
    {
      "cell_type": "code",
      "execution_count": null,
      "metadata": {
        "id": "VP5-AuB4evJh",
        "colab": {
          "base_uri": "https://localhost:8080/",
          "height": 70
        },
        "outputId": "52ba054d-fc71-4539-bf14-efc775ba2df9"
      },
      "outputs": [
        {
          "output_type": "execute_result",
          "data": {
            "text/plain": [
              "'geosolutions technology leverage benefon  gps solutions providing location based search technology   communities platform   location relevant multimedia content new powerful commercial model  '"
            ],
            "application/vnd.google.colaboratory.intrinsic+json": {
              "type": "string"
            }
          },
          "metadata": {},
          "execution_count": 119
        }
      ],
      "source": [
        "ch=' '.join(L)\n",
        "ch #return the chaine"
      ]
    },
    {
      "cell_type": "code",
      "execution_count": null,
      "metadata": {
        "id": "XBQJcGZfevLS",
        "colab": {
          "base_uri": "https://localhost:8080/",
          "height": 70
        },
        "outputId": "069090c6-2c68-4bab-ae70-7a053d8b9b4e"
      },
      "outputs": [
        {
          "output_type": "execute_result",
          "data": {
            "text/plain": [
              "'geosolutions technology leverage benefon  gps solutions providing location based search technology   communities platform   location relevant multimedia content new powerful commercial model  '"
            ],
            "application/vnd.google.colaboratory.intrinsic+json": {
              "type": "string"
            }
          },
          "metadata": {},
          "execution_count": 120
        }
      ],
      "source": [
        "from nltk.stem import PorterStemmer\n",
        "ps = PorterStemmer()\n",
        "ch=ps.stem(ch)\n",
        "ch\n",
        "#en fait \"happy\" or \"happiest\" or \"happyer\" famch far9 fl ma3na lkolhom yatiwk \"happy\" so portterStemer do that de façon tfasakh les suffix eli hachtich bihom\n",
        "#lah9i9a mahabtch tmchili al phrase edhi ama kmlt ala amal tmchi m3a toute la data"
      ]
    },
    {
      "cell_type": "code",
      "execution_count": null,
      "metadata": {
        "id": "14ct-hHuevOx",
        "colab": {
          "base_uri": "https://localhost:8080/"
        },
        "outputId": "618130a0-70bf-4d15-af49-a16ba21786af"
      },
      "outputs": [
        {
          "output_type": "execute_result",
          "data": {
            "text/plain": [
              "array([[0, 0, 0, 0, 0, 1, 0, 0, 0, 0, 0, 0, 0, 0, 0, 0, 0, 0, 0],\n",
              "       [0, 0, 0, 0, 0, 0, 0, 0, 0, 0, 0, 0, 0, 0, 0, 0, 0, 0, 1],\n",
              "       [0, 0, 0, 0, 0, 0, 0, 1, 0, 0, 0, 0, 0, 0, 0, 0, 0, 0, 0],\n",
              "       [0, 1, 0, 0, 0, 0, 0, 0, 0, 0, 0, 0, 0, 0, 0, 0, 0, 0, 0],\n",
              "       [0, 0, 0, 0, 0, 0, 1, 0, 0, 0, 0, 0, 0, 0, 0, 0, 0, 0, 0],\n",
              "       [0, 0, 0, 0, 0, 0, 0, 0, 0, 0, 0, 0, 0, 0, 0, 0, 0, 1, 0],\n",
              "       [0, 0, 0, 0, 0, 0, 0, 0, 0, 0, 0, 0, 0, 0, 1, 0, 0, 0, 0],\n",
              "       [0, 0, 0, 0, 0, 0, 0, 0, 1, 0, 0, 0, 0, 0, 0, 0, 0, 0, 0],\n",
              "       [1, 0, 0, 0, 0, 0, 0, 0, 0, 0, 0, 0, 0, 0, 0, 0, 0, 0, 0],\n",
              "       [0, 0, 0, 0, 0, 0, 0, 0, 0, 0, 0, 0, 0, 0, 0, 0, 1, 0, 0],\n",
              "       [0, 0, 0, 0, 0, 0, 0, 0, 0, 0, 0, 0, 0, 0, 0, 0, 0, 0, 1],\n",
              "       [0, 0, 0, 1, 0, 0, 0, 0, 0, 0, 0, 0, 0, 0, 0, 0, 0, 0, 0],\n",
              "       [0, 0, 0, 0, 0, 0, 0, 0, 0, 0, 0, 0, 1, 0, 0, 0, 0, 0, 0],\n",
              "       [0, 0, 0, 0, 0, 0, 0, 0, 1, 0, 0, 0, 0, 0, 0, 0, 0, 0, 0],\n",
              "       [0, 0, 0, 0, 0, 0, 0, 0, 0, 0, 0, 0, 0, 0, 0, 1, 0, 0, 0],\n",
              "       [0, 0, 0, 0, 0, 0, 0, 0, 0, 0, 1, 0, 0, 0, 0, 0, 0, 0, 0],\n",
              "       [0, 0, 0, 0, 1, 0, 0, 0, 0, 0, 0, 0, 0, 0, 0, 0, 0, 0, 0],\n",
              "       [0, 0, 0, 0, 0, 0, 0, 0, 0, 0, 0, 1, 0, 0, 0, 0, 0, 0, 0],\n",
              "       [0, 0, 0, 0, 0, 0, 0, 0, 0, 0, 0, 0, 0, 1, 0, 0, 0, 0, 0],\n",
              "       [0, 0, 1, 0, 0, 0, 0, 0, 0, 0, 0, 0, 0, 0, 0, 0, 0, 0, 0],\n",
              "       [0, 0, 0, 0, 0, 0, 0, 0, 0, 1, 0, 0, 0, 0, 0, 0, 0, 0, 0]])"
            ]
          },
          "metadata": {},
          "execution_count": 121
        }
      ],
      "source": [
        "from sklearn.feature_extraction.text import CountVectorizer\n",
        "cv=CountVectorizer()\n",
        "cv.fit_transform(ch.split()).toarray()\n",
        "#jarebet l countvectorizer ala ch\n",
        "#count vectorizer thawelek l chaine l des 0 et 1 puisque machine tekhdem bl 0 et 1"
      ]
    },
    {
      "cell_type": "code",
      "execution_count": null,
      "metadata": {
        "id": "l3ZcnmwDevQ9",
        "colab": {
          "base_uri": "https://localhost:8080/"
        },
        "outputId": "a1aea9d6-7f91-46f7-d2a7-c3378f8f2f1e"
      },
      "outputs": [
        {
          "output_type": "execute_result",
          "data": {
            "text/plain": [
              "['thegeosolutionstechnologywillleveragebenefonsgpssolutionsbyprovidinglocationbasedsearchtechnologyacommunitiesplatformlocationrelevantmultimediacontentandanewandpowerfulcommercialmodel',\n",
              " 'esionlowsdowntobkarealposs',\n",
              " 'forthelastquarterofcomponentasnetsalesdoubledtoeurmfromeurmforthesameperiodayearearlierwhileitmovedtoazeropretaxprofitfromapretaxlossofeurm',\n",
              " 'accordingtothefinnishrussianchamberofcommerceallthemajorconstructioncompaniesoffinlandareoperatinginrussia',\n",
              " 'theswedishbuyoutfirmhassolditsremainingpercentstakealmosteighteenmonthsaftertakingthecompanypublicinfinland',\n",
              " 'spywouldntbesurprisedtoseeagreenclos',\n",
              " 'shellsbillionbgdealmeetsshareholderskeptic',\n",
              " 'sshcommunicationssecuritycorpstockexchangereleaseoctoberatpmthecompanyupdatesitsfullyearoutlookandestimatesitsresultstoremainatlossforthefullyear',\n",
              " 'konesnetsalesrosebysomeyearonyearinthefirstninemonthsof',\n",
              " 'thestockmanndepartmentstorewillhaveatotalfloorspaceofoversquaremetresandstockmannsinvestmentintheprojectwillhaveapricetagofabouteurmillion',\n",
              " 'circulationrevenuehasincreasedbyinfinlandandinswedenin',\n",
              " 'sapqdisappointsassoftwarelicensesdownrealproblemcloudgrowthtrailsmsftorclgoogcrmadbehttpstcojndphllzq',\n",
              " 'thesubdivisionmadesalesrevenueslastyearofeurmillioneurmillioninandoperatingprofitsofeurmillioneurmillion',\n",
              " 'vikinglinehascanceledsomeservic',\n",
              " 'ahlstromcorporationstockexchangeannouncementatatotalofnewsharesofahlstromcorporationhavebeensubscribedwithoptionrightsunderthecompanysstockoptionprogramsiandii',\n",
              " 'fbgonegreenonday',\n",
              " 'msftsqlserverrevenuegrewdoubledigitwithsqlserverpremiumrevenuegrowingoverhttpstkscoirf',\n",
              " 'accordingtolnnentehtaatsceomattikarppinenthecompanyaimstodeliverfishproductstoitscustomersadayearlierthanitcurrentlydo',\n",
              " 'thecompanysshareisquotedonnasdaqomxhelsinkirautaruukkioyjrtrk',\n",
              " 'elcoteqseislistedonthenasdaqomxhelsinkiltd',\n",
              " 'twoofthesecontractsareforturntableanodevibrocompactorsthatwillbedeliveredtogansuhualualuminumcoltdandanotherunnamedcostum',\n",
              " 'avivafriendslifetopforecastsaheadofbillionpoundmerg',\n",
              " 'insteadofbeingbasedonasoftdrinkasisusualthetehoenergydrinkismadewithfreshwat',\n",
              " 'thecompanyplanstoincreasetheunitsspecialiststafftoseveraldozendependingonthemarketsituationdur',\n",
              " 'thecompanyclosedlastyearwithaturnoverofaboutfourmillioneuro',\n",
              " 'shireceostepsupdrivetogetbaxaltaboardtalk',\n",
              " 'costcoapremierretaildividendplayhttpstcofacnhttcost',\n",
              " 'thefivestoreyecoefficientbuildingwillhaveagrossfloorareaofaboutsqmitwillalsoincludeapart',\n",
              " 'thefirstinstallmentofthecinemaseriesconcludeswithaprofileoffinnishinventorolavilindenwhosepersonalartisticjourneyandworkatfiskarshasledtodozensofdesignaward',\n",
              " 'allarewelcom',\n",
              " 'stockmannandswedishsectorcompanyablindexenteredintoanagreementonseptemberwherebystockmannorawhollyownedsubsidiaryofitwillmakeapublictenderofferforalloflindexsissuedshar',\n",
              " 'huhtamakioyjstockexchangereleaseathuhtamakiscapitalmarketsdayforinstitutionalinvestorsandanalystsisheldinespooseptemberstartingatpmfinnishtim',\n",
              " 'wearepleasedtowelcometapeksnomaintocramogroup',\n",
              " 'profitbeforetaxeswaseurmillion',\n",
              " 'royaldutchshelltobuybggroupfornearlybillion',\n",
              " 'financialwiretmisnotapressreleaseserviceandreceivesnocompensationforitsnewsopinionsordistribut',\n",
              " 'assaabloykaupthingbankgaveaneutralrecommendationandasharepricetargetofcrownseuroonswedishlockmakerassaabloyab',\n",
              " 'theitemincludedrestructuringcostsofeurmwhileayearearliertheywereeurmdilutedepsstoodateurversusalosspershareofeur',\n",
              " 'inthebankpostedanetprofitofltmn',\n",
              " 'aaplafternoonselloffasusualwillbebrutalgetreadytoloseatonofmoney',\n",
              " 'tslarecallingprettymucheverysinglemodelxcnnbrkgottoshortthatevenatworkyoujumpinmoneytrad',\n",
              " 'dolcegabbanahasaskedtheeuropeanuniontodeclaremarimekkocorporationsunikkofloralpatterntrademarkinvalidinacontinuingdisputebetweenthetwocompani',\n",
              " 'intercontinentalhotelsfirstquarterglobalroomrevenuelagsestim',\n",
              " 'accordingtofinnishpensioninsurancecompanyvarmavarmawastherecipientofovertwothirdsoftherevenueoftheearningsrelatedpensioncoverthatwasundercompetitivetenderinginfinland',\n",
              " 'aportionmillionwillberecordedaspartofitswinningsinapriorpatentdisputewithfinnishphonemakernokiaoyj',\n",
              " 'lgstillpayingpricefordividendcutduringcrisischiefsay',\n",
              " 'thevolumeofinvestmentsinthetwophasesoftheprojectisestimatedatusdmneurmn',\n",
              " 'russiaaccountedforofthelagarderemagazinedivisionsrevenueoreurmnusdmnintheusafor',\n",
              " 'thecompanyalsoestimatesthealreadycarriedoutinvestmentstoleadtoanincreaseinitsnetsalesforfromwhentheyreachedeurmillion',\n",
              " 'profitoftheaccountingperiodwaseurmn',\n",
              " 'thesixbreweriesrecordedapercentgrowthindomesticbeersaleslastyeartomillionlitersfrommillionliterssoldin',\n",
              " 'inaugustoctoberthecompanysresultbeforetaxestotalledeurmnupfromeurmninthecorrespondingperiodin',\n",
              " 'systeemitiimissalesandprojectresourceswillalsobestrengtheneddirectorpaulskogbergsaid',\n",
              " 'tescosharepricejumpsasqsalestopestim',\n",
              " 'thefineprintisher',\n",
              " 'thepriceforlogshasclearlyimprovedfromandalsothepriceofpulpwoodhasgoneup',\n",
              " 'thussysopendigiahasinaccordancewithchaptersectionofthefinnishcompaniesactobtainedtitletoallthesharesofsenterathataretoberedeem',\n",
              " 'dilutedearningspershareepsfelltoeurfromeur',\n",
              " 'atpmeasterntimeablockofcontractschangedhandsatabidpriceof',\n",
              " 'someofthemostrecenttechnologydeliveriesincluderefinerytechnologytoanrakaluminiumanironorepelletizingplanttotatasteelandironoresinteringplantstobhushansteel',\n",
              " 'vipssimilarpatternlikebeginningofmaydidusellsamenowwillgoupmuchhigherafterthisdrop',\n",
              " 'thefirmgeneratedsalesofmlneurin',\n",
              " 'storaensohasalsohadmeetingswiththelaborauthoritiesemploymentandeconomicdevelopmentcentresandrepresentativesofthegovernmentinordertofindsolut',\n",
              " 'astrazenecaprofitdownassalesofstalwartsfad',\n",
              " 'rtandrewnyquistchartologyyahoohttpstkscoitryhoocrazylookingchartbutnearingbreakoutresistancelin',\n",
              " 'mostbullishstocksontwitterduringthisdipyhoogdxgooglstzgoldewvzcelgsbuxsctymorehttpstcoiuzjelfwt',\n",
              " 'finnishgeosentricsnetsalesdecreasedtoeurinjanuarymarch',\n",
              " 'cohensteersincsharesrepresentingofthesharecapitalandvotingright',\n",
              " 'morestaffhasbeenrecruitedinjapantofurthercomplementitsnetworkofclosetoservicelocationsinmorethancountriesworldwid',\n",
              " 'papercompanieswereinnegativeterritorieswithstoraensorsheddingpcttoeurupmkymmenedownpctateurandmrealbpctlowerateur',\n",
              " 'kaukotelkoscentralizedadministrationwillbedissolvedandappropriatepartsofitwillbetransferredtooperatingactivitiesandgroupadministrationbytheendoftheyear',\n",
              " 'operatingprofitforthequarterapriljuneamountedtoeurmonsalesofeurbn',\n",
              " 'atriachosethedelighttoattractconsumersintheagegrouptoitsatriafreshrangeofmicrowaveablem',\n",
              " 'finnishitsolutionsprovideraffectooyjhelafevsaidtodayitsslippedtoanetlossofeurusdinthesecondquarteroffromaprofitofeurinthecorrespondingperiodayearearli',\n",
              " 'ussanctionsputgazpromshellallianceplansinjeopardi',\n",
              " 'profitfortheperiodwaseurmndownfromeurmnin',\n",
              " 'profitfortheperiodwaseurmnupfromeurmn',\n",
              " 'operatingprofitfelltoeurmnfromeurmninthesecondquarterof',\n",
              " 'howeversalesreturnedtogrowthinapriljuneceopekkaeloholmasaid',\n",
              " 'operatingprofittotaledeurmnorofnetsal',\n",
              " 'changesinthemarketsituationandtougherpricecompetitionhavesubstantiallyreduceddemandforbreadpackagingmanufacturedatthekauhavaplantaccordingtothecompani',\n",
              " 'inconnectionwiththedealdigiawillemploypersonsfromnokiainosloandinsiliconvalleyintheusa',\n",
              " 'thebrazilianunitoffinnishsecuritysolutionsproviderfsecuresignedupnewclientslastyearonlinenewssourceresellerwebquotedthedivisionscommercialdirectorvladimirbrandoassay',\n",
              " 'thefairvalueofthecompanysinvestmentpropertieswentdowntoeurbillionattheendoffromeurbillionayearearli',\n",
              " 'dealerssaidthesharewaslargelyhitbyinvestordisappointmentaboutarefiningmarginofjustusdperbarrelforthequarterandtheperformanceofitsshippingunitwhichsawebitdroptomlneurfrommlneurayearamidafallinvolumesandtankerr',\n",
              " 'itisatestamenttothequalityofourltesolutionandourcommitmenttothejapanesemarkethead',\n",
              " 'thecompaniesaimistofinalizethenegotiationsandsignthecontractsatthestartofoctob',\n",
              " 'metsofoundriesjyvaskylaoywilldiscontinueproductiononthislinebyseptemberthecompanysaid',\n",
              " 'atotalsixofthepolledanalystsratedmrealtwogavebuyaccumulatethreegaveholdandonlyonegavesel',\n",
              " 'inseptemberthefinnishgroupagreedtobuydanishcompanyrosepoultryasforuptoeurminacombinationofcashandstock',\n",
              " 'yangdoublebottom',\n",
              " 'tescosharepricedownasgrocerfacessfoinvestigationoutcom',\n",
              " 'aaplnewsisbecomingverybullishagainhttpstkscotmu',\n",
              " 'gsengineeringwillinstallthevalvesataliquefiednaturalgaslngplantithasbuiltforuaelngextractionandgasplantsoperatorgascoinruwaisua',\n",
              " 'thepercentagesofsharesandvotingrightshavebeencalculatedinproportiontothetotalnumberofsharesregisteredwiththetraderegisterandthetotalnumberofvotingrightsrelatedtothem',\n",
              " 'mrealsaidtherearenogroundsfortherumorswhichhavebeencirculatinginthemarketforsomemonth',\n",
              " 'lembersaidthematterwastopicalalsoinestoniawhereabillhasbeendraftedatthesocialaffairsministrythatwouldscrapoldagepensionsonfavorablecondit',\n",
              " 'moodyssaiditgavepalongtermseniorunsecuredandppshorttermdebtratingstofinnishlenderaktiabankseurbnusdbneuromediumtermnoteemtnprogramofmarch',\n",
              " 'tslarecal',\n",
              " 'theliquidityprovidingwasinterruptedonmaywhenaspocompgroupoyjssharestradedbelowcentaspocompsstockexchangereleas',\n",
              " 'hargreaveslansdownbucksweakmarketstoseeassetsriseperc',\n",
              " 'atpmtheomxhelsinkiindexwaspctlowerat',\n",
              " 'thedecisionmeanstemporarylayoffsoffixeddurationatthecompanysnastolaandjyvaskylaunitsinsouthernandcentralfinlandrespect',\n",
              " 'thevalueoftheordersisovereurmn',\n",
              " 'mslaaksowillberesponsibleforhkscanshrfunctionsandfortheirdevelopmentinallofthegroupsmarketarea',\n",
              " 'fiskarsisalsoengagedintheglobalsupplyofmarineandenergyequipmentsolutionsandservicesthroughitsassociatedcompanywartsilacorpor',\n",
              " 'aberdeenassetmanagementgainsfootholdinchina',\n",
              " 'finlandsdominatingrailcompanyvrisplanningtosettheinfectedpassengersforlongdistancetripinaseparatecarriag',\n",
              " 'innovemberthefinnishgovernmentdecreaseditsownershipinthecompanyfurthertopercentfromperc',\n",
              " 'finnishexelcompositesatechnologycompanythatdesignsmanufacturesandmarketscompositeprofilesandtubesforvariousindustrialapplicationsreportsitsnetsalesdecreasedbyinthesecondquarteroftoeurmnfromeurmninthecorrespondingperiodin',\n",
              " 'ofbavellonisandnstsjointventuresbavellonitoolscompletessemiproductsthatareproducedinitalyintohighqualitytoolsthatwillbesoldunderthediapolbrand',\n",
              " 'thetoolisapatentpendingdesignthatallowsconsumerstolayouttheirentireprojectonaremovableplateusingmultipleclearstampsofanykind',\n",
              " 'googlisashortbelowintotheupperbbandisoverbought',\n",
              " 'lightsoutbeforecurfewcurlupwiththelatestbestsellerandtreatyoureyestotheperfectreadinglightfromluceplan',\n",
              " 'upmkymmenecorptheworldslargestmakerofmagazinepaperontuesdayreportedapercentprofitdropaslowerpaperpriceshighercostsandastrongeurohurtrevenu',\n",
              " 'thetotalvalueofthecontractissomeeurmillion',\n",
              " 'theprerequisiteforinclusionintheprogramandforreceiptofanygainsisthatkeyemployeesacquireasposharestotheamountdeterminedbytheboardinadvanceinthemaximum',\n",
              " 'mrdoringhasbeenwitheatonsinceandactedasthebusinessunitmanagerforeatonspowercontrolsbusinessunitsincejanuari',\n",
              " 'thesqmsqftstoreincopenhagenspremiershoppingdistrictwasinauguratedtodayfurtherstrengtheningthecompanyspresenceinnordiccapit',\n",
              " 'inthefinancialstatementforthefirstquarteroftikkurilaisreportedunderdiscontinuedoper',\n",
              " 'theworldssecondlargeststainlesssteelmakersaidnetprofitinthethreemonthperioduntildecsurgedtoeuromillionusmillionoreurouspersharefromeuromillionoreuropersharethepreviousyear',\n",
              " 'nameofapplicantjotautomationoynameofinventormammilatuomopiirainenmikaandkellokoskimikaapplicationnokolnpadateoffilingofapplicationpublicationd',\n",
              " 'netflixgrowseffortstocreateloyalcustomersnflxhttpstcoqxbkobph',\n",
              " 'theomxnordicomxnindexcomprisingthemosttradednordicstocksonthenasdaqomxexchangecloseddownatpointsonthursday',\n",
              " 'aaplnibblingonasmalllongviabuyingoffminchart',\n",
              " 'theoperatingmarginofakeryardscruiseferriesdivisionwentdownfromtointhefirstquarterof',\n",
              " 'tycjustabouttobreakouttonewhighslotsoftechnicalslookinggreatrightnow',\n",
              " 'eerokatajavuoricurrentlygroupvicepresidenthumanresourceswilltakeayearlongsabbaticalstartingfromoctob',\n",
              " 'whatsupwithlulunumberslookedgoodnotgreatbutgoodithinkconferencecallwillinstillconfid',\n",
              " 'theadjustmentmeasureswillbecarriedoutinphasestosecurethedeliverycap',\n",
              " 'almamediacorporationpressreleasemarchtyrvaansanomatandpaikallissanomatbeingboughtbysuomenpaikallissanomattwolocalpaperstyrvaansanomatandpaikallissanomatappearinginsastamalaanditsneighbouringmunicipalitiesaretobeboughtbysuomenpaikallissanomatoy',\n",
              " 'temporarylayoffsaffectingtheentireworkforcewillalsobeimpl',\n",
              " 'ameetingforthemediaandanalystswillbeheldonthesamedayatamatstonesoftheadquartersinhelsinkiitalahdenkatuatheinterimreportwillbepresentedbystonesoftsceoilkkahiidenheimo',\n",
              " 'finnishsamporosenlewmanufacturesapproximatelysevenforestmachinesmonthlyandabouthalfofmachinesareexport',\n",
              " 'facebooknearabuypointlastweekfacesadifferenttechnicaltesttodayhttpstcocllmpinmfbaaplnflxhttpstcofpfbytypuy',\n",
              " 'februaryfinnishbroadbanddatacommunicationsystemsprovidertelesteoyjheltltvsaidwednesdayitsnetprofitrocketedtoeurminfromeurinanditlifteditsdividendpropos',\n",
              " 'freehaheeeeeerecomesthepumpsogladipickedupkendofdaygetreadyforthebullrid',\n",
              " 'finnishtechnologygroupaspocompgroupoyjomxhelsinkiacgvissueditsthirdquarterreportonthursdaynovemberpostinganoperatingprofitofeurmascomparedtoalossofeurminthethirdquarterof',\n",
              " 'thebuildingcomplexconsistsofhighqualityofficeandretailspacetotallingsquaremetresthecompanysaid',\n",
              " 'finnishinsurancecompanyfenniaandkeskogroupareendingtheirloyalcustomercooper',\n",
              " 'theunitisplannedtobeoperationalduringthesecondhalfofandinfullstreamin',\n",
              " 'itgsshareinthedealisestimatedatsomeeuro',\n",
              " 'theplantisexpectedtoentercommercialoperationbymid',\n",
              " 'aspohasalsoinvestigatedthesalesopportunitiesofkaukomarkkinatselectronicsbusi',\n",
              " 'bggroupappointsnewceoonemonthearli',\n",
              " 'theacquisitionwillhaveanimmediatepositiveimpactonaspocompsfinancialresult',\n",
              " 'finnairspassengerloadfactorwhichmeasuresthenumberofsoldseatsasashareofallavailableseatsdroppedbypercentagepointstoinseptemb',\n",
              " 'rtbmanlnglooksprimedalsoeghtpoisedtoruntoo',\n",
              " 'itisalsopctabovethemonthvolumeweightedaveragepriceofthestock',\n",
              " 'cokedividendgoogledividendforpassiveincomecoketakesitgoogkohttpstcoqbsowjxost',\n",
              " 'profitbeforetaxeswaseurmnupfromeurmnayearearli',\n",
              " 'thesubsidiaryissettingupafacilityformanufacturinghighdensityinterconnectionprintedcircuitboardsorpcbsatnokiasspecialeconomiczoneatsriperumbudurnearchennai',\n",
              " 'crmsepcallsaresinceentrybanghttpstkscodedm',\n",
              " 'injanuaryjunedilutedlosspersharestoodateurversuseurinthefirsthalfof',\n",
              " 'rapalasaiditestimatesitwillmakesavingsofmlneurayearbycentralisingitsfrenchoperationsatonesit',\n",
              " 'vmwgotanicepushtodayfollowingsmallsweepersofmaycthismorn',\n",
              " 'thattoppedconsensusforecastsforearningsofeurosashar',\n",
              " 'rdloan',\n",
              " 'infuturethecompanyintendstolookforknowhowfromoutsidethecompanyandtocooperatewithotheractorsinthesector',\n",
              " 'youneedtobereadywhenthewindowopensuprosbergsaid',\n",
              " 'morethantonnesofasphaltmixwillbeusedinthecontract',\n",
              " 'pajpmorganchaseandconysejpmandpohjoabankarejointleadmanagersontheseniorunsecuredd',\n",
              " 'ctrpbreakingouthereongoodvolandaparserbuysignalnoticedthisonboblangscommentslookingforfast',\n",
              " 'salesinfinlanddecreasedbyinjanuarywhilesalesoutsidefinlanddroppedbi',\n",
              " 'thepulpproductioninfinnishkemijrviwillalsobeliquidatedandaboutemployeesloosetheirjob',\n",
              " 'nordeawasthecheapestalsoforacoupleintheirswithdebt',\n",
              " 'jussipesonenmemberofthesampoboardsincewillrenouncehisseatinsampoboard',\n",
              " 'teslaisrecallingmodelxcarshttpstcozbkvstltsla',\n",
              " 'adjustedforchangesinthegroupstructurethedivisionsnetsalesincreasedbi',\n",
              " 'makingmattersmoredifficultthecompanysaidithasbeengrapplingwithhigheroilandgaspriceswhichhavepushedupthecostofenergyrawmaterialsandtransport',\n",
              " 'theamendingoftheproposalsimplifiestheproposedplanandincreasestheincentiveforkeyemployeestostayinthecompani',\n",
              " 'thesolutionwillnowbeexpandedtoincludeallgroundstafftask',\n",
              " 'operatinglosstotalledeurmncomparedtoaprofitofeurmninthethirdquarterof',\n",
              " 'onfeddaylookingforasharpmoveupinequitiesaaplhdlowfbseeinguvxytvixgettinghammeredeventhoughmarketisdown',\n",
              " 'netsalestotaledeurmnupfromeurmninthecorrespondingperiodin',\n",
              " 'asaconsequencetheworkscouncilhadwithdrawnitspetitiontosuspendthereorganis',\n",
              " 'ceoerkkijrvinenishappywiththecompanysperformancein',\n",
              " 'comparablenetsalesareexpectedtoincreasemorethanininlinewithgrouptarget',\n",
              " 'followingthetransactionlundbeckhasworldwiderightsfornalmefeneexcludingnorthamericamexicoturkeyandsouthkorea',\n",
              " 'thegovernmentstartedthesellofflastmonthputtinganpercentstakeinteliasoneraontheauctionbloc',\n",
              " 'thereportgoesontoprovidedetailedprofilesoftenleadingeuropeanspecialtychemicalscompaniesandbriefprofilesofothermajorplay',\n",
              " 'bothoperatingprofitandnetsalesforthethreemonthperiodincreasedrespectivelyfromeurmandeurmascomparedtothecorrespondingquarterin',\n",
              " 'thecompanyexpectsitsnetsalesforthewholetobeatpreviousyearlevel',\n",
              " 'thecompanyisheadquarteredinsievifinlandandislistedonthenordicexchangeinhelsinki',\n",
              " 'commissionincomeincreasedbytoeurmnandlendingvolumerosebi',\n",
              " 'thefinnishcompanysolditsukoperationconsistingofstaffinofficesinlondonbirminghamandmanchesteraspartofadealwithhampdeninjulyforitseuropeanwidepropertyandcasualtyarmsampoindustri',\n",
              " 'inthebuildingandhomeimprovementtradesalesdecreasedbytoeurmn',\n",
              " 'theinnovabuildingwillbelocatedclosetodowntownintheimmediatevicinityofpaviljonkiandthetravelcenterandwithinwalkingdistancefromtheheartofthecitythankstothetradefairbridg',\n",
              " 'finnishtextilesandclothinggroupmarimekkooyjpostedanetprofitofmlneuromlnforcomparedtomlneuromlnfor',\n",
              " 'themainstrengthofthecooperationprojectliesinmergingtheknowhowoftwolargecompani',\n",
              " 'shareholdershavearighttoputontheagendaoftheagmitemsthatarewithinthecompetenceofthegeneralmeet',\n",
              " 'kazgiprotsvetmetandoutotecfinlandhavesignedanagreementonstrategiccooperationinthemarketingandprovidingofmineralsprocessingandmetallurgicalplantsandrelatedservicesinkazakhstanandthesurroundingcountri',\n",
              " 'duetotherapiddecreaseinnetsalespersonnelreductionshavebeencarriedoutonawiderscalethaninitiallyexpect',\n",
              " 'thegovernmenthasinsteadproposedanexchangeofthestatesstakeinlmttoteliasonerasstakeinlattelecom',\n",
              " 'storaisduetoreleaseitsfourthquarterandfullyearearningsonfeb',\n",
              " 'fullyearoperatingresultforwasmillionneg',\n",
              " 'nqgothithardlowerthisamlookslikeithasfoundsupportahttpstkscosz',\n",
              " 'inavcsystemhaushadnetsalesofeurmillionusdm',\n",
              " 'thecompanyhasestablishedagbasestationataboutfeetatthefootofmounteverestthatwillenablemountainclimbersatthefootsummittosurftheinternetandevensendvideosoftheirexploit',\n",
              " 'weofferourcustomerssolutionsbasedonrenewablerawmateri',\n",
              " 'asurveyconductedbytaloustutkimusforsampolifeshowsthatcompaniesarebadlypreparedtolosingkeystaffmemb',\n",
              " 'anttiorkolapresidentofkemiragrowhowsindustrialsolutionsunittoldthomsonfinancialnewsthecompanyhasputoffopeningthemineaspricesofphosphatehavebeenquitedepressedforalongtim',\n",
              " 'thepretaxprofitofthegroupslifeinsurancebusinessincreasedtoeurmfromeurm',\n",
              " 'wemakeavailablethefollowingbrandnewmarketanalysescementpakistancementmalaysiacementtaiwancementphilippinestheseanalysesgiveaclearoverviewoftheactualsituationandfutureoutlookofthecementindustryinsomeasiancountri',\n",
              " 'thecompanyservesapproximatelycustomersinovercountri',\n",
              " 'rtalphatrendsvmarketsarestillactingweakhttpstkscoagnspyqqqxlfsmhiwm',\n",
              " 'operatingprofittotalledeurmndownfromeurmnayearearli',\n",
              " 'oneoftheinstalledelevatorswillbeadoubledeckelevatorwhichenablesmoreefficientuseofthebuildingscorespac',\n",
              " 'helsinkiafxoutokumpusaidithasagreedtosellthehituranickelmineinfinlandtocanadiangroupbelvedereresourcesltdformlneurworthofbelvedereshar',\n",
              " 'justwentlongilmn',\n",
              " 'socialnetworkingandlocationbasedservicetrendscompriseasignificantshareoftheinternettraffictodayandareappealingtomidus',\n",
              " 'atotaloftheordervaluewasbookedinthefourthquarterofandtheremainderwillbebookedinthesecondquarterof',\n",
              " 'johnsonmattheysharepriceslumpsascompanypostsfullyearresult',\n",
              " 'therehavenotbeenprevioussharesubscriptionswithstockopt',\n",
              " 'affectogenimapbuildshighlycustomiseditsolutionsforitscustomersinfinlandandthebalticcountri',\n",
              " 'theclosingofthetransactionisscheduledtotakeplaceonjanuari',\n",
              " 'howevertheofferingwillprobablynotbemadeatthecurrentvaluationwhichpartlyderivesfromthedealinwhichthecompanywasmergedintoastockmarketshel',\n",
              " 'operatingresultforthemonthperioddecreasedfromtheprofitofeurmwhileturnoverdecreasedfromeurmascomparedto',\n",
              " 'theadministratorshaveindicatedaneedforjobcutsattheirishinsureroverthenextmonth',\n",
              " 'netsalesinareexpectedtobeonthesamelevelasin',\n",
              " 'technicalindicatorsforthestockarebullishandspgivesnokapositivestarsoutofbuyrank',\n",
              " 'revenueforthequartertotaledbilliondownpercentfrombillioninthefourthquarterin',\n",
              " 'nvirooperatesprocessingfacilitiesindependentlyaswellasinpartnershipwithmunicip',\n",
              " 'thenumberofbodilyinjurycasesquadrupledin',\n",
              " 'accordingtoringmanfinnishpapercompanieshaveacquiredknowhowandcapacityinpaperrecyclingwhichhasturnedouttobeasuccessfulstrategi',\n",
              " 'thecompanyalsosaidthatinpolandaprofitabilityprogramhasbeenlaunchedattheobornikisteelframeandsandwichpanelpl',\n",
              " 'andusenergyexecutivessayhighsteelpricesarethreateningenergyexplor',\n",
              " 'tescosalesriseshowstentativerecoverycontinu',\n",
              " 'infinlandthelaunchoftieinsalesofgmobilephonesdidnotcauseadramaticrushinmobileretailoutletsduringthefirstfewday',\n",
              " 'nuanheldupwellafterthebiggainsmaybewerefinallyonthemoveonthisitsstillveryundervaluedandhasmajorupsid',\n",
              " 'thecompanycanbesplitintotwopartsoverthecomingmonthswithessentowningandoperatingproductionandsupplyandenexisowningandoperatingthegrid',\n",
              " 'officialsdidnotdisclosethecontractvalu',\n",
              " 'londonsleadingsharestodayjumpedalmostpointsorasthemarketopen',\n",
              " 'inthethirdquarteroffiscaleforeswungtoanetlossofeurversusanetprofitofeurforthecorrespondingperiodoffisc',\n",
              " 'thegroupsoperatinglosswaseurmndownfromaprofitofeurmnin',\n",
              " 'themovewastriggeredbyweakdemandforforestryequipmentandtheuncertainmarketsitu',\n",
              " 'thecombinedcompanyhadproformanetsalesofmlneuromlnandanoperatingprofitofmlneuromlnfor',\n",
              " 'managingdirectorkariinkinensaysthatspondasleasingoperationsdevelopedhighlyfavour',\n",
              " 'marchgoldmansachsestimatesthattherearenegativeprospectsforthenorwegianmobileoperationsofnorwaystelenorasaosltelandswedensteliasoneraabstotlsnintheshortterm',\n",
              " 'tslasteamingupagainthisstockisrelentlessatthemo',\n",
              " 'marathonestimatesthevalueofitsremainingstakeinprotalixatmillion',\n",
              " 'whitbreadsharepriceclimbsonqsalesgrowth',\n",
              " 'incapcontractmanufacturingisasubsidiaryofincapcorporationoffinland',\n",
              " 'operatingprofittotaledeurmnupslightlyfromeurmninthecorrespondingperiodin',\n",
              " 'wewenttothemarketwithyieldguidanceoftheareawhichgaveustheflexibilitytogoupordownbyth',\n",
              " 'rtstockdemonsthinkshortinghereintoclosemightbeplayspyhighbetareversinglooksworthashot',\n",
              " 'vdwcombinedwithlxedevicesenhancesproductivityenablingworkerstouseasingledevicetoperformvoicescanningandkeyboardfunct',\n",
              " 'thusthemethodwillcutworkingcostsandwillfastentheplanningandbuildingprocess',\n",
              " 'talentumsnetsalesinseptemberweresmallerthanexpect',\n",
              " 'copyrightafxnewsandafxfinancialnewslogoareregisteredtrademarksofafxnewslimit',\n",
              " 'lnkddailyphaseretestpriceexperiencingearlyrejectioncanitretesthttpstkscotxx',\n",
              " 'rbswillreportedlyappointhowarddaviesasitsnextchairman',\n",
              " 'tescoasdasalesfallasmarchofthediscounterscontinueskantar',\n",
              " 'withthisnewversionitisveryimportantforustointroduceabimprocessthatisbasedonthedetailedbuildinginformationmodel',\n",
              " 'sampoplcjarmosalonenheadofinvestorrelationsandgroupcommunicationsteldistributionnasdaqomxhelsinkitheprincipalmediafinancialsupervisoryauthoritywwwsampocomthisannouncementisdistributedbythomsonreutersonbehalfofthomsonreuterscli',\n",
              " 'barronsonlineseesappleatshareinayearfromtodayongrowingservicesbusinessaaplhttpstcobdneknl',\n",
              " 'pharmaceuticalmarketinpolandglobalresearchdataservicespublishedrecentlyamarketanalysisaboutthepharmaceuticalmarketsinpoland',\n",
              " 'altogetherfinnairhascanceledoverflightsbecauseofthestrik',\n",
              " 'theemployertogetherwithhealthpersonnelsupportsquittingandpayspartofthecostofnicotinetreat',\n",
              " 'pretaxlosstotaledeurmncomparedtoalossofeurmninthecorrespondingperiod',\n",
              " 'theorderincludesshipcranesthatwillbedeliveredforcontainerfeederstobebuiltatwenchongshipyardinchina',\n",
              " 'copperleadandnickelalsodroppedhboshbosplummetedtopenceaftersayingthisyear',\n",
              " 'googtestingthedayaftersomeconsolidationhttpstkscohcpj',\n",
              " 'hejoinstechnopolisfromkonewherehehasheldvariouspositionswithinthegroupmostrecentlyasdirectorofservicebusinessandbusinessdevelopmentforkonesmiddleeasternoper',\n",
              " 'wesucceededinincreasingourmarketshareofsoldapartmentcommentsmrkarikauniskangasheadofyitinternationalconstructionservic',\n",
              " 'profitabilityebitwascomparedtointhepreviousyearperiod',\n",
              " 'finnishgeosentricsnetsalesdecreasedtoeurinjanuarymarch',\n",
              " 'theplantisscheduledforcompletioninlatefebruarywithhandoverofsomeareasinjanuarytwoothersuppliersofnokiaaspocompgroupoyjandperloshaveannouncedtheirplanstoestablishplantswithinthenokiacomplextogethertheywillinvestrscror',\n",
              " 'upmkymmeneupgradedtoinlinefromunderperformbygoldmansach',\n",
              " 'slumpinweirleadsftsedownfromrecordhigh',\n",
              " 'janfordisstrugglinginthefaceofslowingtruckandsuvsalesandasurfeitofuptodategottahavecar',\n",
              " 'royalmailbreachedcompetitionlawoverdeliveryservicechangesofcomclaim',\n",
              " 'thecooperationwillinvolvearenapartnersbuyingashareofthenewjointventurecompanyoperatinginalmamediashomesalesvehicleandconsumeradvertisingmarketplacebusi',\n",
              " 'theeforeplantatsaarijarviincentralfinlandisoneofthelargestemployersintheregion',\n",
              " 'howevershorttermrentalsarebecomingmorepopular',\n",
              " 'emsadeputychairmanoftheboardjurilembertoldbnsonwednesdaythatthiswasthefirsttimeheheardaboutthestrikeastheswedishsidehadnotinformedtheestonianunionyet',\n",
              " 'tescoclosesinonnewchairmanwithdixonscarphonesjohnallaninthefram',\n",
              " 'thedeviceoffersmultimediaperformancealongwithahostofproductivityapplicationsincludinglivestockpric',\n",
              " 'salesclimbedpcttoblneursurpassingthemlneurconsensusfigur',\n",
              " 'fbturnsbackdowninearlytradinghttpstcoreufpzhbm',\n",
              " 'utahscapitalwantedtobethenextusheadquartersofamersportscorpaskiequipmentcompani',\n",
              " 'oldmutualfirstquartersalesupbuoyedbyemergingmarket',\n",
              " 'thedividendispayableonfebruarytoshareholdersofrecordonjanuari',\n",
              " 'salesinfinlanddecreasedbyinjanuarywhilesalesoutsidefinlanddroppedbi',\n",
              " 'furthermorebungewillalsosignalicensingagreementforthesunnuntaiandcarlshamnmejeribrand',\n",
              " 'keskocorporationstockexchangereleaseatkeskocorporationandaspoplctodaysignedanagreementbywhichaspoacquiresthesharecapitalofkaukotelkoltdasubsidiarywhollyownedbykesko',\n",
              " 'luluoutlookqlostrevenueintherangeofmilliontomillionnotgood',\n",
              " 'mobilecommunicationandwirelessbroadbandprovidernokiaincnysenoktodaysetnewfinancialtargetsandforecastsfornokiaandthemobiledeviceindustryandalsofornokiasiemensnetworksandthemobileandfixedinfrastructureandrelatedservicesmarket',\n",
              " 'poyryplcadditionalinformationbyheikkimalinenpresidentandceopoyryplctelpoyryisaglobalexpertinconsultingandengin',\n",
              " 'danishcompanyflsmidthhasacknowledgedthatithasviolatedapatentheldbyfinnishmetso',\n",
              " 'amandacapitalhasinvestmentsinprivateequityfundsandinoverunquotedcompaniesmainlyineurop',\n",
              " 'netinterestincomewaseurmnupfromeurmn',\n",
              " 'jederbetatestererhltkostenlossechsmonatelangupdatesundhatlauteigeneraussagediemglichkeitdiefinaleversionzubeeinflussen',\n",
              " 'jpmorganexpectsthatscalawilllowernobelbiocaresgrowthforecastforfromthecurrentguidanceofpctaswellastheoperatingmargintargetfromthecurrentpct',\n",
              " 'avivapromiseshigherdividendstoboostflaggingsharepric',\n",
              " 'inadditionmidsarealwaysonlineandenablefullinternetbrows',\n",
              " 'fiskarshasastrongportfolioofinternationalbrandswhichincludefiskarsiittalagerbersilvaandbust',\n",
              " 'teslamodelxrecalladdstoreliabilityissuestslahttpstcojvxqdoxnp',\n",
              " 'thenameofthebuyerwasnotdisclos',\n",
              " 'netsalesofthevegetableoilbusinessrosetoeurmnfromeurmn',\n",
              " 'undertheagreementbenefonsforthcomingrangeoftwigintegratedgpsnavigationandmobilephonedeviceswillusethejointlydevelopedwebbasedtrackingandlocationtechnologyinbothconsumerandcommercialappl',\n",
              " 'followingthisincreasehuhtamakisregisteredsharecapitaliseurmandthenumberofsharesoutstandingi',\n",
              " 'thethreeyearturnaroundprogramisexpectedtoensuresalomonsfuturecompetitivenessthecompanysaid',\n",
              " 'intheautumnitplanstoexpandservicetostpetersburgandmoscowandlaunchservicetoyekaterinburgrussiaflyingtherethreetimesaweek',\n",
              " 'thecompanysprofittotaledlsinhdownyearonyear',\n",
              " 'thefederalsecretaryfortransportandcommunicationofmexicohasawardedpoyryanditsmexicanpartnersintraaconsultingcontractinconnectionwiththebuenavistacuautitlansuburbanrailway',\n",
              " 'fdaapprovesastrazenecadrugforadvancedlungcanc',\n",
              " 'theorderisincludedinmetsosfourthquarterorderbacklog',\n",
              " 'lieksaareoyhasearlierbeenregardedunderthecontrolofsaarelainenoyandtheindividualshareholdersundertheshareholderagr',\n",
              " 'ragutiswhichiscontrolledbythefinnishbreweryreportedapercentriseinbeersalestomillionlitresandheldanpercentmarketshar',\n",
              " 'mcprollingoverforanewintradaylowbottompickerscontinuetogetdestroy',\n",
              " 'thecompanyhasanannualturnoverofeurm',\n",
              " 'ithasbranchesinfinlandwithannualrevenueinfinlandof',\n",
              " 'theportfoliocomprisesofmofleasablespacewithavacancyrateofroughlylettoaroundtenantsofwhichtwoofthelargestaretheswedishgovernmentandericsson',\n",
              " 'wppboostssalesdespitecautiouscli',\n",
              " 'themediumtermoperativetargetsofthecompanyremainunchang',\n",
              " 'adpnewsfebfinnishretailerkeskooyjhelkesbvsaidtodayitstotalsalesexcludingvalueaddedtaxvatstoodateurmillionusdminjanuarydownyearonyea',\n",
              " 'consumershaveverywellreceivedourpackedfreshmeat',\n",
              " 'thecorrectedchapterisinitsentiretybelow',\n",
              " 'themajorpartofthedeliveriesincludedifferentacandcxeamplifiersolutionsandproductsbydinhtelecomacompanyacquiredbytelestelastspr',\n",
              " 'tietoenatoritselfusesnokiasintellisyncmobilesuiteswirelessemailcalendaranddevicemanagementcapabilitiesandthecompanywillnowextendtheseservicestoitscustom',\n",
              " 'itwillprovideheatingintheformofhotwaterforthesawmillsne',\n",
              " 'howeverthenetsalesdeclinedtoeurmillionfromeurbillion',\n",
              " 'inthesecondquarterofrautesnetlossnarrowedtoeurfromeurmillioninthesameperiodof',\n",
              " 'dgitechnicalalertsgilligansislandbuysetupstochasticbuysignallizardbullishhammercandlestickwidhttpstkscocnu',\n",
              " 'therecorddatefordividenddistributionismarch',\n",
              " 'ihinamovetoenhancegrowth',\n",
              " 'theebrdisusingitsownfundstoprovideamillionaloanwhilethebportionofmillioneuroshasbeensyndicatedtotwofinnishcommercialbanksnordeabankfinlandplcmillioneurosandpohjolabankplcmillioneuro',\n",
              " 'stockholmmarchaboutcybercomthecybercomgroupisahightechconsultancythatoffersglobalsourcingforendtoendsolut',\n",
              " 'hesaidhehasbeenlosingfivefamiliesamonthtotheeconomyasmanymakealternativearrangementstosavemoney',\n",
              " 'milanafxtheitalianshippinggroupgrimaldihasincreaseditsstakeinthefinnishcompanyfinnlinestopctfromthepctheldinjuneaccordingtonewsagencyansa',\n",
              " 'commentingonthedealshanelennonsvpofmarketingproductdevelopmentatgypsiisaid',\n",
              " 'externalnetsalesfromtheprintingbusinessfellbypartlyduetotheterminationoftheprintingcontractbetweenilkkayhtymasprintinghouseiprintoyandsectorplayerhssmediaabindecemberandthefallinprintingpric',\n",
              " 'thegroupintendstorelocatewarehouseandofficespaceinloudeacandsaintmarceltomorvillarsintheeastofthecountrywhereitalreadyoperatesahookmanufacturinganddistributionunit',\n",
              " 'thefirmisheadquarteredinvantaasouthernfinlandandhasemploye',\n",
              " 'atpmtheomxhelsinkiwaspctloweratandtheomxhelsinkiwasdownpctatonvolumeofmlneur',\n",
              " 'wearehonoredtoberecognizedbygartnerasaspecialistinbusinessprocessmodelingandanalysisinthecompanyofmanyofthelargestsoftwarevendorsintheworld',\n",
              " 'westpacbankingcorpistoissueabenchmarkyearfrndealineuro',\n",
              " 'includescompanyandbrandsharedatabycategoryaswellasdistributionchanneldata',\n",
              " 'forthenewsharessubscribedwithstockoptionsallshareholderrightscommencefromthedateonwhichtheyareenteredintothetraderegist',\n",
              " 'aaplpricemomentumweakeninggoingintotheclos',\n",
              " 'throughtheacquisitionsolteqwillexpanditssolutionsofferingbymicrosoftsdynamicsbusinesssoftwareproduct',\n",
              " 'thecompanysprofittotaledl',\n",
              " 'leedisaninternationallyrecognizedgreenbuildingcertificationsystemdevelopedbytheusgreenbuildingcouncil',\n",
              " 'howeveritsmarketshareshranktopercentfrompercentayearearli',\n",
              " 'talktalkhiresbaesystemstoinvestigatecyberattack',\n",
              " 'lookslikeitsbookingaonewaytickettoitsweekmanearlosingweekhereluluhttpchartlyxbhb',\n",
              " 'ftseledlowerbymsglaxosmithklin',\n",
              " 'theexercisepriceoftheoptionwillbebasedonsafransoftwaresolutionslicenseandmaintenancesalesaswellastheresultofthecompani',\n",
              " 'fullyearoperatingresultforwasmillionneg',\n",
              " 'thecompanysaidproductionvolumessofarindicatethecircuitiscapableofthetargetedoutputrateoftonnesperdayormilliontonnesayear',\n",
              " 'junboygeniusreportdeliveredbynewstexthenokianysenoknhuh',\n",
              " 'wehavecomeoutwithadecisionwhichisbasedonourpreliminaryeconomicoperationalandenvironmentalfindingskarvinensaid',\n",
              " 'thenewmajorityownersofaspocompthailandcoltdarecertainprivatepersonsbelongingtoimmediatecircleofaspocompspresentjointventurepartnersahapathanainterholdingplc',\n",
              " 'somemlneuromlnofthebaseacquisitionpricewillbepaidincashandtherestthroughasubscriptionofferingofatotalofnewixonosshar',\n",
              " 'establishedinthesrvgroupisaprivatefinnishconstructionconcernwithoperationsinfinlandthebalticcountriesandrussia',\n",
              " 'thebusinesssectionalsoincludesahlstromssustainabilityreport',\n",
              " 'lemistecityistheenvironmentforaknowledgebasedeconomyprovidingworkforpeoplewiththetotalturnoverofitscompaniesamountingtoeekbnsaidloprnitschairmanofthesupervisoryboardoflemistecityandmainor',\n",
              " 'jacobshasbeensupportingstorengysinvestmentofdevelopingstoragesitessinceasownersengin',\n",
              " 'thecompanyhadearliersaidthatitwasconsideringdifferentstrategicoptionsforthestrugglinglowcostmobileoperatorincludingadivestmentofitshold',\n",
              " 'sainsburysasdatescoandmorrisonswillallcutpetrolpricesasoilfal',\n",
              " 'barclayssellsbenchmarkindicesunittobloomberg',\n",
              " 'operatingprofitinthefourthquarterfelltoeurmfromeurmayearearli',\n",
              " 'finnishforestrycompanyupmkymmeneandwastemanagementcompanylassilatikanojasaidonjantheywereplanningtoproduceethanolandenergyfromcommercialandindustrialwast',\n",
              " 'ismsdoesnotdiscloseitsfinancialresultsthedailysaid',\n",
              " 'thecontractcoversthemanufacturingsurfacetreatmentandinstallationofthesteelstructur',\n",
              " 'finnishmetalindustrysolutionssupplieroutotecoyjnetprofitrosetomlneuromlnforthefirstninemonthsoffrommlneuromlnforthesameperiodof',\n",
              " 'underthedealknowitwillpaysekmusdmeurmincashandstock',\n",
              " 'forthefirstninemonthsofthecompanysnetprofitrosetoeurmfromeurmforthecorrespondingperiodof',\n",
              " 'aapldmaturnedupmacdcrossoverahalfahairawayontheweeklyeodbreakoutlik',\n",
              " 'protalixhasmillionincashandnosal',\n",
              " 'thatbearishoutsidedaytuesdayissignificantdayresistancestillintactjustmyopinionsdshttpchartlybeyt',\n",
              " 'allrightsreserv',\n",
              " 'itwillbeoperatedbynokiaandsupportedbyitsnokianetactnetworkandservicemanagementsystem',\n",
              " 'mrpriitkasakbaltimetsamasinasownersaidtherakverebasedcompanywishestoincreasevalmetsmarketsharefromtoathirdinacoupleofyear',\n",
              " 'shireseesbaxaltadealclosingasexpectedafternewrul',\n",
              " 'sainsburycforogerstoreplacehomeretailceowalden',\n",
              " 'marathonnowhasapercentstakeinplxitsaidaccordingtobloomberg',\n",
              " 'simmonselecteddcucchairmanportsmouthnhgordonasimmonsceoofservicecreditunionhasbeenelectedchairmanofthedefensecreditunioncouncilfortheterm',\n",
              " 'sanomanewsadvertisingsalesdecreasedbyduringtheyear',\n",
              " 'pharmaceuticalmarketinczechrepublicglobalresearchdataservicespublishedrecentlyamarketanalysisaboutthepharmaceuticalmarketsinczechrepubl',\n",
              " 'finnishconstructioncompanyyitisreducingthenumberofstartupsofmarketfinancedresidentialunitsintoaboutfromthepreviouslyannounc',\n",
              " 'cashflowfromoperationsforthemostrecentquarteralsoreachedaeightyearlow',\n",
              " 'tietoenatorwasdownpcttoextendingrecentlowsafterlastweekssecondquarterreportdealerssaid',\n",
              " 'themaritimeadministrationsaidtheshipshadignoredwarningsabouttheicycondit',\n",
              " 'synergypharmasoarstodayonpositivephaseresultssgyphttpstkscojawg',\n",
              " 'operatingprofitrosetoeurmnfromeurmninthecorrespondingperiodin',\n",
              " 'makingmattersmoredifficultthecompanysaidithasbeengrapplingwithhigheroilandgaspriceswhichhavepushedupthecostofenergyrawmaterialsandtransport',\n",
              " 'vrtxvertexmonthlylowerhilowerlolongtermuptrendintractsofar',\n",
              " 'financialdetailswerenotdisclos',\n",
              " 'theseincludesoftwaredevelopmentforinternetandmobiletelephonecontentcommunicationsvalueaddedsoftwarefinancialservicessecurityapplicationssystemsintegrationandelectronicsebrdinform',\n",
              " 'yitlodgedcounterclaimsagainstnesteoiltotalingsomeeurmprimarilybasedonworkcarriedoutunderthecontractandadditionalcostsincurredduetoprolongationoftheproject',\n",
              " 'shouldyoufollowberkshirehathawayintoapplestock',\n",
              " 'thetotalamountofsubscriptionpriceswasrecordedinthefundforinvestednonrestrictedequ',\n",
              " 'tslathwavedownonthehourcharthammercandledevelopingclosetosmamightbeagoodspotforcal',\n",
              " 'strongestgrowthwasseeninthenewmarketsinrussiatheczechrepublicandslovakia',\n",
              " 'thetowersengineershavecreatedandegreewestwardleanfourtimestheinclinationontheleaningtowerofpisausingdiagridstructuresthatarealignedgeometricallyusingteklastructuresbimbuildinginformationmodelingsoftwar',\n",
              " 'amerwhichboughtsalomonfromadidasinoctobersaidthejobcutsareaimedatboostingcompetit',\n",
              " 'acandoabacanbssfellpercenttokronorthelowestclosesincedec',\n",
              " 'withthemeasuressuominencorporationaimstoensurethecompetitivenessoftheflexiblepackagingbusinessinthelongterm',\n",
              " 'ifhedieshediesbullhornzngashortsaregettingnerv',\n",
              " 'thefinancialstatementsreleasewillbeavailableafterpublishingonthecompanysinternetpagesatwwwcargoteccom',\n",
              " 'theworldofglassiscomingtoegyptandweinvitevisitorsfromallaroundtheworldtoattendglassworldexhibitionregisternowatwwwglassworldexcom',\n",
              " 'comparableoperatingprofittotaledeurmndownfromeurmninthecorrespondingperiodinrepresentingofnetsal',\n",
              " 'mostoftherawmaterialscomefromeuropeandtheusandarepaidineurosorusdollarswhilesalestakeplaceinrubl',\n",
              " 'adpnewsmayfinnishcutleryandhandtoolsmakerfiskarsoyjabphelfisassaidtodayitsnetprofitdeclinedtoeurmillionusdminthefirstquarteroffromeurmillioninthecorrespond',\n",
              " 'amaximumofnewsharescanfurtherbesubscribedforbyexercisingboptionsunderthestockoptionplan',\n",
              " 'itinspectsthecompanysstrategicstrengthsandweak',\n",
              " 'noplannedclosingdatewasprovid',\n",
              " 'thelemminkainengroupheadquarteredinhelsinkifinlandoperatesinallsectorsoftheconstructionindustrycivilengineeringbuildingcontractingtechnicalbuildingservicesandthebuildingmaterialsindustri',\n",
              " 'theimplementationofthedealissubjecttotheapprovalbythefinnishcompetitionauthor',\n",
              " 'microsoftalsochurnedupitscourtshipagreeingtousethenavteqmappingservicewhichisofferedbyacompanynokiaboughtforbillionafewyearsago',\n",
              " 'thegeosolutionsteamfurtherprovidesanintriguingnewtechnologycombininggpsandmobilebasedtechnologiestogetherwithinternetbasedsocialnetwork',\n",
              " 'thecexpoisasignatureshowindongguanwhichissupportedbythedongguanmunicipalgovernmenteveryyearfeaturingcomputeraccessoriessoftwarecommunicationandnetworkproduct',\n",
              " 'pharmaceuticalspolandthisbrandnewmarketanalysisgivesaclearoverviewoftheactualsituationandfutureoutlookofthepharmaceuticalmarketinpoland',\n",
              " 'tradinginthenewshareswhichhaverighttodividendsandotherdistributionsoffundswillstartontheexchangeinhelsinkitomorrow',\n",
              " 'thedualfuelenginesofthevesselcanoperateonliquefiednaturalgaslngwithlowemiss',\n",
              " 'amongotherfinnishsharestradedintheusstoraensoclosedpctlowerateurupmkymmenewasuppctateurandmetsowasdownpctateur',\n",
              " 'inadditiontothepresentationsheldbypresidentceokaitelanneandcfotuomasitkonenparticipantswillhaveanopportunitytodiscusswithothermembersofthecompanysmanag',\n",
              " 'thechangeinholdingsinaccordancewithchaptersectionofthefinnishsecuritiesmarketsactisdescribedbelow',\n",
              " 'withcapmanasapartnerwewillbeabletofurtherdevelopourbusinessandcontinuetofocusonprovidingqualityrestaurantservicesforourcustomerssayschristopherwynneceoofpapajohnsrussia',\n",
              " 'thecraneswouldbeinstalledonboardtwofreightersorderedbysingaporeanshipownermasterbulk',\n",
              " 'thebusinesstobedivestedgeneratesconsolidatednetsalesofeurmillionannuallyandcurrentlyhassomeemploye',\n",
              " 'adpnewsfebfinnishrealestateinvestorspondaoyjhelsdavsaidtodaythatitslippedtoanetlossofeurmillionusdminfromaprofitofeurmillionin',\n",
              " 'thecompanywhichhaseurbninassetscountsamongitsfivelargestshareholdersfinnishinsurersilmarinenandvarmaaswellasthefinnishstatepensionfundv',\n",
              " 'inadditionafurtheremployeescanbelaidoffuntilfurthernoticeandthewholeworkforcecanbelaidoffforshortperiodsifneed',\n",
              " 'chessnwineiwmminutechartsmallcapsthreateningdescendingtrianglebreakdownunderhttpstkscorkkm',\n",
              " 'corporateitupdatecmcommunicationsltdfinnishtechnologygrouptelestecorporationomxhelsinkitltvreportedonwednesdayfebruaryanoperatingprofitofeurmonnetsalesofeurmfortheyear',\n",
              " 'stockholmbasednordeabankstondasaidyesterdayithadhiredcaspervonkoskulltoleaditscorporatemerchantbankingandcapitalmarketsuniteffectiveseptemb',\n",
              " 'thetotalneedforstaffcutscorrespondstoaboutmanyear',\n",
              " 'finnishfibersandplasticproductsmakersuominencorporationsaiditsnetlossnarrowedtomlneuromlninthefirstninemonthsoffrommlneuromlninthesameperiodof',\n",
              " 'companiesfresnillosharesjumpassilverpricebreak',\n",
              " 'bluewinsecurityisavailableasamonthlysubscript',\n",
              " 'operatingprofitwaseurmnupfromeurmn',\n",
              " 'finnishraisiodiagnosticsislaunchingnewdnabasedquickteststoensurethesafetyoffood',\n",
              " 'thenonrecurringcostscausedtotalentumspremediabusinessareabytherestructuringwillamounttomlneuromlnandwillbeincludedinthecompanysfinancialresultsforthesecondquarterof',\n",
              " 'finnishsoftwaredeveloperbaswareoyjsaidonnovemberitsussubsidiarybaswareincwonanordertoprovidesoftwareforcontractlifecyclemanagementtoanunnamedusmedicaltechnologycompani',\n",
              " 'thechainistounitecentresbytheendof',\n",
              " 'theimportantthingnowistokeepthebanksexistingcustom',\n",
              " 'thepricesofstainlesssteelalsoroseineurop',\n",
              " 'inswedengallerixaccumulatedsekdenominatedsalesweredownandeurdenominatedsaleswereup',\n",
              " 'isrgisrgshorthttpstkscofvvuhttpstkscocqrm',\n",
              " 'darabreakingout',\n",
              " 'atotalofnewcityconshareswithanominalvalueofeurpershareweresubscribedonaprilexercisingtheabcoptionsbasedonthecompanysstockoptionplan',\n",
              " 'aaplimsurethoseshortareholdingtheirbreathhopingforamiraclelol',\n",
              " 'managementdecidedattheendoftoincreasecathodecoppercapac',\n",
              " 'imagedataproducedbythebrowseratthephoneserverisconvertedintoabitmappedimagethatissenttothehandsetfordisplay',\n",
              " 'shiresaysinternalsynergygoalsfrombaxaltadealhigh',\n",
              " 'oneofthelargestprojectsofthemagazinedivisionofsanomawsoysanomamagazinesinternationalinbecamelaunchoftherussianmagazinegloriya',\n",
              " 'finnishairlinefinnairisstartingthetemporarylayoffsofcabincrewsinfebruari',\n",
              " 'thesellerswerethefoundersofthecompani',\n",
              " 'foodserviceandconsumergoodsmarketsareservedbyapproximatelypeopleinmanufacturingunitsandseveralsalesofficesincountri',\n",
              " 'theacquisitiondoesnothavetobefromthefrozenfoodsorfishsectoraslongasithassynergieswithlnnentehtaatsotherbusi',\n",
              " 'gnrcfindingsupportatitsdaylinesofar',\n",
              " 'underthetransactionagreementmetsaliittowillpurchaseofmetsabotniassharesfromupmandfrommr',\n",
              " 'britainsftsefallsbackwithashteadcommoditiesunderpressur',\n",
              " 'salesbyseppaladiminishedbyperc',\n",
              " 'bbrybyebyesammyhellobbsoundslikewellseesomegreentomorrow',\n",
              " 'ascapacitywascutwiththepassengerloadfactorwasdownpercentagepoint',\n",
              " 'rockwellcollinsisaproviderofflightdeckcabinandinformationmanagementsolutionsforbusinessaircraftoper',\n",
              " 'thefloorareaoftheyliopistonrinneprojectwillbesqmandthebuildingsgrossareawilltotalsqmatotalofthefacilitieshavebeenlet',\n",
              " 'nflxvisionshorttermconsolidationthenmovementhigherhttpstkscojuu',\n",
              " 'theodosopoulossaidtellabscouldbeofvaluetonokiasiemensornortelgivenitsleadingsupplystatuswithverizonalongwithhighgrowthproduct',\n",
              " 'inhiscurrentpositionmantyhasworkedsinc',\n",
              " 'withthenewproductionplantthecompanywouldincreaseitscapacitytomeettheexpectedincreaseindemandandwouldimprovetheuseofrawmaterialsandthereforeincreasetheproductionprofit',\n",
              " 'analystviewsastrazenecashareshaveseenrecentvolatilitywhatwil',\n",
              " 'earningspershareepsdroppedtoeurfromeur',\n",
              " 'afterthetransactiontikkurilahasnopowdercoatingsrelatedoperationsthecompanysaid',\n",
              " 'arearmholdingsplcdominospizzagroupplcandasosplcmusthavegrowthstock',\n",
              " 'pearlplazallcthejointventureofsrvandshanghaiindustrialinvestmentholdingscoltdhasconcludedtheinvestmentdecisiononconstructionofthefirstphaseoftheshoppingcenterinsaintpetersburgrussia',\n",
              " 'themeasuresresultfromdecreaseddemandintechnicaldesignandproductinform',\n",
              " 'finnishfinancialgroupaktiareportsoperatingprofitofeurmninjanuaryseptemberupfromeurmninthecorrespondingperiodin',\n",
              " 'keypricetowatchinnflxoffthepreviousdoubletoprejecthttpstkscosiyn',\n",
              " 'finnishglasstechnologycompanyglastonoyjabpnetprofitdecreasedtomlneuromlnforthefirstninemonthsoffrommlneuromlnforthesameperiodof',\n",
              " 'cityspiritssinkafterdiageocomesupshortwithsalesslid',\n",
              " 'operatinglossincreasedtoeurmnfromalossofeurmnin',\n",
              " 'alexandriavajunemichaelgwilliamsofnewburyparkcalifhasdevelopedanetworkdevic',\n",
              " 'olvihaspostedastrongsetoffiguresforthefirstsixmonthsofthisyear',\n",
              " 'stanchartandrbsstruggleinbankofenglandstresstest',\n",
              " 'inthebeginningofthisyearwartsilahadsecuredanordertodeliverfourgasfuelledmainenginesandpropulsionmachineryforthesamevessel',\n",
              " 'injanuarynovemberthegroupssalestotalledeurmnwhichwasadropoffromthesameperiodof',\n",
              " 'glaxosmithklinetargetsgrowthacrossunitsscrapsviivipo',\n",
              " 'bhpbillitonsharepricebraziltosuesamarcoforbn',\n",
              " 'itcomescompletewithanlcdtouchscreensystemforselectionofyourchosenfunctionandpricesstartataroundthepoundsmark',\n",
              " 'revenueinthequarterfellpercenttoeurobillioncomparedtoayearearli',\n",
              " 'afterthesplitthecompanywouldhaveseriesasharesandserieskshar',\n",
              " 'alecoqspecialwasdevelopedforthebicentenaryofthecompanyandthetrademarkthebrewersaid',\n",
              " 'arcelormittalchiefexecutiveofficerlakshmimittalhasalreadycutoutputatsomefurnac',\n",
              " 'operatingprofitfelltoeurmnfromeurmnin',\n",
              " 'thebridgeispartofthehighwaydevelopmentproject',\n",
              " 'keskoagrolietuvatheagriculturalmachineryandgraintraderandanothermemberofthekeskogroupboosteditssalesbypercenttomillioneurosvatinclus',\n",
              " 'adpnewsdecfinnishcutleryandhandtoolsmakerfiskarsoyjabphelfisassaidtodaythatitwillmakeredundantatotalofofficeandmanagementstaffmembersofitssubsidiaryiittalagroupltd',\n",
              " 'metsofoundriesjyvaskylaoywilldiscontinueproductiononthislinebyseptemb',\n",
              " 'thesalepricewasnotdisclos',\n",
              " 'helsinkiafxretailandwholesalegroupkeskoreportednetsalesofmlneurforfebruaryanincreaseofpctyearonyear',\n",
              " 'infebruarynewwordingofidentitydocumentsactthatmakesmobileidastateapprovedelectronicdocumentasoffebruarystenteredintoforc',\n",
              " 'anttiorkolapresidentofkemiragrowhowsindustrialsolutionsunittoldthomsonfinancialnewsthecompanyhasputoffopeningthemineaspricesofphosphatehavebeenquitedepressedforalongtim',\n",
              " 'yourenotalon',\n",
              " 'februaryfinlandbasedsteelmakerrautaruukkioyjhelrtrksorruukkisaidtodayitslippedtoalargerthanexpectedpretaxlossofeurminthefourthquarteroffromayearearlierprofitofeurm',\n",
              " 'thesaleofsavcorfacetocencorpwillresultinaprofitorlosswhichcannotyetbedeterminedowingtofactorsincludingthevaluationoftheconsiderationsharestobereceivedandprevailingexchanger',\n",
              " 'theacquisitionoflandsbankensverigeinburdenedtheperformancewitheurmn',\n",
              " 'itisthefirstapplicationinthemarketforinvoiceandpurchaserequisitionapprovalwithamobiledevic',\n",
              " 'ahelsinkieliivtodayreportedepsofeurforanincreaseoverepsofeurin',\n",
              " 'easyjetdismisseslufthansalowcostplanincontestforgermani',\n",
              " 'ordersreceivedgrewbyyearonyeartoeurm',\n",
              " 'injanuaryaugustimportsbyseaincontainerlorryandtrailerunitsfellbyandexportsbyfromthecorrespondingperiodin',\n",
              " 'finnishbroadbanddatacommunicationsystemsprovidertelesteoyjheltltvsaidyesterdayitreturnedtoanetprofitofeurmillionusdmforthefirstninemonthsofversusanetlossofeurforthesameperiodof',\n",
              " 'adpnewsdecnorwegianfinancialservicesgroupsparebankgruppenasoslsbgrpsaiditsboardofdirectorsappointedtodayjarlehaugmanagingdirectorofitsclaimscollectionsubsidiarysparebankgruppenfinan',\n",
              " 'finnishownedcontractmanufacturerofelectronicselcoteqhungarykfthasannouncedplanstorecruitmorethannewstafferstofulfillnewordersinpcswherethecompanyhastwopl',\n",
              " 'atpmtheomxhelsinkiindexwaspctlowerat',\n",
              " 'nyrstarhasalsoagreedtosupplytotalvivaarauptotonnesofsulphuricacidperannumforuseintalvivaarasleachingprocessduringtheperiodofsupplyofthezincinconcentr',\n",
              " 'aprilfinnishconstructionandengineeringcompanyoutotecoyjhelotevsaidtodayitslippedtoanetlossofeurminthefirstquarteroffromanetprofitofeurminthecorrespondingperiodlastyear',\n",
              " 'revenuewasslightlydownatxacmillionmillioncomparedtoxacmillionayearearli',\n",
              " 'rtdasantmtanalystsinceaaplmasteredtheirsupplychainincorneringnandapplemasteredeveryonessupplychain',\n",
              " 'poyrysnetsalesinamountedtoabouteurmillionanditemploysexpert',\n",
              " 'theadjustmentsconcernstaffinboththespecialtypapersandthefibercompositesseg',\n",
              " 'accordingtothenotificationtheholdingsofameripriceincanditsgroupcompaniesarenowintotalshareswhichrepresentofteklassharesandvotingright',\n",
              " 'applebreaksmajorsupportherearesomelevelstowatchhttpstkscojrmwaaplqqq',\n",
              " 'royalmailchairmandonaldbrydonsettostepdown',\n",
              " 'italsoconfirmeditsearningsguidanceforthewholeissuedinitsreportforthewhol',\n",
              " 'theirofferingalsocoverslocalisationservicesrelatedtoproductiontransfertothefinnishcompanyscustomersthatalreadyhaveproductioninasianmarketorhavemadethedecisiontotransferproductionther',\n",
              " 'dbsjuliusbaeremergeaspotentialbiddersforbarclaysasiawealthunit',\n",
              " 'thefairvalueofinvestmentpropertieswaseurmillion',\n",
              " 'companiestravisperkinsliftsdividendearningsris',\n",
              " 'okmeticsproductsarebasedonhightechexpertisethatgeneratesaddedvalueforcustomersinnovativeproductdevelopmentandanextremelyefficientproductionprocess',\n",
              " 'comparableoperatingprofittotaledeurmndownfromeurmninthecorrespondingperiodinrepresentingofnetsal',\n",
              " 'theequipmentisdesignatedtobolloreafricalogisticsterminalsocietedexploitationduterminaldevridisetvinabidjanivorycoastandthedeliveryisscheduledtostartinmarch',\n",
              " 'telesteshybridtvsolutionincludescomponentsforthewholeprocessofdeliveringvideoservicestoconsumersfromcontentacquisitionandservicecreationtodeliverythrougharangeofaccesssolutionsincludinghfchybridfibrecoaxialxdsletthandftth',\n",
              " 'inthecompanysnetsalesamountedtoapproximatelyeurmandithassomeemploye',\n",
              " 'newnovatorproductsaresupposedtobeexport',\n",
              " 'elcoteqhasaglobalnetworkofaftermarketservicesiteswhichhavealongexperienceinservingconsumerelectronicsandsystemssolutionscustom',\n",
              " 'finnishcomponentsuppliercomponentacorporationomxhelsinkicthvreportedontuesdayjulyanoperatingprofitofeurmonnetsalesofeurmforthefinancialperiodjanuaryjun',\n",
              " 'savebreakingitsdowntrendlineonincreasingvolumeamoveabovecouldseemoreupsidehttpstkscoli',\n",
              " 'theofficialopeningoftheofficelocatedinpraguewillbecelebratedonmay',\n",
              " 'appleanotherattempttobreakoutonapplebutwithweakpvtaapltradinginvestingaaplhttpstcodnhhgvv',\n",
              " 'italsoturnedtoearningspershareepsofeurversuslosspershareofeur',\n",
              " 'completionofthetransactionissubjecttoafinalagreementandaduediligenceprocess',\n",
              " 'morrisonsfinancechieftofillgapasceoleavesearli',\n",
              " 'earningspershareepsamountedtoeurupfromthelossofeur',\n",
              " 'tiimarioperatesstoresinsixcountriesincludingitscorefinnishmarketandgeneratedaturnoverofmlneurin',\n",
              " 'changesbeingannouncedtodaywillbeeffectiveafterthecloseoftradingonfridayjun',\n",
              " 'accordingtochairmanmichaelhornborgtheorganizationshasmerelycriticisedraisiosweakperform',\n",
              " 'baesystemsssalesboostedbyeuropeantyphoonandcurr',\n",
              " 'honkarakennealsodecidedyesterdaytosellofitsbseriessharestokeystaffmembersforeurpershar',\n",
              " 'toraiseconsumerawarenessandencouragepeopletorecycletheiroldmobiledevicesnokiarunsregularrecyclingcampaignsaroundtheworld',\n",
              " 'inthebalticsthemergerofthebusinessesofthetwoisexpectedtobecompletedinearli',\n",
              " 'tietowaslookingforanenergysolutionwhichwouldbestsupporttheideaofsustainabledevelopmentandwewerehappytobeabletoprovidesuchasolutionsaysjounihaikarainenvicepresidentfortum',\n",
              " 'expenseratiowascomparedtointhecorrespondingperiodin',\n",
              " 'stockmannplccompanyannouncementfebruaryatanannualsummaryofstockmannsstockexchangeandfinancialpressreleasesinisavailableonthecompanyswebsiteattheaddresswwwstockmanncom',\n",
              " 'hopeturockyestheexpectationsofadealaresomewhatpricedinbutwecouldseeanicepopifbidscomeinhigherthanexpectedyhoo',\n",
              " 'aapldipsbeingboughtuprealquickhigherlowsfosho',\n",
              " 'operatingprofitforcontinuingoperationsfelltoeurmnfromeurmninthefirsthalfof',\n",
              " 'baswaresceoilkkasihvocommentsinconjunctionwiththeinterimreportasawholebaswaresucceededwellinthesecondquarterof',\n",
              " 'snasdaqomxgeovgypsiibusinessunitdevelopersoftheawardwinninggypsiimobilesocialnetworkingapplicationtodayannounceditsavailabilityasafreedownloadviathesamsungmobileapplicationsstor',\n",
              " 'imtryingtodealwithslaveryfromadifferentperspectivetobalancethestorysaysderamusformerlyawriteratthedetroitfreepressandthedetroitnew',\n",
              " 'comparedwiththeftseindexwhichrosepointsoronthedaythiswasarelativepricechangeof',\n",
              " 'whyalphabetincwasjustupgradedtobuyhttpstcodevnlkhqtzgoogl',\n",
              " 'allofraisiosdivisionsrecordedanoperatingprofit',\n",
              " 'theannouncementcomestwoweeksbeforeakeylicensingagreementexpiresbetweenbetweenthetwocompanieswhichareembroiledinadisagreementoverroyaltypaymentsfortexasinstrumentchipswhichusequalcommpatentedtechnolog',\n",
              " 'thesharecapitalofalmamediacorporationbusinessidiseuranditisdividedintoshar',\n",
              " 'theforecastfori',\n",
              " 'thehullofthevesselwasbuiltoneblockatatimeandruukkideliveredtheplatematerialforeachblockasconstructionprogress',\n",
              " 'operatingprofitwaseurmnincomparedtoeurmnin',\n",
              " 'thereasonforthisisstpetersburgstatusasacapitaloneoftheparticipantsinthemeetingquotedchikunovassay',\n",
              " 'uponcompletionofthesaleprohawouldgetsomeusdmforitsstakeinartemi',\n",
              " 'buffettsberkshirebuildsdeerestakedumpsexxon',\n",
              " 'lastyearsnetsalesrosetoeurmillionfromeurmillion',\n",
              " 'earningspershareforthequarterwerealsohigheryearonyearateurversusandabovemarketexpectationsofeur',\n",
              " 'finnishtalvivaaraminingcoheltlvvsaidthursdayithadpickedbofamerrilllynchandjpmorgannysejpmasjointbookrunnersofitsplannedissueofconvertiblenotesworthuptoeurmusdm',\n",
              " 'mxwlohsnapjustwentlongagainlt',\n",
              " 'operatingprofitdecreasedtoeurmnfromeurmn',\n",
              " 'panostajaheadquarteredintamperefinlandisaninvestmentcompanyfocusingonsmallandmediumsizedfinnishcompaniesoperatinginthetraditionalindustri',\n",
              " 'thecorrespondingincreaseinthesharecapitalintotaleurwasregisteredinthefinnishtraderegisteronmay',\n",
              " 'capmanplcpressreleasemarchjukkaruuskapresidentoftheomxnordicexchangesandthestockholmstockexchangewilltransfertocapmaneffectivenolaterthanseptemb',\n",
              " 'thedismissedstaffmemberswillnowtakethemattertocourtunlessitcanbesettledoutsid',\n",
              " 'accordingtofinnishpetrolstationchainstsmanagingdirectorkimwiiothecompanywasforcedtomakepurchaseswithrisingpricesinthefirsthalfofandnowconsumerpricesaregoingdownalmostdailyduetocompetit',\n",
              " 'weknowtherearesomeofourownpeopleoutther',\n",
              " 'themetalhasgainedpercentthisyearasdemandfromchinatheworldslargestuserincreas',\n",
              " 'thisisamuchbetterprocessthanusingvirginpaperasitrequireslesstransportationofwoodpulpfromplaceslikefinlandandcanada',\n",
              " 'revenuewasslightlydownatxacmillionmillioncomparedtoxacmillionayearearli',\n",
              " 'followedthelevelsisharedwithyouonnflxgoogltslacallsfornicegainsstillholdingfbcallsweekmadeinamorn',\n",
              " 'thecompanywillenhancethegprscapabilityintheexistingideatelecomserviceareasandaddmoreserviceareastoitsnetwork',\n",
              " 'withthenewarrangementcustomerresponsibilitieswillbecomemainlyregion',\n",
              " 'thesalewillresultinacapitallossofeurmforsolidiumwhichobtainedtikkurilasharesinmarch',\n",
              " 'thestudyevaluatedthesafetytolerabilityandpharmacokineticsofrepeateddosesofintravenouslyadministeredantibodyinpatientswithactiveplaquepsoriasi',\n",
              " 'followingtheregistrationthenumberofissuedandoutstandingsharesofbaswarei',\n",
              " 'inthesecondquarterofthegroupspretaxlossnarrowedtoeurfromeur',\n",
              " 'thefinlandbasedcompanysaysitwillmoveintoanexistingsquarefootfacilityinseptemb',\n",
              " 'thecompanyisnowwithdrawingthesecondparteurmnoftheinvestmentcommit',\n",
              " 'finnishprintedcircuitboardspcbsmakeraspocompgroupoyjsaidondecemberitnamedhenrygilchristseniorvicepresidentofthegroupsasianoperationsasofjanuari',\n",
              " 'herecometheshortsmarchiningmcrlovinit',\n",
              " 'grapevinecityofficialsinseptemberapprovedmillionintaxrebatesandgrantsfortheexpans',\n",
              " 'spondaplanstorenovateoldrealestateanddevelopnewproperti',\n",
              " 'frommerisatamatothefarcornersoftheworldasfalttiosakeyhtilemminkinenwasestablishedinbyagroupofmasterbuildersinhelsinkiasaspecialistbusinessandsubcontractor',\n",
              " 'austintexassepttexasdepartmentoftransportationawardscontractfortelestevideocompressionanddistributionequip',\n",
              " 'thetransactionvalueiscadmillionapproximatelyeurmillion',\n",
              " 'withtheextensionofthenewcontractforafurthereightenginestheplantwillnowproduceovermwitsaid',\n",
              " 'storaensowillreceiveapctequityinterestinthecombinedcompani',\n",
              " 'beefimportsfellslightlyfromtomnkilo',\n",
              " 'weserveabroadrangeofcustomersincludingconstructionandprocessindustriesshipyardsthepublicsectorandhousehold',\n",
              " 'kndiletsseesomehigherhighsandhigherlowsrestofthedayslowandsteadi',\n",
              " 'finnishelectronicsmanufacturingservicesemscompanyelcoteqsepostedanetlossofmlneuromlnforthefirsthalfofcomparedtoanetprofitofmlneuromlnforthesameperiodof',\n",
              " 'thenitsaidthecontractwasestimatedtocontributemorethaneurmtoitsnetsalesin',\n",
              " 'nofinancialdetailswerereport',\n",
              " 'balfourbeattyplcsettoreinstatedividendandrivalnationalgridplcandcentricaplconcemor',\n",
              " 'vikinglinescargorevenueincreasedbytoeurmnandcargovolumeincreasedbytocargounit',\n",
              " 'finnishpowercompanyfortumreportsofitselectricitywasgeneratedwithoutcarbondioxideemissionsin',\n",
              " 'cargoteccorporationpressreleaseaugustatamfinnishtimecargotecsmacgregorbusinessareaprovidingmarinecargohandlingandoffshoreloadhandlingsolutionshasreceivedsignificantoffshorecraneretrofitord',\n",
              " 'thechangewilloptimizetheoperationalefficienciesofourgrowingbusinesssaidjuliaprohaskadirectorofmarketingcommunicationsforfiskar',\n",
              " 'helsinkimayfinnishcompanylemminkainenoyjhellemssaidtodaythatitwillconstructanofficebuildingattoolonlahtiindowntownhelsinkiwithoutdisclosingfinancialdetail',\n",
              " 'theadditionalflightlinkingmumbaiwithhelsinkiwasdictatedbythestrongtrafficdemandbetweenasiaandeurop',\n",
              " 'thewhitehallstreetrealestatefundsinvestinrealestateandrealestaterelatedassetsprincipallythroughtheacquisitionofrealestatecompaniesrealpropertyandmortgageloan',\n",
              " 'helsinkithomsonfinancialmrealsaiditwillexerciseanoptiontobuyamwnaturalgaspowerplantandlandinkyroskoskifinlandforaroundmlneurfromkyrooyj',\n",
              " 'incapcontractmanufacturingservicesprivatelimitedhasinkedagreementswithsixnewcustomersinindia',\n",
              " 'glencorefightbackoverdebtfearsliftsshar',\n",
              " 'fbslightgreenmayberunnerlat',\n",
              " 'telestehassomeofficesworldwideandislistedonthenordicexchangeinhelsinki',\n",
              " 'almamediasoperatingprofitamountedtoeurmndownfromeurmnayearearli',\n",
              " 'withthisthecompanywillexitthecontractmanufacturingserviceseg',\n",
              " 'suomenpaikallissanomatoyispartofalmamediagroupanditcurrentlypublisheslocalnewspapersacrossfinland',\n",
              " 'thecompanynegotiatedanamendmenttothefinancialcovenantsofthepresentcreditagreementsinregardtothesituationonseptemb',\n",
              " 'paychexhasmorethanofficesservingapproximatelypayrollclientsnationwideasofmay',\n",
              " 'netsaleshavebeeneatenbytheweakusdollar',\n",
              " 'adpnewsdecfinnishinvestmentgroupneomarkkaoyjhelnembvsaidtodaythatitwillfurloughemployeeinitsunitrekacablesltdforlessthandaysstartinginjanuari',\n",
              " 'finnishforestmachinerymanufacturerponssehasissuedaprofitwarn',\n",
              " 'filmiteollisuusfineabwillbetransferredtotalentumoyjintheformofasubsidiari',\n",
              " 'ollipekkalainehasbeenappointedasthechairmananderkkipehulehtonenasthevicechairmanoftheboard',\n",
              " 'affectohasparticipatedintheprogramforthedevelopmentofthenorwegianpensionsystemsinc',\n",
              " 'itestimatestheoperatingprofittofurtherimprovefromthethirdquart',\n",
              " 'prohaplceuronextannouncedtodaymaythatitsfullyownedsubsidiarysafransoftwaresolutionsashasagreedtosellitsshareofsafrannorthamericallctoasnaholdingasaninvestmentgroupbasedinnorway',\n",
              " 'tescosalesrecoverasfocusreturnstocorebusi',\n",
              " 'howeverthecompanysawitsnetprofitforthethirdquarterdowntoeurmillionfromeurmillionforthecorrespondingperiodof',\n",
              " 'theproductionistobeliquidatedbeforejuneandemployeesloosetheirjob',\n",
              " 'danskebankisdenmarkslargestbankwithmillioncustom',\n",
              " 'protalixclosedatonfridayontheamericanstockexchangegivingamarketcapofmillion',\n",
              " 'netsalesdecreasedtoeurmnfromeurmninthecorrespondingperiodin',\n",
              " 'themostinterestingexportmarketswillberussiathebalticcountriesandscandinavia',\n",
              " 'theactionsareexpectedtodeliverannualcostsavingsofsomeeurm',\n",
              " 'nordeabankabpublholdsalmamediasharesrepresentingofsharecapitalandvotingright',\n",
              " 'elilillycollyhasbrokenouttoanewhighonastrazenecacollabor',\n",
              " 'thechilledmeatproductscategoryledthemeatfishandpoultrymarketinfinlandaccountingforashareof',\n",
              " 'thegroupscumulativesalesduringthereviewperiodwereeurmillioneurmillionandprofitbeforetaxeswaseurmillion',\n",
              " 'aldatatosharespaceoptimizationvisionatapollousergroupandcategorymanagementassociationconferencescompanywillunveilnewsolutionthatcombinesbusinessintelligencewithspaceplanningdataatconfer',\n",
              " 'netsalesofthelehdentekijatunitwasapproximatelyeurmillioninandithademploye',\n",
              " 'lsccaccumulationchartcontinuestomakenewhighsshowingaccumulationcontinuingtotakeplacehttpstkscoadpo',\n",
              " 'thebusinessareahasoperationsinfinlandswedendenmarkestonialatviaandlithuania',\n",
              " 'sportsequipmentsalesalsoprogressedwellowingtotheprolongedwinterseason',\n",
              " 'alsowestpacistoissueabenchmarkmonthfrndealineuro',\n",
              " 'itisthelastsmartphonerunningmaemowhichistobereplacedwithmeegoajointprojectbetweennokiaintelandtheopensourcecommun',\n",
              " 'prettysteadyaccumulationoffsupporttodaypurdyagu',\n",
              " 'servingcustomerslocallyisoneofthecornerstonesofcustomerfocusforu',\n",
              " 'wecutourfrequencytonewyorklastyearwhichexplainsthefallhesaid',\n",
              " 'hscreceivesyearmcontractatnewsaudiarabiansteelmil',\n",
              " 'operatingresultincludingnonrecurringitemsrosetoeurmnfromalossofeurmnin',\n",
              " 'bothoperatingprofitandnetsalesforthethreemonthperiodincreasedrespectivelyfromeurmandeurmascomparedtothecorrespondingperiodin',\n",
              " 'aroundofthesereductionswillbeimplementedthroughpensionarrang',\n",
              " 'sainsburyssaystooutperformrivalsintoughmarket',\n",
              " 'finnishoutokumputechnologyhasbeenawardedseveralnewgrindingtechnologycontract',\n",
              " 'starbucksdigitalstrategytodrivesignificantgrowthwithcustomerloyaltysbuxhttpstcoxklzuik',\n",
              " 'margincallofzanadvorovhasgiventhechancetomakesuchpurchaseunderthecreditofdeutschebankforusdmillion',\n",
              " 'thesoapstonedepositsinthemedvezhyegorskareaareexpectedtoincreasetulikiviscurrentreservesconsider',\n",
              " 'heanswersquestionsonhowmanyvisitorsconversationsgetshowbigtheteamisandwhattheproblemsarewhensettingupsocialmediachannel',\n",
              " 'hargreaveslansdownsharepricefallsascostsmountalthoughpens',\n",
              " 'presssercosettoappointroygardnerexcentricaaschairmanft',\n",
              " 'intercontinentalhotelsdeniesreportsofstarwoodmergertalk',\n",
              " 'commencingtheconstructionworksofpearlplazaisasignificantstepinourrussianproject',\n",
              " 'withthisacquisitionthewirelessmodemunitanditsapproximatelyemployeesweretransferredtorenesaselectronicscorpor',\n",
              " 'theannouncedinvestmentofthecarmakerhyundaiforexamplesoundsoptimisticallyforusasofcoursenewcarsmeannewtir',\n",
              " 'accordingtoacnielsensscantrackstudyfortheperiodweekoftoweekofcocacolaisthemarketleaderinsoftdrinksinfinland',\n",
              " 'ymihttpstkscoxyflongsetupclosedabovethemamacdcrossnovembercatalyst',\n",
              " 'updatebpsettlesoilspillrelatedclaimswithhalliburtontransocean',\n",
              " 'thecontractsawardedtodateinconnectionwiththesystemamounttoatotaleurmillion',\n",
              " 'becauseexpendituresmustbejustifiedtopassbudgetapprovalhurdleswebelieveourropmodelcanhelpmakeiteasierforitanditsecuritypractitionerstomakethebusinesscaseforacquiringenablingsecuritytechnologiesandrelatedcontrolact',\n",
              " 'thecocacolacompanyandcocacolafemsatoacquireadessoybasedbeveragebusinessfromunilev',\n",
              " 'wearehonoredtobeacknowledgedforourcommitmenttotheindustryespeciallyinasiapacif',\n",
              " 'anoftheinventionreleasedbythepatentofficesaidthechambersarepressur',\n",
              " 'inthebalticcountriessalesfellbi',\n",
              " 'howeversalesvolumesinthefoodindustryareexpectedtoremainatrelativelygoodlevelsinfinlandandinscandinaviaatriasaid',\n",
              " 'themillsrawmaterialneedwillincreasebymofwood',\n",
              " 'outotecheadquarteredinespoofinlandisaleadingproviderofprocesssolutionstechnologiesandservicesfortheminingandmetallurgicalindustri',\n",
              " 'theonedarkspotonthehorizonhoweverwasthecompanysperformanceinthefinnishbottledwatermarket',\n",
              " 'currentholdingsviaoptionslongaaplvgsaetshortvxx',\n",
              " 'theprocesstechnologyprojectmanagementbasicengineeringandqualityassurancewithinforestindustrywillbeconsolidatedinvantaasouthernfinland',\n",
              " 'pclnrunsintothesmaontheacquisitionnew',\n",
              " 'vaahtopulppaperoffinnishvaahtogrouphasbeenawardedanordertorenovatefinnishswedishforestindustrycompanystoraensospaperboardmachineattheingeroisboardmillinfinland',\n",
              " 'nokiawasuppcttoeurafterkickingoffthemorninginnegativeterritori',\n",
              " 'tzaisarocketship',\n",
              " 'finnishitsolutionsprovideraffectooyjsaidtodaythatithaswonaframecontractvaluedatsomeeurmtoimplementthenextphaseofitsinsuranceapplicationforsouthafricanmutualfederalinsurancecompanylimitedmf',\n",
              " 'industryinvestmentisveryinterestedinglastonssolarenergyproject',\n",
              " 'thewinnerdoesnothavetobepresenttowin',\n",
              " 'scanfilwillexecutethetemporarylayoffsbymidoctoberandthejobcutsbymarch',\n",
              " 'furthermoreourfullyelectricallydrivencranesareenvironmentallyfriendli',\n",
              " 'finnishswedishtietoenatorisexpandingitsbusinessquicklyinrussia',\n",
              " 'itisestimatedthattheconsolidatedturnoverofkaustaguderwillreachltmnusmneurmnin',\n",
              " 'addedmorebbbyjimcrameriswrongaboutthisonestillaveryprofitablemerchantwithprofitablestor',\n",
              " 'rinkuskiaisbeersalesfellbypercenttomillionlitreswhilekaunoalusbeersalesjumpedbypercenttomillionlitr',\n",
              " 'internetbusinessnewsmcommunicationsltdaspartofadrivetoprotectusersofitsinternetbankingservicebarclaysbankhasannouncedthatitistorecommendfsecureinternetsecuritytoitscustom',\n",
              " 'halonensofficeacknowledgedreceivingtheletterbutdeclinedcom',\n",
              " 'boomerangerboatsoyspecialisesinboatbuildinganddesignsmanufacturesandsellscustomisedrigidinflatableboatsribprimarilyforthebalticseamarket',\n",
              " 'thefairvalueofthecompanysinvestmentpropertiesgrewtoeurbillionattheendofmarchfromeurmillionayearago',\n",
              " 'wereachedagreementwiththeunionthatflightswillcontinueasnormalfinnairspokesmanuskomaattasaid',\n",
              " 'osurupsincebuysignalresistanceexpectpullbackndhalfofdayorbreakabovcontinuerallyforday',\n",
              " 'thecompanyhadnetsalesofeurmillioninandtodayhasapproximatelyemployeesinfinlandestoniaandpoland',\n",
              " 'thebrokerhighlightscargotecasitspreferredstockinthesectorasitisapureplayonglobalcargoandcontainerhandlinganditexpectsittoplayanactiveroleinfurtherconsolidatingtheindustri',\n",
              " 'thecombinedcapitalofthesefundsisexpectedtobeeurmnmn',\n",
              " 'thetotalheadcountreductionwillbepersonsthecompanysaid',\n",
              " 'theaimistodevelopopensourceapplicationsolut',\n",
              " 'thenetsalesofthewholefiscalyearwillbelowerthaninandoperatingprofitisestimatedtobeneg',\n",
              " 'thecontractconsistsofanewbuildingwithanareaofsqmandrenovationoftheexistingbuild',\n",
              " 'retailerskingfisherandsportsdirectriseinbritainsshareindex',\n",
              " 'persimmonsharepriceclimbsonriseinfullyearrevenu',\n",
              " 'tocheckthemoutortomakeabidtheywillbeinthedekashowroomfortitudevalley',\n",
              " 'thenewfacilitytobeknownastechnopolispulkovowillintroducetotherussianmarketanentirelynewconceptofcreatingoperatingandgrowingacommerciallyfundedscienceandtechnologyparktosupportthegrowthofknowledgeintensivecompani',\n",
              " 'tescossalespickupisntenough',\n",
              " 'tripmaintainsneutralratingatjpmorganptcutfrom',\n",
              " 'thepoorestindexfigurewasgiventofinnishpowercompanyfortum',\n",
              " 'theextractedfiltratesareveryhighinclaritywhilethedriedfiltercakesmeetrequiredtransportmoisturelimitstmlsfortheiroregrad',\n",
              " 'thisorderisincludedinwartsilasorderbookinthesecondquarterthecompanyad',\n",
              " 'thecompanyalsosaidthatthedeploymentofthedanishgnetworkcontinuesanditexpectstocoverofthedanishpopulationin',\n",
              " 'thedisposalofautotankwillalsostrengthenasposcapitalstructurecommentedgustavnybergceoofaspo',\n",
              " 'microntechnologyincnasdaqmudowntodayanddownsincebeingputontheshorthttpstcoeqqltfui',\n",
              " 'finnishlaboratoryliquidhandlinganddiagnostictestsystemsdeveloperbiohitoyjomxhelsinkibiobvissuedontuesdayjuneaprofitwarningforthefinancialyear',\n",
              " 'impleasedtoreceivethenominationcommitteesrequestandconfidencesaysjonrisfelt',\n",
              " 'aaplstockclimbsasbarronsseesupsidejimcramerstakehttpstcolkldmvkbq',\n",
              " 'thecompanyalsosaidonnovemberitsrealestatefundikysignedanagreementwithfinnishwindowmakerfenestraoytobuildawindowplantinforssasouthernfinland',\n",
              " 'inthethirdquarternetsalesincreasedbyyearonyeartoeurmillionorbyatcomparablecurrencyratesgrowth',\n",
              " 'itvtopursuetakeoverofcanadasentertainmentonebloomberg',\n",
              " 'cramoisaservicecompanyspecialisinginconstructionmachineryandequipmentrentalandrentalrelatedservicesaswellastherentalandsaleofmodularspac',\n",
              " 'dependingonthemarketsituationsuchprojectsaresoldaftertoyearsaftercomplet',\n",
              " 'astrazenecaweighingupacertabidtosecurebloodcancerdrug',\n",
              " 'hrlreadytopophttpstkscosni',\n",
              " 'newsfeedftsemoverslsesurgesasicesaysmullingofferashteadandbarclaystank',\n",
              " 'elcoteqseiseuropeslargestcontractelectronicsmakerandhassetupaunitinbangaloreinassociationwithavistaadvisoryofmumbai',\n",
              " 'salesvatinclusiveexpandedbypercenttomillioneuro',\n",
              " 'operatingprofitincreasedbytoeurmnfromeurmn',\n",
              " 'alexandriavadecunitedstatespatentnoissuedondecwasassignedtonokiacorpespoofinland',\n",
              " 'countrygermanysectorconstructionrealestatemachineryengineeringtargetcaveriongmbhbuyeryitoyjdealsizeinusdmtypecorporateacquisitionstatusagre',\n",
              " 'amrnitsaccumulatingithinkbuynoworholdyourpeacethisshouldgouptodaytomorrow',\n",
              " 'operatingprofitrosetoeurmnfromeurmninthecorrespondingperiodin',\n",
              " 'lastyearsysopendigiainvestedinibmproductknowhowinthebuildingofportalandtradingplacesystemsandsuccessfullyimplementedcustomersolutionssupportedbyit',\n",
              " 'adpnewsfebfinnishbroadbanddatacommunicationsystemsandsolutionscompanytelesteoyjheltltvsaidtodayitsnetprofitdecreasedtoeurmillionusdmforfromeurmillionfor',\n",
              " 'anearnoutpaymentofuptomlneuromlncanalsobepaiddependingonintellibisfinancialperformancein',\n",
              " 'thecurrencyeffecthadapctormlneuromlnnegativeimpactontherevenu',\n",
              " 'onlylnnentehtaatshowedalossbutithasonlyrecentlystartedstreamliningmeasur',\n",
              " 'dinnertheconferenceprogramcanalsobeviewedasaliveaudiowebcastthroughtheinternetpagesatwwwcityconcom',\n",
              " 'operatingprofitmarginincreasedfromto',\n",
              " 'operatingprofittotalledeurmndownfromeurmninthefirstquarterof',\n",
              " 'foundedinquatroconsclienteleconsistsofpublicsectorbuilderscentraltradingcompaniesandmajorconstructionfirm',\n",
              " 'russdontcatchfallingknivesbutithinkanentryiscomingsoononthi',\n",
              " 'thecompanysprofitbeforetaxesfelltoeurmninthethirdquarterofcomparedtoeurmninthecorrespondingperiodin',\n",
              " 'russianofficialsinspectedthedamageandgavethevesselpermissiontocontinuetotallinnataroundamthenorwegianregisteredmtstennordicwascarryingtonsofgasoilandwasmannedbyafilipinocrew',\n",
              " 'themaritimeadministrationsaidtheshipshadignoredwarningsabouttheicycondit',\n",
              " 'wfmboughtalittleyesterdayhopingforanearningspop',\n",
              " 'thegermancompanyhasalsosignedacodeshareagreementwithanotheroneworldmemberamericanairlinesincpartofusbasedamrcorpnyseamr',\n",
              " 'odellhasnotcontactedthestateoffinlandinthisissu',\n",
              " 'borealisinfrastructureputtingtogethernewseverntrentbid',\n",
              " 'thisorderwhendeliveredwillbringthetotaloutputofelectricityinitalygeneratedbywartsilaequipmenttomorethanmw',\n",
              " 'coopershtheukdistributorforliftequipmentmanufacturerkonecraneswonthefiveyeardealwhichinvolveslowmaintenanceandfuelsavingtechnolog',\n",
              " 'underapreliminaryestimationthetechnologyparkwillmeasureaboutsquaremet',\n",
              " 'thecompanyplanstospendtheproceedsfromtherightsofferingforstrengtheningitsbalancesheet',\n",
              " 'earningspershareepsinthefirsthalfofamountedtoeurdownfromeuryearago',\n",
              " 'rxiitangreallyistoxictheykeepbringingthesharepricedownatleasttheycouldletitclimbalittlebeforedraggingitdown',\n",
              " 'thesellingconsortiumincludesfundsmanagedbyokobanksventurecapitalunitbiofundmanagementandfinnishindustryinvestmentagovernmentownedinvestmentgroup',\n",
              " 'amersportsdivestsanindustrialsiteinrumillyfrancethisannouncementisdistributedbythomsonreutersonbehalfofthomsonreuterscli',\n",
              " 'metsabotniawillfinancethepaymentofdividendstherepaymentofcapitalandtherepurchaseofitsownshareswiththefundsderivingfromitsdivestmentoftheuruguayoperationsandsharesinpohjolanvoimaandbyutilisingitsexistingfinancingfacil',\n",
              " 'rtfitzstockiythttpstksconbfthetransportsalwaysleadthewayandtheybrokedtlinestmacdcrossbullflag',\n",
              " 'ebitexcludingnonrecurringitemstotalledeurmnupfromeurmn',\n",
              " 'thedieselmarginhasremainedhigh',\n",
              " 'operatinglosstotaledeurmncomparedtoaprofitofeurmninthecorrespondingperiodin',\n",
              " 'ftseralliesoffthreemonthlowboostedbystanchartsainsburi',\n",
              " 'thegrowthintheactivenessoftalentumscustomerswhichstartedattheendofcontinuedduringthereportingperiodthecompanyst',\n",
              " 'themaximumnumberofnewsharestobeofferedismillion',\n",
              " 'marimekkomakesallsortsofcolorfullittleimpulsebuysumbrellasbabybibschangepursesandtheyreallforsalethebettertotakeadvantageofshopperswhocantcommittofurniturebutwantapieceoftheact',\n",
              " 'finnishmanagementsoftwaresolutionsproviderixonosoyjnetprofitdecreasedtoeuroforthefirstquarteroffromeuromlnforthesameperiodof',\n",
              " 'thesalewhichwillresultinagainofsomeeurmillioninthesecondquarteroffororiolakdsupportsthefinnishcompanysstrategytofocusonpharmaceuticalwholesaleandretailoper',\n",
              " 'theguidancehasbeensetatbasispointsovermidswapsthereportsaid',\n",
              " 'finnishdrugdistributorandwholesaleroriolakdoyjsaidonoctoberitnamedannekariniemivicepresidentofitslogisticsandsourcingdepartmentasofjanuari',\n",
              " 'itsabadideatomakeminpredictionsbasedonfaithrtdandyductaaplsellsignalhitatitwillgodownforthenextmin',\n",
              " 'thecontractscompriseturnkeyordersforrorosystemsfortwororocruisevesselsunderconstructionforvikinglineandtallink',\n",
              " 'endpexitreversalxksharesnowlongnotgettingfollowthrougheithersideofpriceact',\n",
              " 'itvsharepricejumpsonreportofcomcastsnbcuniversalbiddingtotakeov',\n",
              " 'aspoplcstockexchangeannouncementmayatamanincreaseinthesharecapitalofaspoplctotalingeurwasregisteredtoday',\n",
              " 'thefouryearcontractbetweenthebankandskisportfinlandwillbringthebanksadvertisementstoskiershelmetsandcap',\n",
              " 'accordingtofinnishscanfilsfounderandchairmanoftheboardjormajtakanenthecompanyhastolookforgrowthabroad',\n",
              " 'whennewtypesofnetworkelementsareaddedtothenetworktheconversionfileisupdatedbyaddingtheinformationrequiredforconvertingthemessageformatofthenewnetworkelementtypetotheformatunderstoodbythemanagementsystem',\n",
              " 'inthevideoabovemarimekkosdesignmanagernooraniiininoskiexplainsthatthebrandsareanaturalfitforeachotherbecausetheybothhaveatimelessstyl',\n",
              " 'wehavemadelongterminvestmentsindevelopingthesystemsimplementationmodel',\n",
              " 'comptelavendorofdynamicoperationssupportsystemosssoftwarehasbeenselectedbyorascomtelecomothaspartnerforprovisioningandactivationsolutionsformobileservic',\n",
              " 'aapliambigoutfromthisseemsitsfallingtoward',\n",
              " 'thentsbsaidinvestigatorsaresettoconductsightdistancetestsonjulyusingtrainssimilartothoseinvolvedintheaccid',\n",
              " 'finnishsportsequipmentmakeramersportsoyjhelameassaidtodaythatitsnetlossnarrowedtoeurmillionusdminthesecondquarteroffromeurmillioninthecorrespondingperiodayearearli',\n",
              " 'returnoninvestmentwascomparedtoanegativein',\n",
              " 'outotecsscopeofdeliveryincludesdesignbasicengineeringandsupplyofproprietaryequipmentforasinterplantwithagrateareaofsquaremet',\n",
              " 'thecontractwilltakeeffectinforafiveortenyearperiod',\n",
              " 'simultaneouslyhisresponsibilityareaisextendedfromlegalaffairstocoveralsomergersandacquisit',\n",
              " 'peerpeugeotfellpctasitssalesroseonlypctfromthesameperiodlastyear',\n",
              " 'threestudentsfromuniversitisainsmalaysiahavewonastudytriptohelsinki',\n",
              " 'finnishpropertyinvestmentcompanycityconwillexpandandrefurbishkersbergashoppingcenterinstockholminsweden',\n",
              " 'bestanalystratedstocksinlasthrsorclaaplcbsinocpxxviewallratingsherehttpstcoiridzdgc',\n",
              " 'updatepersimmonprofitupstronglyoutlookposit',\n",
              " 'totaltwoofferswerereceivedbycontractingauthorityforparticipatinginthiscontracthoweverthecontractwasallottedtoaffectofinlandoy',\n",
              " 'whileicantunderstandwhattheyresayingitsimpressivetowatchhimhitthatballatthosespe',\n",
              " 'rptoldmutualqgrosssalesbeatforecastsuppct',\n",
              " 'thebankisalsoexaminingthebenefitsoftransferringtheswedishbusinesstooperateasabranchofficesothattheoperationswouldbegovernedbyfinlandslaw',\n",
              " 'motorolaincoftheunitedstatescamesecondwithshipmentsofmillionunitsforapercentmarketsharefollowedbysouthkoreassamsungelectronicscowithshipmentsofmillionunitsforanpercentshar',\n",
              " 'themaximumamountofthecapitalloanwillbeeurmandtheminimumsubscriptioneur',\n",
              " 'adpnewsfebfinlandbasedsteelmakerrautaruukkioyjhelrtrksorruukkisaidtodayitslippedtoalargerthanexpectedpretaxlossofeurmillionusdminthefourthquarteroffroma',\n",
              " 'sharkbiotechifanyoneissellingshortingagnbcyoubelieveendprumorstoberealisticthenilltaketheothersideofthattrad',\n",
              " 'thecompanyislistedonthenordicexchangeinhelsinki',\n",
              " 'pyplgreatvolflowtradeherelovethiscompanylongtim',\n",
              " 'vapotentialbearishsharkpatternifpointbtobetakenouthttpstkscoiggh',\n",
              " 'bothoperatingprofitandturnoverfortheninemonthperiodincreasedrespectivelyfromeurmandeurmascomparedtothecorrespondingperiodayearago',\n",
              " 'theordercomprisesfourballmillswhichwillbeorganizedintwodifferentstreamsfortreatingoreinthepilanesbergplatinummin',\n",
              " 'almamediacorporationpressreleasemarchtyrvnsanomatpurchaseconfirmedthebusinessoperationsoftyrvnsanomatoywillbetransferredtosuomenpaikallissanomatoy',\n",
              " 'productionalsituationhasnowimprov',\n",
              " 'sshcommunicationssecuritycorporationisheadquarteredinhelsinkifinland',\n",
              " 'forthefullthecompanyexpectsitsnetsalesandoperatingresulttoimprovefromthepreviousyearsayingthatapositiveoperatingresultanditsamountwilldependontheorderintakebytheendofthesumm',\n",
              " 'operatingmarginhoweverslippedtofromdraggeddownbyapoorperformanceinenterprisesolut',\n",
              " 'finnishmetalproductscompanycomponentaoyjnetprofitrosetomlneuromlnforthefirstquarteroffrommlneuromlnforthesameperiodof',\n",
              " 'soasoftodayscloseimlongtslaamtdtwtrfbaaplcelgallonalongertermtechnicalswinglongbasi',\n",
              " 'theacquiredbusinessmainassetisamobileauthenticationandsigningsolutionbrandedastectiamobileidwhichprovidesauthenticationtowebemailsslvpnmssharepointtectiasecuresolutionsandotherapplicationsandresourc',\n",
              " 'thereportexaminesthemedicalequipmentbusinessstructureandoperationshistoryandproductsandprovidesananalysisofitskeymedicalequipmentrevenuelin',\n",
              " 'adpnewsaugfinnishmediagroupilkkayhtymaoyjhelilkssaidtodayitsnetprofitfellontheyeartoeurmillionusdminthefirsthalfof',\n",
              " 'thenewtechnologyimprovestheglassqualityandconsistencywhileincreasingthroughput',\n",
              " 'londonmarketwatchnokianoksaiditswonafiveyearservicescontracttorunhutchisonessarsnetworkoperationsinninelocationsinindia',\n",
              " 'soullortheregularscrappyqswyusuallypresentssalesweakmarginsdowndebtstillwayup',\n",
              " 'operatingprofitmarginwascomparedtoayearearli',\n",
              " 'consolidatednetsalesincreasedtoreacheurmwhileoperatingprofitamountedtoeurmcomparedtoalossofeurmintheprioryearperiod',\n",
              " 'finnishforestmachinerymanufacturerponssehasissuedaprofitwarn',\n",
              " 'theenterprisevalueofthefraybentospulpmillandforestalorientaltotalsapproximatelyeurobillionupmsaid',\n",
              " 'rentalofbuildingequipmentaccountedforpercentoftheoperatingincom',\n",
              " 'themeasuresresultfromweakdemandintheshipbuildingindustri',\n",
              " 'maycompaniesandmarketscomdeliveredbynewstexthisreportprovideskeydataandinformationonthemeatfishandpoultrymarketinfinland',\n",
              " 'inadditiontothedemandinfinlandtheexportofliningstoneproductsalsoincreas',\n",
              " 'thecurrentreferencegradeinstrumentsarechallengingtooperateduetotheirhighpriceandcomplexityforroutineus',\n",
              " 'theyvealreadyallocatedmoneyfortheinventori',\n",
              " 'atotaloftalvivaaraminingcompanyplcsnewsharesweresubscribedforduringtheperiodbetweenmayandjuneunderthecompanysstockoptionrightsa',\n",
              " 'eurusdfindingsupportnearlevelerouupudnfxehttpstkscobeu',\n",
              " 'theannualvalueofthecontractsisestimatedatusdmnoverthenextthreeyear',\n",
              " 'inadditionwewilllaunchaversatileonlineservicetocompletethetraditionalprintednewspapermrvalkamasay',\n",
              " 'thecompanysaidthattheoperationswillbesoldtoanewlyestablishedcompanycpsgmbhwherethepresentmanagementoftheplasticsbusinessisacoown',\n",
              " 'finnishmetalproductscompanycomponentaoyjnetprofitwentslightlydowntomlneuromlnforthefirsthalfoffrommlneuromlnforthesameperiodof',\n",
              " 'marketsbppromotesupstreambosstodeputyceo',\n",
              " 'britainsftsebouncesbackmondiandbarrattlead',\n",
              " 'loudeyecorpupatnokiacorpdowncentsatnokiaagreedtobuythedigitalmusicdistributorformillion',\n",
              " 'ragutiscontrolledbythefinnishbreweryolviachievedapercentriseinbeersalestomillionlitersandheldapercentmarketshar',\n",
              " 'finnairsaidthatthecancellationofflightswouldcausedailylossesofxacmillionusmillion',\n",
              " 'theenergysectoraccountedforapproximatelyandthesteelindustryforaboutofthetransportationvolum',\n",
              " 'themegawattwindfarmbeingplannedinraahewouldbebuiltoffshoreinfrontofruukkisraahework',\n",
              " 'theaustraliancompanymirabelanickelhasawardedoutokumputechnologyacontractforgrindingtechnologyforitsnickelsulfideprojectinbahiastatebrazil',\n",
              " 'standardcharteredrbsescapecapitalraisinginstresstest',\n",
              " 'operatingprofitsinthehalfweremdownfrommasglisteninvestedinthebrandandthemanagementteam',\n",
              " 'theexpansionistobefinalizedintheautumnof',\n",
              " 'finnishkonecranesisagaintryingtoacquireitalianfantuzziamanufacturerofgantrycranesandreachstack',\n",
              " 'pmcentralofficeofnordeabankyaulitsayamskogopolyabuildingtelephoneextunimilkegmxviinternationalbusinesssummitfoodbusinessrussiawilltakeplac',\n",
              " 'adpnewsfebfinlandbasedsteelmakerrautaruukkioyjhelrtrksorruukkisaidtodayitslippedtoalargerthanexpectedpretaxlossofeurmillionusdminthefourthquarteroffroma',\n",
              " 'thecompanyexpectsitsnetsalesintoincreasefrom',\n",
              " 'aboutofevrazgroupsharesareownedbylanebrookwhosebeneficiariesontheonehandaremillhousetheholdingcompanyfortheassetsofbillionaireromanabramovichandhisbusinesspartnersandevrazexecutivesalexanderabramovandalexanderfrolovontheoth',\n",
              " 'themargarinebusinesshasbeenputintogoodshapeinthelasttwoyearsmakingitanaturaladditiontobungewhichislookingtoleverageitspositioninthecentralandnortherneuropeanmarketsraisioceomattirihkosaidinastat',\n",
              " 'themostloyalcustomerswerefoundinthebankoflandwithanindexof',\n",
              " 'tescobreaksitsdownwardslidebycuttingsalesdeclineinhalf',\n",
              " 'eriikkasderstrmhaspreviouslyheldseveralpositionsinfinanceandcontrolatnokianetworksincludingactingasthebusinessgroupcontrollerandhavingthecorporatecontrollerpositionatnokiasiemensnetwork',\n",
              " 'nopricingdetailsweredisclos',\n",
              " 'longaapl',\n",
              " 'salonenaddedthatdatashowsproducerspulpinventoriesinnorthamericaaredeclin',\n",
              " 'finnishitconsultancysatamainteractiveoyjpostedanetprofitofmlneuromlnforthefirstninemonthsofcomparedtoanetlossofeuroforthesameperiodof',\n",
              " 'consistingofseveninterconnectedunitsmegaimageslogisticscenterwillbemetresinlengthandmetresinheight',\n",
              " 'tescoplcsrecoverycontinueswithamcashinfus',\n",
              " 'keskohasaboutstoresengagedinchainoperationsinthenordicandbalticcountriesrussiaandbelaru',\n",
              " 'istroublebrewingatlegalgeneralgroupplcandavivaplc',\n",
              " 'helsinkibasedcomponentaboughtturkishlistedcompanydoktasinoctoberformillioneurosmakingitthelargestfinnishinvestmentinturkeytod',\n",
              " 'theecbcanmainlytargetinfl',\n",
              " 'operatingprofittotaledeurmndownfromeurmninthecorrespondingperiodin',\n",
              " 'thegroupsaiditintendstoinitiatewithinthisyeartheprocessofbuyoutofminorityshareholdersofragutiswiththeaimofbecomingthesoleownerofthecompani',\n",
              " 'initiallythecompanysaidamaximumofpeoplewouldbemaderedundantintheparentcompanyandaboutinitssubsidiari',\n",
              " 'thecontractincorporatesaconvergentchargingratingsolutionforvoiceanddatawhichincludesinternetgprssmsmmsandwap',\n",
              " 'astrazenecaslungcancerdrugtagrissogetsfdaapprov',\n",
              " 'ourcustomersincludecompaniesintheenergyandprocessindustrysectorsinparticular',\n",
              " 'europehoweverremainsanimportantandstrongmarketforu',\n",
              " 'morrisonsanddebenhamssurprisecitywithchristmasbounceback',\n",
              " 'theongoingprojectwhereteklastructuresisbeingusedisthevashiexhibitioncentrebeingdevelopedbyinsteelengineerspvtltdiivrclinfrastructuresprojectsltdcidco',\n",
              " 'talentumexpectsthatthenetsalesofitscorebusinesswillincreaseincomparedto',\n",
              " 'operatingprofitsinthehalfweremdownfrommasglisteninvestedinthebrandandthemanagementteam',\n",
              " 'itstotalannualrevenuecomesuptoaboutmlnzlotymlnmlneuro',\n",
              " 'thecorrespondingincreaseinthesharecapitaleurhasbeenenteredinthetraderegistertoday',\n",
              " 'groupebitforthefirsthalfwaseurmusmfallingshortoftheeurmitpostedforthesameperiodof',\n",
              " 'relationswiththecityhavebeenfurtherdamagedbycommentsfrommrashleycriticisingcityinvestorsandanalystsascrybabi',\n",
              " 'theenginehasanelectricaloutputofkwmakingitthelargestgaspoweredgeneratingsetintheworld',\n",
              " 'pretaxprofittotaledeurmncomparedtoeurmninthefirstquarterof',\n",
              " 'mostrecentlyhefoundedvirentenergysystemsincanpersoncatalyticbiofuelscompanywhereaspresidentandceoheledthecompanythroughmultiplefinancingsdefinedthecompanysmarketstrategyandsecuredthecompanysfirstcustom',\n",
              " 'addusservicesincludepersonalcareandassistancewithactivitiesofdailylivingskillednursingandrehabilitativetherapiesandadultdaycar',\n",
              " 'tripadvisorjumpsonmarumorshttpstcoolwcdxmbrtrip',\n",
              " 'finnishcivilaviationadministrationdecidedtotemporarilyreopenfinnishcapitalshelsinkiairportsincepmtopmmondaylocaltim',\n",
              " 'reportinginaccordancewiththemergedbusinessoperationswillstartasofjanuari',\n",
              " 'earningspershareepsforthefirstquarteramountedtoeurupfromeur',\n",
              " 'finnlinesestimatedinitsannualgeneralmeetingthatwillbefinanciallyatoughyearduetolargeinvest',\n",
              " 'meanwhileminorityshareholdersexpectingteliasoneratoretainthebidsellsharesnow',\n",
              " 'externalnetsalesfromtheprintingbusinessfellbypartlyduetotheterminationoftheprintingcontractbetweenilkkayhtymasprintinghouseiprintoyandsectorplayerhssmediaabindecemberandthefallinprintingpric',\n",
              " 'operatingprofitwaseurmncomparedtoalossofeurmninthecorrespondingperiodin',\n",
              " 'wordonthestreetisthatallergenislookingatendointernationalafterthefailedpfizermergermaycallsactiveendp',\n",
              " 'fbrcapitalreiteratedoutperformratingonbrcmwithapricetargetofonfriday',\n",
              " 'metalszincsurgespctafterglencorecutsoutputfuellingmetalsr',\n",
              " 'profitfortheperiodfelltoeurmnfromeurmninjanuaryseptemb',\n",
              " 'isitworthinvestingintescoplcandprudentialplcnow',\n",
              " 'infinlandfinnishpharmaceuticalcompanyorioncorporationomxhelsinkiornavsaidonwednesdayjanuarythatithasconcludeditspersonnelnegotiationsinfinlandandwillreducethenumberofpersonnelbi',\n",
              " 'finnishretailerstockmannhaswonapprovalfromtheboardofswedishrivallindexforapublictenderofferwiththeaimofexpandingthecompaniespresenceinrussiaandotherceecountriesstockmannsaidmonday',\n",
              " 'inareleasethecompanysaidthatvocollecttcustomersinnorthamericacannowtakeadvantageofitsvoicedirectedwarehousingsolutionandincreasewarehouseefficiencyandproductivitygainsatadiscountedpric',\n",
              " 'niklasskogsterhasbeenemployedbytheabbgroupinvariouspositionsconcerningthedevelopmentofoper',\n",
              " 'operatingprofitexcludingnonrecurringitemstotaledeurmndownfromeurmninthecorrespondingperiodin',\n",
              " 'finnishmetsopaperhasbeenawardedacontractfortherebuildofsabahforestindustriessfipulpmillinsabahmalaysia',\n",
              " 'ruukkiforecastaannualsalesgrowthandapositivepretaxresultfor',\n",
              " 'thepriceofgmosoyislowerthanthatofnongmo',\n",
              " 'finlandsnokiantyresandkazakhstansordabasycorporationsignedanagreementtobuildaplantinastanatoproducecartiresordabasychairmandinmukhametidrisovsaidatapressconfer',\n",
              " 'withsalesofbillionoverthelasttwelvemonthsendingoctoberandoverstoresinstatesdollargeneralisthenationslargestsmallboxdiscountretail',\n",
              " 'getmidnighttraderinrealtimethisreportisdelay',\n",
              " 'danishcompanyflsmidthhasacknowledgedthatithasviolatedapatentheldbyfinnishmetso',\n",
              " 'theshareissuederogatingfromthepreemptiverightoftheshareholdersandcomprisingsomesixmillionnewsharesatmarketpricewillbeofferedforsubscriptionbyshareholdersholdersofcapitalnotesandbyprofessionalcli',\n",
              " 'tielinjageneratednetsalesofmlneuromlnin',\n",
              " 'karachiseptixonosaworldleaderinthedevelopmentandintegrationofsolutionsforhandhelddevicesannouncedthatitisimplementingatouchscreenmobileuserinterfacesolutionfortheintelatomprocessorzxxbasedsmartphon',\n",
              " 'nesteoilisworkingwithoverresearchcommunitiesineuropeamericaafricaasiaandaustraliatodevelopandintroducenewrawmateri',\n",
              " 'thenewagreementwhichexpandsalongestablishedcooperationbetweenthecompaniesinvolvesthetransferofcertainengineeringanddocumentationfunctionsfromlaroxtoetteplan',\n",
              " 'itsnot',\n",
              " 'tooksomeendplongthisamusingvwapasguid',\n",
              " 'despitesalesgrowthukstescocautionsrecoverytobebumpi',\n",
              " 'infinlandmetalsectorcompanycomponentaislayingofftemporarilythestaffofitsporimillfromchristmastilljanuari',\n",
              " 'inmiddleeastnorthafricatecnotreehasgrownconsiderablyintherecentyear',\n",
              " 'bothoperatingprofitandnetsalesforthesixmonthperiodincreasedrespectivelyfromeurmandeurmascomparedtothecorrespondingperiodin',\n",
              " 'insureraxaparcsslidbytoeuraftercitigroupandingslashedtheirtargetsonthestock',\n",
              " 'theordervaluesateurmnanditconsistsofdesignservicesandhardwareandsoftwarelic',\n",
              " 'scanfilhasalsoissuedaprofitwarn',\n",
              " 'aspokesmansaidthefoodstorecentersubjecttocouncilandlocalsupportcouldcompriseasupermarketorsmallerstoreandothernicheoutletsandthiswillbefirmedupfollowingconsultationwiththecouncilandlocalcommunityregardingappropriateusesandoccupi',\n",
              " 'thebondhasavalueofeurmandamaturityofyear',\n",
              " 'millercoorsboardnamesgavinhattersleyinterimceo',\n",
              " 'airbuswillattempttoevacuateuptopeoplewithinsecond',\n",
              " 'firstquarterunderlyingoperatingprofitrosetomlneurfrommlnayearearli',\n",
              " 'epsforthequarterwaseurascomparedwitheurinthethirdquarterofrepresentingagroupnetsalesforthethirdquarterwereeurmupbyascomparedwitheurminthethirdquarterof',\n",
              " 'royaldutchshellprofitrisesdividendup',\n",
              " 'meanwhileelectrowattekonophilippinesincwasalsoawardedathreeyearoperationandmaintenanceomcontractbyfrcementcorpor',\n",
              " 'theagreementincludesapplicationmaintenanceandsupportservic',\n",
              " 'nokiaisjustinterestedinbringnokiatothemarket',\n",
              " 'affectoexpectsitsnetsalesforthewholetoincreasefromthelevelwhentheyreachedeurmillion',\n",
              " 'thereportprofilescompaniesincludingmanykeyandnicheplayersincludingmajornonwovensmanufacturerssuchasahlstromcorporationasahikaseicorporationbuckeyetechnologiesincei',\n",
              " 'thelayoffswillaffectpeopleoutofthetotalokmeticemployeesinfinland',\n",
              " 'theacquisitionofelektrospavaracompleteskonesmarketexpansionstrategyinthebalticcountri',\n",
              " 'mayfinnishelectronicsproducerelcoteqsehelelqavsaidtodaythatithassignedanextensivecooperationagreementonindustrialisationmanufacturingdistributionandaftermarketservicesformobilephoneswithjapanssharptyo',\n",
              " 'morrisonsbooksecondconsecutivequarterofsalesgrowth',\n",
              " 'marimekkohastodaynovembersignedalicenseagreementwiththeswedishchainwherebymarimekkowilllicensesomeofitspopularpatternsfromthessandstohm',\n",
              " 'thatwasquickoutfiomarkettankingscalingdownlongsnow',\n",
              " 'theannouncementpushedfreenetsharesdownoreurinfrankfurttradetoeurasinvestorsgaveuphopeunitedinternetaganddrillischwouldpursuetheirowntakeoverandbreakupoffreenet',\n",
              " 'finnishtelecomssoftwaredevelopertecnomenoyjsaidondecemberitwonamlnmlneuroordertosupplyanexpansionofthechargingandmessagingsystemsforthemobileandfixednetworksofbrasiltelecom',\n",
              " 'companiesunileversalesliftedbyicecreaminsofteconomi',\n",
              " 'epsdroppedtoeurfromeur',\n",
              " 'saltwaternurseinocantestagaininnextfewdaystimetotakesomeprofitshereorhedgewithput',\n",
              " 'nofinancialinformationwasprovid',\n",
              " 'easyjetattractsmorepassengersinjunebutstilllagsryanair',\n",
              " 'morningagendashiresdealfornp',\n",
              " 'metsowillsupplytheequipmentfortwoprocesslinesatnorthlandresourcesnewkaunisvaaraironoreprojectinswedenwhichexploitstapuliandsahavaaraironoredeposit',\n",
              " 'underthisagreementbiohitbecomesafocussupplierofpipettorsanddisposablepipettortipstovwrcustomersthroughouteurop',\n",
              " 'thecompanyspreviousestimatewasforalowerrevenuethantheyearagoeurmillion',\n",
              " 'earningspershareepsdroppedtoeurfromeur',\n",
              " 'bidsoroffersincludeatleastsharesandthevalueofthesharesmustcorrespondtoatleasteur',\n",
              " 'earningspershareepsamountedtoalossoftoeur',\n",
              " 'netappdowngradedbymacquarietounderperformpthttpstcoxcngwstqntapntapviaratingsnetwork',\n",
              " 'russiaisreadytoparticipateinanopentenderforlattelecomsprivat',\n",
              " 'technopolisandthestpetersburggovernmentsignedacooperationmemoranduminoctobertosetupatechnoparkintheneudorfproductionzoneinthevillageofstrelnyinthestpetersburgsuburb',\n",
              " 'theownerswhohaveparticipatedinthebusinessoperationsofthecompanywillcontinueinpoyrysemploymentafterthetransact',\n",
              " 'thegoalistosecurethecompanysprofitabilityandcompetit',\n",
              " 'howeverthecompanysawitsnetprofitforthethirdquarterdowntoeurmillionfromeurmillionforthecorrespondingperiodof',\n",
              " 'nesteoilsboardproposedeurdividendforthefullyearcomparedwitheurayearago',\n",
              " 'baswareeinvoicesoywillbemergedintotheparentcompanyduringthepresentfiscalperiod',\n",
              " 'fintechprovidercafncachetfinancialsolutionssurgingforwardtodaypostearningsuphttpstcobjcskijkhyfisvmomo',\n",
              " 'beforekemirasinstallationnordaluwasproducingtonsofliquidandsolidaluminumwasteperyear',\n",
              " 'heisacharteredaccountantinbritishcolumbiaandalbertaaswellasacertifiedpublicaccountantinwashingtonst',\n",
              " 'veryrecommendableisthenokianzgaccordingtotheadacjudgementinthelatestsummertyretestofthegermanautomobileassociationadac',\n",
              " 'thegroupsresultbeforetaxeswasalossofeurmillion',\n",
              " 'cashflowfromoperatingactivitiesbeforeinvestmentswaseurmillion',\n",
              " 'vikinglinehascanceledsomeservic',\n",
              " 'exelisheadquarteredinmantyharjuinfinland',\n",
              " 'storachiefexecutivejoukokarvinenhasdescribedtherussiantariffhikesasathreattothefutureoftheforestproductsindustryinfinland',\n",
              " 'afterbarclaysandbankofamericacitigrouphasblockchaininsight',\n",
              " 'googleinccompletesacquisitionoficoainchttpstksconfeiicoagoog',\n",
              " 'tslalookinggoodidlovetoseeabasingactionherelettingthersitakeabreatherhttpstkscogtc',\n",
              " 'finnishplumbingandheatingsystemssupplieruponorsnetsalesfromcontinuingoperationsdecreasedbyintoeurmnfromeurmnin',\n",
              " 'thislocationmakesthemallaconvenientplacetoshopforconsumersfromthreelargeresidentialareasnearbyjaroszowkawysockiegoandzgodi',\n",
              " 'finnishinsurancecompanyfenniaandkeskogroupareendingtheirloyalcustomercooper',\n",
              " 'thecasingcomprisesafirstsidecasingmemberprovidedwiththefirstsidevatsegmentandasecondsidecasingmemberprovidedwiththesecondsidevatsegmentatleastthefirstsidecasingmemberbeingpivotableaboutarotationaxi',\n",
              " 'finlandbasedelcoteqseaprivatelyheldproviderofelectronicsmanufacturingservicestocommunicationscompaniessaidthursdayitsignedalongtermmanufacturingsupplydealwithcommunicationsequipmentcompanyandrewcorp',\n",
              " 'inqofbankoflandsnetinterestincomeweakenedbytoeurmn',\n",
              " 'rbspaysbilliontoscrapuktreasurysdividendright',\n",
              " 'increasedtrustofourclientsinyitcanbeseenasapartmentsalesacceler',\n",
              " 'talvivaaraminingcompanyplctalvivaaraminingcompanyisaninternationallysignificantbasemetalsproducerwithitsprimaryfocusonnickelandzincusingatechnologyknownasbioheapleachingtoextractmetalsoutofor',\n",
              " 'operatingprofitforlowerthanoutlookpublishedearli',\n",
              " 'lessthantenpeoplewillfacepensionagr',\n",
              " 'thecompanysconsolidatedoperatingprofitamountedtoeurmnupfromeurmnyearonyear',\n",
              " 'astrazenecatobuyzspharmaforbillion',\n",
              " 'finnishwastemanagementandcleaninggrouplassilatikanojaoyjltnetprofitwentdowntomlneuromlnforfrommlneuromlnfor',\n",
              " 'theoperatingmarginofakeryardscruiseferriesdivisionwentdownfromtointhefirstquarterof',\n",
              " 'helsinkithomsonfinancialsharesincargotecfellsharplyinearlyafternoontradeafterthecargohandlinggrouppostedasurprisedropinapriljuneprofitswhichovershadowedthelargenumberofnewordersreceivedduringthethreemonth',\n",
              " 'theprogramstargetisstructuralcostreductionsofabouteurmnin',\n",
              " 'ourtoolsarespecificallydesignedwiththeneedsofboththebusinessusersandictexpertsinmind',\n",
              " ...]"
            ]
          },
          "metadata": {},
          "execution_count": 122
        }
      ],
      "source": [
        "#pre_processing al data lkol\n",
        "L1=[]\n",
        "for i in range (len(data)):\n",
        "        ch=re.sub('[^a-zA-Z]',\"\",data['Sentence'][i])\n",
        "        ch=ch.lower()\n",
        "        ch=ch.split()\n",
        "        ch=[word for word in ch if word not in stopwords.words('english')]\n",
        "        ch=' '.join(ch)\n",
        "        ch=ps.stem(ch)\n",
        "        L1.append(ch)\n",
        "L1"
      ]
    },
    {
      "cell_type": "code",
      "source": [
        "from nltk.tokenize import word_tokenize as tokenize"
      ],
      "metadata": {
        "id": "q8qQz7iay8oE"
      },
      "execution_count": null,
      "outputs": []
    },
    {
      "cell_type": "code",
      "execution_count": null,
      "metadata": {
        "id": "1k1426ZwevS_"
      },
      "outputs": [],
      "source": [
        "cv=CountVectorizer(analyzer='word', tokenizer=tokenize, lowercase=True ,ngram_range=(1, 1),stop_words='english')"
      ]
    },
    {
      "cell_type": "code",
      "source": [
        "nltk.download('punkt')"
      ],
      "metadata": {
        "colab": {
          "base_uri": "https://localhost:8080/"
        },
        "id": "gyqlT3HBzI2D",
        "outputId": "18f8e396-b2d6-4dd9-aca7-6038cfd0e3d0"
      },
      "execution_count": null,
      "outputs": [
        {
          "output_type": "stream",
          "name": "stderr",
          "text": [
            "[nltk_data] Downloading package punkt to /root/nltk_data...\n",
            "[nltk_data]   Package punkt is already up-to-date!\n"
          ]
        },
        {
          "output_type": "execute_result",
          "data": {
            "text/plain": [
              "True"
            ]
          },
          "metadata": {},
          "execution_count": 125
        }
      ]
    },
    {
      "cell_type": "code",
      "execution_count": null,
      "metadata": {
        "id": "XQTSFHWzevU1",
        "colab": {
          "base_uri": "https://localhost:8080/"
        },
        "outputId": "8105c6a4-000c-4cb0-f7c4-a2744d6aebe9"
      },
      "outputs": [
        {
          "output_type": "stream",
          "name": "stderr",
          "text": [
            "/usr/local/lib/python3.10/dist-packages/sklearn/feature_extraction/text.py:528: UserWarning:\n",
            "\n",
            "The parameter 'token_pattern' will not be used since 'tokenizer' is not None'\n",
            "\n"
          ]
        },
        {
          "output_type": "execute_result",
          "data": {
            "text/plain": [
              "(5842, 5281)"
            ]
          },
          "metadata": {},
          "execution_count": 126
        }
      ],
      "source": [
        "X=cv.fit_transform(L1).toarray()\n",
        "X.shape"
      ]
    },
    {
      "cell_type": "code",
      "source": [
        "X"
      ],
      "metadata": {
        "colab": {
          "base_uri": "https://localhost:8080/"
        },
        "id": "C14HfMawyBU4",
        "outputId": "ea25eb11-05c8-42b0-886c-017df80d5faa"
      },
      "execution_count": null,
      "outputs": [
        {
          "output_type": "execute_result",
          "data": {
            "text/plain": [
              "array([[0, 0, 0, ..., 0, 0, 0],\n",
              "       [0, 0, 0, ..., 0, 0, 0],\n",
              "       [0, 0, 0, ..., 0, 0, 0],\n",
              "       ...,\n",
              "       [0, 0, 0, ..., 0, 0, 0],\n",
              "       [0, 0, 0, ..., 0, 0, 0],\n",
              "       [0, 0, 0, ..., 0, 0, 0]])"
            ]
          },
          "metadata": {},
          "execution_count": 127
        }
      ]
    },
    {
      "cell_type": "markdown",
      "metadata": {
        "id": "m6z6Y2uPgtbC"
      },
      "source": [
        "#BUILDING the Model"
      ]
    },
    {
      "cell_type": "code",
      "execution_count": null,
      "metadata": {
        "id": "todZZnybHTOB"
      },
      "outputs": [],
      "source": [
        "from sklearn.model_selection import train_test_split\n",
        "from sklearn.neighbors import KNeighborsClassifier\n",
        "from sklearn import metrics\n",
        "from sklearn.preprocessing import LabelEncoder\n",
        "from sklearn.metrics import accuracy_score , classification_report\n",
        "import seaborn as sns\n",
        "from sklearn import tree\n",
        "from sklearn.tree import DecisionTreeClassifier\n",
        "from sklearn.linear_model import LogisticRegression\n",
        "from sklearn.ensemble import RandomForestClassifier\n",
        "from sklearn.model_selection import cross_val_score\n",
        "from sklearn.naive_bayes import MultinomialNB"
      ]
    },
    {
      "cell_type": "code",
      "execution_count": null,
      "metadata": {
        "id": "UfrwjPBKgw2s"
      },
      "outputs": [],
      "source": [
        "Y=data['Sentiment']\n"
      ]
    },
    {
      "cell_type": "code",
      "execution_count": null,
      "metadata": {
        "id": "pGQxFaIWevXi"
      },
      "outputs": [],
      "source": [
        "x_train,x_test,y_train,y_test=train_test_split(X,Y,test_size=20,random_state=1)"
      ]
    },
    {
      "cell_type": "markdown",
      "metadata": {
        "id": "YjmvpcgwqJPs"
      },
      "source": [
        "Using KNN model"
      ]
    },
    {
      "cell_type": "code",
      "execution_count": null,
      "metadata": {
        "id": "7jijRWpjevbC"
      },
      "outputs": [],
      "source": [
        "knn=KNeighborsClassifier(n_neighbors=5)\n",
        "knn.fit(x_train,y_train)\n",
        "y_pred=knn.predict(x_test)"
      ]
    },
    {
      "cell_type": "code",
      "execution_count": null,
      "metadata": {
        "id": "zVitAMrcfZE1"
      },
      "outputs": [],
      "source": [
        "n_neighbors=30\n",
        "scores=[]\n",
        "for k in range(1,30):\n",
        "    knn=KNeighborsClassifier(n_neighbors-k)\n",
        "    knn.fit(x_train,y_train)\n",
        "    y_pred=knn.predict(x_test)\n",
        "    scores.append(round(accuracy_score(y_pred,y_test),2))"
      ]
    },
    {
      "cell_type": "code",
      "execution_count": null,
      "metadata": {
        "id": "CWfgdhY8fjV4"
      },
      "outputs": [],
      "source": [
        "import matplotlib.pyplot as plt\n",
        "plt.plot(range(1,30),scores)\n",
        "plt.xlabel('Value K for KNN')\n",
        "plt.ylabel('Testing Accuracy')"
      ]
    },
    {
      "cell_type": "code",
      "execution_count": null,
      "metadata": {
        "id": "Xok4PO4jfpOO"
      },
      "outputs": [],
      "source": [
        "knn=KNeighborsClassifier(n_neighbors=25) #ahsen k 25 qui donne 0.8 acccuracy mais dans la prediction pas de \"negative\"\n",
        "knn.fit(x_train,y_train)\n",
        "y_pred=knn.predict(x_test)"
      ]
    },
    {
      "cell_type": "code",
      "execution_count": null,
      "metadata": {
        "id": "ojWE2HZ8evc-"
      },
      "outputs": [],
      "source": [
        "confusion_matrix = pd.crosstab(y_test, y_pred, rownames=['Actual'], colnames=['Predicted'])\n",
        "sns.heatmap(confusion_matrix, annot=True)"
      ]
    },
    {
      "cell_type": "markdown",
      "metadata": {
        "id": "p3pB5HGqhJHy"
      },
      "source": [
        "TRYING ANOTHER MODEL: DecisionTree"
      ]
    },
    {
      "cell_type": "code",
      "execution_count": null,
      "metadata": {
        "id": "Ikj0OQeLjxvJ"
      },
      "outputs": [],
      "source": [
        "x_train,x_test,y_train,y_test=train_test_split(X,Y,test_size=20)"
      ]
    },
    {
      "cell_type": "code",
      "execution_count": null,
      "metadata": {
        "id": "xAqXhvMUeve1"
      },
      "outputs": [],
      "source": [
        "treee = tree.DecisionTreeClassifier()\n",
        "treee.fit(x_train, y_train)   #fitting our model"
      ]
    },
    {
      "cell_type": "code",
      "execution_count": null,
      "metadata": {
        "id": "fVzlIjyvoOt2"
      },
      "outputs": [],
      "source": [
        "y_pred=treee.predict(x_test)"
      ]
    },
    {
      "cell_type": "markdown",
      "metadata": {
        "id": "tiLZIxzodmV_"
      },
      "source": [
        "Testing model’s performance"
      ]
    },
    {
      "cell_type": "code",
      "execution_count": null,
      "metadata": {
        "id": "NCvqea7ndYnn"
      },
      "outputs": [],
      "source": [
        "print(\"score:{}\".format(accuracy_score(y_test, y_pred)))"
      ]
    },
    {
      "cell_type": "code",
      "execution_count": null,
      "metadata": {
        "id": "fXLvKO_sevg9"
      },
      "outputs": [],
      "source": [
        "confusion_matrix = pd.crosstab(y_test, y_pred, rownames=['Actual'], colnames=['Predicted'])\n",
        "sns.heatmap(confusion_matrix, annot=True) #pas \"de positive\""
      ]
    },
    {
      "cell_type": "code",
      "execution_count": null,
      "metadata": {
        "id": "Usy3Ey7Fevlc"
      },
      "outputs": [],
      "source": [
        "print(classification_report(y_test,y_pred))"
      ]
    },
    {
      "cell_type": "markdown",
      "metadata": {
        "id": "_o7nOrSmk1Vj"
      },
      "source": [
        "TRYING ANOTHER MODEL: LOGISTIC REGRESSIN\n"
      ]
    },
    {
      "cell_type": "code",
      "execution_count": null,
      "metadata": {
        "id": "tQ2zplO9kVoe"
      },
      "outputs": [],
      "source": [
        "x_train,x_test,y_train,y_test=train_test_split(X,Y,test_size=20)"
      ]
    },
    {
      "cell_type": "code",
      "execution_count": null,
      "metadata": {
        "id": "CacuLnbgevuF"
      },
      "outputs": [],
      "source": [
        "logreg = LogisticRegression()   #build our logistic model\n",
        "logreg.fit(x_train, y_train)  #fitting training data\n",
        "y_pred  = logreg.predict(x_test)"
      ]
    },
    {
      "cell_type": "markdown",
      "metadata": {
        "id": "E7rMZFZpdxRN"
      },
      "source": [
        "Testing model’s performance"
      ]
    },
    {
      "cell_type": "code",
      "execution_count": null,
      "metadata": {
        "id": "hOm13Mb6dcia"
      },
      "outputs": [],
      "source": [
        "print(\"Accuracy={:.2f}\".format(logreg.score(x_test, y_test)))"
      ]
    },
    {
      "cell_type": "code",
      "execution_count": null,
      "metadata": {
        "id": "BZ2Hnkphetn4"
      },
      "outputs": [],
      "source": [
        "confusion_matrix = pd.crosstab(y_test, y_pred, rownames=['Actual'], colnames=['Predicted'])\n",
        "sns.heatmap(confusion_matrix, annot=True)"
      ]
    },
    {
      "cell_type": "code",
      "execution_count": null,
      "metadata": {
        "id": "ALK-KeLAecIE"
      },
      "outputs": [],
      "source": [
        "print(classification_report(y_test,y_pred))"
      ]
    },
    {
      "cell_type": "markdown",
      "metadata": {
        "id": "Qn_CcNgwlqME"
      },
      "source": [
        "RANDOM_FOREST"
      ]
    },
    {
      "cell_type": "code",
      "execution_count": null,
      "metadata": {
        "id": "rczezNXfkYX_"
      },
      "outputs": [],
      "source": [
        "x_train,x_test,y_train,y_test=train_test_split(X,Y,test_size=20)"
      ]
    },
    {
      "cell_type": "code",
      "execution_count": null,
      "metadata": {
        "colab": {
          "background_save": true
        },
        "id": "BdBIO9o9lixm"
      },
      "outputs": [],
      "source": [
        "clf=RandomForestClassifier()#par defauts n_estimators =10\n",
        "clf.fit(x_train, y_train)  #Training our model\n",
        "y_pred=clf.predict(x_test)"
      ]
    },
    {
      "cell_type": "markdown",
      "metadata": {
        "id": "J25azRQzd8Ht"
      },
      "source": [
        "testing our model"
      ]
    },
    {
      "cell_type": "code",
      "execution_count": null,
      "metadata": {
        "colab": {
          "background_save": true
        },
        "id": "c3j4rVBMd23R",
        "outputId": "4e06dac6-c97b-4c11-85d8-f5dda97923d9"
      },
      "outputs": [
        {
          "name": "stdout",
          "output_type": "stream",
          "text": [
            "Accuracy: 0.4\n"
          ]
        }
      ],
      "source": [
        "print(\"Accuracy:\", metrics.accuracy_score(y_test, y_pred))"
      ]
    },
    {
      "cell_type": "code",
      "execution_count": null,
      "metadata": {
        "colab": {
          "background_save": true
        },
        "id": "mOQrUTFtlizR",
        "outputId": "e0b47840-9619-41db-917a-67c2b712b5a8"
      },
      "outputs": [
        {
          "name": "stdout",
          "output_type": "stream",
          "text": [
            "              precision    recall  f1-score   support\n",
            "\n",
            "    negative       0.00      0.00      0.00         6\n",
            "     neutral       0.44      0.70      0.54        10\n",
            "    positive       1.00      0.25      0.40         4\n",
            "\n",
            "    accuracy                           0.40        20\n",
            "   macro avg       0.48      0.32      0.31        20\n",
            "weighted avg       0.42      0.40      0.35        20\n",
            "\n"
          ]
        }
      ],
      "source": [
        "print(classification_report(y_test,y_pred))"
      ]
    },
    {
      "cell_type": "code",
      "execution_count": null,
      "metadata": {
        "colab": {
          "background_save": true
        },
        "id": "IcA72a48li1P",
        "outputId": "e24a365f-d53c-4d04-b0d5-9c9f67b72866"
      },
      "outputs": [
        {
          "data": {
            "text/plain": [
              "<Axes: xlabel='Predicted', ylabel='Actual'>"
            ]
          },
          "execution_count": 52,
          "metadata": {},
          "output_type": "execute_result"
        },
        {
          "data": {
            "image/png": "[encoded data removed]",
            "text/plain": [
              "<Figure size 640x480 with 2 Axes>"
            ]
          },
          "metadata": {},
          "output_type": "display_data"
        }
      ],
      "source": [
        "confusion_matrix = pd.crosstab(y_test, y_pred, rownames=['Actual'], colnames=['Predicted'])\n",
        "sns.heatmap(confusion_matrix, annot=True) #predicted just the neutral"
      ]
    },
    {
      "cell_type": "code",
      "execution_count": null,
      "metadata": {
        "colab": {
          "background_save": true
        },
        "id": "KT248k59li4_"
      },
      "outputs": [],
      "source": [
        "scores=cross_val_score(clf,X,Y,cv=3,error_score='raise')"
      ]
    },
    {
      "cell_type": "code",
      "execution_count": null,
      "metadata": {
        "colab": {
          "background_save": true
        },
        "id": "snuZlPU_li7B",
        "outputId": "aaaabf7f-3cc1-453a-add0-94a71aa11fcb"
      },
      "outputs": [
        {
          "name": "stdout",
          "output_type": "stream",
          "text": [
            "0.2895242931525255\n"
          ]
        }
      ],
      "source": [
        "print(sum(scores)/5)"
      ]
    },
    {
      "cell_type": "markdown",
      "metadata": {
        "id": "YaMd6XqAEpxz"
      },
      "source": [
        "Trying maltinumialNB"
      ]
    },
    {
      "cell_type": "code",
      "execution_count": null,
      "metadata": {
        "colab": {
          "background_save": true
        },
        "id": "mW5RYwHgkbFt"
      },
      "outputs": [],
      "source": [
        "x_train,x_test,y_train,y_test=train_test_split(X,Y,test_size=20)"
      ]
    },
    {
      "cell_type": "code",
      "execution_count": null,
      "metadata": {
        "colab": {
          "background_save": true
        },
        "id": "Lb2URFjrli9B"
      },
      "outputs": [],
      "source": [
        "clf=MultinomialNB()"
      ]
    },
    {
      "cell_type": "code",
      "execution_count": null,
      "metadata": {
        "colab": {
          "background_save": true
        },
        "id": "o_M-u5djli-_",
        "outputId": "b41779bb-1d1f-45fa-86da-37d591b5f0e9"
      },
      "outputs": [
        {
          "data": {
            "text/html": [
              "<style>#sk-container-id-2 {color: black;background-color: white;}#sk-container-id-2 pre{padding: 0;}#sk-container-id-2 div.sk-toggleable {background-color: white;}#sk-container-id-2 label.sk-toggleable__label {cursor: pointer;display: block;width: 100%;margin-bottom: 0;padding: 0.3em;box-sizing: border-box;text-align: center;}#sk-container-id-2 label.sk-toggleable__label-arrow:before {content: \"▸\";float: left;margin-right: 0.25em;color: #696969;}#sk-container-id-2 label.sk-toggleable__label-arrow:hover:before {color: black;}#sk-container-id-2 div.sk-estimator:hover label.sk-toggleable__label-arrow:before {color: black;}#sk-container-id-2 div.sk-toggleable__content {max-height: 0;max-width: 0;overflow: hidden;text-align: left;background-color: #f0f8ff;}#sk-container-id-2 div.sk-toggleable__content pre {margin: 0.2em;color: black;border-radius: 0.25em;background-color: #f0f8ff;}#sk-container-id-2 input.sk-toggleable__control:checked~div.sk-toggleable__content {max-height: 200px;max-width: 100%;overflow: auto;}#sk-container-id-2 input.sk-toggleable__control:checked~label.sk-toggleable__label-arrow:before {content: \"▾\";}#sk-container-id-2 div.sk-estimator input.sk-toggleable__control:checked~label.sk-toggleable__label {background-color: #d4ebff;}#sk-container-id-2 div.sk-label input.sk-toggleable__control:checked~label.sk-toggleable__label {background-color: #d4ebff;}#sk-container-id-2 input.sk-hidden--visually {border: 0;clip: rect(1px 1px 1px 1px);clip: rect(1px, 1px, 1px, 1px);height: 1px;margin: -1px;overflow: hidden;padding: 0;position: absolute;width: 1px;}#sk-container-id-2 div.sk-estimator {font-family: monospace;background-color: #f0f8ff;border: 1px dotted black;border-radius: 0.25em;box-sizing: border-box;margin-bottom: 0.5em;}#sk-container-id-2 div.sk-estimator:hover {background-color: #d4ebff;}#sk-container-id-2 div.sk-parallel-item::after {content: \"\";width: 100%;border-bottom: 1px solid gray;flex-grow: 1;}#sk-container-id-2 div.sk-label:hover label.sk-toggleable__label {background-color: #d4ebff;}#sk-container-id-2 div.sk-serial::before {content: \"\";position: absolute;border-left: 1px solid gray;box-sizing: border-box;top: 0;bottom: 0;left: 50%;z-index: 0;}#sk-container-id-2 div.sk-serial {display: flex;flex-direction: column;align-items: center;background-color: white;padding-right: 0.2em;padding-left: 0.2em;position: relative;}#sk-container-id-2 div.sk-item {position: relative;z-index: 1;}#sk-container-id-2 div.sk-parallel {display: flex;align-items: stretch;justify-content: center;background-color: white;position: relative;}#sk-container-id-2 div.sk-item::before, #sk-container-id-2 div.sk-parallel-item::before {content: \"\";position: absolute;border-left: 1px solid gray;box-sizing: border-box;top: 0;bottom: 0;left: 50%;z-index: -1;}#sk-container-id-2 div.sk-parallel-item {display: flex;flex-direction: column;z-index: 1;position: relative;background-color: white;}#sk-container-id-2 div.sk-parallel-item:first-child::after {align-self: flex-end;width: 50%;}#sk-container-id-2 div.sk-parallel-item:last-child::after {align-self: flex-start;width: 50%;}#sk-container-id-2 div.sk-parallel-item:only-child::after {width: 0;}#sk-container-id-2 div.sk-dashed-wrapped {border: 1px dashed gray;margin: 0 0.4em 0.5em 0.4em;box-sizing: border-box;padding-bottom: 0.4em;background-color: white;}#sk-container-id-2 div.sk-label label {font-family: monospace;font-weight: bold;display: inline-block;line-height: 1.2em;}#sk-container-id-2 div.sk-label-container {text-align: center;}#sk-container-id-2 div.sk-container {/* jupyter's `normalize.less` sets `[hidden] { display: none; }` but bootstrap.min.css set `[hidden] { display: none !important; }` so we also need the `!important` here to be able to override the default hidden behavior on the sphinx rendered scikit-learn.org. See: https://github.com/scikit-learn/scikit-learn/issues/21755 */display: inline-block !important;position: relative;}#sk-container-id-2 div.sk-text-repr-fallback {display: none;}</style><div id=\"sk-container-id-2\" class=\"sk-top-container\"><div class=\"sk-text-repr-fallback\"><pre>MultinomialNB()</pre><b>In a Jupyter environment, please rerun this cell to show the HTML representation or trust the notebook. <br />On GitHub, the HTML representation is unable to render, please try loading this page with nbviewer.org.</b></div><div class=\"sk-container\" hidden><div class=\"sk-item\"><div class=\"sk-estimator sk-toggleable\"><input class=\"sk-toggleable__control sk-hidden--visually\" id=\"sk-estimator-id-2\" type=\"checkbox\" checked><label for=\"sk-estimator-id-2\" class=\"sk-toggleable__label sk-toggleable__label-arrow\">MultinomialNB</label><div class=\"sk-toggleable__content\"><pre>MultinomialNB()</pre></div></div></div></div></div>"
            ],
            "text/plain": [
              "MultinomialNB()"
            ]
          },
          "execution_count": 57,
          "metadata": {},
          "output_type": "execute_result"
        }
      ],
      "source": [
        "clf.fit(x_train,y_train)"
      ]
    },
    {
      "cell_type": "code",
      "execution_count": null,
      "metadata": {
        "colab": {
          "background_save": true
        },
        "id": "7vyJK8_iljBJ"
      },
      "outputs": [],
      "source": [
        "y_predicted=clf.predict(x_test)"
      ]
    },
    {
      "cell_type": "markdown",
      "metadata": {
        "id": "dfYtOLFqeBIB"
      },
      "source": [
        "Testing our model"
      ]
    },
    {
      "cell_type": "code",
      "execution_count": null,
      "metadata": {
        "colab": {
          "background_save": true
        },
        "id": "eMyXe0pBljCs",
        "outputId": "bc9fafd4-27da-4b70-f1bf-9a25065343cd"
      },
      "outputs": [
        {
          "name": "stdout",
          "output_type": "stream",
          "text": [
            "Accuracy: 0.45\n"
          ]
        }
      ],
      "source": [
        "print(\"Accuracy:\", metrics.accuracy_score(y_test, y_pred))"
      ]
    },
    {
      "cell_type": "code",
      "execution_count": null,
      "metadata": {
        "colab": {
          "background_save": true
        },
        "id": "rQBfdpTQljE2",
        "outputId": "b9808f75-b808-425b-c7f3-65146606da64"
      },
      "outputs": [
        {
          "data": {
            "text/plain": [
              "<Axes: xlabel='Predicted', ylabel='Actual'>"
            ]
          },
          "execution_count": 60,
          "metadata": {},
          "output_type": "execute_result"
        },
        {
          "data": {
            "image/png": "[encoded data removed]",
            "text/plain": [
              "<Figure size 640x480 with 2 Axes>"
            ]
          },
          "metadata": {},
          "output_type": "display_data"
        }
      ],
      "source": [
        "confusion_matrix = pd.crosstab(y_test, y_pred, rownames=['Actual'], colnames=['Predicted'])\n",
        "sns.heatmap(confusion_matrix, annot=True)"
      ]
    },
    {
      "cell_type": "code",
      "execution_count": null,
      "metadata": {
        "colab": {
          "background_save": true
        },
        "id": "6qbZxvjIljIO",
        "outputId": "b96f1f3b-e035-4cd3-f3cf-7e9dc44ea451"
      },
      "outputs": [
        {
          "name": "stdout",
          "output_type": "stream",
          "text": [
            "              precision    recall  f1-score   support\n",
            "\n",
            "    negative       0.33      0.25      0.29         4\n",
            "     neutral       0.50      0.80      0.62        10\n",
            "    positive       0.00      0.00      0.00         6\n",
            "\n",
            "    accuracy                           0.45        20\n",
            "   macro avg       0.28      0.35      0.30        20\n",
            "weighted avg       0.32      0.45      0.36        20\n",
            "\n"
          ]
        }
      ],
      "source": [
        "print(classification_report(y_test,y_pred))"
      ]
    },
    {
      "cell_type": "markdown",
      "metadata": {
        "id": "WqWIS4f_q2oA"
      },
      "source": [
        "Conclusion, aucun model donne vraiment un bon resultat , on passe alors au deep learning"
      ]
    }
  ],
  "metadata": {
    "colab": {
      "provenance": [],
      "authorship_tag": "ABX9TyN3+HF/npBfJv/wh3G7KH6U",
      "include_colab_link": true
    },
    "kernelspec": {
      "display_name": "Python 3",
      "name": "python3"
    },
    "language_info": {
      "name": "python"
    }
  },
  "nbformat": 4,
  "nbformat_minor": 0
}